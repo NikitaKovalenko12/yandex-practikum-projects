{
 "cells": [
  {
   "cell_type": "markdown",
   "metadata": {},
   "source": [
    "# Изучение рынка игр\n",
    "\n",
    "Из открытых источников доступны данные о продажах игр, их оценках, жанрах и платформах. Необходмо выявить определяющие успешность игры закономерности."
   ]
  },
  {
   "cell_type": "markdown",
   "metadata": {},
   "source": [
    "## Оглавление:\n",
    "* [Шаг 1. Откроем файл с данными и изучим общую информацию.](#1)\n",
    "* [Шаг 2. Подготовим данные.](#2)\n",
    "* [Шаг 3. Проведем исследовательский анализ данных.](#3)\n",
    "* [Шаг 4. Составим портрет пользователя каждого региона.](#4)\n",
    "* [Шаг 5. Проверим гипотезы.](#5)\n",
    "* [Шаг 6. Напишем общий вывод.](#6)"
   ]
  },
  {
   "cell_type": "markdown",
   "metadata": {},
   "source": [
    "### Шаг 1. Откроем файл с данными и изучим общую информацию. <a class=\"anchor\" id=\"1\"></a>"
   ]
  },
  {
   "cell_type": "markdown",
   "metadata": {},
   "source": [
    "Импортируем библиотеки:"
   ]
  },
  {
   "cell_type": "code",
   "execution_count": 1,
   "metadata": {},
   "outputs": [],
   "source": [
    "# <импорт библиотеки pandas>\n",
    "import pandas as pd\n",
    "\n",
    "# <импорт библиотеки matplotlib для построения графиков>\n",
    "import matplotlib.pyplot as plt\n",
    "\n",
    "# <импорт библиотеки seaborn для построения графиков>\n",
    "import seaborn as sns\n",
    "\n",
    "# <импорт библиотеки numpy>\n",
    "import numpy as np\n",
    "\n",
    "# <импорт библиотеки scipy>\n",
    "from scipy import stats as st\n",
    "\n",
    "# <импорт библиотеки math>\n",
    "import math\n",
    "\n",
    "# <код, благодаря которму графики отображаются с первого раза>\n",
    "%matplotlib inline\n",
    "\n",
    "# <код, благодаря которму датафреймы по ширине будут отображаться полностью>\n",
    "pd.set_option('display.max_columns', None)"
   ]
  },
  {
   "cell_type": "markdown",
   "metadata": {},
   "source": [
    "Прочитаем файл, датафрейм сохраним в переменную:"
   ]
  },
  {
   "cell_type": "code",
   "execution_count": 2,
   "metadata": {},
   "outputs": [],
   "source": [
    "# <Читаем файл из csv и сохраняем в переменную>\n",
    "df_games = pd.read_csv('/datasets/games.csv')"
   ]
  },
  {
   "cell_type": "markdown",
   "metadata": {},
   "source": [
    "Рассмотрим информацию о датафрейме и первые 5 его строк:"
   ]
  },
  {
   "cell_type": "code",
   "execution_count": 3,
   "metadata": {},
   "outputs": [
    {
     "name": "stdout",
     "output_type": "stream",
     "text": [
      "<class 'pandas.core.frame.DataFrame'>\n",
      "RangeIndex: 16715 entries, 0 to 16714\n",
      "Data columns (total 11 columns):\n",
      "Name               16713 non-null object\n",
      "Platform           16715 non-null object\n",
      "Year_of_Release    16446 non-null float64\n",
      "Genre              16713 non-null object\n",
      "NA_sales           16715 non-null float64\n",
      "EU_sales           16715 non-null float64\n",
      "JP_sales           16715 non-null float64\n",
      "Other_sales        16715 non-null float64\n",
      "Critic_Score       8137 non-null float64\n",
      "User_Score         10014 non-null object\n",
      "Rating             9949 non-null object\n",
      "dtypes: float64(6), object(5)\n",
      "memory usage: 1.4+ MB\n",
      "None\n"
     ]
    },
    {
     "data": {
      "text/html": [
       "<div>\n",
       "<style scoped>\n",
       "    .dataframe tbody tr th:only-of-type {\n",
       "        vertical-align: middle;\n",
       "    }\n",
       "\n",
       "    .dataframe tbody tr th {\n",
       "        vertical-align: top;\n",
       "    }\n",
       "\n",
       "    .dataframe thead th {\n",
       "        text-align: right;\n",
       "    }\n",
       "</style>\n",
       "<table border=\"1\" class=\"dataframe\">\n",
       "  <thead>\n",
       "    <tr style=\"text-align: right;\">\n",
       "      <th></th>\n",
       "      <th>Name</th>\n",
       "      <th>Platform</th>\n",
       "      <th>Year_of_Release</th>\n",
       "      <th>Genre</th>\n",
       "      <th>NA_sales</th>\n",
       "      <th>EU_sales</th>\n",
       "      <th>JP_sales</th>\n",
       "      <th>Other_sales</th>\n",
       "      <th>Critic_Score</th>\n",
       "      <th>User_Score</th>\n",
       "      <th>Rating</th>\n",
       "    </tr>\n",
       "  </thead>\n",
       "  <tbody>\n",
       "    <tr>\n",
       "      <td>0</td>\n",
       "      <td>Wii Sports</td>\n",
       "      <td>Wii</td>\n",
       "      <td>2006.0</td>\n",
       "      <td>Sports</td>\n",
       "      <td>41.36</td>\n",
       "      <td>28.96</td>\n",
       "      <td>3.77</td>\n",
       "      <td>8.45</td>\n",
       "      <td>76.0</td>\n",
       "      <td>8</td>\n",
       "      <td>E</td>\n",
       "    </tr>\n",
       "    <tr>\n",
       "      <td>1</td>\n",
       "      <td>Super Mario Bros.</td>\n",
       "      <td>NES</td>\n",
       "      <td>1985.0</td>\n",
       "      <td>Platform</td>\n",
       "      <td>29.08</td>\n",
       "      <td>3.58</td>\n",
       "      <td>6.81</td>\n",
       "      <td>0.77</td>\n",
       "      <td>NaN</td>\n",
       "      <td>NaN</td>\n",
       "      <td>NaN</td>\n",
       "    </tr>\n",
       "    <tr>\n",
       "      <td>2</td>\n",
       "      <td>Mario Kart Wii</td>\n",
       "      <td>Wii</td>\n",
       "      <td>2008.0</td>\n",
       "      <td>Racing</td>\n",
       "      <td>15.68</td>\n",
       "      <td>12.76</td>\n",
       "      <td>3.79</td>\n",
       "      <td>3.29</td>\n",
       "      <td>82.0</td>\n",
       "      <td>8.3</td>\n",
       "      <td>E</td>\n",
       "    </tr>\n",
       "    <tr>\n",
       "      <td>3</td>\n",
       "      <td>Wii Sports Resort</td>\n",
       "      <td>Wii</td>\n",
       "      <td>2009.0</td>\n",
       "      <td>Sports</td>\n",
       "      <td>15.61</td>\n",
       "      <td>10.93</td>\n",
       "      <td>3.28</td>\n",
       "      <td>2.95</td>\n",
       "      <td>80.0</td>\n",
       "      <td>8</td>\n",
       "      <td>E</td>\n",
       "    </tr>\n",
       "    <tr>\n",
       "      <td>4</td>\n",
       "      <td>Pokemon Red/Pokemon Blue</td>\n",
       "      <td>GB</td>\n",
       "      <td>1996.0</td>\n",
       "      <td>Role-Playing</td>\n",
       "      <td>11.27</td>\n",
       "      <td>8.89</td>\n",
       "      <td>10.22</td>\n",
       "      <td>1.00</td>\n",
       "      <td>NaN</td>\n",
       "      <td>NaN</td>\n",
       "      <td>NaN</td>\n",
       "    </tr>\n",
       "    <tr>\n",
       "      <td>5</td>\n",
       "      <td>Tetris</td>\n",
       "      <td>GB</td>\n",
       "      <td>1989.0</td>\n",
       "      <td>Puzzle</td>\n",
       "      <td>23.20</td>\n",
       "      <td>2.26</td>\n",
       "      <td>4.22</td>\n",
       "      <td>0.58</td>\n",
       "      <td>NaN</td>\n",
       "      <td>NaN</td>\n",
       "      <td>NaN</td>\n",
       "    </tr>\n",
       "    <tr>\n",
       "      <td>6</td>\n",
       "      <td>New Super Mario Bros.</td>\n",
       "      <td>DS</td>\n",
       "      <td>2006.0</td>\n",
       "      <td>Platform</td>\n",
       "      <td>11.28</td>\n",
       "      <td>9.14</td>\n",
       "      <td>6.50</td>\n",
       "      <td>2.88</td>\n",
       "      <td>89.0</td>\n",
       "      <td>8.5</td>\n",
       "      <td>E</td>\n",
       "    </tr>\n",
       "    <tr>\n",
       "      <td>7</td>\n",
       "      <td>Wii Play</td>\n",
       "      <td>Wii</td>\n",
       "      <td>2006.0</td>\n",
       "      <td>Misc</td>\n",
       "      <td>13.96</td>\n",
       "      <td>9.18</td>\n",
       "      <td>2.93</td>\n",
       "      <td>2.84</td>\n",
       "      <td>58.0</td>\n",
       "      <td>6.6</td>\n",
       "      <td>E</td>\n",
       "    </tr>\n",
       "    <tr>\n",
       "      <td>8</td>\n",
       "      <td>New Super Mario Bros. Wii</td>\n",
       "      <td>Wii</td>\n",
       "      <td>2009.0</td>\n",
       "      <td>Platform</td>\n",
       "      <td>14.44</td>\n",
       "      <td>6.94</td>\n",
       "      <td>4.70</td>\n",
       "      <td>2.24</td>\n",
       "      <td>87.0</td>\n",
       "      <td>8.4</td>\n",
       "      <td>E</td>\n",
       "    </tr>\n",
       "    <tr>\n",
       "      <td>9</td>\n",
       "      <td>Duck Hunt</td>\n",
       "      <td>NES</td>\n",
       "      <td>1984.0</td>\n",
       "      <td>Shooter</td>\n",
       "      <td>26.93</td>\n",
       "      <td>0.63</td>\n",
       "      <td>0.28</td>\n",
       "      <td>0.47</td>\n",
       "      <td>NaN</td>\n",
       "      <td>NaN</td>\n",
       "      <td>NaN</td>\n",
       "    </tr>\n",
       "    <tr>\n",
       "      <td>10</td>\n",
       "      <td>Nintendogs</td>\n",
       "      <td>DS</td>\n",
       "      <td>2005.0</td>\n",
       "      <td>Simulation</td>\n",
       "      <td>9.05</td>\n",
       "      <td>10.95</td>\n",
       "      <td>1.93</td>\n",
       "      <td>2.74</td>\n",
       "      <td>NaN</td>\n",
       "      <td>NaN</td>\n",
       "      <td>NaN</td>\n",
       "    </tr>\n",
       "    <tr>\n",
       "      <td>11</td>\n",
       "      <td>Mario Kart DS</td>\n",
       "      <td>DS</td>\n",
       "      <td>2005.0</td>\n",
       "      <td>Racing</td>\n",
       "      <td>9.71</td>\n",
       "      <td>7.47</td>\n",
       "      <td>4.13</td>\n",
       "      <td>1.90</td>\n",
       "      <td>91.0</td>\n",
       "      <td>8.6</td>\n",
       "      <td>E</td>\n",
       "    </tr>\n",
       "    <tr>\n",
       "      <td>12</td>\n",
       "      <td>Pokemon Gold/Pokemon Silver</td>\n",
       "      <td>GB</td>\n",
       "      <td>1999.0</td>\n",
       "      <td>Role-Playing</td>\n",
       "      <td>9.00</td>\n",
       "      <td>6.18</td>\n",
       "      <td>7.20</td>\n",
       "      <td>0.71</td>\n",
       "      <td>NaN</td>\n",
       "      <td>NaN</td>\n",
       "      <td>NaN</td>\n",
       "    </tr>\n",
       "    <tr>\n",
       "      <td>13</td>\n",
       "      <td>Wii Fit</td>\n",
       "      <td>Wii</td>\n",
       "      <td>2007.0</td>\n",
       "      <td>Sports</td>\n",
       "      <td>8.92</td>\n",
       "      <td>8.03</td>\n",
       "      <td>3.60</td>\n",
       "      <td>2.15</td>\n",
       "      <td>80.0</td>\n",
       "      <td>7.7</td>\n",
       "      <td>E</td>\n",
       "    </tr>\n",
       "    <tr>\n",
       "      <td>14</td>\n",
       "      <td>Kinect Adventures!</td>\n",
       "      <td>X360</td>\n",
       "      <td>2010.0</td>\n",
       "      <td>Misc</td>\n",
       "      <td>15.00</td>\n",
       "      <td>4.89</td>\n",
       "      <td>0.24</td>\n",
       "      <td>1.69</td>\n",
       "      <td>61.0</td>\n",
       "      <td>6.3</td>\n",
       "      <td>E</td>\n",
       "    </tr>\n",
       "  </tbody>\n",
       "</table>\n",
       "</div>"
      ],
      "text/plain": [
       "                           Name Platform  Year_of_Release         Genre  \\\n",
       "0                    Wii Sports      Wii           2006.0        Sports   \n",
       "1             Super Mario Bros.      NES           1985.0      Platform   \n",
       "2                Mario Kart Wii      Wii           2008.0        Racing   \n",
       "3             Wii Sports Resort      Wii           2009.0        Sports   \n",
       "4      Pokemon Red/Pokemon Blue       GB           1996.0  Role-Playing   \n",
       "5                        Tetris       GB           1989.0        Puzzle   \n",
       "6         New Super Mario Bros.       DS           2006.0      Platform   \n",
       "7                      Wii Play      Wii           2006.0          Misc   \n",
       "8     New Super Mario Bros. Wii      Wii           2009.0      Platform   \n",
       "9                     Duck Hunt      NES           1984.0       Shooter   \n",
       "10                   Nintendogs       DS           2005.0    Simulation   \n",
       "11                Mario Kart DS       DS           2005.0        Racing   \n",
       "12  Pokemon Gold/Pokemon Silver       GB           1999.0  Role-Playing   \n",
       "13                      Wii Fit      Wii           2007.0        Sports   \n",
       "14           Kinect Adventures!     X360           2010.0          Misc   \n",
       "\n",
       "    NA_sales  EU_sales  JP_sales  Other_sales  Critic_Score User_Score Rating  \n",
       "0      41.36     28.96      3.77         8.45          76.0          8      E  \n",
       "1      29.08      3.58      6.81         0.77           NaN        NaN    NaN  \n",
       "2      15.68     12.76      3.79         3.29          82.0        8.3      E  \n",
       "3      15.61     10.93      3.28         2.95          80.0          8      E  \n",
       "4      11.27      8.89     10.22         1.00           NaN        NaN    NaN  \n",
       "5      23.20      2.26      4.22         0.58           NaN        NaN    NaN  \n",
       "6      11.28      9.14      6.50         2.88          89.0        8.5      E  \n",
       "7      13.96      9.18      2.93         2.84          58.0        6.6      E  \n",
       "8      14.44      6.94      4.70         2.24          87.0        8.4      E  \n",
       "9      26.93      0.63      0.28         0.47           NaN        NaN    NaN  \n",
       "10      9.05     10.95      1.93         2.74           NaN        NaN    NaN  \n",
       "11      9.71      7.47      4.13         1.90          91.0        8.6      E  \n",
       "12      9.00      6.18      7.20         0.71           NaN        NaN    NaN  \n",
       "13      8.92      8.03      3.60         2.15          80.0        7.7      E  \n",
       "14     15.00      4.89      0.24         1.69          61.0        6.3      E  "
      ]
     },
     "execution_count": 3,
     "metadata": {},
     "output_type": "execute_result"
    }
   ],
   "source": [
    "# <рассмотрим таблицу df_games>\n",
    "print(df_games.info())\n",
    "df_games.head(15)"
   ]
  },
  {
   "cell_type": "markdown",
   "metadata": {},
   "source": [
    "Рассмотрим полученную информацию подробнее.\n",
    "\n",
    "Всего в таблице 11 столбцов, типы данных у столбцов различаются.\n",
    "\n",
    "Подробно разберём, какие в *df_games* столбцы и какую информацию они содержат:\n",
    "\n",
    "* *Name* — название игры\n",
    "* *Platform* — платформа\n",
    "* *Year_of_Release* — год выпуска\n",
    "* *Genre* — жанр игры\n",
    "* *NA_sales* — продажи в Северной Америке (миллионы долларов)\n",
    "* *EU_sales* — продажи в Европе (миллионы долларов)\n",
    "* *JP_sales* — продажи в Японии (миллионы долларов)\n",
    "* *Other_sales* — продажи в других странах (миллионы долларов)\n",
    "* *Critic_Score* — оценка критиков (максимум 100)\n",
    "* *User_Score* — оценка пользователей (максимум 10)\n",
    "* *Rating* — рейтинг от организации ESRB (англ. Entertainment Software Rating Board). Эта ассоциация определяет рейтинг компьютерных игр и присваивает им подходящую возрастную категорию.\n",
    "\n",
    "Мы имеем игры, а также информацию о них - платформа, год релиза, жанр, продажи в разных регионах мира, оценки пользователей и критиков, а также рейтинг определяющий возрастную категорию."
   ]
  },
  {
   "cell_type": "markdown",
   "metadata": {},
   "source": [
    "### Вывод"
   ]
  },
  {
   "cell_type": "markdown",
   "metadata": {},
   "source": [
    "В следующем шаге мы будем подготавливать данные к анализу, следующие проблемы видны сразу:\n",
    "\n",
    "* Неверный тип данных у года релиза, оценок критиков и оценок пользователей.\n",
    "* Пропуски в оценках критиков, пользователей, а также в возрастном рейтинге. Иногда это связано с тем что игра слишком старая, и тогда еще не существовало ассоциации, присваивающей возрастной рейтинг; сайтов аггрегирующих оценки; данные собирались недостаточно усердно. Но в целом по некоторым играм в интернете можно найти значения пропусков возрастного рейтинга. Их можно было бы заполнить с помощью парсинга, но это выходит за рамки данной работы.\n",
    "\n",
    "Приступим к подготовке данных."
   ]
  },
  {
   "cell_type": "markdown",
   "metadata": {},
   "source": [
    "### Шаг 2. Подготовим данные. <a class=\"anchor\" id=\"2\"></a>"
   ]
  },
  {
   "cell_type": "markdown",
   "metadata": {},
   "source": [
    "* Заменим названия столбцов (приведем к нижнему регистру):"
   ]
  },
  {
   "cell_type": "code",
   "execution_count": 4,
   "metadata": {},
   "outputs": [],
   "source": [
    "# <Приведем названия столбцов к нижнему регистру>\n",
    "df_games.columns = df_games.columns.str.lower()"
   ]
  },
  {
   "cell_type": "markdown",
   "metadata": {},
   "source": [
    "* Преобразуем данные в нужные типы. "
   ]
  },
  {
   "cell_type": "markdown",
   "metadata": {},
   "source": [
    "В столбце *user_score* изменим тип данных после преобразования значения *tbd*."
   ]
  },
  {
   "cell_type": "markdown",
   "metadata": {},
   "source": [
    "Преобразуем тип данных в столбцах оценок критиков и дат релиза игр, и это мы можем сделать даже с пропусками поставив аргумент *Int64* в атрибуте *astype*:"
   ]
  },
  {
   "cell_type": "code",
   "execution_count": 5,
   "metadata": {},
   "outputs": [],
   "source": [
    "df_games['critic_score'] = df_games['critic_score'].astype('Int64')"
   ]
  },
  {
   "cell_type": "code",
   "execution_count": 6,
   "metadata": {},
   "outputs": [],
   "source": [
    "df_games['year_of_release'] = df_games['year_of_release'].astype('Int64')"
   ]
  },
  {
   "cell_type": "markdown",
   "metadata": {},
   "source": [
    "Мне прекрасно известно что актуальный период сейчас идет с 2013 года, когда были выпущены приставки PS4 и Xbox One. Мы видим что данные с пропущенным годом релиза минимально касаются актуального периода (два блока кода ниже). Это первая причина от них избавиться.\n",
    "\n",
    "Вторая - их нельзя использовать для исследования продаж по годам.\n",
    "\n",
    "Однако два момента: первое - мы заполним года там где название игры одно и то же. (например Call of Duty: Black Ops). А также для исследования игр, где необходим год релиза будет использован датафрейм без пропусков в годах."
   ]
  },
  {
   "cell_type": "code",
   "execution_count": 7,
   "metadata": {},
   "outputs": [
    {
     "data": {
      "text/plain": [
       "0"
      ]
     },
     "execution_count": 7,
     "metadata": {},
     "output_type": "execute_result"
    }
   ],
   "source": [
    "# <Посчитаем сколько игр относятся к актуальным приставкам>\n",
    "df_games[(df_games['year_of_release'].isnull()) & (df_games['platform'] == 'XOne')]['name'].count()"
   ]
  },
  {
   "cell_type": "code",
   "execution_count": 8,
   "metadata": {},
   "outputs": [
    {
     "data": {
      "text/plain": [
       "0"
      ]
     },
     "execution_count": 8,
     "metadata": {},
     "output_type": "execute_result"
    }
   ],
   "source": [
    "# <Посчитаем сколько игр относятся к актуальным приставкам>\n",
    "df_games[(df_games['year_of_release'].isnull()) & (df_games['platform'] == 'PS4')]['name'].count()"
   ]
  },
  {
   "cell_type": "code",
   "execution_count": 9,
   "metadata": {},
   "outputs": [
    {
     "data": {
      "text/plain": [
       "17"
      ]
     },
     "execution_count": 9,
     "metadata": {},
     "output_type": "execute_result"
    }
   ],
   "source": [
    "# <Посчитаем сколько игр относятся к персональному компьютеру>\n",
    "df_games[(df_games['year_of_release'].isnull()) & (df_games['platform'] == 'PC')]['name'].count()"
   ]
  },
  {
   "cell_type": "markdown",
   "metadata": {},
   "source": [
    "* Обработаем пропуски:"
   ]
  },
  {
   "cell_type": "code",
   "execution_count": 10,
   "metadata": {},
   "outputs": [
    {
     "data": {
      "text/plain": [
       "critic_score       51.319174\n",
       "rating             40.478612\n",
       "user_score         40.089740\n",
       "year_of_release     1.609333\n",
       "genre               0.011965\n",
       "name                0.011965\n",
       "other_sales         0.000000\n",
       "jp_sales            0.000000\n",
       "eu_sales            0.000000\n",
       "na_sales            0.000000\n",
       "platform            0.000000\n",
       "dtype: float64"
      ]
     },
     "execution_count": 10,
     "metadata": {},
     "output_type": "execute_result"
    }
   ],
   "source": [
    "# <посмотрим в каких колонках пропущено много значений>\n",
    "(df_games.isnull().sum()/df_games.shape[0]*100).sort_values(ascending = False)"
   ]
  },
  {
   "cell_type": "markdown",
   "metadata": {},
   "source": [
    "Не будем восполнять пропуски в *critic_score*, так как это будет некорректно и исказит данные. Перейдем к столбцу *rating*:"
   ]
  },
  {
   "cell_type": "code",
   "execution_count": 11,
   "metadata": {},
   "outputs": [
    {
     "data": {
      "text/plain": [
       "E       3990\n",
       "T       2961\n",
       "M       1563\n",
       "E10+    1420\n",
       "EC         8\n",
       "RP         3\n",
       "K-A        3\n",
       "AO         1\n",
       "Name: rating, dtype: int64"
      ]
     },
     "execution_count": 11,
     "metadata": {},
     "output_type": "execute_result"
    }
   ],
   "source": [
    "# <посмотрим какие значения в столбце rating>\n",
    "df_games['rating'].value_counts()"
   ]
  },
  {
   "cell_type": "markdown",
   "metadata": {},
   "source": [
    "RP(Rating Pending) - значение означающее что рейтинг в процессе установления, часто бывает при маркетинговой компании игры, когда ассоциация еще не установила рейтинг.\n",
    "\n",
    "K-A - старое значение ESRB, в 1996 замененное на E (Everyone).\n",
    "\n",
    "Не имеет смысла заменять пропуски ни одним из этих значений. Когда мы будем исследовать влияние рейтинга на продажи в регионе, чтобы грамотно оценить значения с RP, нам будет необходимо иметь 3 значения а не более чем несколько тысяч игр с таким рейтингом, которые на самом деле в реальности имеют другой."
   ]
  },
  {
   "cell_type": "markdown",
   "metadata": {},
   "source": [
    "Перейдем к столбцу *user_score*, посмотрим какие в нем есть значения:"
   ]
  },
  {
   "cell_type": "code",
   "execution_count": 12,
   "metadata": {},
   "outputs": [
    {
     "data": {
      "text/plain": [
       "tbd    2424\n",
       "7.8     324\n",
       "8       290\n",
       "8.2     282\n",
       "8.3     254\n",
       "       ... \n",
       "2.3       2\n",
       "1.5       2\n",
       "0.6       2\n",
       "9.7       1\n",
       "0         1\n",
       "Name: user_score, Length: 96, dtype: int64"
      ]
     },
     "execution_count": 12,
     "metadata": {},
     "output_type": "execute_result"
    }
   ],
   "source": [
    "# <посмотрим какие значения в столбце user_score>\n",
    "df_games['user_score'].value_counts()"
   ]
  },
  {
   "cell_type": "markdown",
   "metadata": {},
   "source": [
    "Значение *tbd* расшифровывается как \"to be determinated\" - будет определен. Это значит что на сайте-агрегаторе недостаточно оценок пользователей для определения оценки. Вы не поверите, но адекватным решением будет превратить их в NaN, мы просто должны представить что они отсутствуют как таковые. Заполнить нам их нечем, также как и остальные пропуски, любые заполнения по медиане и среднему будут некорректны, исказят данные."
   ]
  },
  {
   "cell_type": "code",
   "execution_count": 13,
   "metadata": {},
   "outputs": [],
   "source": [
    "# <Преобразуем значения tbd в NaN>\n",
    "df_games['user_score'].replace('tbd', np.nan, inplace=True)"
   ]
  },
  {
   "cell_type": "code",
   "execution_count": 14,
   "metadata": {},
   "outputs": [],
   "source": [
    "# <Преобразуем тип данных в float64>\n",
    "df_games['user_score'] = pd.to_numeric(df_games['user_score'],errors = 'coerce')"
   ]
  },
  {
   "cell_type": "markdown",
   "metadata": {},
   "source": [
    "По поводу года релиза решение принято - в исследованиях, требующих год релиза будет использована выборка с годом релиза. Но попробуем все-таки убрать часть пропусков."
   ]
  },
  {
   "cell_type": "code",
   "execution_count": 15,
   "metadata": {},
   "outputs": [
    {
     "data": {
      "text/plain": [
       "269"
      ]
     },
     "execution_count": 15,
     "metadata": {},
     "output_type": "execute_result"
    }
   ],
   "source": [
    "# <количество пропусков>\n",
    "df_games[df_games['year_of_release'].isnull()]['platform'].count()"
   ]
  },
  {
   "cell_type": "code",
   "execution_count": 16,
   "metadata": {},
   "outputs": [],
   "source": [
    "\n",
    "def fixing_year(data):\n",
    "    for row in data.query(\"year_of_release.isnull()\", engine='python').index:\n",
    "        i=0\n",
    "        while ~(data.loc[row, 'year_of_release'] > -1) and i < data[data['year_of_release'] >= 0].index.shape[0]:\n",
    "            for row1 in data[data['year_of_release'] >= 0].index:\n",
    "                if data.loc[row, 'name'] == data.loc[row1, 'name']:\n",
    "                    data.loc[row, 'year_of_release'] = data.loc[row1, 'year_of_release']\n",
    "                i += 1\n",
    "        \n",
    "fixing_year(df_games)    "
   ]
  },
  {
   "cell_type": "code",
   "execution_count": 17,
   "metadata": {},
   "outputs": [
    {
     "data": {
      "text/plain": [
       "146"
      ]
     },
     "execution_count": 17,
     "metadata": {},
     "output_type": "execute_result"
    }
   ],
   "source": [
    "df_games[df_games['year_of_release'].isnull()]['platform'].count()"
   ]
  },
  {
   "cell_type": "markdown",
   "metadata": {},
   "source": [
    "В 123 значениях были восстановлены пропуски в годах релиза. Функция конечно отрабатывает долго."
   ]
  },
  {
   "cell_type": "markdown",
   "metadata": {},
   "source": [
    "Перейдем к жанру и имени:"
   ]
  },
  {
   "cell_type": "code",
   "execution_count": 18,
   "metadata": {},
   "outputs": [
    {
     "data": {
      "text/html": [
       "<div>\n",
       "<style scoped>\n",
       "    .dataframe tbody tr th:only-of-type {\n",
       "        vertical-align: middle;\n",
       "    }\n",
       "\n",
       "    .dataframe tbody tr th {\n",
       "        vertical-align: top;\n",
       "    }\n",
       "\n",
       "    .dataframe thead th {\n",
       "        text-align: right;\n",
       "    }\n",
       "</style>\n",
       "<table border=\"1\" class=\"dataframe\">\n",
       "  <thead>\n",
       "    <tr style=\"text-align: right;\">\n",
       "      <th></th>\n",
       "      <th>name</th>\n",
       "      <th>platform</th>\n",
       "      <th>year_of_release</th>\n",
       "      <th>genre</th>\n",
       "      <th>na_sales</th>\n",
       "      <th>eu_sales</th>\n",
       "      <th>jp_sales</th>\n",
       "      <th>other_sales</th>\n",
       "      <th>critic_score</th>\n",
       "      <th>user_score</th>\n",
       "      <th>rating</th>\n",
       "    </tr>\n",
       "  </thead>\n",
       "  <tbody>\n",
       "    <tr>\n",
       "      <td>659</td>\n",
       "      <td>NaN</td>\n",
       "      <td>GEN</td>\n",
       "      <td>1993</td>\n",
       "      <td>NaN</td>\n",
       "      <td>1.78</td>\n",
       "      <td>0.53</td>\n",
       "      <td>0.00</td>\n",
       "      <td>0.08</td>\n",
       "      <td>NaN</td>\n",
       "      <td>NaN</td>\n",
       "      <td>NaN</td>\n",
       "    </tr>\n",
       "    <tr>\n",
       "      <td>14244</td>\n",
       "      <td>NaN</td>\n",
       "      <td>GEN</td>\n",
       "      <td>1993</td>\n",
       "      <td>NaN</td>\n",
       "      <td>0.00</td>\n",
       "      <td>0.00</td>\n",
       "      <td>0.03</td>\n",
       "      <td>0.00</td>\n",
       "      <td>NaN</td>\n",
       "      <td>NaN</td>\n",
       "      <td>NaN</td>\n",
       "    </tr>\n",
       "  </tbody>\n",
       "</table>\n",
       "</div>"
      ],
      "text/plain": [
       "      name platform  year_of_release genre  na_sales  eu_sales  jp_sales  \\\n",
       "659    NaN      GEN             1993   NaN      1.78      0.53      0.00   \n",
       "14244  NaN      GEN             1993   NaN      0.00      0.00      0.03   \n",
       "\n",
       "       other_sales  critic_score  user_score rating  \n",
       "659           0.08           NaN         NaN    NaN  \n",
       "14244         0.00           NaN         NaN    NaN  "
      ]
     },
     "execution_count": 18,
     "metadata": {},
     "output_type": "execute_result"
    }
   ],
   "source": [
    "# <посмотрим строки с пропусками в genre>\n",
    "df_games[df_games['genre'].isnull()]"
   ]
  },
  {
   "cell_type": "code",
   "execution_count": 19,
   "metadata": {},
   "outputs": [
    {
     "data": {
      "text/html": [
       "<div>\n",
       "<style scoped>\n",
       "    .dataframe tbody tr th:only-of-type {\n",
       "        vertical-align: middle;\n",
       "    }\n",
       "\n",
       "    .dataframe tbody tr th {\n",
       "        vertical-align: top;\n",
       "    }\n",
       "\n",
       "    .dataframe thead th {\n",
       "        text-align: right;\n",
       "    }\n",
       "</style>\n",
       "<table border=\"1\" class=\"dataframe\">\n",
       "  <thead>\n",
       "    <tr style=\"text-align: right;\">\n",
       "      <th></th>\n",
       "      <th>name</th>\n",
       "      <th>platform</th>\n",
       "      <th>year_of_release</th>\n",
       "      <th>genre</th>\n",
       "      <th>na_sales</th>\n",
       "      <th>eu_sales</th>\n",
       "      <th>jp_sales</th>\n",
       "      <th>other_sales</th>\n",
       "      <th>critic_score</th>\n",
       "      <th>user_score</th>\n",
       "      <th>rating</th>\n",
       "    </tr>\n",
       "  </thead>\n",
       "  <tbody>\n",
       "    <tr>\n",
       "      <td>659</td>\n",
       "      <td>NaN</td>\n",
       "      <td>GEN</td>\n",
       "      <td>1993</td>\n",
       "      <td>NaN</td>\n",
       "      <td>1.78</td>\n",
       "      <td>0.53</td>\n",
       "      <td>0.00</td>\n",
       "      <td>0.08</td>\n",
       "      <td>NaN</td>\n",
       "      <td>NaN</td>\n",
       "      <td>NaN</td>\n",
       "    </tr>\n",
       "    <tr>\n",
       "      <td>14244</td>\n",
       "      <td>NaN</td>\n",
       "      <td>GEN</td>\n",
       "      <td>1993</td>\n",
       "      <td>NaN</td>\n",
       "      <td>0.00</td>\n",
       "      <td>0.00</td>\n",
       "      <td>0.03</td>\n",
       "      <td>0.00</td>\n",
       "      <td>NaN</td>\n",
       "      <td>NaN</td>\n",
       "      <td>NaN</td>\n",
       "    </tr>\n",
       "  </tbody>\n",
       "</table>\n",
       "</div>"
      ],
      "text/plain": [
       "      name platform  year_of_release genre  na_sales  eu_sales  jp_sales  \\\n",
       "659    NaN      GEN             1993   NaN      1.78      0.53      0.00   \n",
       "14244  NaN      GEN             1993   NaN      0.00      0.00      0.03   \n",
       "\n",
       "       other_sales  critic_score  user_score rating  \n",
       "659           0.08           NaN         NaN    NaN  \n",
       "14244         0.00           NaN         NaN    NaN  "
      ]
     },
     "execution_count": 19,
     "metadata": {},
     "output_type": "execute_result"
    }
   ],
   "source": [
    "# <посмотрим строки с пропусками в name>\n",
    "df_games[df_games['name'].isnull()]"
   ]
  },
  {
   "cell_type": "markdown",
   "metadata": {},
   "source": [
    "Это одни и те же строки. Избавимся от них так как старая платформа не повлияет на результаты исследования."
   ]
  },
  {
   "cell_type": "code",
   "execution_count": 20,
   "metadata": {},
   "outputs": [],
   "source": [
    "# <Удалим строки с пропусками>\n",
    "df_games = df_games[~(df_games['genre'].isnull())].reset_index(drop= True)"
   ]
  },
  {
   "cell_type": "markdown",
   "metadata": {},
   "source": [
    "Причины которые могли привести к пропускам:\n",
    "* Отсутствие оценки критиков, ошибка парсинга, неверный формат оценки.\n",
    "* Оценка пользователей была в процессе определения, но записалась не как \"tbd\" из-за ошибки парсинга, неверный формат оценки, смена сайта-агрегатора, отсутствие игры на сайте-агрегаторе оценок.\n",
    "* Отсутствие возрастного рейтинга у игры, ошибка парсинга, ошибка со стороны ESRB.\n",
    "* Ошибка парсинга у старой игры, у которой нет имени и жанра. Но есть продажи =)"
   ]
  },
  {
   "cell_type": "markdown",
   "metadata": {},
   "source": [
    "_______________________________________________________________________________________________________________________________"
   ]
  },
  {
   "cell_type": "markdown",
   "metadata": {},
   "source": [
    "\n",
    "\n",
    "* Посчитаем суммарные продажи во всех регионах и запишем их в отдельный столбец."
   ]
  },
  {
   "cell_type": "code",
   "execution_count": 21,
   "metadata": {},
   "outputs": [],
   "source": [
    "# <Запишем в столбец world_sales суммарный продажи во всех регионах>\n",
    "df_games['world_sales'] = df_games['na_sales'] + df_games['eu_sales'] + df_games['jp_sales'] + df_games['other_sales'] "
   ]
  },
  {
   "cell_type": "markdown",
   "metadata": {},
   "source": [
    "### Вывод"
   ]
  },
  {
   "cell_type": "markdown",
   "metadata": {},
   "source": [
    "* Мы сменили тип данных у даты релиза, оценок критиков и оценок пользователей. Даты целые, оценки критиков целые, оценки пользователей лежат в пределах от одного до 10 и потому дробные.\n",
    "* Пропуски в оценках, годах и возрастном рейтинге заполнить каким либо  из Single-imputation methods(https://basegroup.ru/community/articles/missing) было бы некорректно, мы можем заполнить их реальными значениями, но это слишком тяжело с точки зрения трудозатрат.\n",
    "* Мы заполнили часть пропусков в годе релиза, а также попытались объяснить причины пропусков.\n",
    "* На мой взгляд этой выборки достаточно для проведения исследования.\n",
    "\n",
    "Перейдем к исследовательскому анализу данных."
   ]
  },
  {
   "cell_type": "markdown",
   "metadata": {},
   "source": [
    "### Шаг 3. Проведем исследовательский анализ данных <a class=\"anchor\" id=\"3\"></a>"
   ]
  },
  {
   "cell_type": "markdown",
   "metadata": {},
   "source": [
    "* Посмотрим, сколько игр выпускалось в разные годы. Важны ли данные за все периоды?"
   ]
  },
  {
   "cell_type": "code",
   "execution_count": 22,
   "metadata": {},
   "outputs": [
    {
     "data": {
      "text/html": [
       "<div>\n",
       "<style scoped>\n",
       "    .dataframe tbody tr th:only-of-type {\n",
       "        vertical-align: middle;\n",
       "    }\n",
       "\n",
       "    .dataframe tbody tr th {\n",
       "        vertical-align: top;\n",
       "    }\n",
       "\n",
       "    .dataframe thead th {\n",
       "        text-align: right;\n",
       "    }\n",
       "</style>\n",
       "<table border=\"1\" class=\"dataframe\">\n",
       "  <thead>\n",
       "    <tr style=\"text-align: right;\">\n",
       "      <th></th>\n",
       "      <th>year_of_release</th>\n",
       "      <th>count</th>\n",
       "    </tr>\n",
       "  </thead>\n",
       "  <tbody>\n",
       "    <tr>\n",
       "      <td>27</td>\n",
       "      <td>2007</td>\n",
       "      <td>1202</td>\n",
       "    </tr>\n",
       "    <tr>\n",
       "      <td>28</td>\n",
       "      <td>2008</td>\n",
       "      <td>1440</td>\n",
       "    </tr>\n",
       "    <tr>\n",
       "      <td>29</td>\n",
       "      <td>2009</td>\n",
       "      <td>1431</td>\n",
       "    </tr>\n",
       "    <tr>\n",
       "      <td>30</td>\n",
       "      <td>2010</td>\n",
       "      <td>1270</td>\n",
       "    </tr>\n",
       "    <tr>\n",
       "      <td>31</td>\n",
       "      <td>2011</td>\n",
       "      <td>1153</td>\n",
       "    </tr>\n",
       "    <tr>\n",
       "      <td>32</td>\n",
       "      <td>2012</td>\n",
       "      <td>662</td>\n",
       "    </tr>\n",
       "    <tr>\n",
       "      <td>33</td>\n",
       "      <td>2013</td>\n",
       "      <td>547</td>\n",
       "    </tr>\n",
       "    <tr>\n",
       "      <td>34</td>\n",
       "      <td>2014</td>\n",
       "      <td>582</td>\n",
       "    </tr>\n",
       "    <tr>\n",
       "      <td>35</td>\n",
       "      <td>2015</td>\n",
       "      <td>606</td>\n",
       "    </tr>\n",
       "    <tr>\n",
       "      <td>36</td>\n",
       "      <td>2016</td>\n",
       "      <td>502</td>\n",
       "    </tr>\n",
       "  </tbody>\n",
       "</table>\n",
       "</div>"
      ],
      "text/plain": [
       "    year_of_release  count\n",
       "27             2007   1202\n",
       "28             2008   1440\n",
       "29             2009   1431\n",
       "30             2010   1270\n",
       "31             2011   1153\n",
       "32             2012    662\n",
       "33             2013    547\n",
       "34             2014    582\n",
       "35             2015    606\n",
       "36             2016    502"
      ]
     },
     "execution_count": 22,
     "metadata": {},
     "output_type": "execute_result"
    }
   ],
   "source": [
    "# <Сделаем сводную таблицу где сгруппируем данные году релиза и посчитаем их количество>\n",
    "years_pivot = df_games.pivot_table(index = 'year_of_release', values = 'name', aggfunc = 'count')\n",
    "years_pivot.columns = ['count']\n",
    "years_pivot.reset_index(inplace = True)\n",
    "years_pivot.tail(10)"
   ]
  },
  {
   "cell_type": "markdown",
   "metadata": {},
   "source": [
    "Уже тут можно заметить тренд, перед последним поколением приставок игры стали выпускаться реже, но \"качественее\" (так задумывалось). Их разработка становилась дольше."
   ]
  },
  {
   "cell_type": "code",
   "execution_count": 23,
   "metadata": {},
   "outputs": [
    {
     "data": {
      "text/plain": [
       "<seaborn.axisgrid.FacetGrid at 0x7fe195596750>"
      ]
     },
     "execution_count": 23,
     "metadata": {},
     "output_type": "execute_result"
    },
    {
     "data": {
      "image/png": "[encoded data removed]",
      "text/plain": [
       "<Figure size 900x360 with 1 Axes>"
      ]
     },
     "metadata": {
      "needs_background": "light"
     },
     "output_type": "display_data"
    }
   ],
   "source": [
    "# <Построим график-линию с помощью билиотеки seaborn>\n",
    "sns.relplot(x=\"year_of_release\", y=\"count\", kind=\"line\", data=years_pivot , size=2, aspect=2.5, legend = False)"
   ]
  },
  {
   "cell_type": "code",
   "execution_count": 24,
   "metadata": {},
   "outputs": [
    {
     "data": {
      "text/plain": [
       "<matplotlib.axes._subplots.AxesSubplot at 0x7fe1d8502750>"
      ]
     },
     "execution_count": 24,
     "metadata": {},
     "output_type": "execute_result"
    },
    {
     "data": {
      "image/png": "[encoded data removed]",
      "text/plain": [
       "<Figure size 1152x432 with 1 Axes>"
      ]
     },
     "metadata": {
      "needs_background": "light"
     },
     "output_type": "display_data"
    }
   ],
   "source": [
    "plt.figure(figsize=(16, 6))\n",
    "# <Построим гисттограмму распределения с помощью билиотеки seaborn>\n",
    "sns.distplot(df_games[~(df_games['year_of_release'].isnull())]['year_of_release'])"
   ]
  },
  {
   "cell_type": "markdown",
   "metadata": {},
   "source": [
    "Важны ли данные за все периоды для решения задачи? Нет, можно использовать данные, начиная с 2012 года. Количество выпущенных игр уменьшилось, так как новое поколение консолей задало тренд на долгую разработку."
   ]
  },
  {
   "cell_type": "markdown",
   "metadata": {},
   "source": [
    "* Посмотрите, как менялись продажи по платформам. Выберите платформы с наибольшими суммарными продажами и постройте распределение по годам. За какой характерный срок появляются новые и исчезают старые платформы?"
   ]
  },
  {
   "cell_type": "code",
   "execution_count": 25,
   "metadata": {},
   "outputs": [
    {
     "data": {
      "text/html": [
       "<div>\n",
       "<style scoped>\n",
       "    .dataframe tbody tr th:only-of-type {\n",
       "        vertical-align: middle;\n",
       "    }\n",
       "\n",
       "    .dataframe tbody tr th {\n",
       "        vertical-align: top;\n",
       "    }\n",
       "\n",
       "    .dataframe thead th {\n",
       "        text-align: right;\n",
       "    }\n",
       "</style>\n",
       "<table border=\"1\" class=\"dataframe\">\n",
       "  <thead>\n",
       "    <tr style=\"text-align: right;\">\n",
       "      <th></th>\n",
       "      <th>platform</th>\n",
       "      <th>sum_sales</th>\n",
       "    </tr>\n",
       "  </thead>\n",
       "  <tbody>\n",
       "    <tr>\n",
       "      <td>16</td>\n",
       "      <td>PS2</td>\n",
       "      <td>1255.77</td>\n",
       "    </tr>\n",
       "    <tr>\n",
       "      <td>28</td>\n",
       "      <td>X360</td>\n",
       "      <td>971.42</td>\n",
       "    </tr>\n",
       "    <tr>\n",
       "      <td>17</td>\n",
       "      <td>PS3</td>\n",
       "      <td>939.65</td>\n",
       "    </tr>\n",
       "    <tr>\n",
       "      <td>26</td>\n",
       "      <td>Wii</td>\n",
       "      <td>907.51</td>\n",
       "    </tr>\n",
       "    <tr>\n",
       "      <td>4</td>\n",
       "      <td>DS</td>\n",
       "      <td>806.12</td>\n",
       "    </tr>\n",
       "  </tbody>\n",
       "</table>\n",
       "</div>"
      ],
      "text/plain": [
       "   platform  sum_sales\n",
       "16      PS2    1255.77\n",
       "28     X360     971.42\n",
       "17      PS3     939.65\n",
       "26      Wii     907.51\n",
       "4        DS     806.12"
      ]
     },
     "execution_count": 25,
     "metadata": {},
     "output_type": "execute_result"
    }
   ],
   "source": [
    "# <Сделаем сводную таблицу где сгруппируем данные по платформе, затем подсчитаем сумму продаж>\n",
    "sumsales_pivot = df_games.pivot_table(index = 'platform', values = 'world_sales', aggfunc = 'sum')\n",
    "sumsales_pivot.columns = ['sum_sales']\n",
    "sumsales_pivot.reset_index(inplace = True)\n",
    "sumsales_pivot.sort_values(by = 'sum_sales', ascending= False).head()"
   ]
  },
  {
   "cell_type": "code",
   "execution_count": 26,
   "metadata": {},
   "outputs": [
    {
     "data": {
      "text/html": [
       "<div>\n",
       "<style scoped>\n",
       "    .dataframe tbody tr th:only-of-type {\n",
       "        vertical-align: middle;\n",
       "    }\n",
       "\n",
       "    .dataframe tbody tr th {\n",
       "        vertical-align: top;\n",
       "    }\n",
       "\n",
       "    .dataframe thead th {\n",
       "        text-align: right;\n",
       "    }\n",
       "</style>\n",
       "<table border=\"1\" class=\"dataframe\">\n",
       "  <thead>\n",
       "    <tr style=\"text-align: right;\">\n",
       "      <th></th>\n",
       "      <th>platform</th>\n",
       "      <th>year_of_release</th>\n",
       "      <th>sum_sales</th>\n",
       "    </tr>\n",
       "  </thead>\n",
       "  <tbody>\n",
       "    <tr>\n",
       "      <td>233</td>\n",
       "      <td>XB</td>\n",
       "      <td>2003</td>\n",
       "      <td>56.27</td>\n",
       "    </tr>\n",
       "    <tr>\n",
       "      <td>234</td>\n",
       "      <td>XB</td>\n",
       "      <td>2004</td>\n",
       "      <td>65.97</td>\n",
       "    </tr>\n",
       "    <tr>\n",
       "      <td>235</td>\n",
       "      <td>XB</td>\n",
       "      <td>2005</td>\n",
       "      <td>49.09</td>\n",
       "    </tr>\n",
       "    <tr>\n",
       "      <td>236</td>\n",
       "      <td>XB</td>\n",
       "      <td>2006</td>\n",
       "      <td>10.04</td>\n",
       "    </tr>\n",
       "    <tr>\n",
       "      <td>237</td>\n",
       "      <td>XB</td>\n",
       "      <td>2007</td>\n",
       "      <td>0.55</td>\n",
       "    </tr>\n",
       "    <tr>\n",
       "      <td>238</td>\n",
       "      <td>XB</td>\n",
       "      <td>2008</td>\n",
       "      <td>0.18</td>\n",
       "    </tr>\n",
       "    <tr>\n",
       "      <td>239</td>\n",
       "      <td>XOne</td>\n",
       "      <td>2013</td>\n",
       "      <td>18.96</td>\n",
       "    </tr>\n",
       "    <tr>\n",
       "      <td>240</td>\n",
       "      <td>XOne</td>\n",
       "      <td>2014</td>\n",
       "      <td>54.07</td>\n",
       "    </tr>\n",
       "    <tr>\n",
       "      <td>241</td>\n",
       "      <td>XOne</td>\n",
       "      <td>2015</td>\n",
       "      <td>60.14</td>\n",
       "    </tr>\n",
       "    <tr>\n",
       "      <td>242</td>\n",
       "      <td>XOne</td>\n",
       "      <td>2016</td>\n",
       "      <td>26.15</td>\n",
       "    </tr>\n",
       "  </tbody>\n",
       "</table>\n",
       "</div>"
      ],
      "text/plain": [
       "    platform  year_of_release  sum_sales\n",
       "233       XB             2003      56.27\n",
       "234       XB             2004      65.97\n",
       "235       XB             2005      49.09\n",
       "236       XB             2006      10.04\n",
       "237       XB             2007       0.55\n",
       "238       XB             2008       0.18\n",
       "239     XOne             2013      18.96\n",
       "240     XOne             2014      54.07\n",
       "241     XOne             2015      60.14\n",
       "242     XOne             2016      26.15"
      ]
     },
     "execution_count": 26,
     "metadata": {},
     "output_type": "execute_result"
    }
   ],
   "source": [
    "# <Сделаем сводную таблицу где сгруппируем данные по платформе и году релиза, затем подсчитаем сумму продаж для каждого года>\n",
    "sumsalesyear_pivot = df_games.pivot_table(index = ['platform','year_of_release'], values = 'world_sales', aggfunc = 'sum')\n",
    "sumsalesyear_pivot.columns = ['sum_sales']\n",
    "sumsalesyear_pivot.reset_index(inplace = True)\n",
    "sumsalesyear_pivot.tail(10)"
   ]
  },
  {
   "cell_type": "code",
   "execution_count": 27,
   "metadata": {},
   "outputs": [
    {
     "data": {
      "image/png": "[encoded data removed]",
      "text/plain": [
       "<Figure size 1152x432 with 1 Axes>"
      ]
     },
     "metadata": {
      "needs_background": "light"
     },
     "output_type": "display_data"
    }
   ],
   "source": [
    "# <Построим barplot который наглядно покажет сколько живут платформы>\n",
    "plt.figure(figsize=(16, 6))\n",
    "top_platform = sumsalesyear_pivot.query('platform in [\"PS2\",\"X360\",\"PS3\",\"Wii\",\"DS\"]')\n",
    "ax = sns.barplot(x=\"year_of_release\", y=\"sum_sales\", hue=\"platform\", data=top_platform)"
   ]
  },
  {
   "cell_type": "code",
   "execution_count": 28,
   "metadata": {},
   "outputs": [
    {
     "data": {
      "text/plain": [
       "platform           11.8\n",
       "year_of_release    11.8\n",
       "sum_sales          11.8\n",
       "dtype: float64"
      ]
     },
     "execution_count": 28,
     "metadata": {},
     "output_type": "execute_result"
    }
   ],
   "source": [
    "# <другой способ посчитать жизненный цикл платформы>\n",
    "top_platform.count()/5"
   ]
  },
  {
   "cell_type": "markdown",
   "metadata": {},
   "source": [
    "За 10 лет платформа успевает появится и исчезнуть. Это можно рассмотреть на графике, посчитав столбики и затем разделив их на их количество платформ."
   ]
  },
  {
   "cell_type": "markdown",
   "metadata": {},
   "source": [
    "* Возьмем данные за соответствующий актуальный период. Актуальный период определим самостоятельно в результате исследования предыдущих вопросов. Основной фактор — эти данные помогут построить прогноз на 2017 год. Не учитываем в работе данные за предыдущие годы."
   ]
  },
  {
   "cell_type": "markdown",
   "metadata": {},
   "source": [
    "Мы подобрали период начиная с 2012 года."
   ]
  },
  {
   "cell_type": "markdown",
   "metadata": {},
   "source": [
    "* Какие платформы лидируют по продажам, растут или падают? Выберем несколько потенциально прибыльных платформ."
   ]
  },
  {
   "cell_type": "code",
   "execution_count": 29,
   "metadata": {},
   "outputs": [
    {
     "data": {
      "text/html": [
       "<div>\n",
       "<style scoped>\n",
       "    .dataframe tbody tr th:only-of-type {\n",
       "        vertical-align: middle;\n",
       "    }\n",
       "\n",
       "    .dataframe tbody tr th {\n",
       "        vertical-align: top;\n",
       "    }\n",
       "\n",
       "    .dataframe thead th {\n",
       "        text-align: right;\n",
       "    }\n",
       "</style>\n",
       "<table border=\"1\" class=\"dataframe\">\n",
       "  <thead>\n",
       "    <tr style=\"text-align: right;\">\n",
       "      <th></th>\n",
       "      <th>platform</th>\n",
       "      <th>year_of_release</th>\n",
       "      <th>sum_sales</th>\n",
       "    </tr>\n",
       "  </thead>\n",
       "  <tbody>\n",
       "    <tr>\n",
       "      <td>39</td>\n",
       "      <td>WiiU</td>\n",
       "      <td>2016</td>\n",
       "      <td>4.60</td>\n",
       "    </tr>\n",
       "    <tr>\n",
       "      <td>40</td>\n",
       "      <td>X360</td>\n",
       "      <td>2012</td>\n",
       "      <td>100.72</td>\n",
       "    </tr>\n",
       "    <tr>\n",
       "      <td>41</td>\n",
       "      <td>X360</td>\n",
       "      <td>2013</td>\n",
       "      <td>88.58</td>\n",
       "    </tr>\n",
       "    <tr>\n",
       "      <td>42</td>\n",
       "      <td>X360</td>\n",
       "      <td>2014</td>\n",
       "      <td>34.74</td>\n",
       "    </tr>\n",
       "    <tr>\n",
       "      <td>43</td>\n",
       "      <td>X360</td>\n",
       "      <td>2015</td>\n",
       "      <td>11.96</td>\n",
       "    </tr>\n",
       "    <tr>\n",
       "      <td>44</td>\n",
       "      <td>X360</td>\n",
       "      <td>2016</td>\n",
       "      <td>1.52</td>\n",
       "    </tr>\n",
       "    <tr>\n",
       "      <td>45</td>\n",
       "      <td>XOne</td>\n",
       "      <td>2013</td>\n",
       "      <td>18.96</td>\n",
       "    </tr>\n",
       "    <tr>\n",
       "      <td>46</td>\n",
       "      <td>XOne</td>\n",
       "      <td>2014</td>\n",
       "      <td>54.07</td>\n",
       "    </tr>\n",
       "    <tr>\n",
       "      <td>47</td>\n",
       "      <td>XOne</td>\n",
       "      <td>2015</td>\n",
       "      <td>60.14</td>\n",
       "    </tr>\n",
       "    <tr>\n",
       "      <td>48</td>\n",
       "      <td>XOne</td>\n",
       "      <td>2016</td>\n",
       "      <td>26.15</td>\n",
       "    </tr>\n",
       "  </tbody>\n",
       "</table>\n",
       "</div>"
      ],
      "text/plain": [
       "   platform  year_of_release  sum_sales\n",
       "39     WiiU             2016       4.60\n",
       "40     X360             2012     100.72\n",
       "41     X360             2013      88.58\n",
       "42     X360             2014      34.74\n",
       "43     X360             2015      11.96\n",
       "44     X360             2016       1.52\n",
       "45     XOne             2013      18.96\n",
       "46     XOne             2014      54.07\n",
       "47     XOne             2015      60.14\n",
       "48     XOne             2016      26.15"
      ]
     },
     "execution_count": 29,
     "metadata": {},
     "output_type": "execute_result"
    }
   ],
   "source": [
    "# <Сделаем датафрейм с информацией по играм за \"актуальный период\">\n",
    "final_df = df_games[df_games['year_of_release'] >= 2012]\n",
    "\n",
    "# <Сделаем сводную таблицу где сгруппируем данные по платформе и году релиза, затем подсчитаем сумму продаж для каждого года>\n",
    "sumsalesyear_pivot_2012 = final_df.pivot_table(index = ['platform','year_of_release'], values = 'world_sales', aggfunc = 'sum')\n",
    "sumsalesyear_pivot_2012.columns = ['sum_sales']\n",
    "sumsalesyear_pivot_2012.reset_index(inplace = True)\n",
    "sumsalesyear_pivot_2012.tail(10)"
   ]
  },
  {
   "cell_type": "code",
   "execution_count": 30,
   "metadata": {},
   "outputs": [
    {
     "data": {
      "image/png": "[encoded data removed]",
      "text/plain": [
       "<Figure size 1152x432 with 1 Axes>"
      ]
     },
     "metadata": {
      "needs_background": "light"
     },
     "output_type": "display_data"
    }
   ],
   "source": [
    "# <Построим barplot который наглядно покажет сколько живут платформы>\n",
    "plt.figure(figsize=(16, 6))\n",
    "ax = sns.barplot(x=\"year_of_release\", y=\"sum_sales\", hue=\"platform\", data=sumsalesyear_pivot_2012)"
   ]
  },
  {
   "cell_type": "markdown",
   "metadata": {},
   "source": [
    "Лидирует по по продажам Playstation. Последнее поколение в конце периода и предпоследнее в начале периода.\n",
    "\n",
    "Как только вышло новое поколение PS4 и XOne , просели по продажам приставки тех же компаний предыдущего поколения X360 и PS3.\n",
    "\n",
    "Выберем три потенциально прибыльных платформы. Это подходит под понятие \"несколько\". Самая прибыльная - PS4. Далее прямой конкурент XOne. И 3DS, который заметно им проигрывает, но все еще жив. В Японии =)"
   ]
  },
  {
   "cell_type": "markdown",
   "metadata": {},
   "source": [
    "* Построим график «ящик с усами» по глобальным продажам каждой игры и разбивкой по платформам. Велика ли разница в продажах? А в средних продажах на разных платформах? Опишем результат."
   ]
  },
  {
   "cell_type": "markdown",
   "metadata": {},
   "source": [
    "Создадим датафрейм куда поместим показатели продаж по годам для трех выбранных нами платформ, затем построим \"ящик с усами\":"
   ]
  },
  {
   "cell_type": "code",
   "execution_count": 31,
   "metadata": {},
   "outputs": [
    {
     "data": {
      "text/plain": [
       "<matplotlib.axes._subplots.AxesSubplot at 0x7fe1926d9bd0>"
      ]
     },
     "execution_count": 31,
     "metadata": {},
     "output_type": "execute_result"
    },
    {
     "data": {
      "image/png": "[encoded data removed]",
      "text/plain": [
       "<Figure size 432x288 with 1 Axes>"
      ]
     },
     "metadata": {
      "needs_background": "light"
     },
     "output_type": "display_data"
    }
   ],
   "source": [
    "# <Построим boxplot, который наглядно покажет каковы средние продажи выбранных нами платформ>\n",
    "top_platform_2012 = sumsalesyear_pivot_2012.query('platform in [\"PS4\",\"XOne\",\"3DS\"]')\n",
    "\n",
    "sns.boxplot(x=\"platform\", y=\"sum_sales\",\n",
    "            palette=[\"pink\", \"gray\", \"white\"],\n",
    "            data=top_platform_2012)"
   ]
  },
  {
   "cell_type": "markdown",
   "metadata": {},
   "source": [
    "Между прямыми конкурентами PS4 и Xbox One довольна велика разница в продажах, там где у Xbox One третий квартиль, у PS4 первый.  Продукт от Microsoft никогда не обгонял PS4 по продажам игр. И есть еще очень важная особенность - довольно близки средние продажи у портативной приставки 3DS и XOne. И это при том что тренд на портативные приставки в 2012-2016 уже пропал, заменившись играми на мобильном телефоне."
   ]
  },
  {
   "cell_type": "markdown",
   "metadata": {},
   "source": [
    "* Посмотритм, как влияют на продажи внутри одной популярной платформы отзывы пользователей и критиков. Построим диаграмму рассеяния и посчитаем корреляцию между отзывами и продажами. Сформулируем выводы."
   ]
  },
  {
   "cell_type": "markdown",
   "metadata": {},
   "source": [
    "Возьмем платформу PS4:"
   ]
  },
  {
   "cell_type": "code",
   "execution_count": 32,
   "metadata": {},
   "outputs": [
    {
     "data": {
      "image/png": "[encoded data removed]",
      "text/plain": [
       "<Figure size 1152x360 with 2 Axes>"
      ]
     },
     "metadata": {
      "needs_background": "light"
     },
     "output_type": "display_data"
    }
   ],
   "source": [
    "# <Построим диаграммы рассеяния>\n",
    "fig, (ax1, ax2) = plt.subplots(1, 2, figsize=(16,5))\n",
    "sns.relplot(x='user_score', y='world_sales', data = final_df[final_df['platform'] == 'PS4'], ax = ax1)\n",
    "sns.relplot(x='critic_score', y='world_sales', data = final_df[final_df['platform'] == 'PS4'], ax = ax2)\n",
    "# <Добавим эти строки, так как без них создаются два пустых графика, это особенность метода sns.relplot>\n",
    "plt.close()\n",
    "plt.close()"
   ]
  },
  {
   "cell_type": "code",
   "execution_count": 33,
   "metadata": {},
   "outputs": [
    {
     "name": "stdout",
     "output_type": "stream",
     "text": [
      "              world_sales  critic_score  user_score\n",
      "world_sales      1.000000      0.406568   -0.031957\n",
      "critic_score     0.406568      1.000000    0.557654\n",
      "user_score      -0.031957      0.557654    1.000000\n"
     ]
    }
   ],
   "source": [
    "# <вызовем метод corr() для подсчета связи между столбцами>\n",
    "print(final_df[final_df['platform'] == 'PS4'].loc[:, ['world_sales', 'critic_score','user_score']].corr())"
   ]
  },
  {
   "cell_type": "markdown",
   "metadata": {},
   "source": [
    "Судя по графикам, большая часть игр не зарабатывает больше 1 млн. какая бы хорошая у нее не была оценка. Однако среди тех что зарабатывают много, большая часть лежит после оценки 5 у пользователей и 60 у критиков.\n",
    "\n",
    "Значение корреляции оценок критиков с продажами показывает прямую среднюю по силе связь. Но выборка мала, чтобы судить точно. А вот корреляции между оценками пользователей и продажами почти нет, она очень слабая отрицательная. Можно сказать что ее нет. Можно сделать вывод что оценки критиков намного сильнее влияют на продажи, чем оценки пользователей."
   ]
  },
  {
   "cell_type": "markdown",
   "metadata": {},
   "source": [
    "* Соотнесем выводы с продажами игр на других платформах."
   ]
  },
  {
   "cell_type": "markdown",
   "metadata": {},
   "source": [
    "Проверим выводы посмотрев на графики и корреляцию у приставки Xbox One:"
   ]
  },
  {
   "cell_type": "code",
   "execution_count": 34,
   "metadata": {},
   "outputs": [
    {
     "data": {
      "image/png": "[encoded data removed]",
      "text/plain": [
       "<Figure size 1152x360 with 2 Axes>"
      ]
     },
     "metadata": {
      "needs_background": "light"
     },
     "output_type": "display_data"
    }
   ],
   "source": [
    "# <Построим диаграммы рассеяния>\n",
    "fig, (ax1, ax2) = plt.subplots(1, 2, figsize=(16,5))\n",
    "sns.relplot(x='user_score', y='world_sales', data = final_df[final_df['platform'] == 'XOne'], ax = ax1)\n",
    "sns.relplot(x='critic_score', y='world_sales', data = final_df[final_df['platform'] == 'XOne'], ax = ax2)\n",
    "# <Добавим эти строки, так как без них создаются два пустых графика, это особенность метода sns.relplot>\n",
    "plt.close()\n",
    "plt.close()"
   ]
  },
  {
   "cell_type": "code",
   "execution_count": 35,
   "metadata": {},
   "outputs": [
    {
     "name": "stdout",
     "output_type": "stream",
     "text": [
      "              world_sales  critic_score  user_score\n",
      "world_sales      1.000000      0.416998   -0.068925\n",
      "critic_score     0.416998      1.000000    0.472462\n",
      "user_score      -0.068925      0.472462    1.000000\n"
     ]
    }
   ],
   "source": [
    "# <вызовем метод corr() для подсчета связи между столбцами>\n",
    "print(final_df[final_df['platform'] == 'XOne'].loc[:, ['world_sales', 'critic_score','user_score']].corr())"
   ]
  },
  {
   "cell_type": "markdown",
   "metadata": {},
   "source": [
    "Выводы те же, продажи растут после оценки критиков 70 у той части что заработали хотя бы 0.5-1 млн, в отличие от 60 на PS4. Корреляция такая же."
   ]
  },
  {
   "cell_type": "markdown",
   "metadata": {},
   "source": [
    "Проверим выводы посмотрев на графики и корреляцию у приставки 3DS:"
   ]
  },
  {
   "cell_type": "code",
   "execution_count": 36,
   "metadata": {},
   "outputs": [
    {
     "data": {
      "image/png": "[encoded data removed]",
      "text/plain": [
       "<Figure size 1152x360 with 2 Axes>"
      ]
     },
     "metadata": {
      "needs_background": "light"
     },
     "output_type": "display_data"
    }
   ],
   "source": [
    "# <Построим диаграммы рассеяния>\n",
    "fig, (ax1, ax2) = plt.subplots(1, 2, figsize=(16,5))\n",
    "sns.relplot(x='user_score', y='world_sales', data = final_df[final_df['platform'] == '3DS'], ax = ax1)\n",
    "sns.relplot(x='critic_score', y='world_sales', data = final_df[final_df['platform'] == '3DS'], ax = ax2)\n",
    "# <Добавим эти строки, так как без них создаются два пустых графика, это особенность метода sns.relplot>\n",
    "plt.close()\n",
    "plt.close()"
   ]
  },
  {
   "cell_type": "code",
   "execution_count": 37,
   "metadata": {},
   "outputs": [
    {
     "name": "stdout",
     "output_type": "stream",
     "text": [
      "              world_sales  critic_score  user_score\n",
      "world_sales      1.000000      0.320458    0.198150\n",
      "critic_score     0.320458      1.000000    0.721517\n",
      "user_score       0.198150      0.721517    1.000000\n"
     ]
    }
   ],
   "source": [
    "# <вызовем метод corr() для подсчета связи между столбцами>\n",
    "print(final_df[final_df['platform'] == '3DS'].loc[:, ['world_sales', 'critic_score','user_score']].corr())"
   ]
  },
  {
   "cell_type": "markdown",
   "metadata": {},
   "source": [
    "Выборка у этой приставки меньше. Судя по графикам, большая часть игр не зарабатывает больше 1 млн. какая бы хорошая у нее не была оценка. Однако среди тех что зарабатывают много, большая часть лежит после оценки 5 у пользователей и 60 у критиков. Также как и у PS4.\n",
    "\n",
    "Значения корреляции оценок критиков с продажами и оценок пользователей с продажами показывает прямую средне-слабую связь. Но выборка мала, чтобы судить точно. Это отличается от домашних приставок. Видно что оценки пользователей положительно влияют на продажи."
   ]
  },
  {
   "cell_type": "markdown",
   "metadata": {},
   "source": [
    "* Посмотрим на общее распределение игр по жанрам. Что можно сказать о самых прибыльных жанрах? Выделяются ли жанры с высокими и низкими продажами?"
   ]
  },
  {
   "cell_type": "markdown",
   "metadata": {},
   "source": [
    "Построим bar plot на котором будет отчетливо видно какие жанры наиболее прибыльны:"
   ]
  },
  {
   "cell_type": "code",
   "execution_count": 38,
   "metadata": {},
   "outputs": [
    {
     "data": {
      "image/png": "[encoded data removed]",
      "text/plain": [
       "<Figure size 1152x432 with 1 Axes>"
      ]
     },
     "metadata": {
      "needs_background": "light"
     },
     "output_type": "display_data"
    }
   ],
   "source": [
    "# <Построим barplot который наглядно покажет какие жанры самые прибыльные>\n",
    "plt.figure(figsize=(16, 6))\n",
    "ax = sns.barplot(x=\"genre\", y=\"world_sales\", data=final_df)"
   ]
  },
  {
   "cell_type": "markdown",
   "metadata": {},
   "source": [
    "Выделяются:\n",
    "1. Shooter\n",
    "2. Platform\n",
    "3. Sports\n",
    "4. Role-Playing \n",
    "5. Racing. \n",
    "\n",
    "Самые низкие продажи у жанров:\n",
    "1. Adventure\n",
    "2. Puzzle\n",
    "3. Strategy\n",
    "\n",
    "Лидер - Shooter\n",
    "\n",
    "Посмотрим статистику по нашим трем потенциально прибыльным платформам."
   ]
  },
  {
   "cell_type": "code",
   "execution_count": 39,
   "metadata": {},
   "outputs": [
    {
     "data": {
      "image/png": "[encoded data removed]",
      "text/plain": [
       "<Figure size 1152x432 with 1 Axes>"
      ]
     },
     "metadata": {
      "needs_background": "light"
     },
     "output_type": "display_data"
    }
   ],
   "source": [
    "# <Построим barplot который наглядно покажет какие жанры самые прибыльные>\n",
    "plt.figure(figsize=(16, 6))\n",
    "ax = sns.barplot(x=\"genre\", y=\"world_sales\", data=final_df.query('platform in [\"PS4\",\"XOne\",\"3DS\"]'))"
   ]
  },
  {
   "cell_type": "markdown",
   "metadata": {},
   "source": [
    "Выделяются:\n",
    "1. Shooter\n",
    "2. Sports\n",
    "3. Role-Playing\n",
    "4. Platform\n",
    "5. Simulation. \n",
    "\n",
    "Очень похоже, чуть-чуть другой порядок, общий лидер и Simulation вместо Racing.\n",
    " \n",
    "Самые низкие продажи у жанров:\n",
    "1. Strategy\n",
    "2. Adventure\n",
    "3. Puzzle"
   ]
  },
  {
   "cell_type": "markdown",
   "metadata": {},
   "source": [
    "Выделяется лидер продаж - шутер(стрелялка). И три жанра приносящие всегда мало продаж - стратегии, приключения, головоломки."
   ]
  },
  {
   "cell_type": "markdown",
   "metadata": {},
   "source": [
    "### Вывод"
   ]
  },
  {
   "cell_type": "markdown",
   "metadata": {},
   "source": [
    "* Мы нашли актуальный период с 2012 по 2016, с начала которого рынок игр изменился, игр стало выпускаться меньше, разработка стала идти дольше, а также пришло новое поколение приставок.\n",
    "* Определили с помощью графика за какой период появляются и исчезают платформы - около 10 лет.\n",
    "* Посмотрев на продажи выделили несколько потенциально прибыльных платформ - PS4, Xbox One, и портативную приставку 3DS.\n",
    "* Оценили тот факт что PS4 обогнал своего прямого конкурента Xbox One с помощью \"ящика с усами\", а также удивились тому что по продажам Xbox на одном уровне с 3DS.\n",
    "* Узнали, оценив корреляцию и диаграммы рассеяния, что оценки критиков довольно слабо влияют на продажи. А оценки пользователей не влияют вообще, за исключением приставки 3DS.\n",
    "* С помощью bar plot определили самые прибыльные и неприбыльные жанры игр."
   ]
  },
  {
   "cell_type": "markdown",
   "metadata": {},
   "source": [
    "### Шаг 4. Составим портрет пользователя каждого региона. <a class=\"anchor\" id=\"4\"></a>"
   ]
  },
  {
   "cell_type": "markdown",
   "metadata": {},
   "source": [
    "Определим для пользователя каждого региона (NA, EU, JP):\n",
    "* Самые популярные платформы (топ-5). Опишем различия в долях продаж.\n",
    "* Самые популярные жанры (топ-5). Поясним разницу.\n",
    "* Проверим, влияет ли рейтинг ESRB на продажи в отдельном регионе?\n",
    "\n",
    "Будем использовать данные из актуального периода."
   ]
  },
  {
   "cell_type": "markdown",
   "metadata": {},
   "source": [
    "**Начнем с региона NA:**"
   ]
  },
  {
   "cell_type": "markdown",
   "metadata": {},
   "source": [
    "Показатель популярности - сумма продаж всех игр на платформе."
   ]
  },
  {
   "cell_type": "code",
   "execution_count": 40,
   "metadata": {},
   "outputs": [
    {
     "data": {
      "text/html": [
       "<div>\n",
       "<style scoped>\n",
       "    .dataframe tbody tr th:only-of-type {\n",
       "        vertical-align: middle;\n",
       "    }\n",
       "\n",
       "    .dataframe tbody tr th {\n",
       "        vertical-align: top;\n",
       "    }\n",
       "\n",
       "    .dataframe thead th {\n",
       "        text-align: right;\n",
       "    }\n",
       "</style>\n",
       "<table border=\"1\" class=\"dataframe\">\n",
       "  <thead>\n",
       "    <tr style=\"text-align: right;\">\n",
       "      <th></th>\n",
       "      <th>platform</th>\n",
       "      <th>na_sales</th>\n",
       "    </tr>\n",
       "  </thead>\n",
       "  <tbody>\n",
       "    <tr>\n",
       "      <td>9</td>\n",
       "      <td>X360</td>\n",
       "      <td>140.57</td>\n",
       "    </tr>\n",
       "    <tr>\n",
       "      <td>4</td>\n",
       "      <td>PS4</td>\n",
       "      <td>108.74</td>\n",
       "    </tr>\n",
       "    <tr>\n",
       "      <td>3</td>\n",
       "      <td>PS3</td>\n",
       "      <td>103.74</td>\n",
       "    </tr>\n",
       "    <tr>\n",
       "      <td>10</td>\n",
       "      <td>XOne</td>\n",
       "      <td>93.12</td>\n",
       "    </tr>\n",
       "    <tr>\n",
       "      <td>0</td>\n",
       "      <td>3DS</td>\n",
       "      <td>55.49</td>\n",
       "    </tr>\n",
       "  </tbody>\n",
       "</table>\n",
       "</div>"
      ],
      "text/plain": [
       "   platform  na_sales\n",
       "9      X360    140.57\n",
       "4       PS4    108.74\n",
       "3       PS3    103.74\n",
       "10     XOne     93.12\n",
       "0       3DS     55.49"
      ]
     },
     "execution_count": 40,
     "metadata": {},
     "output_type": "execute_result"
    }
   ],
   "source": [
    "# <Составим сводную таблицу, где подсчитаем продажи по платформам>\n",
    "nagames_top = final_df.pivot_table(index = 'platform', values = 'na_sales', aggfunc = 'sum')\n",
    "nagames_top.reset_index(inplace = True)\n",
    "nagames_top.sort_values('na_sales',ascending=False).head()"
   ]
  },
  {
   "cell_type": "code",
   "execution_count": 41,
   "metadata": {},
   "outputs": [
    {
     "data": {
      "image/png": "[encoded data removed]",
      "text/plain": [
       "<Figure size 1152x432 with 1 Axes>"
      ]
     },
     "metadata": {
      "needs_background": "light"
     },
     "output_type": "display_data"
    }
   ],
   "source": [
    "# <Построим barplot который наглядно покажет самые популярные платформы>\n",
    "plt.figure(figsize=(16, 6))\n",
    "ax = sns.barplot(x=\"platform\", y=\"na_sales\", data=nagames_top)"
   ]
  },
  {
   "cell_type": "markdown",
   "metadata": {},
   "source": [
    "Самые популярные платформы Северной Америки:\n",
    "1. X360\n",
    "2. PS4\n",
    "3. PS3\n",
    "4. XOne\n",
    "5. 3DS"
   ]
  },
  {
   "cell_type": "markdown",
   "metadata": {},
   "source": [
    "Причина, почему первое место занимает Xbox 360, это как минимум тот факт, что в начале выбранного мною периода у этой приставки был пик продаж, затем пошедший на спад. PS3 тут по той же причине. Также довольно известный факт, что Xbox в США покупают чаще (это касалось прошлого поколения). Первые 4 места имеют примерно равные продажи, это связано с тем что это 4 домашние приставки из двух разных поколений, по 2 приставки от каждого конкурента. И наш период охватывает также угасание прошлого поколения после его пика, и высокие продажи нового поколения приставок, которые еще немного связаны также с обесцениванием денег."
   ]
  },
  {
   "cell_type": "markdown",
   "metadata": {},
   "source": [
    "Посмотрим самые популярные жанры:"
   ]
  },
  {
   "cell_type": "code",
   "execution_count": 42,
   "metadata": {},
   "outputs": [
    {
     "data": {
      "text/html": [
       "<div>\n",
       "<style scoped>\n",
       "    .dataframe tbody tr th:only-of-type {\n",
       "        vertical-align: middle;\n",
       "    }\n",
       "\n",
       "    .dataframe tbody tr th {\n",
       "        vertical-align: top;\n",
       "    }\n",
       "\n",
       "    .dataframe thead th {\n",
       "        text-align: right;\n",
       "    }\n",
       "</style>\n",
       "<table border=\"1\" class=\"dataframe\">\n",
       "  <thead>\n",
       "    <tr style=\"text-align: right;\">\n",
       "      <th></th>\n",
       "      <th>genre</th>\n",
       "      <th>na_sales</th>\n",
       "    </tr>\n",
       "  </thead>\n",
       "  <tbody>\n",
       "    <tr>\n",
       "      <td>0</td>\n",
       "      <td>Action</td>\n",
       "      <td>180.15</td>\n",
       "    </tr>\n",
       "    <tr>\n",
       "      <td>8</td>\n",
       "      <td>Shooter</td>\n",
       "      <td>144.79</td>\n",
       "    </tr>\n",
       "    <tr>\n",
       "      <td>10</td>\n",
       "      <td>Sports</td>\n",
       "      <td>81.53</td>\n",
       "    </tr>\n",
       "    <tr>\n",
       "      <td>7</td>\n",
       "      <td>Role-Playing</td>\n",
       "      <td>64.00</td>\n",
       "    </tr>\n",
       "    <tr>\n",
       "      <td>3</td>\n",
       "      <td>Misc</td>\n",
       "      <td>38.19</td>\n",
       "    </tr>\n",
       "  </tbody>\n",
       "</table>\n",
       "</div>"
      ],
      "text/plain": [
       "           genre  na_sales\n",
       "0         Action    180.15\n",
       "8        Shooter    144.79\n",
       "10        Sports     81.53\n",
       "7   Role-Playing     64.00\n",
       "3           Misc     38.19"
      ]
     },
     "execution_count": 42,
     "metadata": {},
     "output_type": "execute_result"
    }
   ],
   "source": [
    "# <Составим сводную таблицу, где подсчитаем продажи по жанрам>\n",
    "nagenre_top = final_df.pivot_table(index = 'genre', values = 'na_sales', aggfunc = 'sum')\n",
    "nagenre_top.reset_index(inplace = True)\n",
    "nagenre_top.sort_values('na_sales',ascending=False).head()"
   ]
  },
  {
   "cell_type": "code",
   "execution_count": 43,
   "metadata": {},
   "outputs": [
    {
     "data": {
      "image/png": "[encoded data removed]",
      "text/plain": [
       "<Figure size 1152x432 with 1 Axes>"
      ]
     },
     "metadata": {
      "needs_background": "light"
     },
     "output_type": "display_data"
    }
   ],
   "source": [
    "# <Построим barplot который наглядно покажет самые популярные жанры>\n",
    "plt.figure(figsize=(16, 6))\n",
    "ax = sns.barplot(x=\"genre\", y=\"na_sales\", data=nagenre_top)"
   ]
  },
  {
   "cell_type": "markdown",
   "metadata": {},
   "source": [
    "Самые популярные жанры игр Северной Америки:\n",
    "1. Action\n",
    "2. Shooter\n",
    "3. Sports\n",
    "4. Role-Playing\n",
    "5. Misc"
   ]
  },
  {
   "cell_type": "code",
   "execution_count": 44,
   "metadata": {},
   "outputs": [
    {
     "data": {
      "text/html": [
       "<div>\n",
       "<style scoped>\n",
       "    .dataframe tbody tr th:only-of-type {\n",
       "        vertical-align: middle;\n",
       "    }\n",
       "\n",
       "    .dataframe tbody tr th {\n",
       "        vertical-align: top;\n",
       "    }\n",
       "\n",
       "    .dataframe thead th {\n",
       "        text-align: right;\n",
       "    }\n",
       "</style>\n",
       "<table border=\"1\" class=\"dataframe\">\n",
       "  <thead>\n",
       "    <tr style=\"text-align: right;\">\n",
       "      <th></th>\n",
       "      <th>name</th>\n",
       "      <th>platform</th>\n",
       "      <th>year_of_release</th>\n",
       "      <th>genre</th>\n",
       "      <th>na_sales</th>\n",
       "      <th>eu_sales</th>\n",
       "      <th>jp_sales</th>\n",
       "      <th>other_sales</th>\n",
       "      <th>critic_score</th>\n",
       "      <th>user_score</th>\n",
       "      <th>rating</th>\n",
       "      <th>world_sales</th>\n",
       "    </tr>\n",
       "  </thead>\n",
       "  <tbody>\n",
       "    <tr>\n",
       "      <td>23</td>\n",
       "      <td>Grand Theft Auto V</td>\n",
       "      <td>X360</td>\n",
       "      <td>2013</td>\n",
       "      <td>Action</td>\n",
       "      <td>9.66</td>\n",
       "      <td>5.14</td>\n",
       "      <td>0.06</td>\n",
       "      <td>1.41</td>\n",
       "      <td>97</td>\n",
       "      <td>8.1</td>\n",
       "      <td>M</td>\n",
       "      <td>16.27</td>\n",
       "    </tr>\n",
       "    <tr>\n",
       "      <td>16</td>\n",
       "      <td>Grand Theft Auto V</td>\n",
       "      <td>PS3</td>\n",
       "      <td>2013</td>\n",
       "      <td>Action</td>\n",
       "      <td>7.02</td>\n",
       "      <td>9.09</td>\n",
       "      <td>0.98</td>\n",
       "      <td>3.96</td>\n",
       "      <td>97</td>\n",
       "      <td>8.2</td>\n",
       "      <td>M</td>\n",
       "      <td>21.05</td>\n",
       "    </tr>\n",
       "    <tr>\n",
       "      <td>42</td>\n",
       "      <td>Grand Theft Auto V</td>\n",
       "      <td>PS4</td>\n",
       "      <td>2014</td>\n",
       "      <td>Action</td>\n",
       "      <td>3.96</td>\n",
       "      <td>6.31</td>\n",
       "      <td>0.38</td>\n",
       "      <td>1.97</td>\n",
       "      <td>97</td>\n",
       "      <td>8.3</td>\n",
       "      <td>M</td>\n",
       "      <td>12.62</td>\n",
       "    </tr>\n",
       "    <tr>\n",
       "      <td>176</td>\n",
       "      <td>Assassin's Creed III</td>\n",
       "      <td>X360</td>\n",
       "      <td>2012</td>\n",
       "      <td>Action</td>\n",
       "      <td>3.13</td>\n",
       "      <td>1.69</td>\n",
       "      <td>0.03</td>\n",
       "      <td>0.44</td>\n",
       "      <td>84</td>\n",
       "      <td>6.7</td>\n",
       "      <td>M</td>\n",
       "      <td>5.29</td>\n",
       "    </tr>\n",
       "    <tr>\n",
       "      <td>165</td>\n",
       "      <td>Grand Theft Auto V</td>\n",
       "      <td>XOne</td>\n",
       "      <td>2014</td>\n",
       "      <td>Action</td>\n",
       "      <td>2.81</td>\n",
       "      <td>2.19</td>\n",
       "      <td>0.00</td>\n",
       "      <td>0.47</td>\n",
       "      <td>97</td>\n",
       "      <td>7.9</td>\n",
       "      <td>M</td>\n",
       "      <td>5.47</td>\n",
       "    </tr>\n",
       "  </tbody>\n",
       "</table>\n",
       "</div>"
      ],
      "text/plain": [
       "                     name platform  year_of_release   genre  na_sales  \\\n",
       "23     Grand Theft Auto V     X360             2013  Action      9.66   \n",
       "16     Grand Theft Auto V      PS3             2013  Action      7.02   \n",
       "42     Grand Theft Auto V      PS4             2014  Action      3.96   \n",
       "176  Assassin's Creed III     X360             2012  Action      3.13   \n",
       "165    Grand Theft Auto V     XOne             2014  Action      2.81   \n",
       "\n",
       "     eu_sales  jp_sales  other_sales  critic_score  user_score rating  \\\n",
       "23       5.14      0.06         1.41            97         8.1      M   \n",
       "16       9.09      0.98         3.96            97         8.2      M   \n",
       "42       6.31      0.38         1.97            97         8.3      M   \n",
       "176      1.69      0.03         0.44            84         6.7      M   \n",
       "165      2.19      0.00         0.47            97         7.9      M   \n",
       "\n",
       "     world_sales  \n",
       "23         16.27  \n",
       "16         21.05  \n",
       "42         12.62  \n",
       "176         5.29  \n",
       "165         5.47  "
      ]
     },
     "execution_count": 44,
     "metadata": {},
     "output_type": "execute_result"
    }
   ],
   "source": [
    "# <Проверим почему Action так сильно выделяется>\n",
    "final_df[final_df['genre'] == 'Action'].sort_values('na_sales', ascending = False).head(5)"
   ]
  },
  {
   "cell_type": "markdown",
   "metadata": {},
   "source": [
    "В основном из-за супер популярных продуктов Ubisoft и Rockstar. По остальным жанрам понятно, там скорее всего Call of Duty у Shooter, FIFA и Madden NFL у Sports. Так что я бы сказал что выделение этих жанров как лидеров - результат грамотного маркетинга от разработчиков и издателей, а также качества этих игр. Прошу заметить что GTA 5 разрабатывалась минимум 5 лет. Часть из жанров-лидеров были упомянуты в предыдущем шаге. Выделение Action и Misc - особенность этого региона"
   ]
  },
  {
   "cell_type": "code",
   "execution_count": 45,
   "metadata": {},
   "outputs": [
    {
     "data": {
      "text/html": [
       "<div>\n",
       "<style scoped>\n",
       "    .dataframe tbody tr th:only-of-type {\n",
       "        vertical-align: middle;\n",
       "    }\n",
       "\n",
       "    .dataframe tbody tr th {\n",
       "        vertical-align: top;\n",
       "    }\n",
       "\n",
       "    .dataframe thead th {\n",
       "        text-align: right;\n",
       "    }\n",
       "</style>\n",
       "<table border=\"1\" class=\"dataframe\">\n",
       "  <thead>\n",
       "    <tr style=\"text-align: right;\">\n",
       "      <th></th>\n",
       "      <th>name</th>\n",
       "      <th>platform</th>\n",
       "      <th>year_of_release</th>\n",
       "      <th>genre</th>\n",
       "      <th>na_sales</th>\n",
       "      <th>eu_sales</th>\n",
       "      <th>jp_sales</th>\n",
       "      <th>other_sales</th>\n",
       "      <th>critic_score</th>\n",
       "      <th>user_score</th>\n",
       "      <th>rating</th>\n",
       "      <th>world_sales</th>\n",
       "    </tr>\n",
       "  </thead>\n",
       "  <tbody>\n",
       "    <tr>\n",
       "      <td>72</td>\n",
       "      <td>Minecraft</td>\n",
       "      <td>X360</td>\n",
       "      <td>2013</td>\n",
       "      <td>Misc</td>\n",
       "      <td>5.70</td>\n",
       "      <td>2.65</td>\n",
       "      <td>0.02</td>\n",
       "      <td>0.81</td>\n",
       "      <td>NaN</td>\n",
       "      <td>NaN</td>\n",
       "      <td>NaN</td>\n",
       "      <td>9.18</td>\n",
       "    </tr>\n",
       "    <tr>\n",
       "      <td>116</td>\n",
       "      <td>Just Dance 4</td>\n",
       "      <td>Wii</td>\n",
       "      <td>2012</td>\n",
       "      <td>Misc</td>\n",
       "      <td>4.05</td>\n",
       "      <td>2.16</td>\n",
       "      <td>0.00</td>\n",
       "      <td>0.55</td>\n",
       "      <td>74</td>\n",
       "      <td>7.3</td>\n",
       "      <td>E10+</td>\n",
       "      <td>6.76</td>\n",
       "    </tr>\n",
       "    <tr>\n",
       "      <td>248</td>\n",
       "      <td>Nintendo Land</td>\n",
       "      <td>WiiU</td>\n",
       "      <td>2012</td>\n",
       "      <td>Misc</td>\n",
       "      <td>2.52</td>\n",
       "      <td>1.11</td>\n",
       "      <td>0.46</td>\n",
       "      <td>0.33</td>\n",
       "      <td>77</td>\n",
       "      <td>7.9</td>\n",
       "      <td>E10+</td>\n",
       "      <td>4.42</td>\n",
       "    </tr>\n",
       "    <tr>\n",
       "      <td>180</td>\n",
       "      <td>Minecraft</td>\n",
       "      <td>PS3</td>\n",
       "      <td>2014</td>\n",
       "      <td>Misc</td>\n",
       "      <td>2.03</td>\n",
       "      <td>2.37</td>\n",
       "      <td>0.00</td>\n",
       "      <td>0.87</td>\n",
       "      <td>NaN</td>\n",
       "      <td>NaN</td>\n",
       "      <td>NaN</td>\n",
       "      <td>5.27</td>\n",
       "    </tr>\n",
       "    <tr>\n",
       "      <td>359</td>\n",
       "      <td>Just Dance 2014</td>\n",
       "      <td>Wii</td>\n",
       "      <td>2013</td>\n",
       "      <td>Misc</td>\n",
       "      <td>1.88</td>\n",
       "      <td>1.39</td>\n",
       "      <td>0.00</td>\n",
       "      <td>0.31</td>\n",
       "      <td>NaN</td>\n",
       "      <td>6.2</td>\n",
       "      <td>E10+</td>\n",
       "      <td>3.58</td>\n",
       "    </tr>\n",
       "  </tbody>\n",
       "</table>\n",
       "</div>"
      ],
      "text/plain": [
       "                name platform  year_of_release genre  na_sales  eu_sales  \\\n",
       "72         Minecraft     X360             2013  Misc      5.70      2.65   \n",
       "116     Just Dance 4      Wii             2012  Misc      4.05      2.16   \n",
       "248    Nintendo Land     WiiU             2012  Misc      2.52      1.11   \n",
       "180        Minecraft      PS3             2014  Misc      2.03      2.37   \n",
       "359  Just Dance 2014      Wii             2013  Misc      1.88      1.39   \n",
       "\n",
       "     jp_sales  other_sales  critic_score  user_score rating  world_sales  \n",
       "72       0.02         0.81           NaN         NaN    NaN         9.18  \n",
       "116      0.00         0.55            74         7.3   E10+         6.76  \n",
       "248      0.46         0.33            77         7.9   E10+         4.42  \n",
       "180      0.00         0.87           NaN         NaN    NaN         5.27  \n",
       "359      0.00         0.31           NaN         6.2   E10+         3.58  "
      ]
     },
     "execution_count": 45,
     "metadata": {},
     "output_type": "execute_result"
    }
   ],
   "source": [
    "# <Проверим почему Misc так сильно выделяется>\n",
    "final_df[final_df['genre'] == 'Misc'].sort_values('na_sales', ascending = False).head(5)"
   ]
  },
  {
   "cell_type": "markdown",
   "metadata": {},
   "source": [
    "Комментировать нечего, это. просто. Minecraft."
   ]
  },
  {
   "cell_type": "markdown",
   "metadata": {},
   "source": [
    "Проверим, влияет ли рейтинг ESRB на продажи:"
   ]
  },
  {
   "cell_type": "code",
   "execution_count": 46,
   "metadata": {},
   "outputs": [
    {
     "data": {
      "text/html": [
       "<div>\n",
       "<style scoped>\n",
       "    .dataframe tbody tr th:only-of-type {\n",
       "        vertical-align: middle;\n",
       "    }\n",
       "\n",
       "    .dataframe tbody tr th {\n",
       "        vertical-align: top;\n",
       "    }\n",
       "\n",
       "    .dataframe thead th {\n",
       "        text-align: right;\n",
       "    }\n",
       "</style>\n",
       "<table border=\"1\" class=\"dataframe\">\n",
       "  <thead>\n",
       "    <tr style=\"text-align: right;\">\n",
       "      <th></th>\n",
       "      <th>rating</th>\n",
       "      <th>na_sales</th>\n",
       "    </tr>\n",
       "  </thead>\n",
       "  <tbody>\n",
       "    <tr>\n",
       "      <td>2</td>\n",
       "      <td>M</td>\n",
       "      <td>231.67</td>\n",
       "    </tr>\n",
       "    <tr>\n",
       "      <td>0</td>\n",
       "      <td>E</td>\n",
       "      <td>114.37</td>\n",
       "    </tr>\n",
       "    <tr>\n",
       "      <td>1</td>\n",
       "      <td>E10+</td>\n",
       "      <td>77.93</td>\n",
       "    </tr>\n",
       "    <tr>\n",
       "      <td>3</td>\n",
       "      <td>T</td>\n",
       "      <td>66.02</td>\n",
       "    </tr>\n",
       "  </tbody>\n",
       "</table>\n",
       "</div>"
      ],
      "text/plain": [
       "  rating  na_sales\n",
       "2      M    231.67\n",
       "0      E    114.37\n",
       "1   E10+     77.93\n",
       "3      T     66.02"
      ]
     },
     "execution_count": 46,
     "metadata": {},
     "output_type": "execute_result"
    }
   ],
   "source": [
    "# <Составим сводную таблицу, где подсчитаем продажи по возрастному рейтингу>\n",
    "na_esrb = final_df.pivot_table(index = 'rating', values = 'na_sales', aggfunc = 'sum')\n",
    "na_esrb.reset_index(inplace = True)\n",
    "na_esrb.sort_values('na_sales',ascending=False).head()"
   ]
  },
  {
   "cell_type": "markdown",
   "metadata": {},
   "source": [
    "Взрослый человек любит играть, и готов заплатить денег. За кровь на экране, недетский сюжет и так далее."
   ]
  },
  {
   "cell_type": "code",
   "execution_count": 47,
   "metadata": {},
   "outputs": [
    {
     "data": {
      "image/png": "[encoded data removed]",
      "text/plain": [
       "<Figure size 1152x432 with 1 Axes>"
      ]
     },
     "metadata": {
      "needs_background": "light"
     },
     "output_type": "display_data"
    }
   ],
   "source": [
    "# <Построим barplot который наглядно покажет влияние рейтинга на продажи>\n",
    "plt.figure(figsize=(16, 6))\n",
    "ax = sns.barplot(x=\"rating\", y=\"na_sales\", data=na_esrb)"
   ]
  },
  {
   "cell_type": "markdown",
   "metadata": {},
   "source": [
    "Игры, доступные для всех, показывают примерно одинаковый уровень продаж с играми для 10-летних и выше, и для подростков. Игры для взрослых сильно выделяются, также замечу, большинство геймеров уже с 10 лет играют в игры с рейтингом M. Всем хочется быстрее взрослеть =)"
   ]
  },
  {
   "cell_type": "markdown",
   "metadata": {},
   "source": [
    "**Перейдем к региону EU:**"
   ]
  },
  {
   "cell_type": "code",
   "execution_count": 48,
   "metadata": {},
   "outputs": [
    {
     "data": {
      "text/html": [
       "<div>\n",
       "<style scoped>\n",
       "    .dataframe tbody tr th:only-of-type {\n",
       "        vertical-align: middle;\n",
       "    }\n",
       "\n",
       "    .dataframe tbody tr th {\n",
       "        vertical-align: top;\n",
       "    }\n",
       "\n",
       "    .dataframe thead th {\n",
       "        text-align: right;\n",
       "    }\n",
       "</style>\n",
       "<table border=\"1\" class=\"dataframe\">\n",
       "  <thead>\n",
       "    <tr style=\"text-align: right;\">\n",
       "      <th></th>\n",
       "      <th>platform</th>\n",
       "      <th>eu_sales</th>\n",
       "    </tr>\n",
       "  </thead>\n",
       "  <tbody>\n",
       "    <tr>\n",
       "      <td>4</td>\n",
       "      <td>PS4</td>\n",
       "      <td>141.09</td>\n",
       "    </tr>\n",
       "    <tr>\n",
       "      <td>3</td>\n",
       "      <td>PS3</td>\n",
       "      <td>107.27</td>\n",
       "    </tr>\n",
       "    <tr>\n",
       "      <td>9</td>\n",
       "      <td>X360</td>\n",
       "      <td>74.89</td>\n",
       "    </tr>\n",
       "    <tr>\n",
       "      <td>10</td>\n",
       "      <td>XOne</td>\n",
       "      <td>51.59</td>\n",
       "    </tr>\n",
       "    <tr>\n",
       "      <td>0</td>\n",
       "      <td>3DS</td>\n",
       "      <td>42.83</td>\n",
       "    </tr>\n",
       "  </tbody>\n",
       "</table>\n",
       "</div>"
      ],
      "text/plain": [
       "   platform  eu_sales\n",
       "4       PS4    141.09\n",
       "3       PS3    107.27\n",
       "9      X360     74.89\n",
       "10     XOne     51.59\n",
       "0       3DS     42.83"
      ]
     },
     "execution_count": 48,
     "metadata": {},
     "output_type": "execute_result"
    }
   ],
   "source": [
    "# <Составим сводную таблицу, где подсчитаем продажи по платформам>\n",
    "eugames_top = final_df.pivot_table(index = 'platform', values = 'eu_sales', aggfunc = 'sum')\n",
    "eugames_top.reset_index(inplace = True)\n",
    "eugames_top.sort_values('eu_sales',ascending=False).head()"
   ]
  },
  {
   "cell_type": "code",
   "execution_count": 49,
   "metadata": {},
   "outputs": [
    {
     "data": {
      "image/png": "[encoded data removed]",
      "text/plain": [
       "<Figure size 1152x432 with 1 Axes>"
      ]
     },
     "metadata": {
      "needs_background": "light"
     },
     "output_type": "display_data"
    }
   ],
   "source": [
    "# <Построим barplot который наглядно покажет самые популярные платформы>\n",
    "plt.figure(figsize=(16, 6))\n",
    "ax = sns.barplot(x=\"platform\", y=\"eu_sales\", data=eugames_top)"
   ]
  },
  {
   "cell_type": "markdown",
   "metadata": {},
   "source": [
    "Самые популярные платформы в Европе:\n",
    "1. PS4\n",
    "2. PS3\n",
    "3. X360\n",
    "4. XOne\n",
    "5. 3DS"
   ]
  },
  {
   "cell_type": "markdown",
   "metadata": {},
   "source": [
    "Известно что продукты Sony в Европе популярнее, тут больше любят эксклюзивы. Первые два места за приставками Sony, и практически в 2 раза меньше продажи у продуктов Microsoft. Их продажи примерно сравнимы с продажами 3DS."
   ]
  },
  {
   "cell_type": "markdown",
   "metadata": {},
   "source": [
    "Посмотрим самые популярные жанры:"
   ]
  },
  {
   "cell_type": "code",
   "execution_count": 50,
   "metadata": {},
   "outputs": [
    {
     "data": {
      "text/html": [
       "<div>\n",
       "<style scoped>\n",
       "    .dataframe tbody tr th:only-of-type {\n",
       "        vertical-align: middle;\n",
       "    }\n",
       "\n",
       "    .dataframe tbody tr th {\n",
       "        vertical-align: top;\n",
       "    }\n",
       "\n",
       "    .dataframe thead th {\n",
       "        text-align: right;\n",
       "    }\n",
       "</style>\n",
       "<table border=\"1\" class=\"dataframe\">\n",
       "  <thead>\n",
       "    <tr style=\"text-align: right;\">\n",
       "      <th></th>\n",
       "      <th>genre</th>\n",
       "      <th>eu_sales</th>\n",
       "    </tr>\n",
       "  </thead>\n",
       "  <tbody>\n",
       "    <tr>\n",
       "      <td>0</td>\n",
       "      <td>Action</td>\n",
       "      <td>161.70</td>\n",
       "    </tr>\n",
       "    <tr>\n",
       "      <td>8</td>\n",
       "      <td>Shooter</td>\n",
       "      <td>113.47</td>\n",
       "    </tr>\n",
       "    <tr>\n",
       "      <td>10</td>\n",
       "      <td>Sports</td>\n",
       "      <td>69.09</td>\n",
       "    </tr>\n",
       "    <tr>\n",
       "      <td>7</td>\n",
       "      <td>Role-Playing</td>\n",
       "      <td>48.53</td>\n",
       "    </tr>\n",
       "    <tr>\n",
       "      <td>6</td>\n",
       "      <td>Racing</td>\n",
       "      <td>27.29</td>\n",
       "    </tr>\n",
       "  </tbody>\n",
       "</table>\n",
       "</div>"
      ],
      "text/plain": [
       "           genre  eu_sales\n",
       "0         Action    161.70\n",
       "8        Shooter    113.47\n",
       "10        Sports     69.09\n",
       "7   Role-Playing     48.53\n",
       "6         Racing     27.29"
      ]
     },
     "execution_count": 50,
     "metadata": {},
     "output_type": "execute_result"
    }
   ],
   "source": [
    "# <Составим сводную таблицу, где подсчитаем продажи по жанрам>\n",
    "eugenre_top = final_df.pivot_table(index = 'genre', values = 'eu_sales', aggfunc = 'sum')\n",
    "eugenre_top.reset_index(inplace = True)\n",
    "eugenre_top.sort_values('eu_sales',ascending=False).head()"
   ]
  },
  {
   "cell_type": "code",
   "execution_count": 51,
   "metadata": {},
   "outputs": [
    {
     "data": {
      "image/png": "[encoded data removed]",
      "text/plain": [
       "<Figure size 1152x432 with 1 Axes>"
      ]
     },
     "metadata": {
      "needs_background": "light"
     },
     "output_type": "display_data"
    }
   ],
   "source": [
    "# <Построим barplot который наглядно покажет самые популярные жанры>\n",
    "plt.figure(figsize=(16, 6))\n",
    "ax = sns.barplot(x=\"genre\", y=\"eu_sales\", data=eugenre_top)"
   ]
  },
  {
   "cell_type": "markdown",
   "metadata": {},
   "source": [
    "Самые популярные жанры игр в Европе:\n",
    "1. Action\n",
    "2. Shooter\n",
    "3. Sports\n",
    "4. Role-Playing\n",
    "5. Racing"
   ]
  },
  {
   "cell_type": "markdown",
   "metadata": {},
   "source": [
    "Результаты совпадают с показателями по Северной Америке, за исключением пятого места, но учитывая что у жанра Racing разница в продажах с Misc не слишком велика, можно сказать что есть полное совпадение вкусов по жанрам."
   ]
  },
  {
   "cell_type": "markdown",
   "metadata": {},
   "source": [
    "Проверим, влияет ли рейтинг ESRB на продажи:"
   ]
  },
  {
   "cell_type": "code",
   "execution_count": 52,
   "metadata": {},
   "outputs": [
    {
     "data": {
      "text/html": [
       "<div>\n",
       "<style scoped>\n",
       "    .dataframe tbody tr th:only-of-type {\n",
       "        vertical-align: middle;\n",
       "    }\n",
       "\n",
       "    .dataframe tbody tr th {\n",
       "        vertical-align: top;\n",
       "    }\n",
       "\n",
       "    .dataframe thead th {\n",
       "        text-align: right;\n",
       "    }\n",
       "</style>\n",
       "<table border=\"1\" class=\"dataframe\">\n",
       "  <thead>\n",
       "    <tr style=\"text-align: right;\">\n",
       "      <th></th>\n",
       "      <th>rating</th>\n",
       "      <th>eu_sales</th>\n",
       "    </tr>\n",
       "  </thead>\n",
       "  <tbody>\n",
       "    <tr>\n",
       "      <td>2</td>\n",
       "      <td>M</td>\n",
       "      <td>194.44</td>\n",
       "    </tr>\n",
       "    <tr>\n",
       "      <td>0</td>\n",
       "      <td>E</td>\n",
       "      <td>113.03</td>\n",
       "    </tr>\n",
       "    <tr>\n",
       "      <td>1</td>\n",
       "      <td>E10+</td>\n",
       "      <td>57.25</td>\n",
       "    </tr>\n",
       "    <tr>\n",
       "      <td>3</td>\n",
       "      <td>T</td>\n",
       "      <td>52.96</td>\n",
       "    </tr>\n",
       "  </tbody>\n",
       "</table>\n",
       "</div>"
      ],
      "text/plain": [
       "  rating  eu_sales\n",
       "2      M    194.44\n",
       "0      E    113.03\n",
       "1   E10+     57.25\n",
       "3      T     52.96"
      ]
     },
     "execution_count": 52,
     "metadata": {},
     "output_type": "execute_result"
    }
   ],
   "source": [
    "# <Составим сводную таблицу, где подсчитаем продажи по возрастному рейтингу>\n",
    "eu_esrb = final_df.pivot_table(index = 'rating', values = 'eu_sales', aggfunc = 'sum')\n",
    "eu_esrb.reset_index(inplace = True)\n",
    "eu_esrb.sort_values('eu_sales',ascending=False).head()"
   ]
  },
  {
   "cell_type": "code",
   "execution_count": 53,
   "metadata": {},
   "outputs": [
    {
     "data": {
      "image/png": "[encoded data removed]",
      "text/plain": [
       "<Figure size 1152x432 with 1 Axes>"
      ]
     },
     "metadata": {
      "needs_background": "light"
     },
     "output_type": "display_data"
    }
   ],
   "source": [
    "# <Построим barplot который наглядно покажет влияние рейтинга на продажи>\n",
    "plt.figure(figsize=(16, 6))\n",
    "ax = sns.barplot(x=\"rating\", y=\"na_sales\", data=na_esrb)"
   ]
  },
  {
   "cell_type": "markdown",
   "metadata": {},
   "source": [
    "Выводы те же, что и по Северной Америке."
   ]
  },
  {
   "cell_type": "markdown",
   "metadata": {},
   "source": [
    "**Перейдем к региону JP:**"
   ]
  },
  {
   "cell_type": "code",
   "execution_count": 54,
   "metadata": {},
   "outputs": [
    {
     "data": {
      "text/html": [
       "<div>\n",
       "<style scoped>\n",
       "    .dataframe tbody tr th:only-of-type {\n",
       "        vertical-align: middle;\n",
       "    }\n",
       "\n",
       "    .dataframe tbody tr th {\n",
       "        vertical-align: top;\n",
       "    }\n",
       "\n",
       "    .dataframe thead th {\n",
       "        text-align: right;\n",
       "    }\n",
       "</style>\n",
       "<table border=\"1\" class=\"dataframe\">\n",
       "  <thead>\n",
       "    <tr style=\"text-align: right;\">\n",
       "      <th></th>\n",
       "      <th>platform</th>\n",
       "      <th>jp_sales</th>\n",
       "    </tr>\n",
       "  </thead>\n",
       "  <tbody>\n",
       "    <tr>\n",
       "      <td>0</td>\n",
       "      <td>3DS</td>\n",
       "      <td>87.79</td>\n",
       "    </tr>\n",
       "    <tr>\n",
       "      <td>3</td>\n",
       "      <td>PS3</td>\n",
       "      <td>35.29</td>\n",
       "    </tr>\n",
       "    <tr>\n",
       "      <td>6</td>\n",
       "      <td>PSV</td>\n",
       "      <td>21.04</td>\n",
       "    </tr>\n",
       "    <tr>\n",
       "      <td>4</td>\n",
       "      <td>PS4</td>\n",
       "      <td>15.96</td>\n",
       "    </tr>\n",
       "    <tr>\n",
       "      <td>8</td>\n",
       "      <td>WiiU</td>\n",
       "      <td>13.01</td>\n",
       "    </tr>\n",
       "  </tbody>\n",
       "</table>\n",
       "</div>"
      ],
      "text/plain": [
       "  platform  jp_sales\n",
       "0      3DS     87.79\n",
       "3      PS3     35.29\n",
       "6      PSV     21.04\n",
       "4      PS4     15.96\n",
       "8     WiiU     13.01"
      ]
     },
     "execution_count": 54,
     "metadata": {},
     "output_type": "execute_result"
    }
   ],
   "source": [
    "# <Составим сводную таблицу, где подсчитаем продажи по платформам>\n",
    "jpgames_top = final_df.pivot_table(index = 'platform', values = 'jp_sales', aggfunc = 'sum')\n",
    "jpgames_top.reset_index(inplace = True)\n",
    "jpgames_top.sort_values('jp_sales',ascending=False).head()"
   ]
  },
  {
   "cell_type": "code",
   "execution_count": 55,
   "metadata": {},
   "outputs": [
    {
     "data": {
      "image/png": "[encoded data removed]",
      "text/plain": [
       "<Figure size 1152x432 with 1 Axes>"
      ]
     },
     "metadata": {
      "needs_background": "light"
     },
     "output_type": "display_data"
    }
   ],
   "source": [
    "# <Построим barplot который наглядно покажет самые популярные платформы>\n",
    "plt.figure(figsize=(16, 6))\n",
    "ax = sns.barplot(x=\"platform\", y=\"jp_sales\", data=jpgames_top)"
   ]
  },
  {
   "cell_type": "markdown",
   "metadata": {},
   "source": [
    "Самые популярные платформы Японии:\n",
    "1. 3DS\n",
    "2. PS3\n",
    "3. PSV\n",
    "4. PS4\n",
    "5. WiiU"
   ]
  },
  {
   "cell_type": "markdown",
   "metadata": {},
   "source": [
    "Японцы гораздо чаще пользуются портативными приставками, также замечу что подавляющее количество игр на приставку 3DS выпущено на японском языке. Остальные приставки имеют продажи примерно на одном уровне, несмотря на то что они из разных поколений, а PSV вообще считается неудачной портативной приставкой, но тем не менее в Японии игры на нее продаются."
   ]
  },
  {
   "cell_type": "markdown",
   "metadata": {},
   "source": [
    "Рассмотрим самые популярные жанры:"
   ]
  },
  {
   "cell_type": "code",
   "execution_count": 56,
   "metadata": {},
   "outputs": [
    {
     "data": {
      "text/html": [
       "<div>\n",
       "<style scoped>\n",
       "    .dataframe tbody tr th:only-of-type {\n",
       "        vertical-align: middle;\n",
       "    }\n",
       "\n",
       "    .dataframe tbody tr th {\n",
       "        vertical-align: top;\n",
       "    }\n",
       "\n",
       "    .dataframe thead th {\n",
       "        text-align: right;\n",
       "    }\n",
       "</style>\n",
       "<table border=\"1\" class=\"dataframe\">\n",
       "  <thead>\n",
       "    <tr style=\"text-align: right;\">\n",
       "      <th></th>\n",
       "      <th>genre</th>\n",
       "      <th>jp_sales</th>\n",
       "    </tr>\n",
       "  </thead>\n",
       "  <tbody>\n",
       "    <tr>\n",
       "      <td>7</td>\n",
       "      <td>Role-Playing</td>\n",
       "      <td>65.44</td>\n",
       "    </tr>\n",
       "    <tr>\n",
       "      <td>0</td>\n",
       "      <td>Action</td>\n",
       "      <td>52.80</td>\n",
       "    </tr>\n",
       "    <tr>\n",
       "      <td>3</td>\n",
       "      <td>Misc</td>\n",
       "      <td>13.10</td>\n",
       "    </tr>\n",
       "    <tr>\n",
       "      <td>9</td>\n",
       "      <td>Simulation</td>\n",
       "      <td>10.41</td>\n",
       "    </tr>\n",
       "    <tr>\n",
       "      <td>2</td>\n",
       "      <td>Fighting</td>\n",
       "      <td>9.44</td>\n",
       "    </tr>\n",
       "  </tbody>\n",
       "</table>\n",
       "</div>"
      ],
      "text/plain": [
       "          genre  jp_sales\n",
       "7  Role-Playing     65.44\n",
       "0        Action     52.80\n",
       "3          Misc     13.10\n",
       "9    Simulation     10.41\n",
       "2      Fighting      9.44"
      ]
     },
     "execution_count": 56,
     "metadata": {},
     "output_type": "execute_result"
    }
   ],
   "source": [
    "# <Составим сводную таблицу, где подсчитаем продажи по жанрам>\n",
    "jpgenre_top = final_df.pivot_table(index = 'genre', values = 'jp_sales', aggfunc = 'sum')\n",
    "jpgenre_top.reset_index(inplace = True)\n",
    "jpgenre_top.sort_values('jp_sales',ascending=False).head()"
   ]
  },
  {
   "cell_type": "code",
   "execution_count": 57,
   "metadata": {},
   "outputs": [
    {
     "data": {
      "image/png": "[encoded data removed]",
      "text/plain": [
       "<Figure size 1152x432 with 1 Axes>"
      ]
     },
     "metadata": {
      "needs_background": "light"
     },
     "output_type": "display_data"
    }
   ],
   "source": [
    "# <Построим barplot который наглядно покажет самые популярные платформы>\n",
    "plt.figure(figsize=(16, 6))\n",
    "ax = sns.barplot(x=\"genre\", y=\"jp_sales\", data=jpgenre_top)"
   ]
  },
  {
   "cell_type": "markdown",
   "metadata": {},
   "source": [
    "Самые популярные жанры игр в Японии:\n",
    "1. Role-Playing\n",
    "2. Action\n",
    "3. Misc\n",
    "4. Simulation\n",
    "5. Fighting"
   ]
  },
  {
   "cell_type": "markdown",
   "metadata": {},
   "source": [
    "Есть определенные хиты среди каждого жанра, которые сделали распределение жанров именно таким. Но шутеры в Японии точно менее популярны - тут предпочитают кулаки и катану вместо пистолета. Также неудивительно и присутствие файтингов - они гораздо популярнее в Стране восходящего солнца, до сих популярны автоматы в игровых заведениях с этими играми."
   ]
  },
  {
   "cell_type": "markdown",
   "metadata": {},
   "source": [
    "Проверим, влияет ли рейтинг ESRB на продажи:"
   ]
  },
  {
   "cell_type": "code",
   "execution_count": 58,
   "metadata": {},
   "outputs": [
    {
     "data": {
      "text/html": [
       "<div>\n",
       "<style scoped>\n",
       "    .dataframe tbody tr th:only-of-type {\n",
       "        vertical-align: middle;\n",
       "    }\n",
       "\n",
       "    .dataframe tbody tr th {\n",
       "        vertical-align: top;\n",
       "    }\n",
       "\n",
       "    .dataframe thead th {\n",
       "        text-align: right;\n",
       "    }\n",
       "</style>\n",
       "<table border=\"1\" class=\"dataframe\">\n",
       "  <thead>\n",
       "    <tr style=\"text-align: right;\">\n",
       "      <th></th>\n",
       "      <th>rating</th>\n",
       "      <th>jp_sales</th>\n",
       "    </tr>\n",
       "  </thead>\n",
       "  <tbody>\n",
       "    <tr>\n",
       "      <td>0</td>\n",
       "      <td>E</td>\n",
       "      <td>28.33</td>\n",
       "    </tr>\n",
       "    <tr>\n",
       "      <td>3</td>\n",
       "      <td>T</td>\n",
       "      <td>26.02</td>\n",
       "    </tr>\n",
       "    <tr>\n",
       "      <td>2</td>\n",
       "      <td>M</td>\n",
       "      <td>21.20</td>\n",
       "    </tr>\n",
       "    <tr>\n",
       "      <td>1</td>\n",
       "      <td>E10+</td>\n",
       "      <td>8.19</td>\n",
       "    </tr>\n",
       "  </tbody>\n",
       "</table>\n",
       "</div>"
      ],
      "text/plain": [
       "  rating  jp_sales\n",
       "0      E     28.33\n",
       "3      T     26.02\n",
       "2      M     21.20\n",
       "1   E10+      8.19"
      ]
     },
     "execution_count": 58,
     "metadata": {},
     "output_type": "execute_result"
    }
   ],
   "source": [
    "# <Составим сводную таблицу, где подсчитаем продажи по возрастному рейтингу>\n",
    "jp_esrb = final_df.pivot_table(index = 'rating', values = 'jp_sales', aggfunc = 'sum')\n",
    "jp_esrb.reset_index(inplace = True)\n",
    "jp_esrb.sort_values('jp_sales',ascending=False).head()"
   ]
  },
  {
   "cell_type": "code",
   "execution_count": 59,
   "metadata": {},
   "outputs": [
    {
     "data": {
      "image/png": "[encoded data removed]",
      "text/plain": [
       "<Figure size 1152x432 with 1 Axes>"
      ]
     },
     "metadata": {
      "needs_background": "light"
     },
     "output_type": "display_data"
    }
   ],
   "source": [
    "# <Построим barplot который наглядно покажет влияние рейтинга на продажи>\n",
    "plt.figure(figsize=(16, 6))\n",
    "ax = sns.barplot(x=\"rating\", y=\"jp_sales\", data=jp_esrb)"
   ]
  },
  {
   "cell_type": "markdown",
   "metadata": {},
   "source": [
    "Совершенно отличная ситуация от регионов Северной Америки и Европы. Сама по себе Япония - страна уникальная, но тут также играет фактор того что это отдельная страна, а те пласты что мы рассматривали до этого - огромные регионы. Рейтинг для всех, взрослый и подростковый имеют примерно равные продажи, что говорит о том что на рейтинг в Японии никто внимания не обращает. А также для большинства взрослых японцев поиграть в детскую игру - не зазорно. Малое количество продаж рейтинга E10+ связано с количеством игр с ним."
   ]
  },
  {
   "cell_type": "markdown",
   "metadata": {},
   "source": [
    "### Вывод"
   ]
  },
  {
   "cell_type": "markdown",
   "metadata": {},
   "source": [
    "* Типичный пользователь NA: Играет в шутеры, экшны и спортивные симуляторы. С равной вероятностью имеет Xbox или PS3/PS4. Чаще предпочитает игры со взрослым рейтингом.\n",
    "* Типичный пользователь EU: Играет в шутеры, экшны и спортивные симуляторы. С большей вероятностью имеет PS3/PS4 чем Xbox. Чаще предпочитает игры со взрослым рейтингом.\n",
    "* Типичный пользователь JP: Играет в RPG, экшны и игры неопределенного жанра. Имеет портативную приставку 3DS. Ему не важен возрастной рейтинг."
   ]
  },
  {
   "cell_type": "markdown",
   "metadata": {},
   "source": [
    "### Шаг 5. Проверим гипотезы. <a class=\"anchor\" id=\"5\"></a>"
   ]
  },
  {
   "cell_type": "markdown",
   "metadata": {},
   "source": [
    "Данный шаг все еще выполняется на выборке с 2012 года.\n",
    "\n",
    "Необходимо проверить гипотезы:\n",
    "\n",
    "* Средние пользовательские рейтинги платформ Xbox One и PC одинаковые;\n",
    "* Средние пользовательские рейтинги жанров Action (англ. «действие») и Sports (англ. «виды спорта») разные;\n",
    "\n",
    "Начнем с первой. Сформулируем нулевую и альтернативную гипотезы:\n",
    "\n",
    "**H₀:** Средние пользовательских рейтингов игр на платформах Xbox One и PC равны.\n",
    "\n",
    "**H₁:** Средние пользовательских рейтингов игр на платформах Xbox One и PC не равны."
   ]
  },
  {
   "cell_type": "code",
   "execution_count": 60,
   "metadata": {},
   "outputs": [
    {
     "name": "stdout",
     "output_type": "stream",
     "text": [
      "Средняя пользовательская оценка на платформе Xbox One: 6.521428571428572\n",
      "Средняя пользовательская оценка на платформе PC: 6.4454976303317535\n"
     ]
    }
   ],
   "source": [
    "# <Посчитаем средние пользовательские рейтинги платформ Xbox One и PC>\n",
    "xbox_mean = final_df[final_df['platform'] == 'XOne']['user_score'].mean()\n",
    "pc_mean = final_df[final_df['platform'] == 'PC']['user_score'].mean()\n",
    "print('Средняя пользовательская оценка на платформе Xbox One:', xbox_mean)\n",
    "print('Средняя пользовательская оценка на платформе PC:', pc_mean)"
   ]
  },
  {
   "cell_type": "code",
   "execution_count": 61,
   "metadata": {},
   "outputs": [],
   "source": [
    "# <Создадим переменные для наших выборок с пользовательскими рейтингами платформ Xbox One и PC>\n",
    "xbox_score = final_df[final_df['platform'] == 'XOne']['user_score'].dropna()\n",
    "pc_score = final_df[final_df['platform'] == 'PC']['user_score'].dropna()"
   ]
  },
  {
   "cell_type": "markdown",
   "metadata": {},
   "source": [
    "Для проверки гипотезы применим критерий Стьюдента (проверка гипотезы о равенстве среднего двух генеральных совокупностей по взятым из них выборкам) Подберем уровень значимости (*alpha*) равный 0.05."
   ]
  },
  {
   "cell_type": "code",
   "execution_count": 62,
   "metadata": {},
   "outputs": [
    {
     "name": "stdout",
     "output_type": "stream",
     "text": [
      "p-значение: 0.6252774522173157\n",
      "Не получилось отвергнуть нулевую гипотезу\n"
     ]
    }
   ],
   "source": [
    "# <Уровень значимости>\n",
    "alpha = 0.05\n",
    "\n",
    "# <Метод библиотеки scipy, позволяющий проверить гипотезу о равенстве двух средних>\n",
    "results =  st.ttest_ind(\n",
    "    xbox_score, \n",
    "    pc_score)\n",
    "\n",
    "print('p-значение:', results.pvalue)\n",
    "\n",
    "if (results.pvalue < alpha):\n",
    "    print(\"Отвергаем нулевую гипотезу\")\n",
    "else:\n",
    "    print(\"Не получилось отвергнуть нулевую гипотезу\")"
   ]
  },
  {
   "cell_type": "markdown",
   "metadata": {},
   "source": [
    "Нулевая гипотеза не отвергнута, cредние пользовательских рейтингов игр на платформах Xbox One и PC примерно равны. На этой выборке. Результаты исследования подтверждают наш подсчет средних на выборках выше."
   ]
  },
  {
   "cell_type": "markdown",
   "metadata": {},
   "source": [
    "Проверим гипотезу о том что:\n",
    "* Средние пользовательские рейтинги жанров Action (англ. «действие») и Sports (англ. «виды спорта») разные;\n",
    "\n",
    "Сформулируем нулевую и альтернативную гипотезы:\n",
    "\n",
    "**H₀:** Средние пользовательских рейтинги жанров Action (англ. «действие») и Sports (англ. «виды спорта») равны.\n",
    "\n",
    "**H₁:** Средние пользовательских рейтинги жанров Action (англ. «действие») и Sports (англ. «виды спорта») не равны."
   ]
  },
  {
   "cell_type": "code",
   "execution_count": 63,
   "metadata": {},
   "outputs": [
    {
     "name": "stdout",
     "output_type": "stream",
     "text": [
      "Средняя пользовательская оценка жанра Action: 6.834274952919022\n",
      "Средняя пользовательская оценка жанра Sports: 5.455897435897437\n"
     ]
    }
   ],
   "source": [
    "# <Посчитаем средние пользовательские рейтинги жанров Action (англ. «действие») и Sports (англ. «виды спорта»)>\n",
    "action_mean = final_df[final_df['genre'] == 'Action']['user_score'].mean()\n",
    "sports_mean = final_df[final_df['genre'] == 'Sports']['user_score'].mean()\n",
    "print('Средняя пользовательская оценка жанра Action:', action_mean)\n",
    "print('Средняя пользовательская оценка жанра Sports:', sports_mean)"
   ]
  },
  {
   "cell_type": "code",
   "execution_count": 64,
   "metadata": {},
   "outputs": [],
   "source": [
    "# <Создадим переменные для наших выборок с пользовательскими рейтингами жанров>\n",
    "# <Action (англ. «действие») и Sports (англ. «виды спорта»)>\n",
    "action_score = final_df[final_df['genre'] == 'Action']['user_score'].dropna()\n",
    "sports_score = final_df[final_df['genre'] == 'Sports']['user_score'].dropna()"
   ]
  },
  {
   "cell_type": "markdown",
   "metadata": {},
   "source": [
    "Для проверки гипотезы применим критерий Стьюдента (проверка гипотезы о равенстве среднего двух генеральных совокупностей по взятым из них выборкам) Подберем уровень значимости (*alpha*) равный 0.05."
   ]
  },
  {
   "cell_type": "code",
   "execution_count": 65,
   "metadata": {},
   "outputs": [
    {
     "name": "stdout",
     "output_type": "stream",
     "text": [
      "p-значение: 1.1405639632267916e-26\n",
      "Отвергаем нулевую гипотезу\n"
     ]
    }
   ],
   "source": [
    "# <Уровень значимости>\n",
    "alpha = 0.05\n",
    "\n",
    "# <Метод библиотеки scipy, позволяющий проверить гипотезу о равенстве двух средних>\n",
    "results =  st.ttest_ind(\n",
    "    action_score, \n",
    "    sports_score)\n",
    "\n",
    "print('p-значение:', results.pvalue)\n",
    "\n",
    "if (results.pvalue < alpha):\n",
    "    print(\"Отвергаем нулевую гипотезу\")\n",
    "else:\n",
    "    print(\"Не получилось отвергнуть нулевую гипотезу\")"
   ]
  },
  {
   "cell_type": "markdown",
   "metadata": {},
   "source": [
    "Вероятность того что гипотеза **H₀** верна крайне мала, судя по p - значению. Результаты исследования подтверждают то что мы увидели выше , средние рейтинги отличаются на 1.38 балла, для пользовательской оценки это много. На основе данной выборки мы можем сказать что альтернативная гипотеза верна."
   ]
  },
  {
   "cell_type": "markdown",
   "metadata": {},
   "source": [
    "### Вывод"
   ]
  },
  {
   "cell_type": "markdown",
   "metadata": {},
   "source": [
    "* Как я формулировал нулевую и альтернативную гипотезы? Прежде всего по теории в спринте мне известно что в нулевой гипотезе должно быть знак равенства. А альтернативная гипотеза должна быть альтернативой нулевой гипотезе.\n",
    "* Критерий и метод scipy был выбран исходя из заданий в тренажере в спринта, в нашей работе речь идет о выборках и о равенстве средних в них. Соответственно это проверка гипотезы о равенстве среднего двух генеральных совокупностей по взятым из них выборкам, и метод *.ttest_ind*\n",
    "* p_value полученные нами после теста не дают двояких выводов по этой выборке, обе гипотезы были подтверждены."
   ]
  },
  {
   "cell_type": "markdown",
   "metadata": {},
   "source": [
    "### Шаг 6. Напишите общий вывод. <a class=\"anchor\" id=\"6\"></a>"
   ]
  },
  {
   "cell_type": "markdown",
   "metadata": {},
   "source": [
    "* Судя по играм с самыми большими продажами, закономерность влияющая на успех игры - это правильно выбранная платформа, жанр, долгая и качественная разработка. Если вы продаете на территории NA и EU, нужно сделать выбор в пользу возрастного рейтинга M(18+). На территории JP этот фактор не так важен.\n",
    "* Прогноз на 2017 год: Стоит выпустить для рынков EU и NA экшн рейтинга M на обоих приставках PS4 и Xbox One, предварительно долго его разрабатывая, купить оценки критиков. И большие продажи у вас в кармане!\n",
    "* На этапе подготовки данных был сделан вывод о том что множество показателей нельзя восстановить, так как их некорректная замена приведет к искажению данных.\n",
    "* На этапе исследования уже стали довольно четкими те факторы которые важны для успеха игры.\n",
    "* Построив портреты пользователей из разных регионов, мы сделали вывод о том что портреты пользователей из Европы и Северной Америки неслабо совпадают, и имеет смысл сделать упор на них, а не на сложный и крайне специфичный японский рынок.\n",
    "* Проверив гипотезы, мы убедились что у домашних приставок и PC оценки находятся примерно в одной области, это ожидаемо, так как довольно часто игры выходят на PC, PS4 и Xbox One одновременно. А также убедились в том что спортивные симуляторы, которые штампуются пачками и часто не сильно отличаютcя от предыдущих частей в среднем имеют оценку ниже чем типичный экшен."
   ]
  }
 ],
 "metadata": {
  "kernelspec": {
   "display_name": "Python 3",
   "language": "python",
   "name": "python3"
  },
  "language_info": {
   "codemirror_mode": {
    "name": "ipython",
    "version": 3
   },
   "file_extension": ".py",
   "mimetype": "text/x-python",
   "name": "python",
   "nbconvert_exporter": "python",
   "pygments_lexer": "ipython3",
   "version": "3.7.6"
  }
 },
 "nbformat": 4,
 "nbformat_minor": 2
}
