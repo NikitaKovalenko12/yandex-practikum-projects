{
 "cells": [
  {
   "cell_type": "markdown",
   "metadata": {},
   "source": [
    "# Спрос на авиарейсы во время фестивалей\n",
    "\n",
    "Необходимо изучить базу данных и проанализировать спрос пассажиров на рейсы в города, где проходят крупнейшие культурные фестивали.\n",
    "\n",
    "Имеются следующие таблицы:\n",
    "\n",
    "Таблица airports — информация об аэропортах:\n",
    "\n",
    "* airport_code — трёхбуквенный код аэропорта\n",
    "* airport_name — название аэропорта\n",
    "* city — город\n",
    "* timezone — временная зона\n",
    "\n",
    "Таблица aircrafts — информация о самолётах:\n",
    "\n",
    "* aircraft_code — код модели самолёта\n",
    "* model — модель самолёта\n",
    "* range — дальность полёта\n",
    "\n",
    "Таблица tickets — информация о билетах:\n",
    "\n",
    "* ticket_no — уникальный номер билета\n",
    "* passenger_id — персональный идентификатор пассажира\n",
    "* passenger_name — имя и фамилия пассажира\n",
    "\n",
    "Таблица flights — информация о рейсах:\n",
    "\n",
    "* flight_id — уникальный идентификатор рейса\n",
    "* departure_airport — аэропорт вылета\n",
    "* departure_time — дата и время вылета\n",
    "* arrival_airport — аэропорт прилёта\n",
    "* arrival_time — дата и время прилёта\n",
    "* aircraft_code — id самолёта\n",
    "\n",
    "Таблица ticket_flights — стыковая таблица «рейсы-билеты»\n",
    "\n",
    "* ticket_no — номер билета\n",
    "* flight_id — идентификатор рейса\n",
    "\n",
    "Таблица festivals — информация о фестивалях\n",
    "\n",
    "* festival_id — уникальный номер фестиваля\n",
    "* festival_date — дата проведения фестиваля\n",
    "* festival_city — город проведения фестиваля\n",
    "* festival_name — название фестиваля"
   ]
  },
  {
   "cell_type": "markdown",
   "metadata": {},
   "source": [
    "У нас есть файлы, в которых содержатся результаты запросов:\n",
    "\n",
    "**query_1.csv** — результат первого запроса:\n",
    "\n",
    "```SQL\n",
    "SELECT \n",
    "    aircrafts.model, \n",
    "    COUNT(flights.flight_id) AS flights_amount \n",
    "FROM \n",
    "    aircrafts \n",
    "RIGHT JOIN \n",
    "    flights ON aircrafts.aircraft_code=flights.aircraft_code \n",
    "WHERE\n",
    "    EXTRACT(MONTH FROM flights.departure_time ) = '09' AND EXTRACT(YEAR FROM flights.departure_time ) = '2018' \n",
    "GROUP BY \n",
    "    aircrafts.model\n",
    "```\n",
    "\n",
    "В нём содержится такая информация:\n",
    "\n",
    "- *model* — модель самолета;\n",
    "- *flights_amount* — количество рейсов для каждой модели самолетов *model* в сентябре 2018 года.\n",
    "\n",
    "**query_3.csv** — результат третьего запроcа:\n",
    "\n",
    "```SQL\n",
    "SELECT\n",
    "    city, \n",
    "    AVG(cnt_flights) AS average_flights \n",
    "FROM \n",
    "(\n",
    "    SELECT \n",
    "        city, \n",
    "        COUNT(flights.flight_id) AS cnt_flights \n",
    "    FROM\n",
    "        flights \n",
    "    INNER JOIN airports ON flights.arrival_airport = airports.airport_code \n",
    "    WHERE\n",
    "        EXTRACT(MONTH FROM flights.arrival_time  ) = '08' AND EXTRACT(YEAR FROM flights.arrival_time) = '2018'\n",
    "    GROUP BY\n",
    "        city, \n",
    "        arrival_time::date\n",
    ") AS sub_flight\n",
    "GROUP BY \n",
    "    city\n",
    "```\n",
    "\n",
    "В нём содержится такая информация:\n",
    "\n",
    "- *city* — город;\n",
    "- *average_flights* — среднее количество рейсов, прибывающих в город (*city*) за день в сентябре 2018 года.\n",
    "\n",
    "**query_last.csv** — результат последнего запроса:\n",
    "\n",
    "```SQL\n",
    "SELECT \n",
    "\tT.week_number,\n",
    "\tT.ticket_amount,\n",
    "\tT.festival_week,\n",
    "\tT.festival_name\n",
    "FROM \n",
    "(\n",
    "(\n",
    "    SELECT\n",
    "        EXTRACT (week FROM flights.departure_time) AS week_number,\n",
    "        COUNT(ticket_flights.ticket_no)  AS ticket_amount\n",
    "    FROM \n",
    "        flights \n",
    "    LEFT JOIN\n",
    "        ticket_flights ON ticket_flights.flight_id = flights.flight_id \n",
    "    LEFT JOIN\n",
    "        airports ON flights.arrival_airport = airports.airport_code\n",
    "    WHERE\n",
    "        airports.city = 'Москва'\n",
    "        AND\n",
    "        CAST(flights.arrival_time AS DATE) BETWEEN '2018-07-23' AND '2018-09-30'\n",
    "    GROUP BY \n",
    "        week_number\n",
    ") t\n",
    "LEFT JOIN \n",
    "(\n",
    "    SELECT \t\t\n",
    "\t\tfestival_name,\t\n",
    "\t\tEXTRACT(WEEK FROM festivals.festival_date) AS festival_week\n",
    "\tFROM \n",
    "\t\tfestivals\n",
    "\tWHERE\n",
    "\t\tfestival_city = 'Москва'\n",
    "\t    AND\n",
    "        CAST(festivals.festival_date AS date) BETWEEN '2018-07-23' AND '2018-09-30'\n",
    ") t2 \n",
    "ON t.week_number = t2.festival_week\n",
    ") AS T;\n",
    "```\n",
    "\n",
    "В нём следующая информация:\n",
    "\n",
    "- *week_number* — номер недели;\n",
    "- *ticket_amount* — количество проданных билетов за неделю;\n",
    "- *festival_week —* есть ли на этой неделе фестиваль;\n",
    "- *festival_name —* название фестиваля."
   ]
  },
  {
   "cell_type": "markdown",
   "metadata": {},
   "source": [
    "## Оглавление:\n",
    "* [1. Аналитика](#1)\n",
    "* [2. Проверка гипотезы](#2)\n",
    "* [3. Общий вывод](#3)"
   ]
  },
  {
   "cell_type": "markdown",
   "metadata": {},
   "source": [
    "# 1. Аналитика <a class=\"anchor\" id=\"1\"></a>"
   ]
  },
  {
   "cell_type": "markdown",
   "metadata": {},
   "source": [
    "Импортируем бибилиотеки:"
   ]
  },
  {
   "cell_type": "code",
   "execution_count": 1,
   "metadata": {},
   "outputs": [],
   "source": [
    "# <импорт библиотеки pandas>\n",
    "import pandas as pd\n",
    "\n",
    "# <импорт библиотеки matplotlib для построения графиков>\n",
    "import matplotlib.pyplot as plt\n",
    "\n",
    "# <импорт библиотеки seaborn для построения графиков>\n",
    "import seaborn as sns\n",
    "\n",
    "# <импорт библиотеки scipy>\n",
    "from scipy import stats as st\n",
    "\n",
    "# <код, благодаря которому графики отображаются с первого раза>\n",
    "%matplotlib inline\n",
    "\n",
    "# <код, благодаря которму датафреймы по ширине будут отображаться полностью>\n",
    "pd.set_option('display.max_columns', None)"
   ]
  },
  {
   "cell_type": "markdown",
   "metadata": {},
   "source": [
    "Прочитаем файлы, датафреймы сохраним в переменные:"
   ]
  },
  {
   "cell_type": "code",
   "execution_count": 2,
   "metadata": {},
   "outputs": [],
   "source": [
    "# <Читаем файл из csv и сохраняем в переменную>\n",
    "model_flights = pd.read_csv('/datasets/query_1.csv')\n",
    "\n",
    "# <Читаем файл из csv и сохраняем в переменную>\n",
    "city_flights = pd.read_csv('/datasets/query_3.csv')"
   ]
  },
  {
   "cell_type": "markdown",
   "metadata": {},
   "source": [
    "Рассмотрим информацию о датафрейме model_flights и все 8 его строк:"
   ]
  },
  {
   "cell_type": "code",
   "execution_count": 3,
   "metadata": {},
   "outputs": [
    {
     "name": "stdout",
     "output_type": "stream",
     "text": [
      "<class 'pandas.core.frame.DataFrame'>\n",
      "RangeIndex: 8 entries, 0 to 7\n",
      "Data columns (total 2 columns):\n",
      "model             8 non-null object\n",
      "flights_amount    8 non-null int64\n",
      "dtypes: int64(1), object(1)\n",
      "memory usage: 256.0+ bytes\n",
      "None\n"
     ]
    },
    {
     "data": {
      "text/html": [
       "<div>\n",
       "<style scoped>\n",
       "    .dataframe tbody tr th:only-of-type {\n",
       "        vertical-align: middle;\n",
       "    }\n",
       "\n",
       "    .dataframe tbody tr th {\n",
       "        vertical-align: top;\n",
       "    }\n",
       "\n",
       "    .dataframe thead th {\n",
       "        text-align: right;\n",
       "    }\n",
       "</style>\n",
       "<table border=\"1\" class=\"dataframe\">\n",
       "  <thead>\n",
       "    <tr style=\"text-align: right;\">\n",
       "      <th></th>\n",
       "      <th>model</th>\n",
       "      <th>flights_amount</th>\n",
       "    </tr>\n",
       "  </thead>\n",
       "  <tbody>\n",
       "    <tr>\n",
       "      <td>0</td>\n",
       "      <td>Airbus A319-100</td>\n",
       "      <td>607</td>\n",
       "    </tr>\n",
       "    <tr>\n",
       "      <td>1</td>\n",
       "      <td>Airbus A321-200</td>\n",
       "      <td>960</td>\n",
       "    </tr>\n",
       "    <tr>\n",
       "      <td>2</td>\n",
       "      <td>Boeing 737-300</td>\n",
       "      <td>630</td>\n",
       "    </tr>\n",
       "    <tr>\n",
       "      <td>3</td>\n",
       "      <td>Boeing 767-300</td>\n",
       "      <td>600</td>\n",
       "    </tr>\n",
       "    <tr>\n",
       "      <td>4</td>\n",
       "      <td>Boeing 777-300</td>\n",
       "      <td>300</td>\n",
       "    </tr>\n",
       "    <tr>\n",
       "      <td>5</td>\n",
       "      <td>Bombardier CRJ-200</td>\n",
       "      <td>4446</td>\n",
       "    </tr>\n",
       "    <tr>\n",
       "      <td>6</td>\n",
       "      <td>Cessna 208 Caravan</td>\n",
       "      <td>4557</td>\n",
       "    </tr>\n",
       "    <tr>\n",
       "      <td>7</td>\n",
       "      <td>Sukhoi SuperJet-100</td>\n",
       "      <td>4185</td>\n",
       "    </tr>\n",
       "  </tbody>\n",
       "</table>\n",
       "</div>"
      ],
      "text/plain": [
       "                 model  flights_amount\n",
       "0      Airbus A319-100             607\n",
       "1      Airbus A321-200             960\n",
       "2       Boeing 737-300             630\n",
       "3       Boeing 767-300             600\n",
       "4       Boeing 777-300             300\n",
       "5   Bombardier CRJ-200            4446\n",
       "6   Cessna 208 Caravan            4557\n",
       "7  Sukhoi SuperJet-100            4185"
      ]
     },
     "execution_count": 3,
     "metadata": {},
     "output_type": "execute_result"
    }
   ],
   "source": [
    "# <рассмотрим таблицу model_flights>\n",
    "print(model_flights.info())\n",
    "model_flights.head(8)"
   ]
  },
  {
   "cell_type": "markdown",
   "metadata": {},
   "source": [
    "Тип данных корректен, но мы можем сменить его на более легкий по весу."
   ]
  },
  {
   "cell_type": "code",
   "execution_count": 4,
   "metadata": {},
   "outputs": [],
   "source": [
    "model_flights['flights_amount'] = model_flights['flights_amount'].astype('Int32')"
   ]
  },
  {
   "cell_type": "markdown",
   "metadata": {},
   "source": [
    "Рассмотрим информацию о датафрейме city_flights и первые 5 его строк:"
   ]
  },
  {
   "cell_type": "code",
   "execution_count": 5,
   "metadata": {},
   "outputs": [
    {
     "name": "stdout",
     "output_type": "stream",
     "text": [
      "<class 'pandas.core.frame.DataFrame'>\n",
      "RangeIndex: 101 entries, 0 to 100\n",
      "Data columns (total 2 columns):\n",
      "city               101 non-null object\n",
      "average_flights    101 non-null float64\n",
      "dtypes: float64(1), object(1)\n",
      "memory usage: 1.7+ KB\n",
      "None\n"
     ]
    },
    {
     "data": {
      "text/html": [
       "<div>\n",
       "<style scoped>\n",
       "    .dataframe tbody tr th:only-of-type {\n",
       "        vertical-align: middle;\n",
       "    }\n",
       "\n",
       "    .dataframe tbody tr th {\n",
       "        vertical-align: top;\n",
       "    }\n",
       "\n",
       "    .dataframe thead th {\n",
       "        text-align: right;\n",
       "    }\n",
       "</style>\n",
       "<table border=\"1\" class=\"dataframe\">\n",
       "  <thead>\n",
       "    <tr style=\"text-align: right;\">\n",
       "      <th></th>\n",
       "      <th>city</th>\n",
       "      <th>average_flights</th>\n",
       "    </tr>\n",
       "  </thead>\n",
       "  <tbody>\n",
       "    <tr>\n",
       "      <td>0</td>\n",
       "      <td>Абакан</td>\n",
       "      <td>3.870968</td>\n",
       "    </tr>\n",
       "    <tr>\n",
       "      <td>1</td>\n",
       "      <td>Анадырь</td>\n",
       "      <td>1.000000</td>\n",
       "    </tr>\n",
       "    <tr>\n",
       "      <td>2</td>\n",
       "      <td>Анапа</td>\n",
       "      <td>2.161290</td>\n",
       "    </tr>\n",
       "    <tr>\n",
       "      <td>3</td>\n",
       "      <td>Архангельск</td>\n",
       "      <td>5.354839</td>\n",
       "    </tr>\n",
       "    <tr>\n",
       "      <td>4</td>\n",
       "      <td>Астрахань</td>\n",
       "      <td>2.451613</td>\n",
       "    </tr>\n",
       "  </tbody>\n",
       "</table>\n",
       "</div>"
      ],
      "text/plain": [
       "          city  average_flights\n",
       "0       Абакан         3.870968\n",
       "1      Анадырь         1.000000\n",
       "2        Анапа         2.161290\n",
       "3  Архангельск         5.354839\n",
       "4    Астрахань         2.451613"
      ]
     },
     "execution_count": 5,
     "metadata": {},
     "output_type": "execute_result"
    }
   ],
   "source": [
    "# <рассмотрим таблицу city_flights>\n",
    "print(city_flights.info())\n",
    "city_flights.head(5)"
   ]
  },
  {
   "cell_type": "markdown",
   "metadata": {},
   "source": [
    "Тип данных корректен, но мы можем сменить его на более легкий по весу."
   ]
  },
  {
   "cell_type": "code",
   "execution_count": 6,
   "metadata": {},
   "outputs": [],
   "source": [
    "city_flights['average_flights'] = city_flights['average_flights'].astype('float32')"
   ]
  },
  {
   "cell_type": "markdown",
   "metadata": {},
   "source": [
    "Выведем топ-10 городов по кол-ву рейсов:"
   ]
  },
  {
   "cell_type": "code",
   "execution_count": 7,
   "metadata": {},
   "outputs": [
    {
     "data": {
      "text/html": [
       "<div>\n",
       "<style scoped>\n",
       "    .dataframe tbody tr th:only-of-type {\n",
       "        vertical-align: middle;\n",
       "    }\n",
       "\n",
       "    .dataframe tbody tr th {\n",
       "        vertical-align: top;\n",
       "    }\n",
       "\n",
       "    .dataframe thead th {\n",
       "        text-align: right;\n",
       "    }\n",
       "</style>\n",
       "<table border=\"1\" class=\"dataframe\">\n",
       "  <thead>\n",
       "    <tr style=\"text-align: right;\">\n",
       "      <th></th>\n",
       "      <th>city</th>\n",
       "      <th>average_flights</th>\n",
       "    </tr>\n",
       "  </thead>\n",
       "  <tbody>\n",
       "    <tr>\n",
       "      <td>43</td>\n",
       "      <td>Москва</td>\n",
       "      <td>129.774200</td>\n",
       "    </tr>\n",
       "    <tr>\n",
       "      <td>70</td>\n",
       "      <td>Санкт-Петербург</td>\n",
       "      <td>31.161291</td>\n",
       "    </tr>\n",
       "    <tr>\n",
       "      <td>54</td>\n",
       "      <td>Новосибирск</td>\n",
       "      <td>17.322580</td>\n",
       "    </tr>\n",
       "    <tr>\n",
       "      <td>33</td>\n",
       "      <td>Красноярск</td>\n",
       "      <td>11.580646</td>\n",
       "    </tr>\n",
       "    <tr>\n",
       "      <td>20</td>\n",
       "      <td>Екатеринбург</td>\n",
       "      <td>11.322580</td>\n",
       "    </tr>\n",
       "    <tr>\n",
       "      <td>67</td>\n",
       "      <td>Ростов-на-Дону</td>\n",
       "      <td>10.193548</td>\n",
       "    </tr>\n",
       "    <tr>\n",
       "      <td>63</td>\n",
       "      <td>Пермь</td>\n",
       "      <td>10.129032</td>\n",
       "    </tr>\n",
       "    <tr>\n",
       "      <td>10</td>\n",
       "      <td>Брянск</td>\n",
       "      <td>10.000000</td>\n",
       "    </tr>\n",
       "    <tr>\n",
       "      <td>74</td>\n",
       "      <td>Сочи</td>\n",
       "      <td>9.612904</td>\n",
       "    </tr>\n",
       "    <tr>\n",
       "      <td>84</td>\n",
       "      <td>Ульяновск</td>\n",
       "      <td>9.580646</td>\n",
       "    </tr>\n",
       "  </tbody>\n",
       "</table>\n",
       "</div>"
      ],
      "text/plain": [
       "               city  average_flights\n",
       "43           Москва       129.774200\n",
       "70  Санкт-Петербург        31.161291\n",
       "54      Новосибирск        17.322580\n",
       "33       Красноярск        11.580646\n",
       "20     Екатеринбург        11.322580\n",
       "67   Ростов-на-Дону        10.193548\n",
       "63            Пермь        10.129032\n",
       "10           Брянск        10.000000\n",
       "74             Сочи         9.612904\n",
       "84        Ульяновск         9.580646"
      ]
     },
     "execution_count": 7,
     "metadata": {},
     "output_type": "execute_result"
    }
   ],
   "source": [
    "max_flights_cities = city_flights.sort_values(by='average_flights', ascending=False).head(10)\n",
    "max_flights_cities"
   ]
  },
  {
   "cell_type": "markdown",
   "metadata": {},
   "source": [
    "Построим график, где будут изображены модели самолётов и количество рейсов на них."
   ]
  },
  {
   "cell_type": "code",
   "execution_count": 8,
   "metadata": {},
   "outputs": [
    {
     "data": {
      "image/png": "[encoded data removed]",
      "text/plain": [
       "<Figure size 1152x432 with 1 Axes>"
      ]
     },
     "metadata": {
      "needs_background": "light"
     },
     "output_type": "display_data"
    }
   ],
   "source": [
    "plt.figure(figsize=(16, 6))\n",
    "sns.set(style=\"whitegrid\")\n",
    "ax = sns.barplot(x=\"model\", y=\"flights_amount\", data=model_flights).set_title('Модели самолетов и кол-во рейсов на них.')"
   ]
  },
  {
   "cell_type": "markdown",
   "metadata": {},
   "source": [
    "Количество рейсов на *Bombardier CRJ-200*, *Cessna 208 Caravan*, *Sukhoi SuperJet-100* по отдельности больше суммы рейсов на всех самолетах компании *Airbus* или *Boeing*. Все самолеты кроме *Sukhoi* были разработаны в 80-90 годах, но этот фактор не выглядит сильно влияющим на кол-во рейсов. Более четкие выводы можно получить, только изучив предметную область российских авиаперевозок."
   ]
  },
  {
   "cell_type": "markdown",
   "metadata": {},
   "source": [
    "Построим график, где будут изображены города и количество рейсов."
   ]
  },
  {
   "cell_type": "code",
   "execution_count": 9,
   "metadata": {
    "scrolled": false
   },
   "outputs": [
    {
     "data": {
      "image/png": "[encoded data removed]",
      "text/plain": [
       "<Figure size 1152x1440 with 1 Axes>"
      ]
     },
     "metadata": {},
     "output_type": "display_data"
    }
   ],
   "source": [
    "plt.figure(figsize=(16, 20))\n",
    "sns.set(style=\"whitegrid\")\n",
    "ax = sns.barplot(x=\"average_flights\", y=\"city\", data=city_flights).set_title('Города и кол-во прибывающих рейсов.')"
   ]
  },
  {
   "cell_type": "markdown",
   "metadata": {},
   "source": [
    "Больше всех выделяется столица, в крупных городах сравнительно одинаковое количество рейсов, в менее крупных в 2-3 раза меньше."
   ]
  },
  {
   "cell_type": "markdown",
   "metadata": {},
   "source": [
    "Построим график, где будут изображены топ-10 городов и количество рейсов."
   ]
  },
  {
   "cell_type": "code",
   "execution_count": 10,
   "metadata": {},
   "outputs": [
    {
     "data": {
      "image/png": "[encoded data removed]",
      "text/plain": [
       "<Figure size 1152x432 with 1 Axes>"
      ]
     },
     "metadata": {},
     "output_type": "display_data"
    }
   ],
   "source": [
    "plt.figure(figsize=(16, 6))\n",
    "sns.set(style=\"whitegrid\")\n",
    "ax = sns.barplot(x=\"city\", y=\"average_flights\", data=max_flights_cities).set_title('Топ-10 городов и кол-во прибывающих рейсов.')"
   ]
  },
  {
   "cell_type": "markdown",
   "metadata": {},
   "source": [
    "Москва опережает большинство городов в 7-12 раз. В крупных городах сравнительно одинаковое кол-во рейсов. Петербург как северная столица и важный деловой город стоит особняком - в нем количество рейсов в 2 раза больше чем в крупных городах, но все равно в разы меньше чем в Москве."
   ]
  },
  {
   "cell_type": "markdown",
   "metadata": {},
   "source": [
    "### Вывод"
   ]
  },
  {
   "cell_type": "markdown",
   "metadata": {},
   "source": [
    "Мы осмотрели данные и проанализировали их. Время проверять гипотезу."
   ]
  },
  {
   "cell_type": "markdown",
   "metadata": {},
   "source": [
    "# 2. Проверка гипотезы <a class=\"anchor\" id=\"2\"></a>"
   ]
  },
  {
   "cell_type": "markdown",
   "metadata": {},
   "source": [
    "Прочитаем файл, датафрейм сохраним в переменные:"
   ]
  },
  {
   "cell_type": "code",
   "execution_count": 11,
   "metadata": {},
   "outputs": [],
   "source": [
    "# <Читаем файл из csv и сохраняем в переменную>\n",
    "week_ticket = pd.read_csv('/datasets/query_last.csv')"
   ]
  },
  {
   "cell_type": "markdown",
   "metadata": {},
   "source": [
    "Рассмотрим информацию о датафрейме и все его 10 строк:"
   ]
  },
  {
   "cell_type": "code",
   "execution_count": 12,
   "metadata": {},
   "outputs": [
    {
     "name": "stdout",
     "output_type": "stream",
     "text": [
      "<class 'pandas.core.frame.DataFrame'>\n",
      "RangeIndex: 10 entries, 0 to 9\n",
      "Data columns (total 4 columns):\n",
      "week_number      10 non-null int64\n",
      "ticket_amount    10 non-null int64\n",
      "festival_week    3 non-null float64\n",
      "festival_name    3 non-null object\n",
      "dtypes: float64(1), int64(2), object(1)\n",
      "memory usage: 448.0+ bytes\n",
      "None\n"
     ]
    },
    {
     "data": {
      "text/html": [
       "<div>\n",
       "<style scoped>\n",
       "    .dataframe tbody tr th:only-of-type {\n",
       "        vertical-align: middle;\n",
       "    }\n",
       "\n",
       "    .dataframe tbody tr th {\n",
       "        vertical-align: top;\n",
       "    }\n",
       "\n",
       "    .dataframe thead th {\n",
       "        text-align: right;\n",
       "    }\n",
       "</style>\n",
       "<table border=\"1\" class=\"dataframe\">\n",
       "  <thead>\n",
       "    <tr style=\"text-align: right;\">\n",
       "      <th></th>\n",
       "      <th>week_number</th>\n",
       "      <th>ticket_amount</th>\n",
       "      <th>festival_week</th>\n",
       "      <th>festival_name</th>\n",
       "    </tr>\n",
       "  </thead>\n",
       "  <tbody>\n",
       "    <tr>\n",
       "      <td>0</td>\n",
       "      <td>30</td>\n",
       "      <td>43568</td>\n",
       "      <td>30.0</td>\n",
       "      <td>Park Live</td>\n",
       "    </tr>\n",
       "    <tr>\n",
       "      <td>1</td>\n",
       "      <td>31</td>\n",
       "      <td>51034</td>\n",
       "      <td>31.0</td>\n",
       "      <td>Пикник Афиши</td>\n",
       "    </tr>\n",
       "    <tr>\n",
       "      <td>2</td>\n",
       "      <td>32</td>\n",
       "      <td>51675</td>\n",
       "      <td>NaN</td>\n",
       "      <td>NaN</td>\n",
       "    </tr>\n",
       "    <tr>\n",
       "      <td>3</td>\n",
       "      <td>33</td>\n",
       "      <td>51378</td>\n",
       "      <td>NaN</td>\n",
       "      <td>NaN</td>\n",
       "    </tr>\n",
       "    <tr>\n",
       "      <td>4</td>\n",
       "      <td>34</td>\n",
       "      <td>51492</td>\n",
       "      <td>NaN</td>\n",
       "      <td>NaN</td>\n",
       "    </tr>\n",
       "    <tr>\n",
       "      <td>5</td>\n",
       "      <td>35</td>\n",
       "      <td>51360</td>\n",
       "      <td>NaN</td>\n",
       "      <td>NaN</td>\n",
       "    </tr>\n",
       "    <tr>\n",
       "      <td>6</td>\n",
       "      <td>36</td>\n",
       "      <td>51386</td>\n",
       "      <td>36.0</td>\n",
       "      <td>Видфест</td>\n",
       "    </tr>\n",
       "    <tr>\n",
       "      <td>7</td>\n",
       "      <td>37</td>\n",
       "      <td>51670</td>\n",
       "      <td>NaN</td>\n",
       "      <td>NaN</td>\n",
       "    </tr>\n",
       "    <tr>\n",
       "      <td>8</td>\n",
       "      <td>38</td>\n",
       "      <td>51518</td>\n",
       "      <td>NaN</td>\n",
       "      <td>NaN</td>\n",
       "    </tr>\n",
       "    <tr>\n",
       "      <td>9</td>\n",
       "      <td>39</td>\n",
       "      <td>51623</td>\n",
       "      <td>NaN</td>\n",
       "      <td>NaN</td>\n",
       "    </tr>\n",
       "  </tbody>\n",
       "</table>\n",
       "</div>"
      ],
      "text/plain": [
       "   week_number  ticket_amount  festival_week festival_name\n",
       "0           30          43568           30.0     Park Live\n",
       "1           31          51034           31.0  Пикник Афиши\n",
       "2           32          51675            NaN           NaN\n",
       "3           33          51378            NaN           NaN\n",
       "4           34          51492            NaN           NaN\n",
       "5           35          51360            NaN           NaN\n",
       "6           36          51386           36.0       Видфест\n",
       "7           37          51670            NaN           NaN\n",
       "8           38          51518            NaN           NaN\n",
       "9           39          51623            NaN           NaN"
      ]
     },
     "execution_count": 12,
     "metadata": {},
     "output_type": "execute_result"
    }
   ],
   "source": [
    "# <рассмотрим таблицу week_ticket>\n",
    "print(week_ticket.info())\n",
    "week_ticket"
   ]
  },
  {
   "cell_type": "markdown",
   "metadata": {},
   "source": [
    "Создадим *Series* с количеством билетов во время фестивалей, и в обычное время."
   ]
  },
  {
   "cell_type": "code",
   "execution_count": 13,
   "metadata": {},
   "outputs": [],
   "source": [
    "week_ticket_festival = week_ticket.query('festival_name.notnull()', engine='python')['ticket_amount']"
   ]
  },
  {
   "cell_type": "code",
   "execution_count": 14,
   "metadata": {},
   "outputs": [],
   "source": [
    "week_ticket_nofestival = week_ticket.query('festival_name.isnull()', engine='python')['ticket_amount']"
   ]
  },
  {
   "cell_type": "markdown",
   "metadata": {},
   "source": [
    "Проверим гипотезу: «Средний спрос на билеты во время фестивалей не отличается от среднего спроса на билеты в обычное время». \n",
    "\n",
    "Сформулируем нулевую и альтернативную гипотезы:\n",
    "\n",
    "**H₀:** Средний спрос на билеты во время фестивалей не отличается от среднего спроса на билеты в обычное время\n",
    "\n",
    "**H₁:** Средний спрос на билеты во время фестивалей отличается от среднего спроса на билеты в обычное время"
   ]
  },
  {
   "cell_type": "markdown",
   "metadata": {},
   "source": [
    "Попробуем критерий Манна-Уитни:"
   ]
  },
  {
   "cell_type": "code",
   "execution_count": 15,
   "metadata": {},
   "outputs": [
    {
     "name": "stdout",
     "output_type": "stream",
     "text": [
      "p-значение: 0.06824748837800128\n",
      "Не получилось отвергнуть нулевую гипотезу\n"
     ]
    }
   ],
   "source": [
    "# <Уровень значимости>\n",
    "alpha = 0.05\n",
    "\n",
    "# <Метод библиотеки scipy, позволяющий проверить гипотезу о равенстве двух средних>\n",
    "results =  st.mannwhitneyu(\n",
    "    week_ticket_festival, \n",
    "    week_ticket_nofestival,alternative='two-sided')\n",
    "\n",
    "print('p-значение:', results.pvalue)\n",
    "\n",
    "if (results.pvalue < alpha):\n",
    "    print(\"Отвергаем нулевую гипотезу\")\n",
    "else:\n",
    "    print(\"Не получилось отвергнуть нулевую гипотезу\")"
   ]
  },
  {
   "cell_type": "markdown",
   "metadata": {},
   "source": [
    "В документации к методу сказано что *None* в аргументе *alternative* нужен для обратной совместимости и не рекомендуется. *Greater* и *Less* не подходят, тест двухсторонний, так как нам не важно больше среднее или меньше. Потому *two-sided*."
   ]
  },
  {
   "cell_type": "markdown",
   "metadata": {},
   "source": [
    "Нулевая гипотеза не отвергается. В самом деле кол-во билетов во время фестивалей, и в обычное время не сильно отличается"
   ]
  },
  {
   "cell_type": "code",
   "execution_count": 16,
   "metadata": {},
   "outputs": [
    {
     "name": "stdout",
     "output_type": "stream",
     "text": [
      "48662.666666666664\n",
      "51530.857142857145\n"
     ]
    }
   ],
   "source": [
    "print(week_ticket_festival.mean())\n",
    "print(week_ticket_nofestival.mean())"
   ]
  },
  {
   "cell_type": "markdown",
   "metadata": {},
   "source": [
    "Попробуем критерий Стьюдента:"
   ]
  },
  {
   "cell_type": "code",
   "execution_count": 17,
   "metadata": {},
   "outputs": [
    {
     "name": "stdout",
     "output_type": "stream",
     "text": [
      "p-значение: 0.09688869045922928\n",
      "Не получилось отвергнуть нулевую гипотезу\n"
     ]
    }
   ],
   "source": [
    "# <Уровень значимости>\n",
    "alpha = 0.05\n",
    "\n",
    "# <Метод библиотеки scipy, позволяющий проверить гипотезу о равенстве двух средних>\n",
    "results =  st.ttest_ind(\n",
    "    week_ticket_festival, \n",
    "    week_ticket_nofestival)\n",
    "\n",
    "print('p-значение:', results.pvalue)\n",
    "\n",
    "if (results.pvalue < alpha):\n",
    "    print(\"Отвергаем нулевую гипотезу\")\n",
    "else:\n",
    "    print(\"Не получилось отвергнуть нулевую гипотезу\")"
   ]
  },
  {
   "cell_type": "markdown",
   "metadata": {},
   "source": [
    "Нулевая гипотеза не отвергается. В самом деле кол-во билетов во время фестивалей, и в обычное время не сильно отличается"
   ]
  },
  {
   "cell_type": "markdown",
   "metadata": {},
   "source": [
    "- Как вы формулировали нулевую и альтернативную гипотезы;"
   ]
  },
  {
   "cell_type": "markdown",
   "metadata": {},
   "source": [
    "Нулевая гипотеза - мы предполагаем что средние равны, альтернативная - что нет."
   ]
  },
  {
   "cell_type": "markdown",
   "metadata": {},
   "source": [
    "- Какой критерий использовали для проверки гипотез и почему."
   ]
  },
  {
   "cell_type": "markdown",
   "metadata": {},
   "source": [
    "Я использовал *U-критерий Манна — Уитни* и *t-критерий Стьюдента*, первый подходит для малых выборок, но у нас их еще меньше чем нужно для этого теста. Второй использовал так как это критерий для проверки равенства средних для двух независимых выборок."
   ]
  },
  {
   "cell_type": "markdown",
   "metadata": {},
   "source": [
    "### Вывод"
   ]
  },
  {
   "cell_type": "markdown",
   "metadata": {},
   "source": [
    "Мы удостоверились с помощью критерия Манна-Уитни что средние не сильно отличаются. Но стоит заметить - наши выборки слишком малы. Но проверять на таком количестве данных гипотезы можно. Цитата из Википедии про критерий Манна-Уитни: \"В каждой из выборок должно быть не менее 3 значений признака.\". Нам это подходит."
   ]
  },
  {
   "cell_type": "markdown",
   "metadata": {},
   "source": [
    "# 3. Общий вывод <a class=\"anchor\" id=\"3\"></a>"
   ]
  },
  {
   "cell_type": "markdown",
   "metadata": {},
   "source": [
    "Мы подтянули SQL-запросы, построение графиков и проверку гипотез, это отличная тренировка, которая позволяет не забывать полученные в курсе навыки."
   ]
  }
 ],
 "metadata": {
  "kernelspec": {
   "display_name": "Python 3",
   "language": "python",
   "name": "python3"
  },
  "language_info": {
   "codemirror_mode": {
    "name": "ipython",
    "version": 3
   },
   "file_extension": ".py",
   "mimetype": "text/x-python",
   "name": "python",
   "nbconvert_exporter": "python",
   "pygments_lexer": "ipython3",
   "version": "3.7.6"
  }
 },
 "nbformat": 4,
 "nbformat_minor": 2
}
