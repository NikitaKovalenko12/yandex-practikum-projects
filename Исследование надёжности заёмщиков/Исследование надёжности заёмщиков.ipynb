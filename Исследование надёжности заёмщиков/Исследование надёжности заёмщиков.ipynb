{
 "cells": [
  {
   "cell_type": "markdown",
   "metadata": {},
   "source": [
    "## Исследование надёжности заёмщиков\n",
    "\n",
    "Нужно выяснить, влияет ли семейное положение и количество детей клиента на факт погашения кредита в срок. Входные данные от банка — статистика о платёжеспособности клиентов."
   ]
  },
  {
   "cell_type": "markdown",
   "metadata": {},
   "source": [
    "### Шаг 1. Откройте файл с данными и изучите общую информацию. "
   ]
  },
  {
   "cell_type": "markdown",
   "metadata": {},
   "source": [
    "Импортируем библиотеку *pandas*, прочитаем файл *data.csv* и сохраним его в переменной *data*."
   ]
  },
  {
   "cell_type": "code",
   "execution_count": 2,
   "metadata": {
    "scrolled": true
   },
   "outputs": [],
   "source": [
    "# <импорт библиотеки pandas>\n",
    "import pandas as pd\n",
    "\n",
    "# <чтение файла с данными с сохранением в data>\n",
    "data = pd.read_csv('/datasets/data.csv')"
   ]
  },
  {
   "cell_type": "markdown",
   "metadata": {},
   "source": [
    "Получение первых 10 строк таблицы."
   ]
  },
  {
   "cell_type": "code",
   "execution_count": 4,
   "metadata": {},
   "outputs": [
    {
     "data": {
      "text/html": [
       "<div>\n",
       "<style scoped>\n",
       "    .dataframe tbody tr th:only-of-type {\n",
       "        vertical-align: middle;\n",
       "    }\n",
       "\n",
       "    .dataframe tbody tr th {\n",
       "        vertical-align: top;\n",
       "    }\n",
       "\n",
       "    .dataframe thead th {\n",
       "        text-align: right;\n",
       "    }\n",
       "</style>\n",
       "<table border=\"1\" class=\"dataframe\">\n",
       "  <thead>\n",
       "    <tr style=\"text-align: right;\">\n",
       "      <th></th>\n",
       "      <th>children</th>\n",
       "      <th>days_employed</th>\n",
       "      <th>dob_years</th>\n",
       "      <th>education</th>\n",
       "      <th>education_id</th>\n",
       "      <th>family_status</th>\n",
       "      <th>family_status_id</th>\n",
       "      <th>gender</th>\n",
       "      <th>income_type</th>\n",
       "      <th>debt</th>\n",
       "      <th>total_income</th>\n",
       "      <th>purpose</th>\n",
       "    </tr>\n",
       "  </thead>\n",
       "  <tbody>\n",
       "    <tr>\n",
       "      <td>0</td>\n",
       "      <td>1</td>\n",
       "      <td>-8437.673028</td>\n",
       "      <td>42</td>\n",
       "      <td>высшее</td>\n",
       "      <td>0</td>\n",
       "      <td>женат / замужем</td>\n",
       "      <td>0</td>\n",
       "      <td>F</td>\n",
       "      <td>сотрудник</td>\n",
       "      <td>0</td>\n",
       "      <td>253875.639453</td>\n",
       "      <td>покупка жилья</td>\n",
       "    </tr>\n",
       "    <tr>\n",
       "      <td>1</td>\n",
       "      <td>1</td>\n",
       "      <td>-4024.803754</td>\n",
       "      <td>36</td>\n",
       "      <td>среднее</td>\n",
       "      <td>1</td>\n",
       "      <td>женат / замужем</td>\n",
       "      <td>0</td>\n",
       "      <td>F</td>\n",
       "      <td>сотрудник</td>\n",
       "      <td>0</td>\n",
       "      <td>112080.014102</td>\n",
       "      <td>приобретение автомобиля</td>\n",
       "    </tr>\n",
       "    <tr>\n",
       "      <td>2</td>\n",
       "      <td>0</td>\n",
       "      <td>-5623.422610</td>\n",
       "      <td>33</td>\n",
       "      <td>Среднее</td>\n",
       "      <td>1</td>\n",
       "      <td>женат / замужем</td>\n",
       "      <td>0</td>\n",
       "      <td>M</td>\n",
       "      <td>сотрудник</td>\n",
       "      <td>0</td>\n",
       "      <td>145885.952297</td>\n",
       "      <td>покупка жилья</td>\n",
       "    </tr>\n",
       "    <tr>\n",
       "      <td>3</td>\n",
       "      <td>3</td>\n",
       "      <td>-4124.747207</td>\n",
       "      <td>32</td>\n",
       "      <td>среднее</td>\n",
       "      <td>1</td>\n",
       "      <td>женат / замужем</td>\n",
       "      <td>0</td>\n",
       "      <td>M</td>\n",
       "      <td>сотрудник</td>\n",
       "      <td>0</td>\n",
       "      <td>267628.550329</td>\n",
       "      <td>дополнительное образование</td>\n",
       "    </tr>\n",
       "    <tr>\n",
       "      <td>4</td>\n",
       "      <td>0</td>\n",
       "      <td>340266.072047</td>\n",
       "      <td>53</td>\n",
       "      <td>среднее</td>\n",
       "      <td>1</td>\n",
       "      <td>гражданский брак</td>\n",
       "      <td>1</td>\n",
       "      <td>F</td>\n",
       "      <td>пенсионер</td>\n",
       "      <td>0</td>\n",
       "      <td>158616.077870</td>\n",
       "      <td>сыграть свадьбу</td>\n",
       "    </tr>\n",
       "    <tr>\n",
       "      <td>5</td>\n",
       "      <td>0</td>\n",
       "      <td>-926.185831</td>\n",
       "      <td>27</td>\n",
       "      <td>высшее</td>\n",
       "      <td>0</td>\n",
       "      <td>гражданский брак</td>\n",
       "      <td>1</td>\n",
       "      <td>M</td>\n",
       "      <td>компаньон</td>\n",
       "      <td>0</td>\n",
       "      <td>255763.565419</td>\n",
       "      <td>покупка жилья</td>\n",
       "    </tr>\n",
       "    <tr>\n",
       "      <td>6</td>\n",
       "      <td>0</td>\n",
       "      <td>-2879.202052</td>\n",
       "      <td>43</td>\n",
       "      <td>высшее</td>\n",
       "      <td>0</td>\n",
       "      <td>женат / замужем</td>\n",
       "      <td>0</td>\n",
       "      <td>F</td>\n",
       "      <td>компаньон</td>\n",
       "      <td>0</td>\n",
       "      <td>240525.971920</td>\n",
       "      <td>операции с жильем</td>\n",
       "    </tr>\n",
       "    <tr>\n",
       "      <td>7</td>\n",
       "      <td>0</td>\n",
       "      <td>-152.779569</td>\n",
       "      <td>50</td>\n",
       "      <td>СРЕДНЕЕ</td>\n",
       "      <td>1</td>\n",
       "      <td>женат / замужем</td>\n",
       "      <td>0</td>\n",
       "      <td>M</td>\n",
       "      <td>сотрудник</td>\n",
       "      <td>0</td>\n",
       "      <td>135823.934197</td>\n",
       "      <td>образование</td>\n",
       "    </tr>\n",
       "    <tr>\n",
       "      <td>8</td>\n",
       "      <td>2</td>\n",
       "      <td>-6929.865299</td>\n",
       "      <td>35</td>\n",
       "      <td>ВЫСШЕЕ</td>\n",
       "      <td>0</td>\n",
       "      <td>гражданский брак</td>\n",
       "      <td>1</td>\n",
       "      <td>F</td>\n",
       "      <td>сотрудник</td>\n",
       "      <td>0</td>\n",
       "      <td>95856.832424</td>\n",
       "      <td>на проведение свадьбы</td>\n",
       "    </tr>\n",
       "    <tr>\n",
       "      <td>9</td>\n",
       "      <td>0</td>\n",
       "      <td>-2188.756445</td>\n",
       "      <td>41</td>\n",
       "      <td>среднее</td>\n",
       "      <td>1</td>\n",
       "      <td>женат / замужем</td>\n",
       "      <td>0</td>\n",
       "      <td>M</td>\n",
       "      <td>сотрудник</td>\n",
       "      <td>0</td>\n",
       "      <td>144425.938277</td>\n",
       "      <td>покупка жилья для семьи</td>\n",
       "    </tr>\n",
       "  </tbody>\n",
       "</table>\n",
       "</div>"
      ],
      "text/plain": [
       "   children  days_employed  dob_years education  education_id  \\\n",
       "0         1   -8437.673028         42    высшее             0   \n",
       "1         1   -4024.803754         36   среднее             1   \n",
       "2         0   -5623.422610         33   Среднее             1   \n",
       "3         3   -4124.747207         32   среднее             1   \n",
       "4         0  340266.072047         53   среднее             1   \n",
       "5         0    -926.185831         27    высшее             0   \n",
       "6         0   -2879.202052         43    высшее             0   \n",
       "7         0    -152.779569         50   СРЕДНЕЕ             1   \n",
       "8         2   -6929.865299         35    ВЫСШЕЕ             0   \n",
       "9         0   -2188.756445         41   среднее             1   \n",
       "\n",
       "      family_status  family_status_id gender income_type  debt   total_income  \\\n",
       "0   женат / замужем                 0      F   сотрудник     0  253875.639453   \n",
       "1   женат / замужем                 0      F   сотрудник     0  112080.014102   \n",
       "2   женат / замужем                 0      M   сотрудник     0  145885.952297   \n",
       "3   женат / замужем                 0      M   сотрудник     0  267628.550329   \n",
       "4  гражданский брак                 1      F   пенсионер     0  158616.077870   \n",
       "5  гражданский брак                 1      M   компаньон     0  255763.565419   \n",
       "6   женат / замужем                 0      F   компаньон     0  240525.971920   \n",
       "7   женат / замужем                 0      M   сотрудник     0  135823.934197   \n",
       "8  гражданский брак                 1      F   сотрудник     0   95856.832424   \n",
       "9   женат / замужем                 0      M   сотрудник     0  144425.938277   \n",
       "\n",
       "                      purpose  \n",
       "0               покупка жилья  \n",
       "1     приобретение автомобиля  \n",
       "2               покупка жилья  \n",
       "3  дополнительное образование  \n",
       "4             сыграть свадьбу  \n",
       "5               покупка жилья  \n",
       "6           операции с жильем  \n",
       "7                 образование  \n",
       "8       на проведение свадьбы  \n",
       "9     покупка жилья для семьи  "
      ]
     },
     "execution_count": 4,
     "metadata": {},
     "output_type": "execute_result"
    }
   ],
   "source": [
    "# <получение первых 10 строк таблицы.>\n",
    "data.head(10)"
   ]
  },
  {
   "cell_type": "markdown",
   "metadata": {},
   "source": [
    "Общая информация о данных таблицы *data*."
   ]
  },
  {
   "cell_type": "code",
   "execution_count": 5,
   "metadata": {
    "scrolled": true
   },
   "outputs": [
    {
     "name": "stdout",
     "output_type": "stream",
     "text": [
      "<class 'pandas.core.frame.DataFrame'>\n",
      "RangeIndex: 21525 entries, 0 to 21524\n",
      "Data columns (total 12 columns):\n",
      "children            21525 non-null int64\n",
      "days_employed       19351 non-null float64\n",
      "dob_years           21525 non-null int64\n",
      "education           21525 non-null object\n",
      "education_id        21525 non-null int64\n",
      "family_status       21525 non-null object\n",
      "family_status_id    21525 non-null int64\n",
      "gender              21525 non-null object\n",
      "income_type         21525 non-null object\n",
      "debt                21525 non-null int64\n",
      "total_income        19351 non-null float64\n",
      "purpose             21525 non-null object\n",
      "dtypes: float64(2), int64(5), object(5)\n",
      "memory usage: 2.0+ MB\n",
      "None\n"
     ]
    }
   ],
   "source": [
    "# <общая информация о данных таблицы data>\n",
    "print(data.info())"
   ]
  },
  {
   "cell_type": "markdown",
   "metadata": {},
   "source": [
    "Рассмотрим полученную информацию подробнее.\n",
    "\n",
    "Всего в таблице 12 столбцов, типы данных у столбцов различаются.\n",
    "\n",
    "Подробно разберём, какие в *data* столбцы и какую информацию они содержат:\n",
    "\n",
    "* *children* — количество детей в семье\n",
    "* *days_employed* — общий трудовой стаж в днях\n",
    "* *dob_years* — возраст клиента в годах\n",
    "* *education* — уровень образования клиента\n",
    "* *education_id* — идентификатор уровня образования\n",
    "* *family_status* — семейное положение\n",
    "* *family_status_id* — идентификатор семейного положения\n",
    "* *gender* — пол клиента\n",
    "* *income_type* — тип занятости\n",
    "* *debt* — имел ли задолженность по возврату кредитов\n",
    "* *total_income* — ежемесячный доход\n",
    "* *purpose* — цель получения кредита\n",
    "\n",
    "Количество значений в столбцах различается. Это говорит о том, что в данных есть мусорные значения."
   ]
  },
  {
   "cell_type": "markdown",
   "metadata": {},
   "source": [
    "### Вывод"
   ]
  },
  {
   "cell_type": "markdown",
   "metadata": {},
   "source": [
    "Каждая строка таблицы содержит информацию о клиенте, на основании которой можно оценить способность потенциального заёмщика вернуть кредит банку. Проблемы которые видны даже на небольшом срезе данных: пропуски, аномальные значения, отрицательные значения общего трудового стажа в днях (возникшие из-за способа заполнения таблицы данными, скорее всего), различный регистр в столбце education, необходимость лемматизации для того чтобы одна и та же цель кредита не была представлена в таблице разными значениями."
   ]
  },
  {
   "cell_type": "markdown",
   "metadata": {},
   "source": [
    "### Шаг 2. Предобработка данных"
   ]
  },
  {
   "cell_type": "markdown",
   "metadata": {},
   "source": [
    "### Обработка дубликатов"
   ]
  },
  {
   "cell_type": "markdown",
   "metadata": {},
   "source": [
    "Проверим количество дубликатов до того как мы поправим регистр в столбце *education*:"
   ]
  },
  {
   "cell_type": "code",
   "execution_count": 6,
   "metadata": {},
   "outputs": [
    {
     "data": {
      "text/plain": [
       "54"
      ]
     },
     "execution_count": 6,
     "metadata": {},
     "output_type": "execute_result"
    }
   ],
   "source": [
    "# <проверим количество полных дубликатов>\n",
    "data.duplicated().sum()"
   ]
  },
  {
   "cell_type": "markdown",
   "metadata": {},
   "source": [
    "Поправим регистр:"
   ]
  },
  {
   "cell_type": "code",
   "execution_count": 7,
   "metadata": {},
   "outputs": [
    {
     "name": "stdout",
     "output_type": "stream",
     "text": [
      "среднее                13750\n",
      "высшее                  4718\n",
      "СРЕДНЕЕ                  772\n",
      "Среднее                  711\n",
      "неоконченное высшее      668\n",
      "ВЫСШЕЕ                   274\n",
      "Высшее                   268\n",
      "начальное                250\n",
      "Неоконченное высшее       47\n",
      "НЕОКОНЧЕННОЕ ВЫСШЕЕ       29\n",
      "НАЧАЛЬНОЕ                 17\n",
      "Начальное                 15\n",
      "ученая степень             4\n",
      "Ученая степень             1\n",
      "УЧЕНАЯ СТЕПЕНЬ             1\n",
      "Name: education, dtype: int64\n",
      "\n",
      "среднее                15233\n",
      "высшее                  5260\n",
      "неоконченное высшее      744\n",
      "начальное                282\n",
      "ученая степень             6\n",
      "Name: education, dtype: int64\n"
     ]
    }
   ],
   "source": [
    "# <проверим какие у нас есть уровни образования>\n",
    "print(data['education'].value_counts())\n",
    "# <понизим регистр у всех строк в столбце>\n",
    "data['education'] = data['education'].str.lower()\n",
    "# <проверим какие у нас есть уровни образования снова>\n",
    "print('')\n",
    "print(data['education'].value_counts())"
   ]
  },
  {
   "cell_type": "markdown",
   "metadata": {},
   "source": [
    "Подсчитаем количество дубликатов, а также предположим какой общий признак имеют дубликаты:"
   ]
  },
  {
   "cell_type": "code",
   "execution_count": 8,
   "metadata": {},
   "outputs": [
    {
     "name": "stdout",
     "output_type": "stream",
     "text": [
      "71\n",
      "\n",
      "Количество дубликатов которые имеют NaN в \"days_employed\" и \"total_income\": 71\n"
     ]
    }
   ],
   "source": [
    "# <проверим количество полных дубликатов>\n",
    "print(data.duplicated().sum())\n",
    "print('')\n",
    "\n",
    "# <импортируем библиотеку для функции isnan>\n",
    "import math\n",
    "\n",
    "# <проверим имеют ли дубликаты общий признак>\n",
    "count_nan = 0 \n",
    "for row in data.duplicated()[data.duplicated() != False].index:\n",
    "    if math.isnan(data.loc[row,'days_employed']) and math.isnan(data.loc[row,'total_income']):\n",
    "        count_nan += 1\n",
    "print('Количество дубликатов которые имеют NaN в \"days_employed\" и \"total_income\":' , count_nan)"
   ]
  },
  {
   "cell_type": "markdown",
   "metadata": {},
   "source": [
    "Количество дубликатов стало больше после исправления регистра, значит 17 дубликатов имели просто другой регистр в столбце *education*. А также мы выяснили что у всех дубликатов общий признак, отсутствуют данные в столбцах *days_employed* и  *total_income*. Поправим столбец *children*:"
   ]
  },
  {
   "cell_type": "code",
   "execution_count": 9,
   "metadata": {},
   "outputs": [
    {
     "name": "stdout",
     "output_type": "stream",
     "text": [
      " 0     14149\n",
      " 1      4818\n",
      " 2      2055\n",
      " 3       330\n",
      " 20       76\n",
      "-1        47\n",
      " 4        41\n",
      " 5         9\n",
      "Name: children, dtype: int64\n"
     ]
    }
   ],
   "source": [
    "# <применим метод value_counts() к столбцу children>\n",
    "print(data['children'].value_counts())"
   ]
  },
  {
   "cell_type": "markdown",
   "metadata": {},
   "source": [
    "Вообще не иметь детей, или иметь от одного до пяти детей - это нормально. Иметь отрицательное число детей, а также 76 клиентов с 20 детьми - это явно не из нашей Вселенной.\n",
    "С отрицательным значением поступим просто - предоположим что это была ошибка ввода, а форма для ввода была несовершенна для предупреждения пользователя. Сделаем эти значения положительными."
   ]
  },
  {
   "cell_type": "code",
   "execution_count": 10,
   "metadata": {},
   "outputs": [
    {
     "name": "stdout",
     "output_type": "stream",
     "text": [
      "0     14149\n",
      "1      4865\n",
      "2      2055\n",
      "3       330\n",
      "20       76\n",
      "4        41\n",
      "5         9\n",
      "Name: children, dtype: int64\n"
     ]
    }
   ],
   "source": [
    "# <заменим все значения \"-1\" на \"1\" в столбце children>\n",
    "data[data['children'] == -1] = data[data['children'] == -1].replace(-1,1)\n",
    "\n",
    "# <проверим что заемщиков с одним ребенком теперь ровно на 47 больше>\n",
    "print(data['children'].value_counts())"
   ]
  },
  {
   "cell_type": "markdown",
   "metadata": {},
   "source": [
    "По поводу 20 детей можно развести много дискуссий, но наиболее подходящими вариантами решения проблемы выглядят три:\n",
    "* Это была ошибка ввода, и скорее всего имелось ввиду 2 ребенка.\n",
    "* Можно заменить это значение медианой.\n",
    "* Можно оставить его как есть.\n",
    "\n",
    "Отметем третий вариант так как маловероятно что заемщиков с 20 детьми будет больше чем с 4-мя.\n",
    "Чтобы выбрать между 1 и 2 вариантом посчитаем медиану и среднее, но при этом без 76 значений где у заемщиков 20 детей."
   ]
  },
  {
   "cell_type": "code",
   "execution_count": 11,
   "metadata": {},
   "outputs": [
    {
     "name": "stdout",
     "output_type": "stream",
     "text": [
      "Среднее: 0.474334467807357\n",
      "Медиана: 0.0\n"
     ]
    }
   ],
   "source": [
    "#<подсчитаем среднее>\n",
    "print('Среднее:', data[data['children'] != 20]['children'].mean())\n",
    "\n",
    "#<подсчитаем медиану>\n",
    "children_median = data[data['children'] != 20]['children'].median()\n",
    "print('Медиана:', children_median)"
   ]
  },
  {
   "cell_type": "markdown",
   "metadata": {},
   "source": [
    "Учитывая уроки в спринте, наиболее правильным будет заменить все значения '20' на медиану."
   ]
  },
  {
   "cell_type": "code",
   "execution_count": 12,
   "metadata": {},
   "outputs": [],
   "source": [
    "# <добавим библиотеку numpy для удобной функции замены с условием>\n",
    "import numpy as np\n",
    "\n",
    "# <замена с условием>\n",
    "data['children'] = np.where((data.children == 20),children_median,data.children)"
   ]
  },
  {
   "cell_type": "markdown",
   "metadata": {},
   "source": [
    "Подсчитаем количество дубликатов:"
   ]
  },
  {
   "cell_type": "code",
   "execution_count": 13,
   "metadata": {},
   "outputs": [
    {
     "data": {
      "text/plain": [
       "71"
      ]
     },
     "execution_count": 13,
     "metadata": {},
     "output_type": "execute_result"
    }
   ],
   "source": [
    "# <проверим количество полных дубликатов>\n",
    "data.duplicated().sum()"
   ]
  },
  {
   "cell_type": "markdown",
   "metadata": {},
   "source": [
    "Поправленный столбец *children* не повлиял на количество дубликатов. Удалим дубликаты:"
   ]
  },
  {
   "cell_type": "code",
   "execution_count": 14,
   "metadata": {},
   "outputs": [
    {
     "data": {
      "text/plain": [
       "0"
      ]
     },
     "execution_count": 14,
     "metadata": {},
     "output_type": "execute_result"
    }
   ],
   "source": [
    "# <удаление дубликатов методом drop_duplicates()>\n",
    "data = data.drop_duplicates().reset_index(drop = True)\n",
    "# <проверим количество полных дубликатов>\n",
    "data.duplicated().sum()"
   ]
  },
  {
   "cell_type": "markdown",
   "metadata": {},
   "source": [
    "К выявлению дубликатов мы еще можем вернуться в течение проекта."
   ]
  },
  {
   "cell_type": "markdown",
   "metadata": {},
   "source": [
    "### Вывод"
   ]
  },
  {
   "cell_type": "markdown",
   "metadata": {},
   "source": [
    "Мы выявили дубликаты и удалили их, используя для полных дубликатов drop_duplicates(). Предварительно поправили регистр. Выяснили общий признак, присущий этим дубликатам(*NaN* в столбцах *days_employed* и  *total_income*). Могу сделать предположение, всего лишь одно из возможных, что появление дубликатов и *NaN* связано с ошибками ввода или передачи данных. Дубликаты могли образоваться из повторной попытки заполнить таблицу корректными значениями. После лемматизации попробуем снова отыскать дубликаты."
   ]
  },
  {
   "cell_type": "markdown",
   "metadata": {},
   "source": [
    "### Обработка пропусков"
   ]
  },
  {
   "cell_type": "markdown",
   "metadata": {},
   "source": [
    "Подсчитаем количество пропусков в столбце *days_employed* и *total_income*:"
   ]
  },
  {
   "cell_type": "code",
   "execution_count": 15,
   "metadata": {},
   "outputs": [
    {
     "name": "stdout",
     "output_type": "stream",
     "text": [
      "children            2103\n",
      "days_employed          0\n",
      "dob_years           2103\n",
      "education           2103\n",
      "education_id        2103\n",
      "family_status       2103\n",
      "family_status_id    2103\n",
      "gender              2103\n",
      "income_type         2103\n",
      "debt                2103\n",
      "total_income           0\n",
      "purpose             2103\n",
      "dtype: int64\n",
      "\n",
      "children            2103\n",
      "days_employed          0\n",
      "dob_years           2103\n",
      "education           2103\n",
      "education_id        2103\n",
      "family_status       2103\n",
      "family_status_id    2103\n",
      "gender              2103\n",
      "income_type         2103\n",
      "debt                2103\n",
      "total_income           0\n",
      "purpose             2103\n",
      "dtype: int64\n",
      "\n",
      "Количество строк которые имеют NaN в \"days_employed\" и \"total_income\": 2103\n"
     ]
    }
   ],
   "source": [
    "# <подсчитаем количество пропусков в столбце days_employed>\n",
    "print(data[data['days_employed'].isna() != False].count())\n",
    "\n",
    "print('')\n",
    "\n",
    "# <подсчитаем количество пропусков в столбце total_income>\n",
    "print(data[data['total_income'].isna() != False].count())\n",
    "\n",
    "print('')\n",
    "\n",
    "# <проверим одни и те же ли это строки>\n",
    "count_nan_in_data = 0 \n",
    "for row in data.index:\n",
    "    if math.isnan(data.loc[row,'days_employed']) and math.isnan(data.loc[row,'total_income']):\n",
    "        count_nan_in_data += 1\n",
    "print('Количество строк которые имеют NaN в \"days_employed\" и \"total_income\":' , count_nan_in_data)"
   ]
  },
  {
   "cell_type": "markdown",
   "metadata": {},
   "source": [
    "Одни и те же. Занесем их в отдельную переменную и посмотрим на них."
   ]
  },
  {
   "cell_type": "code",
   "execution_count": 16,
   "metadata": {
    "scrolled": true
   },
   "outputs": [
    {
     "name": "stdout",
     "output_type": "stream",
     "text": [
      "сотрудник          1070\n",
      "компаньон           501\n",
      "пенсионер           386\n",
      "госслужащий         145\n",
      "предприниматель       1\n",
      "Name: income_type, dtype: int64\n",
      "\n",
      "среднее                1479\n",
      "высшее                  534\n",
      "неоконченное высшее      69\n",
      "начальное                21\n",
      "Name: education, dtype: int64\n"
     ]
    }
   ],
   "source": [
    "# <Занесем в отдельную переменную>\n",
    "nan_data = data[data['days_employed'].isnull()]\n",
    "# <Проверим какие типы дохода у подобных заемщиков>\n",
    "print(nan_data['income_type'].value_counts())\n",
    "print('')\n",
    "# <Проверим какое образование у подобных заемщиков>\n",
    "print(nan_data['education'].value_counts())"
   ]
  },
  {
   "cell_type": "markdown",
   "metadata": {},
   "source": [
    "Не выйдет выделить какой-то паттерн. Возможные причины появления пропусков в данных:\n",
    "* Часть данных является отдельным блоком (2103 значения), и значения столбцов *days_employed* и *total_income* были преобразованы при конвертации файла из одного формата в другой, затем этими данными была заполнена основная таблица.\n",
    "* Данные были искажены (специально)."
   ]
  },
  {
   "cell_type": "markdown",
   "metadata": {},
   "source": [
    "По поводу заполнения пропусков были следующие идеи: учитывать тип дохода и возраст, соответственно подсчитать для категорий например 18-58 лет/сотрудник  медиану/среднее, и далее заполнять пропущенные значения для каждой группы. Но в рамках данного проекта и учитывая мой опыт попробуем обойтись только подсчетом медианы/среднего для разных типов дохода. НО: предварительно проверим аномальные данные в столбцах *days_empolyed* и *total_income*."
   ]
  },
  {
   "cell_type": "markdown",
   "metadata": {},
   "source": [
    "Столбец *days_empolyed*, в первых же 10 значениях можно обнаружить аномальное значение, а также тот факт что все не аномальные значения отрицательны.\n",
    "Подправим отрицательные значения:"
   ]
  },
  {
   "cell_type": "code",
   "execution_count": 17,
   "metadata": {},
   "outputs": [],
   "source": [
    "# <используем функцию abs() для изменения знака отрицательных значений>\n",
    "data['days_employed'] = data['days_employed'].abs()"
   ]
  },
  {
   "cell_type": "markdown",
   "metadata": {},
   "source": [
    "Прежде всего меня заинтересовало как можно избавиться от значений таких как 340266.072047 в 5 ячейке. В переводе на года это около 932 лет(без выходных). Даже если предположить что это часы - получается около 116 лет стажа(без выходных). Мне тяжело представить причину этой аномалии.\n",
    "Я предположил что максимальный трудовой стаж 60 лет, и затратил минимальное количество времени на поиск этой информации, на этом сайте http://www.pfrf.ru/eservices/calc/, калькуляторе пенсии, невозможно ввести трудовой стаж выше 60 лет. Условимся что это легитимно.\n",
    "Давайте посмотрим какие еще есть аномалии в этом столбце:"
   ]
  },
  {
   "cell_type": "code",
   "execution_count": 18,
   "metadata": {},
   "outputs": [
    {
     "name": "stdout",
     "output_type": "stream",
     "text": [
      "3453\n",
      "3445\n",
      "3443\n",
      "3262\n"
     ]
    }
   ],
   "source": [
    "# <подсчитаем количество аномалий в столбце days_employed, \n",
    "# тут предположим что у человека трудовой стаж 60 лет и он работал с выходными>\n",
    "print(data[data['days_employed'] > 15700]['days_employed'].count())\n",
    "\n",
    "# <тут предположим что у человека трудовой стаж 60 лет и он работал без выходных>\n",
    "print(data[data['days_employed'] > 21900]['days_employed'].count())\n",
    "\n",
    "# <предположим что такие аномалии наблюдаются в основном у пенсионеров.>\n",
    "print(data[(data['days_employed'] > 21900) & (data['income_type'] == 'пенсионер')]['days_employed'].count())\n",
    "\n",
    "# <Много ли заемщиков с такими аномалиями имеют задолженности>\n",
    "print(data[(data['days_employed'] > 21900) & (data['income_type'] == 'пенсионер') \n",
    "& (data['debt'] == 0)]['days_employed'].count())"
   ]
  },
  {
   "cell_type": "markdown",
   "metadata": {},
   "source": [
    "Определенная закономерность соблюдается. Очевидно между нормальными и аномальными данными большая пропасть. В подавляющем большинстве случаев такие аномалии у пенсионеров, и чаще всего у них нет задолженностей. Так как точно установить причину аномалии не нахожу возможным, думаю стоит заменить эти данные на медиану или среднее. "
   ]
  },
  {
   "cell_type": "markdown",
   "metadata": {},
   "source": [
    "Поищем аномалии в столбце *total_income*:"
   ]
  },
  {
   "cell_type": "code",
   "execution_count": 19,
   "metadata": {},
   "outputs": [
    {
     "data": {
      "image/png": "[encoded data removed]",
      "text/plain": [
       "<Figure size 432x288 with 1 Axes>"
      ]
     },
     "metadata": {
      "needs_background": "light"
     },
     "output_type": "display_data"
    }
   ],
   "source": [
    "#<используем matplotlib для построения гистограммы, если скомпилировать еще раз, гистограмма отобразится>\n",
    "import matplotlib.pyplot as plt\n",
    "%matplotlib inline\n",
    "data['total_income'].hist()\n",
    "plt.show()"
   ]
  },
  {
   "cell_type": "markdown",
   "metadata": {},
   "source": [
    "Все в пределах нормы, люди вполне могут иметь такие зарплаты в реальном мире. Начнем подсчитывать медиану и среднее столбца *days_employed* для каждого типа дохода:"
   ]
  },
  {
   "cell_type": "code",
   "execution_count": 20,
   "metadata": {},
   "outputs": [
    {
     "name": "stdout",
     "output_type": "stream",
     "text": [
      "Среднее: 2326.4992159717935\n",
      "Медиана: 1574.2028211070851\n"
     ]
    }
   ],
   "source": [
    "#<подсчитаем среднее для сотрудников>\n",
    "print('Среднее:', data[(data['days_employed'] < 21900) & (data['income_type'] == 'сотрудник')]['days_employed'].mean())\n",
    "\n",
    "#<подсчитаем медиану для сотрудников>\n",
    "employee_median = data[(data['days_employed'] < 21900) & (data['income_type'] == 'сотрудник')]['days_employed'].median()\n",
    "print('Медиана:', employee_median)"
   ]
  },
  {
   "cell_type": "code",
   "execution_count": 21,
   "metadata": {},
   "outputs": [
    {
     "name": "stdout",
     "output_type": "stream",
     "text": [
      "Среднее: nan\n",
      "Медиана: nan\n"
     ]
    }
   ],
   "source": [
    "#<подсчитаем среднее для пенсионеров>\n",
    "print('Среднее:', data[(data['days_employed'] < 21900) & \n",
    "(data['income_type'] == 'пенсионер')]['days_employed'].mean())\n",
    "\n",
    "#<подсчитаем медиану для пенсионеров>\n",
    "pensioner_median = data[(data['days_employed'] < 21900) & \n",
    "(data['income_type'] == 'пенсионер')]['days_employed'].median()\n",
    "print('Медиана:', pensioner_median)"
   ]
  },
  {
   "cell_type": "markdown",
   "metadata": {},
   "source": [
    "Этот результат меня удивил, и я решил проверить что же произошло, неужели отсутствуют пенсионеры без аномальных значений."
   ]
  },
  {
   "cell_type": "code",
   "execution_count": 22,
   "metadata": {},
   "outputs": [
    {
     "data": {
      "text/plain": [
       "сотрудник          10014\n",
       "компаньон           4577\n",
       "госслужащий         1312\n",
       "предприниматель        1\n",
       "студент                1\n",
       "в декрете              1\n",
       "Name: income_type, dtype: int64"
      ]
     },
     "execution_count": 22,
     "metadata": {},
     "output_type": "execute_result"
    }
   ],
   "source": [
    "# <Какие имеют место быть значения типов дохода среди данных с неаномальными значениями days_employed>\n",
    "data[data['days_employed'] < 21900]['income_type'].value_counts()"
   ]
  },
  {
   "cell_type": "markdown",
   "metadata": {},
   "source": [
    "Еще как отсутствуют. Поэтому их аномальные значения и *NaN* мы заменим медианой по всем заемщикам. Также обратим внимание, по заемщикам в декрете, студентам и предпринимателям вычислять медиану мы не будем, среди тех кто имеет адекватный стаж, их всего по единице. Продолжим вычислять медиану, теперь для госслужащих:"
   ]
  },
  {
   "cell_type": "code",
   "execution_count": 23,
   "metadata": {},
   "outputs": [
    {
     "name": "stdout",
     "output_type": "stream",
     "text": [
      "Среднее: 3399.896901695741\n",
      "Медиана: 2689.3683533043886\n"
     ]
    }
   ],
   "source": [
    "#<подсчитаем среднее для госслужащих>\n",
    "print('Среднее:', data[(data['days_employed'] < 21900) & \n",
    "(data['income_type'] == 'госслужащий')]['days_employed'].mean())\n",
    "\n",
    "#<подсчитаем медиану для госслужащих>\n",
    "state_employee_median = data[(data['days_employed'] < 21900) & \n",
    "(data['income_type'] == 'госслужащий')]['days_employed'].median()\n",
    "print('Медиана:', state_employee_median)"
   ]
  },
  {
   "cell_type": "code",
   "execution_count": 24,
   "metadata": {},
   "outputs": [
    {
     "name": "stdout",
     "output_type": "stream",
     "text": [
      "Среднее: 2111.5243982977327\n",
      "Медиана: 1547.3822226779334\n"
     ]
    }
   ],
   "source": [
    "#<подсчитаем среднее для компаньонов>\n",
    "print('Среднее:', data[(data['days_employed'] < 21900) & \n",
    "(data['income_type'] == 'компаньон')]['days_employed'].mean())\n",
    "\n",
    "#<подсчитаем медиану для компаньонов>\n",
    "companion_median = data[(data['days_employed'] < 21900) & \n",
    "(data['income_type'] == 'компаньон')]['days_employed'].median()\n",
    "print('Медиана:', companion_median)"
   ]
  },
  {
   "cell_type": "markdown",
   "metadata": {},
   "source": [
    "Уже много чего сделано, но далеко не все. Для подсчета медианы *days_employed* необходимо скорректировать аномальные значения выше 21900. Для пенсионеров заполним их медианой столбца без аномальных значений (так как найти медиану среди адекватных значений *days_employed* для пенсионеров не представляется возможным, их нет):"
   ]
  },
  {
   "cell_type": "code",
   "execution_count": 25,
   "metadata": {},
   "outputs": [
    {
     "name": "stdout",
     "output_type": "stream",
     "text": [
      "Медиана: 1630.0193809778216\n"
     ]
    }
   ],
   "source": [
    "# <подсчитаем медиану для пенсионеров>\n",
    "pensioner_median = data[(data['days_employed'] < 21900) & \n",
    "(data['income_type'] != 'пенсионер')]['days_employed'].median()\n",
    "print('Медиана:', pensioner_median)\n",
    "\n",
    "# <замена с условием, меняются и аномальные значения и значения NaN>\n",
    "data['days_employed'] = np.where((data.income_type == 'пенсионер'),pensioner_median,data.days_employed)"
   ]
  },
  {
   "cell_type": "markdown",
   "metadata": {},
   "source": [
    "Проверим какие у нас еще есть значения в столбце *income_type* и заполним пропущенные и аномальные значения у типов сотрудников которые представлены в таблице очень в малом количестве(у студентов и дамы в декрете все в порядке, я проверил):"
   ]
  },
  {
   "cell_type": "code",
   "execution_count": 26,
   "metadata": {},
   "outputs": [
    {
     "name": "stdout",
     "output_type": "stream",
     "text": [
      "сотрудник          11084\n",
      "компаньон           5078\n",
      "пенсионер           3829\n",
      "госслужащий         1457\n",
      "предприниматель        2\n",
      "безработный            2\n",
      "студент                1\n",
      "в декрете              1\n",
      "Name: income_type, dtype: int64\n"
     ]
    }
   ],
   "source": [
    "# <Проверим какие типы дохода у заемщиков имеют место быть>\n",
    "print(data['income_type'].value_counts())"
   ]
  },
  {
   "cell_type": "code",
   "execution_count": 27,
   "metadata": {},
   "outputs": [
    {
     "data": {
      "text/html": [
       "<div>\n",
       "<style scoped>\n",
       "    .dataframe tbody tr th:only-of-type {\n",
       "        vertical-align: middle;\n",
       "    }\n",
       "\n",
       "    .dataframe tbody tr th {\n",
       "        vertical-align: top;\n",
       "    }\n",
       "\n",
       "    .dataframe thead th {\n",
       "        text-align: right;\n",
       "    }\n",
       "</style>\n",
       "<table border=\"1\" class=\"dataframe\">\n",
       "  <thead>\n",
       "    <tr style=\"text-align: right;\">\n",
       "      <th></th>\n",
       "      <th>children</th>\n",
       "      <th>days_employed</th>\n",
       "      <th>dob_years</th>\n",
       "      <th>education</th>\n",
       "      <th>education_id</th>\n",
       "      <th>family_status</th>\n",
       "      <th>family_status_id</th>\n",
       "      <th>gender</th>\n",
       "      <th>income_type</th>\n",
       "      <th>debt</th>\n",
       "      <th>total_income</th>\n",
       "      <th>purpose</th>\n",
       "    </tr>\n",
       "  </thead>\n",
       "  <tbody>\n",
       "    <tr>\n",
       "      <td>3132</td>\n",
       "      <td>1.0</td>\n",
       "      <td>337524.466835</td>\n",
       "      <td>31</td>\n",
       "      <td>среднее</td>\n",
       "      <td>1</td>\n",
       "      <td>женат / замужем</td>\n",
       "      <td>0</td>\n",
       "      <td>M</td>\n",
       "      <td>безработный</td>\n",
       "      <td>1</td>\n",
       "      <td>59956.991984</td>\n",
       "      <td>покупка жилья для сдачи</td>\n",
       "    </tr>\n",
       "    <tr>\n",
       "      <td>14767</td>\n",
       "      <td>0.0</td>\n",
       "      <td>395302.838654</td>\n",
       "      <td>45</td>\n",
       "      <td>высшее</td>\n",
       "      <td>0</td>\n",
       "      <td>гражданский брак</td>\n",
       "      <td>1</td>\n",
       "      <td>F</td>\n",
       "      <td>безработный</td>\n",
       "      <td>0</td>\n",
       "      <td>202722.511368</td>\n",
       "      <td>ремонт жилью</td>\n",
       "    </tr>\n",
       "  </tbody>\n",
       "</table>\n",
       "</div>"
      ],
      "text/plain": [
       "       children  days_employed  dob_years education  education_id  \\\n",
       "3132        1.0  337524.466835         31   среднее             1   \n",
       "14767       0.0  395302.838654         45    высшее             0   \n",
       "\n",
       "          family_status  family_status_id gender  income_type  debt  \\\n",
       "3132    женат / замужем                 0      M  безработный     1   \n",
       "14767  гражданский брак                 1      F  безработный     0   \n",
       "\n",
       "        total_income                  purpose  \n",
       "3132    59956.991984  покупка жилья для сдачи  \n",
       "14767  202722.511368             ремонт жилью  "
      ]
     },
     "execution_count": 27,
     "metadata": {},
     "output_type": "execute_result"
    }
   ],
   "source": [
    "# <Заполним days_employed безработным>\n",
    "data[data['income_type'] == 'безработный']"
   ]
  },
  {
   "cell_type": "code",
   "execution_count": 28,
   "metadata": {},
   "outputs": [],
   "source": [
    "# <Заполним безработным значения days_employed медианой по таблице без аномальных значений>\n",
    "data['days_employed'] = np.where((data.income_type == 'безработный'),pensioner_median,data.days_employed)"
   ]
  },
  {
   "cell_type": "markdown",
   "metadata": {},
   "source": [
    "Обращу внимание что теперь у нас нет аномальных значений в этом столбце:"
   ]
  },
  {
   "cell_type": "code",
   "execution_count": 29,
   "metadata": {},
   "outputs": [
    {
     "data": {
      "text/plain": [
       "children            0\n",
       "days_employed       0\n",
       "dob_years           0\n",
       "education           0\n",
       "education_id        0\n",
       "family_status       0\n",
       "family_status_id    0\n",
       "gender              0\n",
       "income_type         0\n",
       "debt                0\n",
       "total_income        0\n",
       "purpose             0\n",
       "dtype: int64"
      ]
     },
     "execution_count": 29,
     "metadata": {},
     "output_type": "execute_result"
    }
   ],
   "source": [
    "data[data['days_employed'] > 21900].count()"
   ]
  },
  {
   "cell_type": "markdown",
   "metadata": {},
   "source": [
    "Продолжим:"
   ]
  },
  {
   "cell_type": "code",
   "execution_count": 30,
   "metadata": {},
   "outputs": [
    {
     "data": {
      "text/html": [
       "<div>\n",
       "<style scoped>\n",
       "    .dataframe tbody tr th:only-of-type {\n",
       "        vertical-align: middle;\n",
       "    }\n",
       "\n",
       "    .dataframe tbody tr th {\n",
       "        vertical-align: top;\n",
       "    }\n",
       "\n",
       "    .dataframe thead th {\n",
       "        text-align: right;\n",
       "    }\n",
       "</style>\n",
       "<table border=\"1\" class=\"dataframe\">\n",
       "  <thead>\n",
       "    <tr style=\"text-align: right;\">\n",
       "      <th></th>\n",
       "      <th>children</th>\n",
       "      <th>days_employed</th>\n",
       "      <th>dob_years</th>\n",
       "      <th>education</th>\n",
       "      <th>education_id</th>\n",
       "      <th>family_status</th>\n",
       "      <th>family_status_id</th>\n",
       "      <th>gender</th>\n",
       "      <th>income_type</th>\n",
       "      <th>debt</th>\n",
       "      <th>total_income</th>\n",
       "      <th>purpose</th>\n",
       "    </tr>\n",
       "  </thead>\n",
       "  <tbody>\n",
       "    <tr>\n",
       "      <td>5931</td>\n",
       "      <td>0.0</td>\n",
       "      <td>NaN</td>\n",
       "      <td>58</td>\n",
       "      <td>высшее</td>\n",
       "      <td>0</td>\n",
       "      <td>женат / замужем</td>\n",
       "      <td>0</td>\n",
       "      <td>M</td>\n",
       "      <td>предприниматель</td>\n",
       "      <td>0</td>\n",
       "      <td>NaN</td>\n",
       "      <td>покупка жилой недвижимости</td>\n",
       "    </tr>\n",
       "    <tr>\n",
       "      <td>18647</td>\n",
       "      <td>0.0</td>\n",
       "      <td>520.848083</td>\n",
       "      <td>27</td>\n",
       "      <td>высшее</td>\n",
       "      <td>0</td>\n",
       "      <td>гражданский брак</td>\n",
       "      <td>1</td>\n",
       "      <td>F</td>\n",
       "      <td>предприниматель</td>\n",
       "      <td>0</td>\n",
       "      <td>499163.144947</td>\n",
       "      <td>на проведение свадьбы</td>\n",
       "    </tr>\n",
       "  </tbody>\n",
       "</table>\n",
       "</div>"
      ],
      "text/plain": [
       "       children  days_employed  dob_years education  education_id  \\\n",
       "5931        0.0            NaN         58    высшее             0   \n",
       "18647       0.0     520.848083         27    высшее             0   \n",
       "\n",
       "          family_status  family_status_id gender      income_type  debt  \\\n",
       "5931    женат / замужем                 0      M  предприниматель     0   \n",
       "18647  гражданский брак                 1      F  предприниматель     0   \n",
       "\n",
       "        total_income                     purpose  \n",
       "5931             NaN  покупка жилой недвижимости  \n",
       "18647  499163.144947       на проведение свадьбы  "
      ]
     },
     "execution_count": 30,
     "metadata": {},
     "output_type": "execute_result"
    }
   ],
   "source": [
    "# <Заполним days_employed предпринимателям>\n",
    "data[data['income_type'] == 'предприниматель']"
   ]
  },
  {
   "cell_type": "code",
   "execution_count": 31,
   "metadata": {},
   "outputs": [],
   "source": [
    "# <Заполним также медианой по таблице без аномальных значений, так как при таком \n",
    "# возрасте очевидно человек отработал больше 2 лет>\n",
    "data['days_employed'] = np.where((data.index == 5931),pensioner_median,data.days_employed)"
   ]
  },
  {
   "cell_type": "markdown",
   "metadata": {},
   "source": [
    "Заполним значения сотрудникам, компаньонам и госслужащим:"
   ]
  },
  {
   "cell_type": "code",
   "execution_count": 32,
   "metadata": {},
   "outputs": [],
   "source": [
    "# <Заполним сотрудникам с NaN значения days_employed медианой по сотрудникам без NaN>\n",
    "data.loc[data.income_type == 'сотрудник','days_employed'] = data[data.income_type == 'сотрудник']['days_employed'].fillna(employee_median)\n",
    "\n",
    "# <Заполним госслужащим с NaN значения days_employed медианой по госслужащим без NaN>\n",
    "data.loc[data.income_type == 'госслужащий','days_employed'] = data[data.income_type == 'госслужащий']['days_employed'].fillna(state_employee_median)\n",
    "\n",
    "# <Заполним компаньонам с NaN значения days_employed медианой по компаньонам без NaN>\n",
    "data.loc[data.income_type == 'компаньон','days_employed'] = data[data.income_type == 'компаньон']['days_employed'].fillna(companion_median)"
   ]
  },
  {
   "cell_type": "markdown",
   "metadata": {},
   "source": [
    "Заполним значения *NaN* в столбце *total_income*, по аналогии, только здесь нет аномальных значений:"
   ]
  },
  {
   "cell_type": "code",
   "execution_count": 33,
   "metadata": {},
   "outputs": [
    {
     "name": "stdout",
     "output_type": "stream",
     "text": [
      "Медиана доходов сотрудников: 142594.39684740017\n",
      "Медиана доходов госслужащих: 150447.9352830068\n",
      "Медиана доходов компаньонов: 172357.95096577113\n",
      "Медиана доходов пенсионеров: 118514.48641164352\n",
      "children            0\n",
      "days_employed       0\n",
      "dob_years           0\n",
      "education           0\n",
      "education_id        0\n",
      "family_status       0\n",
      "family_status_id    0\n",
      "gender              0\n",
      "income_type         0\n",
      "debt                0\n",
      "total_income        0\n",
      "purpose             0\n",
      "dtype: int64\n"
     ]
    }
   ],
   "source": [
    "#<подсчитаем медиану для сотрудников>\n",
    "employee_income_median = data[data['income_type'] == 'сотрудник']['total_income'].median()\n",
    "print('Медиана доходов сотрудников:', employee_income_median)\n",
    "\n",
    "#<подсчитаем медиану для госслужащих>\n",
    "state_employee_income_median = data[data['income_type'] == 'госслужащий']['total_income'].median()\n",
    "print('Медиана доходов госслужащих:', state_employee_income_median)\n",
    "\n",
    "#<подсчитаем медиану для компаньонов>\n",
    "companion_income_median = data[data['income_type'] == 'компаньон']['total_income'].median()\n",
    "print('Медиана доходов компаньонов:', companion_income_median)\n",
    "\n",
    "#<подсчитаем медиану для пенсионеров>\n",
    "pensioner_income_median = data[data['income_type'] == 'пенсионер']['total_income'].median()\n",
    "print('Медиана доходов пенсионеров:', pensioner_income_median)\n",
    "\n",
    "# <Заполним сотрудникам с NaN значения total_income медианой по сотрудникам без NaN>\n",
    "data.loc[data.income_type == 'сотрудник','total_income'] = data[data.income_type == 'сотрудник']['total_income'].fillna(employee_income_median)\n",
    "\n",
    "# <Заполним госслужащим с NaN значения total_income медианой по госслужащим без NaN>\n",
    "data.loc[data.income_type == 'госслужащий','total_income'] = data[data.income_type == 'госслужащий']['total_income'].fillna(state_employee_income_median)\n",
    "\n",
    "# <Заполним компаньонам с NaN значения total_income медианой по компаньонам без NaN>\n",
    "data.loc[data.income_type == 'компаньон','total_income'] = data[data.income_type == 'компаньон']['total_income'].fillna(companion_income_median)\n",
    "\n",
    "# <Заполним сотрудникам с NaN значения total_income медианой по пенсионерам без NaN>\n",
    "data.loc[data.income_type == 'пенсионер','total_income'] = data[data.income_type == 'пенсионер']['total_income'].fillna(pensioner_income_median)\n",
    "\n",
    "# <Проставим предпринимателю с NaN значение total_income как у другого предпринимателя, их всего два.>\n",
    "data['total_income'] = np.where((data.index == 5931),data.loc[18647,'total_income'],data.total_income)\n",
    "\n",
    "# <Проверим наличие NaN>\n",
    "print(data[data['total_income'].isna() != False].count())"
   ]
  },
  {
   "cell_type": "markdown",
   "metadata": {},
   "source": [
    "Проверим все ли значения в порядке в столбце *dob_years*:"
   ]
  },
  {
   "cell_type": "code",
   "execution_count": 34,
   "metadata": {},
   "outputs": [
    {
     "data": {
      "text/plain": [
       "array([42, 36, 33, 32, 53, 27, 43, 50, 35, 41, 40, 65, 54, 56, 26, 48, 24,\n",
       "       21, 57, 67, 28, 63, 62, 47, 34, 68, 25, 31, 30, 20, 49, 37, 45, 61,\n",
       "       64, 44, 52, 46, 23, 38, 39, 51,  0, 59, 29, 60, 55, 58, 71, 22, 73,\n",
       "       66, 69, 19, 72, 70, 74, 75])"
      ]
     },
     "execution_count": 34,
     "metadata": {},
     "output_type": "execute_result"
    }
   ],
   "source": [
    "# <получим array со всеми уникальными значениями столбца>\n",
    "data['dob_years'].unique()"
   ]
  },
  {
   "cell_type": "markdown",
   "metadata": {},
   "source": [
    "Есть проблема с возрастом 0. Попробуем проставить тут средний возраст, разный для пенсионеров и остальных."
   ]
  },
  {
   "cell_type": "code",
   "execution_count": 35,
   "metadata": {},
   "outputs": [
    {
     "name": "stdout",
     "output_type": "stream",
     "text": [
      "Средний возраст пенсионера: 59\n",
      "Средний возраст непенсионера: 40\n"
     ]
    }
   ],
   "source": [
    "#<подсчитаем средний возраст пенсионера>\n",
    "pensioner_age_mean = data[data['income_type'] == 'пенсионер']['dob_years'].mean()\n",
    "pensioner_age_mean = int(round(pensioner_age_mean))\n",
    "print('Средний возраст пенсионера:', pensioner_age_mean)\n",
    "\n",
    "#<подсчитаем средний возраст непенсионера>\n",
    "non_pensioner_age_mean = data[data['income_type'] != 'пенсионер']['dob_years'].mean()\n",
    "non_pensioner_age_mean = int(round(non_pensioner_age_mean))\n",
    "print('Средний возраст непенсионера:', non_pensioner_age_mean)\n",
    "\n",
    "#<Заменим 0 на средний возраст пенсионера>\n",
    "data['dob_years'] = np.where((data.dob_years == 0) & (data.income_type == 'пенсионер'),pensioner_age_mean,data.dob_years)\n",
    "\n",
    "#<Заменим 0 на средний возраст непенсионера>\n",
    "data['dob_years'] = np.where((data.dob_years == 0) & (data.income_type != 'пенсионер'),non_pensioner_age_mean,data.dob_years)"
   ]
  },
  {
   "cell_type": "markdown",
   "metadata": {},
   "source": [
    "Проверим все ли в порядке с полами в столбце *gender*:"
   ]
  },
  {
   "cell_type": "code",
   "execution_count": 36,
   "metadata": {},
   "outputs": [
    {
     "data": {
      "text/plain": [
       "F      14174\n",
       "M       7279\n",
       "XNA        1\n",
       "Name: gender, dtype: int64"
      ]
     },
     "execution_count": 36,
     "metadata": {},
     "output_type": "execute_result"
    }
   ],
   "source": [
    "# <получим array со всеми уникальными значениями столбца>\n",
    "data['gender'].value_counts()"
   ]
  },
  {
   "cell_type": "markdown",
   "metadata": {},
   "source": [
    "Имеет место быть неизвестный пол. Поиски в интернете привели лишь к тому что это название фреймворка. Так как вопросы поставленные перед нами в этом задании не требует анализа отталкиваясь от пола и значение всего лишь одно, я его оставлю. Возможная причина появления этого значения в данных: ошибка ввода (виновен пользователь CRM), обозначения пола принятые в опр. системе (кто знает может это данные из \"разнообразной\" страны), возможно мы имеем дело с тестовыми данными.\n",
    "Значение оставлю, так как в остальном эта строка адекватна, а значит имеет полное право влиять на мои выводы в конце проекта."
   ]
  },
  {
   "cell_type": "code",
   "execution_count": 37,
   "metadata": {},
   "outputs": [
    {
     "data": {
      "text/html": [
       "<div>\n",
       "<style scoped>\n",
       "    .dataframe tbody tr th:only-of-type {\n",
       "        vertical-align: middle;\n",
       "    }\n",
       "\n",
       "    .dataframe tbody tr th {\n",
       "        vertical-align: top;\n",
       "    }\n",
       "\n",
       "    .dataframe thead th {\n",
       "        text-align: right;\n",
       "    }\n",
       "</style>\n",
       "<table border=\"1\" class=\"dataframe\">\n",
       "  <thead>\n",
       "    <tr style=\"text-align: right;\">\n",
       "      <th></th>\n",
       "      <th>children</th>\n",
       "      <th>days_employed</th>\n",
       "      <th>dob_years</th>\n",
       "      <th>education</th>\n",
       "      <th>education_id</th>\n",
       "      <th>family_status</th>\n",
       "      <th>family_status_id</th>\n",
       "      <th>gender</th>\n",
       "      <th>income_type</th>\n",
       "      <th>debt</th>\n",
       "      <th>total_income</th>\n",
       "      <th>purpose</th>\n",
       "    </tr>\n",
       "  </thead>\n",
       "  <tbody>\n",
       "    <tr>\n",
       "      <td>10684</td>\n",
       "      <td>0.0</td>\n",
       "      <td>2358.600502</td>\n",
       "      <td>24</td>\n",
       "      <td>неоконченное высшее</td>\n",
       "      <td>2</td>\n",
       "      <td>гражданский брак</td>\n",
       "      <td>1</td>\n",
       "      <td>XNA</td>\n",
       "      <td>компаньон</td>\n",
       "      <td>0</td>\n",
       "      <td>203905.157261</td>\n",
       "      <td>покупка недвижимости</td>\n",
       "    </tr>\n",
       "  </tbody>\n",
       "</table>\n",
       "</div>"
      ],
      "text/plain": [
       "       children  days_employed  dob_years            education  education_id  \\\n",
       "10684       0.0    2358.600502         24  неоконченное высшее             2   \n",
       "\n",
       "          family_status  family_status_id gender income_type  debt  \\\n",
       "10684  гражданский брак                 1    XNA   компаньон     0   \n",
       "\n",
       "        total_income               purpose  \n",
       "10684  203905.157261  покупка недвижимости  "
      ]
     },
     "execution_count": 37,
     "metadata": {},
     "output_type": "execute_result"
    }
   ],
   "source": [
    "data[data['gender'] == 'XNA']"
   ]
  },
  {
   "cell_type": "code",
   "execution_count": 38,
   "metadata": {},
   "outputs": [
    {
     "name": "stdout",
     "output_type": "stream",
     "text": [
      "<class 'pandas.core.frame.DataFrame'>\n",
      "RangeIndex: 21454 entries, 0 to 21453\n",
      "Data columns (total 12 columns):\n",
      "children            21454 non-null float64\n",
      "days_employed       21454 non-null float64\n",
      "dob_years           21454 non-null int64\n",
      "education           21454 non-null object\n",
      "education_id        21454 non-null int64\n",
      "family_status       21454 non-null object\n",
      "family_status_id    21454 non-null int64\n",
      "gender              21454 non-null object\n",
      "income_type         21454 non-null object\n",
      "debt                21454 non-null int64\n",
      "total_income        21454 non-null float64\n",
      "purpose             21454 non-null object\n",
      "dtypes: float64(3), int64(4), object(5)\n",
      "memory usage: 2.0+ MB\n",
      "None\n"
     ]
    }
   ],
   "source": [
    "# <общая информация о данных таблицы data>\n",
    "print(data.info())"
   ]
  },
  {
   "cell_type": "markdown",
   "metadata": {},
   "source": [
    "### Вывод"
   ]
  },
  {
   "cell_type": "markdown",
   "metadata": {},
   "source": [
    "Пропусков больше нет, после прохождения дедубликации у нас на 71 значение меньше. Мы заполнили пропуски медианой по каждому типу дохода, это вполне легитимно, учитывая что в рамках курса мы еще не дошли до более интересных способов замены пропусков.\n",
    "Из интересного - аномальные значения отработанных дней встречаются у пенсионеров, возможно это связано с тем что у них их очень много(должно быть), возможно это какая-то бюрократическая ошибка + ошибка пользователя + несовершенность CRM-системы + ошибка формата. Имеется нулевой возраст в некоторых данных, если он вычислялся в системе, он мог стать таким и по причине ошибки пользователя, и из-за состояния системы в конкретный момент ввода данных и выгрузки этих данных. По полу возможные причины описаны выше, перед выводом."
   ]
  },
  {
   "cell_type": "markdown",
   "metadata": {},
   "source": [
    "### Замена типа данных"
   ]
  },
  {
   "cell_type": "markdown",
   "metadata": {},
   "source": [
    "Еще раз посмотрим информацию о нашей таблице:"
   ]
  },
  {
   "cell_type": "code",
   "execution_count": 39,
   "metadata": {},
   "outputs": [
    {
     "name": "stdout",
     "output_type": "stream",
     "text": [
      "<class 'pandas.core.frame.DataFrame'>\n",
      "RangeIndex: 21454 entries, 0 to 21453\n",
      "Data columns (total 12 columns):\n",
      "children            21454 non-null float64\n",
      "days_employed       21454 non-null float64\n",
      "dob_years           21454 non-null int64\n",
      "education           21454 non-null object\n",
      "education_id        21454 non-null int64\n",
      "family_status       21454 non-null object\n",
      "family_status_id    21454 non-null int64\n",
      "gender              21454 non-null object\n",
      "income_type         21454 non-null object\n",
      "debt                21454 non-null int64\n",
      "total_income        21454 non-null float64\n",
      "purpose             21454 non-null object\n",
      "dtypes: float64(3), int64(4), object(5)\n",
      "memory usage: 2.0+ MB\n"
     ]
    }
   ],
   "source": [
    "data.info()"
   ]
  },
  {
   "cell_type": "markdown",
   "metadata": {},
   "source": [
    "Количество детей, возраст клиента в годах, идентификатор уровня образования, идентификатор семейного положения, имел ли задолженность по возврату кредитов - целые числа тут подходят идеально. Всем остальным категориям формат тоже подходит, кроме *days_employed*, *total_income* и *children*."
   ]
  },
  {
   "cell_type": "markdown",
   "metadata": {},
   "source": [
    "Преобразуем вещественные значения из столбцов *days_employed*, *total_income* и *children* в целочисленные. Сделаем это потому что отработанные дни и количество детей должны быть представлены целым числом, а в остальном сделаем это для уменьшения веса таблицы и для того чтобы визуально она выглядела лучше. Используем метод astype('int'), в спринте для данных преобразований был указан именно этот метод."
   ]
  },
  {
   "cell_type": "code",
   "execution_count": 40,
   "metadata": {},
   "outputs": [
    {
     "name": "stdout",
     "output_type": "stream",
     "text": [
      "<class 'pandas.core.frame.DataFrame'>\n",
      "RangeIndex: 21454 entries, 0 to 21453\n",
      "Data columns (total 12 columns):\n",
      "children            21454 non-null int64\n",
      "days_employed       21454 non-null int64\n",
      "dob_years           21454 non-null int64\n",
      "education           21454 non-null object\n",
      "education_id        21454 non-null int64\n",
      "family_status       21454 non-null object\n",
      "family_status_id    21454 non-null int64\n",
      "gender              21454 non-null object\n",
      "income_type         21454 non-null object\n",
      "debt                21454 non-null int64\n",
      "total_income        21454 non-null int64\n",
      "purpose             21454 non-null object\n",
      "dtypes: int64(7), object(5)\n",
      "memory usage: 2.0+ MB\n"
     ]
    }
   ],
   "source": [
    "data['days_employed'] = data['days_employed'].astype('int')\n",
    "\n",
    "data['children'] = data['children'].astype('int')\n",
    "\n",
    "data['total_income'] = data['total_income'].astype('int')\n",
    "\n",
    "# <проверим результаты>\n",
    "data.info()"
   ]
  },
  {
   "cell_type": "markdown",
   "metadata": {},
   "source": [
    "Проверим не появились ли дубликаты в процессе обработки пропусков."
   ]
  },
  {
   "cell_type": "code",
   "execution_count": 41,
   "metadata": {},
   "outputs": [
    {
     "data": {
      "text/plain": [
       "0"
      ]
     },
     "execution_count": 41,
     "metadata": {},
     "output_type": "execute_result"
    }
   ],
   "source": [
    "# <проверим количество полных дубликатов>\n",
    "data.duplicated().sum()"
   ]
  },
  {
   "cell_type": "markdown",
   "metadata": {},
   "source": [
    "Все в порядке. Проверим результаты:"
   ]
  },
  {
   "cell_type": "code",
   "execution_count": 42,
   "metadata": {},
   "outputs": [
    {
     "data": {
      "text/html": [
       "<div>\n",
       "<style scoped>\n",
       "    .dataframe tbody tr th:only-of-type {\n",
       "        vertical-align: middle;\n",
       "    }\n",
       "\n",
       "    .dataframe tbody tr th {\n",
       "        vertical-align: top;\n",
       "    }\n",
       "\n",
       "    .dataframe thead th {\n",
       "        text-align: right;\n",
       "    }\n",
       "</style>\n",
       "<table border=\"1\" class=\"dataframe\">\n",
       "  <thead>\n",
       "    <tr style=\"text-align: right;\">\n",
       "      <th></th>\n",
       "      <th>children</th>\n",
       "      <th>days_employed</th>\n",
       "      <th>dob_years</th>\n",
       "      <th>education</th>\n",
       "      <th>education_id</th>\n",
       "      <th>family_status</th>\n",
       "      <th>family_status_id</th>\n",
       "      <th>gender</th>\n",
       "      <th>income_type</th>\n",
       "      <th>debt</th>\n",
       "      <th>total_income</th>\n",
       "      <th>purpose</th>\n",
       "    </tr>\n",
       "  </thead>\n",
       "  <tbody>\n",
       "    <tr>\n",
       "      <td>0</td>\n",
       "      <td>1</td>\n",
       "      <td>8437</td>\n",
       "      <td>42</td>\n",
       "      <td>высшее</td>\n",
       "      <td>0</td>\n",
       "      <td>женат / замужем</td>\n",
       "      <td>0</td>\n",
       "      <td>F</td>\n",
       "      <td>сотрудник</td>\n",
       "      <td>0</td>\n",
       "      <td>253875</td>\n",
       "      <td>покупка жилья</td>\n",
       "    </tr>\n",
       "    <tr>\n",
       "      <td>1</td>\n",
       "      <td>1</td>\n",
       "      <td>4024</td>\n",
       "      <td>36</td>\n",
       "      <td>среднее</td>\n",
       "      <td>1</td>\n",
       "      <td>женат / замужем</td>\n",
       "      <td>0</td>\n",
       "      <td>F</td>\n",
       "      <td>сотрудник</td>\n",
       "      <td>0</td>\n",
       "      <td>112080</td>\n",
       "      <td>приобретение автомобиля</td>\n",
       "    </tr>\n",
       "    <tr>\n",
       "      <td>2</td>\n",
       "      <td>0</td>\n",
       "      <td>5623</td>\n",
       "      <td>33</td>\n",
       "      <td>среднее</td>\n",
       "      <td>1</td>\n",
       "      <td>женат / замужем</td>\n",
       "      <td>0</td>\n",
       "      <td>M</td>\n",
       "      <td>сотрудник</td>\n",
       "      <td>0</td>\n",
       "      <td>145885</td>\n",
       "      <td>покупка жилья</td>\n",
       "    </tr>\n",
       "    <tr>\n",
       "      <td>3</td>\n",
       "      <td>3</td>\n",
       "      <td>4124</td>\n",
       "      <td>32</td>\n",
       "      <td>среднее</td>\n",
       "      <td>1</td>\n",
       "      <td>женат / замужем</td>\n",
       "      <td>0</td>\n",
       "      <td>M</td>\n",
       "      <td>сотрудник</td>\n",
       "      <td>0</td>\n",
       "      <td>267628</td>\n",
       "      <td>дополнительное образование</td>\n",
       "    </tr>\n",
       "    <tr>\n",
       "      <td>4</td>\n",
       "      <td>0</td>\n",
       "      <td>1630</td>\n",
       "      <td>53</td>\n",
       "      <td>среднее</td>\n",
       "      <td>1</td>\n",
       "      <td>гражданский брак</td>\n",
       "      <td>1</td>\n",
       "      <td>F</td>\n",
       "      <td>пенсионер</td>\n",
       "      <td>0</td>\n",
       "      <td>158616</td>\n",
       "      <td>сыграть свадьбу</td>\n",
       "    </tr>\n",
       "  </tbody>\n",
       "</table>\n",
       "</div>"
      ],
      "text/plain": [
       "   children  days_employed  dob_years education  education_id  \\\n",
       "0         1           8437         42    высшее             0   \n",
       "1         1           4024         36   среднее             1   \n",
       "2         0           5623         33   среднее             1   \n",
       "3         3           4124         32   среднее             1   \n",
       "4         0           1630         53   среднее             1   \n",
       "\n",
       "      family_status  family_status_id gender income_type  debt  total_income  \\\n",
       "0   женат / замужем                 0      F   сотрудник     0        253875   \n",
       "1   женат / замужем                 0      F   сотрудник     0        112080   \n",
       "2   женат / замужем                 0      M   сотрудник     0        145885   \n",
       "3   женат / замужем                 0      M   сотрудник     0        267628   \n",
       "4  гражданский брак                 1      F   пенсионер     0        158616   \n",
       "\n",
       "                      purpose  \n",
       "0               покупка жилья  \n",
       "1     приобретение автомобиля  \n",
       "2               покупка жилья  \n",
       "3  дополнительное образование  \n",
       "4             сыграть свадьбу  "
      ]
     },
     "execution_count": 42,
     "metadata": {},
     "output_type": "execute_result"
    }
   ],
   "source": [
    "data.head()"
   ]
  },
  {
   "cell_type": "markdown",
   "metadata": {},
   "source": [
    "### Вывод"
   ]
  },
  {
   "cell_type": "markdown",
   "metadata": {},
   "source": [
    "Мы определили какие столбцы требует замены типа данных, и использовали для этого единственный доступный нам метод для перевода вещественных чисел в целые (из учебного курса). Идем дальше."
   ]
  },
  {
   "cell_type": "markdown",
   "metadata": {},
   "source": [
    "### Лемматизация"
   ]
  },
  {
   "cell_type": "markdown",
   "metadata": {},
   "source": [
    "Необходимо уменьшить вариативность целей кредита, так как многие вариации (покупка жилья, покупка жилья для семьи) можно выразить одним названием цели кредита. Начнем с того что выделим наиболее популярные леммы:"
   ]
  },
  {
   "cell_type": "code",
   "execution_count": 44,
   "metadata": {},
   "outputs": [
    {
     "data": {
      "text/plain": [
       "Counter({'покупка': 5897,\n",
       "         ' ': 33570,\n",
       "         'жилье': 4460,\n",
       "         '\\n': 21454,\n",
       "         'приобретение': 461,\n",
       "         'автомобиль': 4306,\n",
       "         'дополнительный': 906,\n",
       "         'образование': 4013,\n",
       "         'сыграть': 765,\n",
       "         'свадьба': 2324,\n",
       "         'операция': 2604,\n",
       "         'с': 2918,\n",
       "         'на': 2222,\n",
       "         'проведение': 768,\n",
       "         'для': 1289,\n",
       "         'семья': 638,\n",
       "         'недвижимость': 6351,\n",
       "         'коммерческий': 1311,\n",
       "         'жилой': 1230,\n",
       "         'строительство': 1878,\n",
       "         'собственный': 635,\n",
       "         'подержать': 478,\n",
       "         'свой': 2230,\n",
       "         'со': 627,\n",
       "         'заниматься': 904,\n",
       "         'сделка': 941,\n",
       "         'подержанный': 486,\n",
       "         'получение': 1314,\n",
       "         'высокий': 1374,\n",
       "         'профильный': 436,\n",
       "         'сдача': 651,\n",
       "         'ремонт': 607})"
      ]
     },
     "execution_count": 44,
     "metadata": {},
     "output_type": "execute_result"
    }
   ],
   "source": [
    "# <Импотируем pymystem3:>\n",
    "from pymystem3 import Mystem\n",
    "m = Mystem()\n",
    "\n",
    "# <вызываем специальный контейнер Counter из модуля collections>\n",
    "from collections import Counter\n",
    "\n",
    "# <создаем счетчик лемм>\n",
    "count_lemmas = Counter()\n",
    "\n",
    "# <Пополняем счетчик лемм леммами из каждой строки столбца purpose>\n",
    "for row in range(data.shape[0]):\n",
    "    lemmas = m.lemmatize(data['purpose'][row])\n",
    "    count_lemmas += Counter(lemmas)\n",
    "\n",
    "# <наиболее популярные леммы>    \n",
    "count_lemmas"
   ]
  },
  {
   "cell_type": "markdown",
   "metadata": {},
   "source": [
    "Выделим типы целей кредита. Для этого мне в том числе понадобилось посмотреть таблицу целиком.\n",
    "* Операции с коммерческой недвижимостью, их стоит выделить отдельно, это бизнес, это не жилье. Их количество должно быть предположительно равно 1311 судя по нашему счетчику.\n",
    "* Сделка с автомобилем, предполагаемое количество 4306.\n",
    "* Образование, предполагаемое количество 4013.\n",
    "* Строительство, предполагаемое количество 1878.\n",
    "* Свадьба, предполагаемое количество 2324.\n",
    "* Ремонт, предполагаемое количество 607.\n",
    "* Операции с некоммерческой недвижимостью/жильем, предполагаемое количество 21424 - все типы = 7015.\n",
    "\n",
    "Снова пройдемся по всей таблице и теперь будем менять каждое значение цели кредита в зависимости от найденных лемм:"
   ]
  },
  {
   "cell_type": "code",
   "execution_count": 45,
   "metadata": {},
   "outputs": [],
   "source": [
    "# <Пройдемся циклом по столбцу purpose, если встречаем необходимую лемму в значении то меняем его на новое, стандартизированное>\n",
    "for row in range(data.shape[0]):\n",
    "    lemmas = m.lemmatize(data['purpose'][row])\n",
    "    if 'коммерческий' in lemmas:\n",
    "        data.loc[row, 'purpose'] = 'Операции с коммерческой недвижимостью'\n",
    "    elif 'автомобиль' in lemmas:\n",
    "        data.loc[row, 'purpose']  = 'Сделка с автомобилем'\n",
    "    elif 'свадьба' in lemmas:\n",
    "        data.loc[row, 'purpose']  = 'Свадьба'\n",
    "    elif 'образование' in lemmas:\n",
    "        data.loc[row, 'purpose']  = 'Образование'\n",
    "    elif 'строительство' in lemmas:\n",
    "        data.loc[row, 'purpose']  = 'Строительство'\n",
    "    elif 'ремонт' in lemmas:\n",
    "        data.loc[row, 'purpose']  = 'Ремонт'\n",
    "    else:\n",
    "        data.loc[row, 'purpose']  = 'Операции с некоммерческой недвижимостью/жильем'"
   ]
  },
  {
   "cell_type": "code",
   "execution_count": 46,
   "metadata": {},
   "outputs": [
    {
     "data": {
      "text/plain": [
       "Операции с некоммерческой недвижимостью/жильем    7015\n",
       "Сделка с автомобилем                              4306\n",
       "Образование                                       4013\n",
       "Свадьба                                           2324\n",
       "Строительство                                     1878\n",
       "Операции с коммерческой недвижимостью             1311\n",
       "Ремонт                                             607\n",
       "Name: purpose, dtype: int64"
      ]
     },
     "execution_count": 46,
     "metadata": {},
     "output_type": "execute_result"
    }
   ],
   "source": [
    "# <проверим количество типов кредита>\n",
    "data['purpose'].value_counts()"
   ]
  },
  {
   "cell_type": "code",
   "execution_count": 47,
   "metadata": {
    "scrolled": true
   },
   "outputs": [
    {
     "data": {
      "text/html": [
       "<div>\n",
       "<style scoped>\n",
       "    .dataframe tbody tr th:only-of-type {\n",
       "        vertical-align: middle;\n",
       "    }\n",
       "\n",
       "    .dataframe tbody tr th {\n",
       "        vertical-align: top;\n",
       "    }\n",
       "\n",
       "    .dataframe thead th {\n",
       "        text-align: right;\n",
       "    }\n",
       "</style>\n",
       "<table border=\"1\" class=\"dataframe\">\n",
       "  <thead>\n",
       "    <tr style=\"text-align: right;\">\n",
       "      <th></th>\n",
       "      <th>children</th>\n",
       "      <th>days_employed</th>\n",
       "      <th>dob_years</th>\n",
       "      <th>education</th>\n",
       "      <th>education_id</th>\n",
       "      <th>family_status</th>\n",
       "      <th>family_status_id</th>\n",
       "      <th>gender</th>\n",
       "      <th>income_type</th>\n",
       "      <th>debt</th>\n",
       "      <th>total_income</th>\n",
       "      <th>purpose</th>\n",
       "    </tr>\n",
       "  </thead>\n",
       "  <tbody>\n",
       "    <tr>\n",
       "      <td>0</td>\n",
       "      <td>1</td>\n",
       "      <td>8437</td>\n",
       "      <td>42</td>\n",
       "      <td>высшее</td>\n",
       "      <td>0</td>\n",
       "      <td>женат / замужем</td>\n",
       "      <td>0</td>\n",
       "      <td>F</td>\n",
       "      <td>сотрудник</td>\n",
       "      <td>0</td>\n",
       "      <td>253875</td>\n",
       "      <td>Операции с некоммерческой недвижимостью/жильем</td>\n",
       "    </tr>\n",
       "    <tr>\n",
       "      <td>1</td>\n",
       "      <td>1</td>\n",
       "      <td>4024</td>\n",
       "      <td>36</td>\n",
       "      <td>среднее</td>\n",
       "      <td>1</td>\n",
       "      <td>женат / замужем</td>\n",
       "      <td>0</td>\n",
       "      <td>F</td>\n",
       "      <td>сотрудник</td>\n",
       "      <td>0</td>\n",
       "      <td>112080</td>\n",
       "      <td>Сделка с автомобилем</td>\n",
       "    </tr>\n",
       "    <tr>\n",
       "      <td>2</td>\n",
       "      <td>0</td>\n",
       "      <td>5623</td>\n",
       "      <td>33</td>\n",
       "      <td>среднее</td>\n",
       "      <td>1</td>\n",
       "      <td>женат / замужем</td>\n",
       "      <td>0</td>\n",
       "      <td>M</td>\n",
       "      <td>сотрудник</td>\n",
       "      <td>0</td>\n",
       "      <td>145885</td>\n",
       "      <td>Операции с некоммерческой недвижимостью/жильем</td>\n",
       "    </tr>\n",
       "    <tr>\n",
       "      <td>3</td>\n",
       "      <td>3</td>\n",
       "      <td>4124</td>\n",
       "      <td>32</td>\n",
       "      <td>среднее</td>\n",
       "      <td>1</td>\n",
       "      <td>женат / замужем</td>\n",
       "      <td>0</td>\n",
       "      <td>M</td>\n",
       "      <td>сотрудник</td>\n",
       "      <td>0</td>\n",
       "      <td>267628</td>\n",
       "      <td>Образование</td>\n",
       "    </tr>\n",
       "    <tr>\n",
       "      <td>4</td>\n",
       "      <td>0</td>\n",
       "      <td>1630</td>\n",
       "      <td>53</td>\n",
       "      <td>среднее</td>\n",
       "      <td>1</td>\n",
       "      <td>гражданский брак</td>\n",
       "      <td>1</td>\n",
       "      <td>F</td>\n",
       "      <td>пенсионер</td>\n",
       "      <td>0</td>\n",
       "      <td>158616</td>\n",
       "      <td>Свадьба</td>\n",
       "    </tr>\n",
       "    <tr>\n",
       "      <td>5</td>\n",
       "      <td>0</td>\n",
       "      <td>926</td>\n",
       "      <td>27</td>\n",
       "      <td>высшее</td>\n",
       "      <td>0</td>\n",
       "      <td>гражданский брак</td>\n",
       "      <td>1</td>\n",
       "      <td>M</td>\n",
       "      <td>компаньон</td>\n",
       "      <td>0</td>\n",
       "      <td>255763</td>\n",
       "      <td>Операции с некоммерческой недвижимостью/жильем</td>\n",
       "    </tr>\n",
       "    <tr>\n",
       "      <td>6</td>\n",
       "      <td>0</td>\n",
       "      <td>2879</td>\n",
       "      <td>43</td>\n",
       "      <td>высшее</td>\n",
       "      <td>0</td>\n",
       "      <td>женат / замужем</td>\n",
       "      <td>0</td>\n",
       "      <td>F</td>\n",
       "      <td>компаньон</td>\n",
       "      <td>0</td>\n",
       "      <td>240525</td>\n",
       "      <td>Операции с некоммерческой недвижимостью/жильем</td>\n",
       "    </tr>\n",
       "    <tr>\n",
       "      <td>7</td>\n",
       "      <td>0</td>\n",
       "      <td>152</td>\n",
       "      <td>50</td>\n",
       "      <td>среднее</td>\n",
       "      <td>1</td>\n",
       "      <td>женат / замужем</td>\n",
       "      <td>0</td>\n",
       "      <td>M</td>\n",
       "      <td>сотрудник</td>\n",
       "      <td>0</td>\n",
       "      <td>135823</td>\n",
       "      <td>Образование</td>\n",
       "    </tr>\n",
       "    <tr>\n",
       "      <td>8</td>\n",
       "      <td>2</td>\n",
       "      <td>6929</td>\n",
       "      <td>35</td>\n",
       "      <td>высшее</td>\n",
       "      <td>0</td>\n",
       "      <td>гражданский брак</td>\n",
       "      <td>1</td>\n",
       "      <td>F</td>\n",
       "      <td>сотрудник</td>\n",
       "      <td>0</td>\n",
       "      <td>95856</td>\n",
       "      <td>Свадьба</td>\n",
       "    </tr>\n",
       "    <tr>\n",
       "      <td>9</td>\n",
       "      <td>0</td>\n",
       "      <td>2188</td>\n",
       "      <td>41</td>\n",
       "      <td>среднее</td>\n",
       "      <td>1</td>\n",
       "      <td>женат / замужем</td>\n",
       "      <td>0</td>\n",
       "      <td>M</td>\n",
       "      <td>сотрудник</td>\n",
       "      <td>0</td>\n",
       "      <td>144425</td>\n",
       "      <td>Операции с некоммерческой недвижимостью/жильем</td>\n",
       "    </tr>\n",
       "  </tbody>\n",
       "</table>\n",
       "</div>"
      ],
      "text/plain": [
       "   children  days_employed  dob_years education  education_id  \\\n",
       "0         1           8437         42    высшее             0   \n",
       "1         1           4024         36   среднее             1   \n",
       "2         0           5623         33   среднее             1   \n",
       "3         3           4124         32   среднее             1   \n",
       "4         0           1630         53   среднее             1   \n",
       "5         0            926         27    высшее             0   \n",
       "6         0           2879         43    высшее             0   \n",
       "7         0            152         50   среднее             1   \n",
       "8         2           6929         35    высшее             0   \n",
       "9         0           2188         41   среднее             1   \n",
       "\n",
       "      family_status  family_status_id gender income_type  debt  total_income  \\\n",
       "0   женат / замужем                 0      F   сотрудник     0        253875   \n",
       "1   женат / замужем                 0      F   сотрудник     0        112080   \n",
       "2   женат / замужем                 0      M   сотрудник     0        145885   \n",
       "3   женат / замужем                 0      M   сотрудник     0        267628   \n",
       "4  гражданский брак                 1      F   пенсионер     0        158616   \n",
       "5  гражданский брак                 1      M   компаньон     0        255763   \n",
       "6   женат / замужем                 0      F   компаньон     0        240525   \n",
       "7   женат / замужем                 0      M   сотрудник     0        135823   \n",
       "8  гражданский брак                 1      F   сотрудник     0         95856   \n",
       "9   женат / замужем                 0      M   сотрудник     0        144425   \n",
       "\n",
       "                                          purpose  \n",
       "0  Операции с некоммерческой недвижимостью/жильем  \n",
       "1                            Сделка с автомобилем  \n",
       "2  Операции с некоммерческой недвижимостью/жильем  \n",
       "3                                     Образование  \n",
       "4                                         Свадьба  \n",
       "5  Операции с некоммерческой недвижимостью/жильем  \n",
       "6  Операции с некоммерческой недвижимостью/жильем  \n",
       "7                                     Образование  \n",
       "8                                         Свадьба  \n",
       "9  Операции с некоммерческой недвижимостью/жильем  "
      ]
     },
     "execution_count": 47,
     "metadata": {},
     "output_type": "execute_result"
    }
   ],
   "source": [
    "# <Сравниваем с первыми 10 значениями в начале проекта, сработало верно>\n",
    "data.head(10)"
   ]
  },
  {
   "cell_type": "markdown",
   "metadata": {},
   "source": [
    "После лемматизации у нас вполне могут появиться дубликаты:"
   ]
  },
  {
   "cell_type": "code",
   "execution_count": 48,
   "metadata": {},
   "outputs": [
    {
     "data": {
      "text/plain": [
       "231"
      ]
     },
     "execution_count": 48,
     "metadata": {},
     "output_type": "execute_result"
    }
   ],
   "source": [
    "# <проверим количество полных дубликатов после лемматизации>\n",
    "data.duplicated().sum()"
   ]
  },
  {
   "cell_type": "markdown",
   "metadata": {},
   "source": [
    "Так и есть, что именно с ними делать - вопрос хороший. Изменились только цели кредита в плане названий, но при этом пол, образование, тип дохода и количество детей у этих людей одинаковое, и даже возраст. Это может быть связано с тем что мы проставляли медианы пропускам, и меняли возраст 0 на средний у пенсионеров и непенсионеров. Учитывая сколько параметров совпадают, я принимаю решение удалить эти дубликаты. Если бы не совпадающий возраст, это еще терпимо, но с возрастом вероятность случайного дубликата сильно понижается. Удалим дубликаты:"
   ]
  },
  {
   "cell_type": "code",
   "execution_count": 49,
   "metadata": {},
   "outputs": [
    {
     "data": {
      "text/plain": [
       "0"
      ]
     },
     "execution_count": 49,
     "metadata": {},
     "output_type": "execute_result"
    }
   ],
   "source": [
    "# <удаление дубликатов методом drop_duplicates()>\n",
    "data = data.drop_duplicates().reset_index(drop = True)\n",
    "# <проверим количество полных дубликатов>\n",
    "data.duplicated().sum()"
   ]
  },
  {
   "cell_type": "markdown",
   "metadata": {},
   "source": [
    "### Вывод"
   ]
  },
  {
   "cell_type": "markdown",
   "metadata": {},
   "source": [
    "Мы умеем лемматизировать: подсчитали самые популярные леммы, изучили данные, выделили самые популярные категории, и четко указали какие леммы встречаются для подобных категорий. Затем написали цикл, преобразующий столбец *purpose*. Теперь мы точно сможем ответить на вопрос \"Как разные цели кредита влияют на его возврат в срок?\"."
   ]
  },
  {
   "cell_type": "markdown",
   "metadata": {},
   "source": [
    "### Категоризация данных"
   ]
  },
  {
   "cell_type": "markdown",
   "metadata": {},
   "source": [
    "Начнем по порядку, разделим наши данные на категории так, чтобы было проще ответить на вопросы по проекту.\n",
    "Добавим к таблице столбец *have_children*, отображающий наличие или отсутствие детей:"
   ]
  },
  {
   "cell_type": "code",
   "execution_count": 50,
   "metadata": {},
   "outputs": [
    {
     "data": {
      "text/html": [
       "<div>\n",
       "<style scoped>\n",
       "    .dataframe tbody tr th:only-of-type {\n",
       "        vertical-align: middle;\n",
       "    }\n",
       "\n",
       "    .dataframe tbody tr th {\n",
       "        vertical-align: top;\n",
       "    }\n",
       "\n",
       "    .dataframe thead th {\n",
       "        text-align: right;\n",
       "    }\n",
       "</style>\n",
       "<table border=\"1\" class=\"dataframe\">\n",
       "  <thead>\n",
       "    <tr style=\"text-align: right;\">\n",
       "      <th></th>\n",
       "      <th>children</th>\n",
       "      <th>have_children</th>\n",
       "    </tr>\n",
       "  </thead>\n",
       "  <tbody>\n",
       "    <tr>\n",
       "      <td>0</td>\n",
       "      <td>1</td>\n",
       "      <td>есть дети</td>\n",
       "    </tr>\n",
       "    <tr>\n",
       "      <td>1</td>\n",
       "      <td>1</td>\n",
       "      <td>есть дети</td>\n",
       "    </tr>\n",
       "    <tr>\n",
       "      <td>2</td>\n",
       "      <td>0</td>\n",
       "      <td>нет детей</td>\n",
       "    </tr>\n",
       "    <tr>\n",
       "      <td>3</td>\n",
       "      <td>3</td>\n",
       "      <td>есть дети</td>\n",
       "    </tr>\n",
       "    <tr>\n",
       "      <td>4</td>\n",
       "      <td>0</td>\n",
       "      <td>нет детей</td>\n",
       "    </tr>\n",
       "    <tr>\n",
       "      <td>5</td>\n",
       "      <td>0</td>\n",
       "      <td>нет детей</td>\n",
       "    </tr>\n",
       "    <tr>\n",
       "      <td>6</td>\n",
       "      <td>0</td>\n",
       "      <td>нет детей</td>\n",
       "    </tr>\n",
       "    <tr>\n",
       "      <td>7</td>\n",
       "      <td>0</td>\n",
       "      <td>нет детей</td>\n",
       "    </tr>\n",
       "    <tr>\n",
       "      <td>8</td>\n",
       "      <td>2</td>\n",
       "      <td>есть дети</td>\n",
       "    </tr>\n",
       "    <tr>\n",
       "      <td>9</td>\n",
       "      <td>0</td>\n",
       "      <td>нет детей</td>\n",
       "    </tr>\n",
       "  </tbody>\n",
       "</table>\n",
       "</div>"
      ],
      "text/plain": [
       "   children have_children\n",
       "0         1     есть дети\n",
       "1         1     есть дети\n",
       "2         0     нет детей\n",
       "3         3     есть дети\n",
       "4         0     нет детей\n",
       "5         0     нет детей\n",
       "6         0     нет детей\n",
       "7         0     нет детей\n",
       "8         2     есть дети\n",
       "9         0     нет детей"
      ]
     },
     "execution_count": 50,
     "metadata": {},
     "output_type": "execute_result"
    }
   ],
   "source": [
    "# <создадим функцию выдающую строки в зависимости от количества детей>\n",
    "def havechildren(children_amount):\n",
    "    \"\"\"\n",
    "    Возвращает 1 или 0 в зависимости от количества детей, используя правила:\n",
    "    - 'есть дети', если детей больше 0.\n",
    "    - 'нет детей', если детей 0.\n",
    "    \"\"\"\n",
    "    if children_amount == 0:\n",
    "        return 'нет детей'\n",
    "    return 'есть дети'\n",
    "\n",
    "# <создадим столбец have_children со значениями есть дети/нет детей>\n",
    "data['have_children'] = data['children'].apply(havechildren)\n",
    "\n",
    "# <Проверим результат>\n",
    "data.loc[:,['children','have_children']].head(10)"
   ]
  },
  {
   "cell_type": "markdown",
   "metadata": {},
   "source": [
    "Перейдем к зарплате. Разделим ее на квартили, так мы выявим в каких пределах находится каждая четверть данных о зарплате. Для этого используем метод quantile(): "
   ]
  },
  {
   "cell_type": "code",
   "execution_count": 51,
   "metadata": {},
   "outputs": [
    {
     "data": {
      "text/plain": [
       "0.25    106992.0\n",
       "0.50    142594.0\n",
       "0.75    196580.5\n",
       "Name: total_income, dtype: float64"
      ]
     },
     "execution_count": 51,
     "metadata": {},
     "output_type": "execute_result"
    }
   ],
   "source": [
    "# <используем метод quantile() для подсчета квартилей>\n",
    "data['total_income'].quantile([0.25,0.5,0.75])"
   ]
  },
  {
   "cell_type": "markdown",
   "metadata": {},
   "source": [
    "Добавим к таблице столбец *salary_category*, отображающий размер зарплаты заемщика:"
   ]
  },
  {
   "cell_type": "code",
   "execution_count": 52,
   "metadata": {},
   "outputs": [
    {
     "data": {
      "text/html": [
       "<div>\n",
       "<style scoped>\n",
       "    .dataframe tbody tr th:only-of-type {\n",
       "        vertical-align: middle;\n",
       "    }\n",
       "\n",
       "    .dataframe tbody tr th {\n",
       "        vertical-align: top;\n",
       "    }\n",
       "\n",
       "    .dataframe thead th {\n",
       "        text-align: right;\n",
       "    }\n",
       "</style>\n",
       "<table border=\"1\" class=\"dataframe\">\n",
       "  <thead>\n",
       "    <tr style=\"text-align: right;\">\n",
       "      <th></th>\n",
       "      <th>total_income</th>\n",
       "      <th>salary_category</th>\n",
       "    </tr>\n",
       "  </thead>\n",
       "  <tbody>\n",
       "    <tr>\n",
       "      <td>0</td>\n",
       "      <td>253875</td>\n",
       "      <td>более 196561</td>\n",
       "    </tr>\n",
       "    <tr>\n",
       "      <td>1</td>\n",
       "      <td>112080</td>\n",
       "      <td>от 106999 до 142594</td>\n",
       "    </tr>\n",
       "    <tr>\n",
       "      <td>2</td>\n",
       "      <td>145885</td>\n",
       "      <td>от 142595 до 196561</td>\n",
       "    </tr>\n",
       "    <tr>\n",
       "      <td>3</td>\n",
       "      <td>267628</td>\n",
       "      <td>более 196561</td>\n",
       "    </tr>\n",
       "    <tr>\n",
       "      <td>4</td>\n",
       "      <td>158616</td>\n",
       "      <td>от 142595 до 196561</td>\n",
       "    </tr>\n",
       "    <tr>\n",
       "      <td>5</td>\n",
       "      <td>255763</td>\n",
       "      <td>более 196561</td>\n",
       "    </tr>\n",
       "    <tr>\n",
       "      <td>6</td>\n",
       "      <td>240525</td>\n",
       "      <td>более 196561</td>\n",
       "    </tr>\n",
       "    <tr>\n",
       "      <td>7</td>\n",
       "      <td>135823</td>\n",
       "      <td>от 106999 до 142594</td>\n",
       "    </tr>\n",
       "    <tr>\n",
       "      <td>8</td>\n",
       "      <td>95856</td>\n",
       "      <td>менее 106999</td>\n",
       "    </tr>\n",
       "    <tr>\n",
       "      <td>9</td>\n",
       "      <td>144425</td>\n",
       "      <td>от 142595 до 196561</td>\n",
       "    </tr>\n",
       "  </tbody>\n",
       "</table>\n",
       "</div>"
      ],
      "text/plain": [
       "   total_income      salary_category\n",
       "0        253875         более 196561\n",
       "1        112080  от 106999 до 142594\n",
       "2        145885  от 142595 до 196561\n",
       "3        267628         более 196561\n",
       "4        158616  от 142595 до 196561\n",
       "5        255763         более 196561\n",
       "6        240525         более 196561\n",
       "7        135823  от 106999 до 142594\n",
       "8         95856         менее 106999\n",
       "9        144425  от 142595 до 196561"
      ]
     },
     "execution_count": 52,
     "metadata": {},
     "output_type": "execute_result"
    }
   ],
   "source": [
    "# <создадим функцию выдающую строки в зависимости от количества детей>\n",
    "def salarycategory(salary):\n",
    "    \"\"\"\n",
    "    Возвращает строки 'менее 106999' или 'от 106999 до 142594' или 'от 142595 до 196561' или 'более 196561' \n",
    "    в зависимости от зарплаты.\n",
    "    \"\"\"\n",
    "    if salary > 196561:\n",
    "        return 'более 196561'\n",
    "    elif salary > 142595:\n",
    "        return 'от 142595 до 196561'\n",
    "    elif salary > 106999:\n",
    "        return 'от 106999 до 142594'\n",
    "    return 'менее 106999'\n",
    "\n",
    "# <создадим столбец have_children со значениями есть дети/нет детей>\n",
    "data['salary_category'] = data['total_income'].apply(salarycategory)\n",
    "\n",
    "# <Проверим результат>\n",
    "data.loc[:,['total_income','salary_category']].head(10)"
   ]
  },
  {
   "cell_type": "markdown",
   "metadata": {},
   "source": [
    "### Вывод"
   ]
  },
  {
   "cell_type": "markdown",
   "metadata": {},
   "source": [
    "Для ответов на вопросы нам необходимо категоризировать следующие столбцы: *children*, *family_status*, *total_income*, *purpose*.\n",
    "Первый и третий были категоризированы в данном разделе. Семейное положение уже категоризировано. Цели кредита были разделены на адекватное количество категорий в разделе \"Лемматизация\". Теперь мы можем приступить ответам на вопросы и наглядному представлению результатов с помощью сводных таблиц."
   ]
  },
  {
   "cell_type": "markdown",
   "metadata": {},
   "source": [
    "### Шаг 3. Ответьте на вопросы"
   ]
  },
  {
   "cell_type": "markdown",
   "metadata": {},
   "source": [
    "- Есть ли зависимость между наличием детей и возвратом кредита в срок?"
   ]
  },
  {
   "cell_type": "markdown",
   "metadata": {},
   "source": [
    "Для ответа на этот вопрос построим сводную таблицу. "
   ]
  },
  {
   "cell_type": "code",
   "execution_count": 53,
   "metadata": {},
   "outputs": [
    {
     "data": {
      "text/html": [
       "<div>\n",
       "<style scoped>\n",
       "    .dataframe tbody tr th:only-of-type {\n",
       "        vertical-align: middle;\n",
       "    }\n",
       "\n",
       "    .dataframe tbody tr th {\n",
       "        vertical-align: top;\n",
       "    }\n",
       "\n",
       "    .dataframe thead th {\n",
       "        text-align: right;\n",
       "    }\n",
       "</style>\n",
       "<table border=\"1\" class=\"dataframe\">\n",
       "  <thead>\n",
       "    <tr style=\"text-align: right;\">\n",
       "      <th></th>\n",
       "      <th>count_debt</th>\n",
       "      <th>sum_debt</th>\n",
       "      <th>return_procent</th>\n",
       "    </tr>\n",
       "    <tr>\n",
       "      <th>have_children</th>\n",
       "      <th></th>\n",
       "      <th></th>\n",
       "      <th></th>\n",
       "    </tr>\n",
       "  </thead>\n",
       "  <tbody>\n",
       "    <tr>\n",
       "      <td>есть дети</td>\n",
       "      <td>7245</td>\n",
       "      <td>670</td>\n",
       "      <td>90.752243</td>\n",
       "    </tr>\n",
       "    <tr>\n",
       "      <td>нет детей</td>\n",
       "      <td>13978</td>\n",
       "      <td>1070</td>\n",
       "      <td>92.345114</td>\n",
       "    </tr>\n",
       "  </tbody>\n",
       "</table>\n",
       "</div>"
      ],
      "text/plain": [
       "               count_debt  sum_debt  return_procent\n",
       "have_children                                      \n",
       "есть дети            7245       670       90.752243\n",
       "нет детей           13978      1070       92.345114"
      ]
     },
     "execution_count": 53,
     "metadata": {},
     "output_type": "execute_result"
    }
   ],
   "source": [
    "# <Построим таблицу где сгруппируем наличие задолженности по наличию детей>\n",
    "data_pivot_children = data.pivot_table(index = ['have_children'], values = 'debt', aggfunc = ['count','sum'])\n",
    "\n",
    "# <Переименуем строки чтобы была возможность к ним обращаться>\n",
    "data_pivot_children.set_axis(['count_debt','sum_debt'],axis = 'columns',inplace = True)\n",
    "\n",
    "# <Подсчитаем процент отсутствия задолженностей для разных категорий заемщиков>\n",
    "data_pivot_children['return_procent'] = (1 - (data_pivot_children['sum_debt'] / data_pivot_children['count_debt'])) * 100\n",
    "\n",
    "# <Выведем результаты, в столбце return_procent результат>\n",
    "data_pivot_children"
   ]
  },
  {
   "cell_type": "markdown",
   "metadata": {},
   "source": [
    "Отсутствие детей совсем незначительно повышает вероятность вернуть кредит в срок, в пределах статистической погрешности. Ответ - зависимости нет, наличие детей уменьшает вероятность возврата кредита совсем незначительно."
   ]
  },
  {
   "cell_type": "markdown",
   "metadata": {},
   "source": [
    "### Вывод"
   ]
  },
  {
   "cell_type": "markdown",
   "metadata": {},
   "source": [
    "Мы построили сводную таблицу и сделали вывод что наличие/отсутствие детей слабо влияет на возврат кредита в срок."
   ]
  },
  {
   "cell_type": "markdown",
   "metadata": {},
   "source": [
    "- Есть ли зависимость между семейным положением и возвратом кредита в срок?"
   ]
  },
  {
   "cell_type": "markdown",
   "metadata": {},
   "source": [
    "Для ответа на этот вопрос построим сводную таблицу. "
   ]
  },
  {
   "cell_type": "code",
   "execution_count": 54,
   "metadata": {
    "scrolled": true
   },
   "outputs": [
    {
     "data": {
      "text/html": [
       "<div>\n",
       "<style scoped>\n",
       "    .dataframe tbody tr th:only-of-type {\n",
       "        vertical-align: middle;\n",
       "    }\n",
       "\n",
       "    .dataframe tbody tr th {\n",
       "        vertical-align: top;\n",
       "    }\n",
       "\n",
       "    .dataframe thead th {\n",
       "        text-align: right;\n",
       "    }\n",
       "</style>\n",
       "<table border=\"1\" class=\"dataframe\">\n",
       "  <thead>\n",
       "    <tr style=\"text-align: right;\">\n",
       "      <th></th>\n",
       "      <th>count_debt</th>\n",
       "      <th>sum_debt</th>\n",
       "      <th>return_procent</th>\n",
       "    </tr>\n",
       "    <tr>\n",
       "      <th>family_status</th>\n",
       "      <th></th>\n",
       "      <th></th>\n",
       "      <th></th>\n",
       "    </tr>\n",
       "  </thead>\n",
       "  <tbody>\n",
       "    <tr>\n",
       "      <td>вдовец / вдова</td>\n",
       "      <td>947</td>\n",
       "      <td>63</td>\n",
       "      <td>93.347413</td>\n",
       "    </tr>\n",
       "    <tr>\n",
       "      <td>в разводе</td>\n",
       "      <td>1193</td>\n",
       "      <td>85</td>\n",
       "      <td>92.875105</td>\n",
       "    </tr>\n",
       "    <tr>\n",
       "      <td>женат / замужем</td>\n",
       "      <td>12163</td>\n",
       "      <td>930</td>\n",
       "      <td>92.353860</td>\n",
       "    </tr>\n",
       "    <tr>\n",
       "      <td>гражданский брак</td>\n",
       "      <td>4126</td>\n",
       "      <td>388</td>\n",
       "      <td>90.596219</td>\n",
       "    </tr>\n",
       "    <tr>\n",
       "      <td>Не женат / не замужем</td>\n",
       "      <td>2794</td>\n",
       "      <td>274</td>\n",
       "      <td>90.193271</td>\n",
       "    </tr>\n",
       "  </tbody>\n",
       "</table>\n",
       "</div>"
      ],
      "text/plain": [
       "                       count_debt  sum_debt  return_procent\n",
       "family_status                                              \n",
       "вдовец / вдова                947        63       93.347413\n",
       "в разводе                    1193        85       92.875105\n",
       "женат / замужем             12163       930       92.353860\n",
       "гражданский брак             4126       388       90.596219\n",
       "Не женат / не замужем        2794       274       90.193271"
      ]
     },
     "execution_count": 54,
     "metadata": {},
     "output_type": "execute_result"
    }
   ],
   "source": [
    "# <Построим таблицу где сгруппируем наличие задолженности по семейному положению>\n",
    "data_pivot_family_status = data.pivot_table(index = ['family_status'], values = 'debt', aggfunc = ['count','sum'])\n",
    "\n",
    "# <Переименуем строки чтобы была возможность к ним обращаться>\n",
    "data_pivot_family_status.set_axis(['count_debt','sum_debt'],axis = 'columns',inplace = True)\n",
    "\n",
    "# <Подсчитаем процент отсутствия задолженностей для разных категорий заемщиков>\n",
    "data_pivot_family_status['return_procent'] = (1 - (data_pivot_family_status['sum_debt'] /\n",
    "data_pivot_family_status['count_debt'])) * 100\n",
    "\n",
    "# <Выведем результаты, в столбце return_procent результат>\n",
    "data_pivot_family_status.sort_values(by = 'return_procent',\n",
    "ascending = False)"
   ]
  },
  {
   "cell_type": "markdown",
   "metadata": {},
   "source": [
    "Данные результаты вполне могут послужить для скоринга, но на общее решение выдать кредит или нет - они должны влиять незначительно. Хуже всего среди представленных семейных положений возвращают кредиты \"Не женат / не замужем\" и \"гражданский брак\"."
   ]
  },
  {
   "cell_type": "markdown",
   "metadata": {},
   "source": [
    "### Вывод"
   ]
  },
  {
   "cell_type": "markdown",
   "metadata": {},
   "source": [
    "Мы построили сводную таблицу и сделали вывод что все семейные положения относительно равны по показателю вероятности возврата кредита в срок. Хуже всего среди представленных семейных положений возвращают кредиты \"Не женат / не замужем\" и \"гражданский брак\"."
   ]
  },
  {
   "cell_type": "markdown",
   "metadata": {},
   "source": [
    "- Есть ли зависимость между уровнем дохода и возвратом кредита в срок?"
   ]
  },
  {
   "cell_type": "markdown",
   "metadata": {},
   "source": [
    "Для ответа на этот вопрос построим сводную таблицу. "
   ]
  },
  {
   "cell_type": "code",
   "execution_count": 55,
   "metadata": {},
   "outputs": [
    {
     "data": {
      "text/html": [
       "<div>\n",
       "<style scoped>\n",
       "    .dataframe tbody tr th:only-of-type {\n",
       "        vertical-align: middle;\n",
       "    }\n",
       "\n",
       "    .dataframe tbody tr th {\n",
       "        vertical-align: top;\n",
       "    }\n",
       "\n",
       "    .dataframe thead th {\n",
       "        text-align: right;\n",
       "    }\n",
       "</style>\n",
       "<table border=\"1\" class=\"dataframe\">\n",
       "  <thead>\n",
       "    <tr style=\"text-align: right;\">\n",
       "      <th></th>\n",
       "      <th>count_debt</th>\n",
       "      <th>sum_debt</th>\n",
       "      <th>return_procent</th>\n",
       "    </tr>\n",
       "    <tr>\n",
       "      <th>salary_category</th>\n",
       "      <th></th>\n",
       "      <th></th>\n",
       "      <th></th>\n",
       "    </tr>\n",
       "  </thead>\n",
       "  <tbody>\n",
       "    <tr>\n",
       "      <td>более 196561</td>\n",
       "      <td>5307</td>\n",
       "      <td>377</td>\n",
       "      <td>92.896175</td>\n",
       "    </tr>\n",
       "    <tr>\n",
       "      <td>менее 106999</td>\n",
       "      <td>5307</td>\n",
       "      <td>423</td>\n",
       "      <td>92.029395</td>\n",
       "    </tr>\n",
       "    <tr>\n",
       "      <td>от 142595 до 196561</td>\n",
       "      <td>5268</td>\n",
       "      <td>454</td>\n",
       "      <td>91.381929</td>\n",
       "    </tr>\n",
       "    <tr>\n",
       "      <td>от 106999 до 142594</td>\n",
       "      <td>5341</td>\n",
       "      <td>486</td>\n",
       "      <td>90.900580</td>\n",
       "    </tr>\n",
       "  </tbody>\n",
       "</table>\n",
       "</div>"
      ],
      "text/plain": [
       "                     count_debt  sum_debt  return_procent\n",
       "salary_category                                          \n",
       "более 196561               5307       377       92.896175\n",
       "менее 106999               5307       423       92.029395\n",
       "от 142595 до 196561        5268       454       91.381929\n",
       "от 106999 до 142594        5341       486       90.900580"
      ]
     },
     "execution_count": 55,
     "metadata": {},
     "output_type": "execute_result"
    }
   ],
   "source": [
    "# <Построим таблицу где сгруппируем наличие задолженности по уровню дохода>\n",
    "data_pivot_salary_category = data.pivot_table(index = ['salary_category'], values = 'debt', aggfunc = ['count','sum'])\n",
    "\n",
    "# <Переименуем строки чтобы была возможность к ним обращаться>\n",
    "data_pivot_salary_category.set_axis(['count_debt','sum_debt'],axis = 'columns',inplace = True)\n",
    "\n",
    "# <Подсчитаем процент отсутствия задолженностей для разных категорий заемщиков>\n",
    "data_pivot_salary_category['return_procent'] = (1 - (data_pivot_salary_category['sum_debt'] /\n",
    "data_pivot_salary_category['count_debt'])) * 100\n",
    "\n",
    "# <Выведем результаты, в столбце return_procent результат>\n",
    "data_pivot_salary_category.sort_values(by = 'return_procent',\n",
    "ascending = False)"
   ]
  },
  {
   "cell_type": "markdown",
   "metadata": {},
   "source": [
    "### Вывод"
   ]
  },
  {
   "cell_type": "markdown",
   "metadata": {},
   "source": [
    "Заемщики с зарплатой более 200000 и заемщики с зарплатой менее 100000 возвращают кредиты чаще. Но не намного чаще чем остальные категории зарплат. (ошибки в выражении \"не намного\" нет)"
   ]
  },
  {
   "cell_type": "markdown",
   "metadata": {},
   "source": [
    "- Как разные цели кредита влияют на его возврат в срок?"
   ]
  },
  {
   "cell_type": "markdown",
   "metadata": {},
   "source": [
    "Для ответа на этот вопрос построим сводную таблицу. "
   ]
  },
  {
   "cell_type": "code",
   "execution_count": 56,
   "metadata": {
    "scrolled": true
   },
   "outputs": [
    {
     "data": {
      "text/html": [
       "<div>\n",
       "<style scoped>\n",
       "    .dataframe tbody tr th:only-of-type {\n",
       "        vertical-align: middle;\n",
       "    }\n",
       "\n",
       "    .dataframe tbody tr th {\n",
       "        vertical-align: top;\n",
       "    }\n",
       "\n",
       "    .dataframe thead th {\n",
       "        text-align: right;\n",
       "    }\n",
       "</style>\n",
       "<table border=\"1\" class=\"dataframe\">\n",
       "  <thead>\n",
       "    <tr style=\"text-align: right;\">\n",
       "      <th></th>\n",
       "      <th>count_debt</th>\n",
       "      <th>sum_debt</th>\n",
       "      <th>return_procent</th>\n",
       "    </tr>\n",
       "    <tr>\n",
       "      <th>purpose</th>\n",
       "      <th></th>\n",
       "      <th></th>\n",
       "      <th></th>\n",
       "    </tr>\n",
       "  </thead>\n",
       "  <tbody>\n",
       "    <tr>\n",
       "      <td>Ремонт</td>\n",
       "      <td>607</td>\n",
       "      <td>35</td>\n",
       "      <td>94.233937</td>\n",
       "    </tr>\n",
       "    <tr>\n",
       "      <td>Операции с некоммерческой недвижимостью/жильем</td>\n",
       "      <td>6892</td>\n",
       "      <td>504</td>\n",
       "      <td>92.687174</td>\n",
       "    </tr>\n",
       "    <tr>\n",
       "      <td>Операции с коммерческой недвижимостью</td>\n",
       "      <td>1311</td>\n",
       "      <td>99</td>\n",
       "      <td>92.448513</td>\n",
       "    </tr>\n",
       "    <tr>\n",
       "      <td>Строительство</td>\n",
       "      <td>1871</td>\n",
       "      <td>144</td>\n",
       "      <td>92.303581</td>\n",
       "    </tr>\n",
       "    <tr>\n",
       "      <td>Свадьба</td>\n",
       "      <td>2306</td>\n",
       "      <td>186</td>\n",
       "      <td>91.934085</td>\n",
       "    </tr>\n",
       "    <tr>\n",
       "      <td>Образование</td>\n",
       "      <td>3964</td>\n",
       "      <td>370</td>\n",
       "      <td>90.665994</td>\n",
       "    </tr>\n",
       "    <tr>\n",
       "      <td>Сделка с автомобилем</td>\n",
       "      <td>4272</td>\n",
       "      <td>402</td>\n",
       "      <td>90.589888</td>\n",
       "    </tr>\n",
       "  </tbody>\n",
       "</table>\n",
       "</div>"
      ],
      "text/plain": [
       "                                                count_debt  sum_debt  \\\n",
       "purpose                                                                \n",
       "Ремонт                                                 607        35   \n",
       "Операции с некоммерческой недвижимостью/жильем        6892       504   \n",
       "Операции с коммерческой недвижимостью                 1311        99   \n",
       "Строительство                                         1871       144   \n",
       "Свадьба                                               2306       186   \n",
       "Образование                                           3964       370   \n",
       "Сделка с автомобилем                                  4272       402   \n",
       "\n",
       "                                                return_procent  \n",
       "purpose                                                         \n",
       "Ремонт                                               94.233937  \n",
       "Операции с некоммерческой недвижимостью/жильем       92.687174  \n",
       "Операции с коммерческой недвижимостью                92.448513  \n",
       "Строительство                                        92.303581  \n",
       "Свадьба                                              91.934085  \n",
       "Образование                                          90.665994  \n",
       "Сделка с автомобилем                                 90.589888  "
      ]
     },
     "execution_count": 56,
     "metadata": {},
     "output_type": "execute_result"
    }
   ],
   "source": [
    "# <Построим таблицу где сгруппируем наличие задолженности по цели кредита>\n",
    "data_pivot_purpose = data.pivot_table(index = ['purpose'], values = 'debt', aggfunc = ['count','sum'])\n",
    "\n",
    "# <Переименуем строки чтобы была возможность к ним обращаться>\n",
    "data_pivot_purpose.set_axis(['count_debt','sum_debt'],axis = 'columns',inplace = True)\n",
    "\n",
    "# <Подсчитаем процент отсутствия задолженностей для разных категорий заемщиков>\n",
    "data_pivot_purpose['return_procent'] = (1 - (data_pivot_purpose['sum_debt'] /\n",
    "data_pivot_purpose['count_debt'])) * 100\n",
    "\n",
    "# <Выведем результаты, в столбце return_procent результат>\n",
    "data_pivot_purpose.sort_values(by = 'return_procent',\n",
    "ascending = False)"
   ]
  },
  {
   "cell_type": "markdown",
   "metadata": {},
   "source": [
    "### Вывод"
   ]
  },
  {
   "cell_type": "markdown",
   "metadata": {},
   "source": [
    "Все берем кредиты на ремонт! А также на операции с  жильем/недвижимостью, тут выше процент возврата кредитов. Замечу что по некоторым категориям мало заемщиков, соответственно результаты могут быть нерепрезентативны. Главный вывод: кредит возвращают чаще если он брался на операции с недвижимостью. Если он берется на автомобили или образование, то возвращается реже, но не намного."
   ]
  },
  {
   "cell_type": "markdown",
   "metadata": {},
   "source": [
    "### Шаг 4. Общий вывод"
   ]
  },
  {
   "cell_type": "markdown",
   "metadata": {},
   "source": [
    "Я предполагаю что если речь о кредитах - для банка важно вплоть до процентов точно ли они будут возвращены. Данные которые мы сегодня обработали дают нам понять - определенные цели кредита, размер зарплаты, наличие детей и семейное положение влияют на возврат кредита. А значит банку стоит обращать на них внимание при принятии решения."
   ]
  }
 ],
 "metadata": {
  "kernelspec": {
   "display_name": "Python 3",
   "language": "python",
   "name": "python3"
  },
  "language_info": {
   "codemirror_mode": {
    "name": "ipython",
    "version": 3
   },
   "file_extension": ".py",
   "mimetype": "text/x-python",
   "name": "python",
   "nbconvert_exporter": "python",
   "pygments_lexer": "ipython3",
   "version": "3.7.6"
  }
 },
 "nbformat": 4,
 "nbformat_minor": 2
}
