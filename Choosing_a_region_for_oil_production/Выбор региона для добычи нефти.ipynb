{
 "cells": [
  {
   "cell_type": "markdown",
   "metadata": {},
   "source": [
    "# Выбор региона для добычи нефти"
   ]
  },
  {
   "cell_type": "markdown",
   "metadata": {},
   "source": [
    "Допустим, мы работаем в нефтяной компании. Нужно решить, где бурить новую скважину.\n",
    "\n",
    "Нам предоставлены пробы нефти в трёх регионах: в каждом 10 000 месторождений, где измерили качество нефти и объём её запасов. Необходимо построить модель машинного обучения, которая поможет определить регион, где добыча принесёт наибольшую прибыль. Проанализируем возможную прибыль и риски техникой *Bootstrap.*\n",
    "\n",
    "Шаги для выбора локации:\n",
    "\n",
    "- В избранном регионе ищут месторождения, для каждого определяют значения признаков;\n",
    "- Строят модель и оценивают объём запасов;\n",
    "- Выбирают месторождения с самым высокими оценками значений. Количество месторождений зависит от бюджета компании и стоимости разработки одной скважины;\n",
    "- Прибыль равна суммарной прибыли отобранных месторождений."
   ]
  },
  {
   "cell_type": "markdown",
   "metadata": {},
   "source": [
    "## Оглавление:\n",
    "* [1. Загрузка и подготовка данных](#1)\n",
    "* [2. Обучение и проверка модели](#2)\n",
    "* [3. Подготовка к расчёту прибыли](#3)\n",
    "* [4. Расчёт прибыли и рисков](#4)"
   ]
  },
  {
   "cell_type": "markdown",
   "metadata": {},
   "source": [
    "# 1. Загрузка и подготовка данных <a class=\"anchor\" id=\"1\"></a>"
   ]
  },
  {
   "cell_type": "markdown",
   "metadata": {},
   "source": [
    "Импортируем библиотеки:"
   ]
  },
  {
   "cell_type": "code",
   "execution_count": 1,
   "metadata": {},
   "outputs": [],
   "source": [
    "# <импорт библиотеки pandas>\n",
    "import pandas as pd\n",
    "\n",
    "# <импорт библиотеки math>\n",
    "import math\n",
    "\n",
    "# <импорт библиотеки sklearn>\n",
    "import sklearn\n",
    "\n",
    "# <Отключение предупреждений>\n",
    "import warnings\n",
    "warnings.filterwarnings('ignore')\n",
    "\n",
    "# <импорт библиотеки numpy>\n",
    "import numpy as np\n",
    "\n",
    "# <импорт библиотеки seaborn для построения графиков>\n",
    "import seaborn as sns\n",
    "\n",
    "# <импорт библиотеки matplotlib для построения графиков>\n",
    "import matplotlib.pyplot as plt"
   ]
  },
  {
   "cell_type": "markdown",
   "metadata": {},
   "source": [
    "Прочитаем файлы с данными:"
   ]
  },
  {
   "cell_type": "code",
   "execution_count": 2,
   "metadata": {},
   "outputs": [],
   "source": [
    "# <чтение файла с данными с сохранением в переменную df_region_0>\n",
    "df_region_0 = pd.read_csv('/datasets/geo_data_0.csv')\n",
    "\n",
    "# <чтение файла с данными с сохранением в переменную df_region_1>\n",
    "df_region_1 = pd.read_csv('/datasets/geo_data_1.csv')\n",
    "\n",
    "# <чтение файла с данными с сохранением в переменную df_region_2>\n",
    "df_region_2 = pd.read_csv('/datasets/geo_data_2.csv')"
   ]
  },
  {
   "cell_type": "markdown",
   "metadata": {},
   "source": [
    "Рассмотрим информацию по датафреймам и первые 5 строк:"
   ]
  },
  {
   "cell_type": "code",
   "execution_count": 3,
   "metadata": {},
   "outputs": [
    {
     "name": "stdout",
     "output_type": "stream",
     "text": [
      "<class 'pandas.core.frame.DataFrame'>\n",
      "RangeIndex: 100000 entries, 0 to 99999\n",
      "Data columns (total 5 columns):\n",
      "id         100000 non-null object\n",
      "f0         100000 non-null float64\n",
      "f1         100000 non-null float64\n",
      "f2         100000 non-null float64\n",
      "product    100000 non-null float64\n",
      "dtypes: float64(4), object(1)\n",
      "memory usage: 3.8+ MB\n",
      "None\n"
     ]
    },
    {
     "data": {
      "text/html": [
       "<div>\n",
       "<style scoped>\n",
       "    .dataframe tbody tr th:only-of-type {\n",
       "        vertical-align: middle;\n",
       "    }\n",
       "\n",
       "    .dataframe tbody tr th {\n",
       "        vertical-align: top;\n",
       "    }\n",
       "\n",
       "    .dataframe thead th {\n",
       "        text-align: right;\n",
       "    }\n",
       "</style>\n",
       "<table border=\"1\" class=\"dataframe\">\n",
       "  <thead>\n",
       "    <tr style=\"text-align: right;\">\n",
       "      <th></th>\n",
       "      <th>id</th>\n",
       "      <th>f0</th>\n",
       "      <th>f1</th>\n",
       "      <th>f2</th>\n",
       "      <th>product</th>\n",
       "    </tr>\n",
       "  </thead>\n",
       "  <tbody>\n",
       "    <tr>\n",
       "      <td>0</td>\n",
       "      <td>txEyH</td>\n",
       "      <td>0.705745</td>\n",
       "      <td>-0.497823</td>\n",
       "      <td>1.221170</td>\n",
       "      <td>105.280062</td>\n",
       "    </tr>\n",
       "    <tr>\n",
       "      <td>1</td>\n",
       "      <td>2acmU</td>\n",
       "      <td>1.334711</td>\n",
       "      <td>-0.340164</td>\n",
       "      <td>4.365080</td>\n",
       "      <td>73.037750</td>\n",
       "    </tr>\n",
       "    <tr>\n",
       "      <td>2</td>\n",
       "      <td>409Wp</td>\n",
       "      <td>1.022732</td>\n",
       "      <td>0.151990</td>\n",
       "      <td>1.419926</td>\n",
       "      <td>85.265647</td>\n",
       "    </tr>\n",
       "    <tr>\n",
       "      <td>3</td>\n",
       "      <td>iJLyR</td>\n",
       "      <td>-0.032172</td>\n",
       "      <td>0.139033</td>\n",
       "      <td>2.978566</td>\n",
       "      <td>168.620776</td>\n",
       "    </tr>\n",
       "    <tr>\n",
       "      <td>4</td>\n",
       "      <td>Xdl7t</td>\n",
       "      <td>1.988431</td>\n",
       "      <td>0.155413</td>\n",
       "      <td>4.751769</td>\n",
       "      <td>154.036647</td>\n",
       "    </tr>\n",
       "  </tbody>\n",
       "</table>\n",
       "</div>"
      ],
      "text/plain": [
       "      id        f0        f1        f2     product\n",
       "0  txEyH  0.705745 -0.497823  1.221170  105.280062\n",
       "1  2acmU  1.334711 -0.340164  4.365080   73.037750\n",
       "2  409Wp  1.022732  0.151990  1.419926   85.265647\n",
       "3  iJLyR -0.032172  0.139033  2.978566  168.620776\n",
       "4  Xdl7t  1.988431  0.155413  4.751769  154.036647"
      ]
     },
     "execution_count": 3,
     "metadata": {},
     "output_type": "execute_result"
    }
   ],
   "source": [
    "# <рассмотрим датафрейм df_region_0>\n",
    "print(df_region_0.info())\n",
    "df_region_0.head()"
   ]
  },
  {
   "cell_type": "code",
   "execution_count": 4,
   "metadata": {},
   "outputs": [
    {
     "name": "stdout",
     "output_type": "stream",
     "text": [
      "<class 'pandas.core.frame.DataFrame'>\n",
      "RangeIndex: 100000 entries, 0 to 99999\n",
      "Data columns (total 5 columns):\n",
      "id         100000 non-null object\n",
      "f0         100000 non-null float64\n",
      "f1         100000 non-null float64\n",
      "f2         100000 non-null float64\n",
      "product    100000 non-null float64\n",
      "dtypes: float64(4), object(1)\n",
      "memory usage: 3.8+ MB\n",
      "None\n"
     ]
    },
    {
     "data": {
      "text/html": [
       "<div>\n",
       "<style scoped>\n",
       "    .dataframe tbody tr th:only-of-type {\n",
       "        vertical-align: middle;\n",
       "    }\n",
       "\n",
       "    .dataframe tbody tr th {\n",
       "        vertical-align: top;\n",
       "    }\n",
       "\n",
       "    .dataframe thead th {\n",
       "        text-align: right;\n",
       "    }\n",
       "</style>\n",
       "<table border=\"1\" class=\"dataframe\">\n",
       "  <thead>\n",
       "    <tr style=\"text-align: right;\">\n",
       "      <th></th>\n",
       "      <th>id</th>\n",
       "      <th>f0</th>\n",
       "      <th>f1</th>\n",
       "      <th>f2</th>\n",
       "      <th>product</th>\n",
       "    </tr>\n",
       "  </thead>\n",
       "  <tbody>\n",
       "    <tr>\n",
       "      <td>0</td>\n",
       "      <td>kBEdx</td>\n",
       "      <td>-15.001348</td>\n",
       "      <td>-8.276000</td>\n",
       "      <td>-0.005876</td>\n",
       "      <td>3.179103</td>\n",
       "    </tr>\n",
       "    <tr>\n",
       "      <td>1</td>\n",
       "      <td>62mP7</td>\n",
       "      <td>14.272088</td>\n",
       "      <td>-3.475083</td>\n",
       "      <td>0.999183</td>\n",
       "      <td>26.953261</td>\n",
       "    </tr>\n",
       "    <tr>\n",
       "      <td>2</td>\n",
       "      <td>vyE1P</td>\n",
       "      <td>6.263187</td>\n",
       "      <td>-5.948386</td>\n",
       "      <td>5.001160</td>\n",
       "      <td>134.766305</td>\n",
       "    </tr>\n",
       "    <tr>\n",
       "      <td>3</td>\n",
       "      <td>KcrkZ</td>\n",
       "      <td>-13.081196</td>\n",
       "      <td>-11.506057</td>\n",
       "      <td>4.999415</td>\n",
       "      <td>137.945408</td>\n",
       "    </tr>\n",
       "    <tr>\n",
       "      <td>4</td>\n",
       "      <td>AHL4O</td>\n",
       "      <td>12.702195</td>\n",
       "      <td>-8.147433</td>\n",
       "      <td>5.004363</td>\n",
       "      <td>134.766305</td>\n",
       "    </tr>\n",
       "  </tbody>\n",
       "</table>\n",
       "</div>"
      ],
      "text/plain": [
       "      id         f0         f1        f2     product\n",
       "0  kBEdx -15.001348  -8.276000 -0.005876    3.179103\n",
       "1  62mP7  14.272088  -3.475083  0.999183   26.953261\n",
       "2  vyE1P   6.263187  -5.948386  5.001160  134.766305\n",
       "3  KcrkZ -13.081196 -11.506057  4.999415  137.945408\n",
       "4  AHL4O  12.702195  -8.147433  5.004363  134.766305"
      ]
     },
     "execution_count": 4,
     "metadata": {},
     "output_type": "execute_result"
    }
   ],
   "source": [
    "# <рассмотрим датафрейм df_region_1>\n",
    "print(df_region_1.info())\n",
    "df_region_1.head()"
   ]
  },
  {
   "cell_type": "code",
   "execution_count": 5,
   "metadata": {},
   "outputs": [
    {
     "name": "stdout",
     "output_type": "stream",
     "text": [
      "<class 'pandas.core.frame.DataFrame'>\n",
      "RangeIndex: 100000 entries, 0 to 99999\n",
      "Data columns (total 5 columns):\n",
      "id         100000 non-null object\n",
      "f0         100000 non-null float64\n",
      "f1         100000 non-null float64\n",
      "f2         100000 non-null float64\n",
      "product    100000 non-null float64\n",
      "dtypes: float64(4), object(1)\n",
      "memory usage: 3.8+ MB\n",
      "None\n"
     ]
    },
    {
     "data": {
      "text/html": [
       "<div>\n",
       "<style scoped>\n",
       "    .dataframe tbody tr th:only-of-type {\n",
       "        vertical-align: middle;\n",
       "    }\n",
       "\n",
       "    .dataframe tbody tr th {\n",
       "        vertical-align: top;\n",
       "    }\n",
       "\n",
       "    .dataframe thead th {\n",
       "        text-align: right;\n",
       "    }\n",
       "</style>\n",
       "<table border=\"1\" class=\"dataframe\">\n",
       "  <thead>\n",
       "    <tr style=\"text-align: right;\">\n",
       "      <th></th>\n",
       "      <th>id</th>\n",
       "      <th>f0</th>\n",
       "      <th>f1</th>\n",
       "      <th>f2</th>\n",
       "      <th>product</th>\n",
       "    </tr>\n",
       "  </thead>\n",
       "  <tbody>\n",
       "    <tr>\n",
       "      <td>0</td>\n",
       "      <td>fwXo0</td>\n",
       "      <td>-1.146987</td>\n",
       "      <td>0.963328</td>\n",
       "      <td>-0.828965</td>\n",
       "      <td>27.758673</td>\n",
       "    </tr>\n",
       "    <tr>\n",
       "      <td>1</td>\n",
       "      <td>WJtFt</td>\n",
       "      <td>0.262778</td>\n",
       "      <td>0.269839</td>\n",
       "      <td>-2.530187</td>\n",
       "      <td>56.069697</td>\n",
       "    </tr>\n",
       "    <tr>\n",
       "      <td>2</td>\n",
       "      <td>ovLUW</td>\n",
       "      <td>0.194587</td>\n",
       "      <td>0.289035</td>\n",
       "      <td>-5.586433</td>\n",
       "      <td>62.871910</td>\n",
       "    </tr>\n",
       "    <tr>\n",
       "      <td>3</td>\n",
       "      <td>q6cA6</td>\n",
       "      <td>2.236060</td>\n",
       "      <td>-0.553760</td>\n",
       "      <td>0.930038</td>\n",
       "      <td>114.572842</td>\n",
       "    </tr>\n",
       "    <tr>\n",
       "      <td>4</td>\n",
       "      <td>WPMUX</td>\n",
       "      <td>-0.515993</td>\n",
       "      <td>1.716266</td>\n",
       "      <td>5.899011</td>\n",
       "      <td>149.600746</td>\n",
       "    </tr>\n",
       "  </tbody>\n",
       "</table>\n",
       "</div>"
      ],
      "text/plain": [
       "      id        f0        f1        f2     product\n",
       "0  fwXo0 -1.146987  0.963328 -0.828965   27.758673\n",
       "1  WJtFt  0.262778  0.269839 -2.530187   56.069697\n",
       "2  ovLUW  0.194587  0.289035 -5.586433   62.871910\n",
       "3  q6cA6  2.236060 -0.553760  0.930038  114.572842\n",
       "4  WPMUX -0.515993  1.716266  5.899011  149.600746"
      ]
     },
     "execution_count": 5,
     "metadata": {},
     "output_type": "execute_result"
    }
   ],
   "source": [
    "# <рассмотрим датафрейм df_region_2>\n",
    "print(df_region_2.info())\n",
    "df_region_2.head()"
   ]
  },
  {
   "cell_type": "markdown",
   "metadata": {},
   "source": [
    "Подробнее опишем значение каждого атрибута.\n",
    "\n",
    "Каждая таблица - это регион, где происходит добыча нефти:\n",
    "\n",
    "* *id* — уникальный идентификатор месторождения;\n",
    "* *f0*, *f1*, *f2* — три признака точек (неважно, что они означают, но сами признаки значимы);\n",
    "* *product* — объём запасов в месторождении (тыс. баррелей)."
   ]
  },
  {
   "cell_type": "markdown",
   "metadata": {},
   "source": [
    "В целом очевидно что признаки масштабированы и пропусков нет. Типы данных менять не нужно. Сбросим столбец *id*, так как для обучения моделей он нам не понадобится."
   ]
  },
  {
   "cell_type": "code",
   "execution_count": 6,
   "metadata": {},
   "outputs": [],
   "source": [
    "# <создадим новые датафреймы, в них будут данные которые необходимы для обучения модели.>\n",
    "df_region_0_preprocessed = df_region_0.drop('id', axis=1)\n",
    "df_region_1_preprocessed = df_region_1.drop('id', axis=1)\n",
    "df_region_2_preprocessed = df_region_2.drop('id', axis=1)"
   ]
  },
  {
   "cell_type": "markdown",
   "metadata": {},
   "source": [
    "### Вывод"
   ]
  },
  {
   "cell_type": "markdown",
   "metadata": {},
   "source": [
    "Данные загружены, заранее были масштабированы, пропусков нет. Мы сбросили столбец, который не пригодится нам для обучения модели. Перейдем к следующему пункту."
   ]
  },
  {
   "cell_type": "markdown",
   "metadata": {},
   "source": [
    "# 2. Обучение и проверка модели <a class=\"anchor\" id=\"2\"></a>"
   ]
  },
  {
   "cell_type": "markdown",
   "metadata": {},
   "source": [
    "Разобьем данные для каждого региона на две выборки: обучающую и валидационную. Разобьем их в отношении 3:1."
   ]
  },
  {
   "cell_type": "code",
   "execution_count": 7,
   "metadata": {},
   "outputs": [],
   "source": [
    "# <Импортируем функцию из бибилиотеки sklearn>\n",
    "from sklearn.model_selection import train_test_split"
   ]
  },
  {
   "cell_type": "code",
   "execution_count": 8,
   "metadata": {},
   "outputs": [],
   "source": [
    "# <Разделим датафрейм на features и target - целевой признак>\n",
    "target_0 = df_region_0_preprocessed['product']\n",
    "features_0 = df_region_0_preprocessed.drop('product', axis=1)\n",
    "\n",
    "# <Поделим датафрейм на обучающую и валидационную выборку>\n",
    "features_0_train, features_0_valid, target_0_train, target_0_valid = train_test_split(\n",
    "    features_0, target_0, test_size=0.25, random_state=12345)"
   ]
  },
  {
   "cell_type": "code",
   "execution_count": 9,
   "metadata": {},
   "outputs": [],
   "source": [
    "# <Разделим датафрейм на features и target - целевой признак>\n",
    "target_1 = df_region_1_preprocessed['product']\n",
    "features_1 = df_region_1_preprocessed.drop('product', axis=1)\n",
    "\n",
    "# <Поделим датафрейм на обучающую и валидационную выборку>\n",
    "features_1_train, features_1_valid, target_1_train, target_1_valid = train_test_split(\n",
    "    features_1, target_1, test_size=0.25, random_state=12345)"
   ]
  },
  {
   "cell_type": "code",
   "execution_count": 10,
   "metadata": {},
   "outputs": [],
   "source": [
    "# <Разделим датафрейм на features и target - целевой признак>\n",
    "target_2 = df_region_2_preprocessed['product']\n",
    "features_2 = df_region_2_preprocessed.drop('product', axis=1)\n",
    "\n",
    "# <Поделим датафрейм на обучающую и валидационную выборку>\n",
    "features_2_train, features_2_valid, target_2_train, target_2_valid = train_test_split(\n",
    "    features_2, target_2, test_size=0.25, random_state=12345)"
   ]
  },
  {
   "cell_type": "markdown",
   "metadata": {},
   "source": [
    "Обучим модель линейной регресии для первого региона, выведем оценки и средний запас сырья в месторождении."
   ]
  },
  {
   "cell_type": "code",
   "execution_count": 11,
   "metadata": {},
   "outputs": [],
   "source": [
    "# <Импортируем метод линейной регрессии>\n",
    "from sklearn.linear_model import LinearRegression\n",
    "\n",
    "# <Импортируем коэффициент детерминации>\n",
    "from sklearn.metrics import r2_score\n",
    "\n",
    "# <Импортируем среднюю абсолютную ошибку>\n",
    "from sklearn.metrics import mean_absolute_error\n",
    "\n",
    "# <Импортируем среднюю квадратичную ошибку>\n",
    "from sklearn.metrics import mean_squared_error"
   ]
  },
  {
   "cell_type": "code",
   "execution_count": 12,
   "metadata": {},
   "outputs": [
    {
     "name": "stdout",
     "output_type": "stream",
     "text": [
      "R2: 0.2799\n",
      "MAE: 30.920\n",
      "RMSE: 37.579\n",
      "Средний запас сырья: 92.5\n"
     ]
    }
   ],
   "source": [
    "# <Создадим модель лин. регрессии>\n",
    "model_lr_0 = LinearRegression().fit(features_0_train, target_0_train)\n",
    "\n",
    "# <обучаем модель> \n",
    "predictions_0 = model_lr_0.predict(features_0_valid)\n",
    "\n",
    "# <Выводим значения оценок и средний запас сырья в месторождении(фактический)>\n",
    "print('R2:','{:.4f}'.format(r2_score(target_0_valid,predictions_0)))\n",
    "print('MAE:','{:.3f}'.format(mean_absolute_error(target_0_valid,predictions_0)))\n",
    "print('RMSE:','{:.3f}'.format(mean_squared_error(target_0_valid,predictions_0)**0.5))\n",
    "print('Средний запас сырья:','{:.1f}'.format(target_0.mean()))"
   ]
  },
  {
   "cell_type": "markdown",
   "metadata": {},
   "source": [
    "Обучим модель линейной регресии для второго региона, выведем оценки и средний запас сырья в месторождении."
   ]
  },
  {
   "cell_type": "code",
   "execution_count": 13,
   "metadata": {},
   "outputs": [
    {
     "name": "stdout",
     "output_type": "stream",
     "text": [
      "R2: 0.9996\n",
      "MAE: 0.719\n",
      "RMSE: 0.893\n",
      "Средний запас сырья: 68.8\n"
     ]
    }
   ],
   "source": [
    "# <Создадим модель лин. регрессии>\n",
    "model_lr_1 = LinearRegression().fit(features_1_train, target_1_train)\n",
    "\n",
    "# <обучаем модель> \n",
    "predictions_1 = model_lr_1.predict(features_1_valid)\n",
    "\n",
    "# <Выводим значения оценок и средний запас сырья в месторождении(фактический)>\n",
    "print('R2:','{:.4f}'.format(r2_score(target_1_valid,predictions_1)))\n",
    "print('MAE:','{:.3f}'.format(mean_absolute_error(target_1_valid,predictions_1)))\n",
    "print('RMSE:','{:.3f}'.format(mean_squared_error(target_1_valid,predictions_1)**0.5))\n",
    "print('Средний запас сырья:','{:.1f}'.format(target_1.mean()))"
   ]
  },
  {
   "cell_type": "markdown",
   "metadata": {},
   "source": [
    "Обучим модель линейной регресии для третьего региона, выведем оценки и средний запас сырья в месторождении."
   ]
  },
  {
   "cell_type": "code",
   "execution_count": 14,
   "metadata": {},
   "outputs": [
    {
     "name": "stdout",
     "output_type": "stream",
     "text": [
      "R2: 0.2052\n",
      "MAE: 32.793\n",
      "RMSE: 40.030\n",
      "Средний запас сырья: 95.0\n"
     ]
    }
   ],
   "source": [
    "# <Создадим модель лин. регрессии>\n",
    "model_lr_2 = LinearRegression().fit(features_2_train, target_2_train)\n",
    "\n",
    "# <обучаем модель> \n",
    "predictions_2 = model_lr_2.predict(features_2_valid)\n",
    "\n",
    "# <Выводим значения оценок и средний запас сырья в месторождении(фактический)>\n",
    "print('R2:','{:.4f}'.format(r2_score(target_2_valid,predictions_2)))\n",
    "print('MAE:','{:.3f}'.format(mean_absolute_error(target_2_valid,predictions_2)))\n",
    "print('RMSE:','{:.3f}'.format(mean_squared_error(target_2_valid,predictions_2)**0.5))\n",
    "print('Средний запас сырья:','{:.1f}'.format(target_2.mean()))"
   ]
  },
  {
   "cell_type": "markdown",
   "metadata": {},
   "source": [
    "Проанализируем результаты, сразу отметим что у второго региона низкие ошибки в модели и почти идеальный коэффициент детерминации. Посмотрим на корреляцию между признаками у показателей в этом регионе."
   ]
  },
  {
   "cell_type": "code",
   "execution_count": 15,
   "metadata": {},
   "outputs": [
    {
     "data": {
      "image/png": "[encoded data removed]",
      "text/plain": [
       "<Figure size 792x540 with 2 Axes>"
      ]
     },
     "metadata": {
      "needs_background": "light"
     },
     "output_type": "display_data"
    }
   ],
   "source": [
    "# <построим график, отображающий корреляцию между признаками>\n",
    "plt.figure(figsize=(11,7.5))\n",
    "sns.heatmap(df_region_1.loc[:, ['f0','f1','f2','product']].corr(), annot=True, fmt=\".3f\", linewidths=.5,linecolor='black')\n",
    "plt.title(\"Корреляция между признаками второго региона\")\n",
    "plt.show()"
   ]
  },
  {
   "cell_type": "markdown",
   "metadata": {},
   "source": [
    "На графике видно что между признаком *f2* и целевым признаком *product* почти полная линейная связь."
   ]
  },
  {
   "cell_type": "markdown",
   "metadata": {},
   "source": [
    "Проверим тоже самое в 1 и 3 регионе."
   ]
  },
  {
   "cell_type": "code",
   "execution_count": 16,
   "metadata": {},
   "outputs": [
    {
     "data": {
      "image/png": "[encoded data removed]",
      "text/plain": [
       "<Figure size 792x540 with 2 Axes>"
      ]
     },
     "metadata": {
      "needs_background": "light"
     },
     "output_type": "display_data"
    }
   ],
   "source": [
    "# <построим график, отображающий корреляцию между признаками>\n",
    "plt.figure(figsize=(11,7.5))\n",
    "sns.heatmap(df_region_0.loc[:, ['f0','f1','f2','product']].corr(), annot=True, fmt=\".3f\", linewidths=.5,linecolor='black')\n",
    "plt.title(\"Корреляция между признаками первого региона\")\n",
    "plt.show()"
   ]
  },
  {
   "cell_type": "code",
   "execution_count": 17,
   "metadata": {},
   "outputs": [
    {
     "data": {
      "image/png": "[encoded data removed]",
      "text/plain": [
       "<Figure size 792x540 with 2 Axes>"
      ]
     },
     "metadata": {
      "needs_background": "light"
     },
     "output_type": "display_data"
    }
   ],
   "source": [
    "# <построим график, отображающий корреляцию между признаками>\n",
    "plt.figure(figsize=(11,7.5))\n",
    "sns.heatmap(df_region_2.loc[:, ['f0','f1','f2','product']].corr(), annot=True, fmt=\".3f\", linewidths=.5,linecolor='black')\n",
    "plt.title(\"Корреляция между признаками третьего региона\")\n",
    "plt.show()"
   ]
  },
  {
   "cell_type": "markdown",
   "metadata": {},
   "source": [
    "Относительно одинаковые результаты. Что интересно, у первого региона какая-никакая корреляция между всеми признаками и целевым признаком присутствует, и засчет этого модель сработала лучше по сравнению с третьим регионом."
   ]
  },
  {
   "cell_type": "markdown",
   "metadata": {},
   "source": [
    "### Вывод"
   ]
  },
  {
   "cell_type": "markdown",
   "metadata": {},
   "source": [
    "Мы построили модели линейной регресии и предсказали объём сырья в месторождениях трех регионов. Обнаружили занимательную корреляцию во втором регионе, и заметили схожесть в корреляциях первого и третьего региона."
   ]
  },
  {
   "cell_type": "markdown",
   "metadata": {},
   "source": [
    "# 3. Подготовка к расчёту прибыли <a class=\"anchor\" id=\"3\"></a>"
   ]
  },
  {
   "cell_type": "markdown",
   "metadata": {},
   "source": [
    "Сохраним в коде все ключевые значения для расчета прибыли и рисков"
   ]
  },
  {
   "cell_type": "code",
   "execution_count": 18,
   "metadata": {},
   "outputs": [],
   "source": [
    "# <эти значения были даны нам в условиях задачи>\n",
    "Barrel = 4500\n",
    "Budget = 10000000000\n",
    "Oil_well = 50000000"
   ]
  },
  {
   "cell_type": "markdown",
   "metadata": {},
   "source": [
    "Подсчитаем минимальный средний объём сырья в месторождениях региона, достаточный для его разработки."
   ]
  },
  {
   "cell_type": "code",
   "execution_count": 19,
   "metadata": {},
   "outputs": [
    {
     "data": {
      "text/plain": [
       "11111.111111111111"
      ]
     },
     "execution_count": 19,
     "metadata": {},
     "output_type": "execute_result"
    }
   ],
   "source": [
    "# <подсчитаем минимальное количество баррелей, чтобы выйти в 0 при разработке месторождения.>\n",
    "minimal_size = Oil_well/Barrel\n",
    "minimal_size"
   ]
  },
  {
   "cell_type": "markdown",
   "metadata": {},
   "source": [
    "Какой из этого можно сделать вывод? Я решил посчитать сколько таких месторождений в каждом регионе."
   ]
  },
  {
   "cell_type": "code",
   "execution_count": 20,
   "metadata": {},
   "outputs": [
    {
     "data": {
      "text/plain": [
       "24995"
      ]
     },
     "execution_count": 20,
     "metadata": {},
     "output_type": "execute_result"
    }
   ],
   "source": [
    "# <Уже тут мы преобразуем np.array в pd.Series, но это сделано будет>\n",
    "# <еще в функции бутстрэпа, на случай если бы этого блока не было.>\n",
    "predictions_0 = pd.Series(predictions_0)\n",
    "predictions_0[predictions_0 >= (minimal_size/1000)].count()"
   ]
  },
  {
   "cell_type": "code",
   "execution_count": 21,
   "metadata": {},
   "outputs": [
    {
     "data": {
      "text/plain": [
       "20854"
      ]
     },
     "execution_count": 21,
     "metadata": {},
     "output_type": "execute_result"
    }
   ],
   "source": [
    "predictions_1 = pd.Series(predictions_1)\n",
    "predictions_1[predictions_1 >= (minimal_size/1000)].count()"
   ]
  },
  {
   "cell_type": "code",
   "execution_count": 22,
   "metadata": {},
   "outputs": [
    {
     "data": {
      "text/plain": [
       "25000"
      ]
     },
     "execution_count": 22,
     "metadata": {},
     "output_type": "execute_result"
    }
   ],
   "source": [
    "predictions_2 = pd.Series(predictions_2)\n",
    "predictions_2[predictions_2 >= (minimal_size/1000)].count()"
   ]
  },
  {
   "cell_type": "markdown",
   "metadata": {},
   "source": [
    "Больше всего в первом и третьем. Во втором почти пятая часть месторождений не соответствует этим требованиям."
   ]
  },
  {
   "cell_type": "markdown",
   "metadata": {},
   "source": [
    "Напишем функцию для расчёта прибыли по набору отобранных месторождений и предсказаний модели."
   ]
  },
  {
   "cell_type": "code",
   "execution_count": 24,
   "metadata": {},
   "outputs": [],
   "source": [
    "# <Эта функция будет работать и для другого бюджета, стоимости бурения и стоимости барреля.>\n",
    "def profit(data,budget,barrel_price,drilling_price):\n",
    "    \n",
    "    # <количество месторождений, которые мы можем разработать при имеющемся бюджете>\n",
    "    field_q = budget/drilling_price\n",
    "    \n",
    "    # <отсортируем их по запасам>\n",
    "    data = data.sort_values(ascending=False)\n",
    "    \n",
    "    # <сбросим индексы, чтобы потом взять первые field_q-1 штук>\n",
    "    data.reset_index(inplace=True, drop = True)\n",
    "    \n",
    "    # <тут получаем Series с самыми богатыми месторождениями>\n",
    "    data = data.loc[0:math.floor(field_q)-1,]\n",
    "    \n",
    "    # <возвращаем суммарную прибыль>\n",
    "    return sum(data*barrel_price*1000)"
   ]
  },
  {
   "cell_type": "markdown",
   "metadata": {},
   "source": [
    "### Вывод"
   ]
  },
  {
   "cell_type": "markdown",
   "metadata": {},
   "source": [
    "* Мы сохранили в коде значения, которые используем в своей функции подсчета прибыли.\n",
    "* Подсчитали минимальный объём месторождения которое имеет смысл разрабатывать для получения прибыли в будущем.\n",
    "* Написали функцию для подсчета прибыли."
   ]
  },
  {
   "cell_type": "markdown",
   "metadata": {},
   "source": [
    "# 4. Расчёт прибыли и рисков <a class=\"anchor\" id=\"4\"></a>"
   ]
  },
  {
   "cell_type": "markdown",
   "metadata": {},
   "source": [
    "Напишем функцию *Bootstrap* и используем технику *Bootstrap* для подсчета распределения прибыли для каждого региона."
   ]
  },
  {
   "cell_type": "code",
   "execution_count": 25,
   "metadata": {},
   "outputs": [],
   "source": [
    "# <Добавим случайности нашей функции, чтобы каждый раз брался разный сэмпл>\n",
    "from numpy.random import RandomState\n",
    "state = RandomState(12345)"
   ]
  },
  {
   "cell_type": "code",
   "execution_count": 26,
   "metadata": {},
   "outputs": [],
   "source": [
    "# <В качестве аргумента функции нужны только значения целевого признака>\n",
    "def bootstrap(predictions):\n",
    "    values = []\n",
    "    predictions = pd.Series(predictions)\n",
    "    \n",
    "    for i in range(1000):\n",
    "        # <отбираем 500 случайных месторождений, повтороения допускаются, это суть бутстрэпа>\n",
    "        predictions_subsample = predictions.sample(n=500, replace=True, random_state=state)\n",
    "         # <подсчитываем прибыль и добавляем ее в Series прибылей>\n",
    "        values.append(profit(predictions_subsample, Budget, Barrel, Oil_well))\n",
    "    \n",
    "    # <находим доверительный интервал и риск убытков.>\n",
    "    values = pd.Series(values)\n",
    "    lower = values.quantile(.025)\n",
    "    upper = values.quantile(.975)\n",
    "    risk = len(values[values<0])/len(values)\n",
    "    \n",
    "    # <выводим результат>\n",
    "    print('Средняя прибыль:','{:.2f}'.format(values.mean()))\n",
    "    print('Начало доверительного интервала:','{:.2f}'.format(lower))\n",
    "    print('Конец доверительного интервала:','{:.2f}'.format(upper))\n",
    "    print('Риск убытков:','{:.2f}'.format(risk))\n",
    "    \n",
    "    return values"
   ]
  },
  {
   "cell_type": "markdown",
   "metadata": {},
   "source": [
    "Подсчитаем среднюю прибыль, 95%-й доверительный интервал и риск убытков для первого региона:"
   ]
  },
  {
   "cell_type": "code",
   "execution_count": 27,
   "metadata": {},
   "outputs": [
    {
     "name": "stdout",
     "output_type": "stream",
     "text": [
      "Средняя прибыль: 103580260542.08\n",
      "Начало доверительного интервала: 101401373359.81\n",
      "Конец доверительного интервала: 105988772713.79\n",
      "Риск убытков: 0.00\n"
     ]
    }
   ],
   "source": [
    "# <выводим результат>\n",
    "values = bootstrap(predictions_0)"
   ]
  },
  {
   "cell_type": "markdown",
   "metadata": {},
   "source": [
    "Подсчитаем среднюю прибыль, 95%-й доверительный интервал и риск убытков для второго региона:"
   ]
  },
  {
   "cell_type": "code",
   "execution_count": 28,
   "metadata": {},
   "outputs": [
    {
     "name": "stdout",
     "output_type": "stream",
     "text": [
      "Средняя прибыль: 104591672842.23\n",
      "Начало доверительного интервала: 100760478225.15\n",
      "Конец доверительного интервала: 108616321297.54\n",
      "Риск убытков: 0.00\n"
     ]
    },
    {
     "data": {
      "text/plain": [
       "0      1.031200e+11\n",
       "1      1.009839e+11\n",
       "2      1.012126e+11\n",
       "3      1.050154e+11\n",
       "4      1.055640e+11\n",
       "           ...     \n",
       "995    1.056409e+11\n",
       "996    1.048215e+11\n",
       "997    1.021082e+11\n",
       "998    1.102417e+11\n",
       "999    1.023267e+11\n",
       "Length: 1000, dtype: float64"
      ]
     },
     "execution_count": 28,
     "metadata": {},
     "output_type": "execute_result"
    }
   ],
   "source": [
    "# <выводим результат>\n",
    "bootstrap(predictions_1)"
   ]
  },
  {
   "cell_type": "markdown",
   "metadata": {},
   "source": [
    "Подсчитаем среднюю прибыль, 95%-й доверительный интервал и риск убытков для третьего региона:"
   ]
  },
  {
   "cell_type": "code",
   "execution_count": 29,
   "metadata": {},
   "outputs": [
    {
     "name": "stdout",
     "output_type": "stream",
     "text": [
      "Средняя прибыль: 102717422041.22\n",
      "Начало доверительного интервала: 100911157074.57\n",
      "Конец доверительного интервала: 104522088825.20\n",
      "Риск убытков: 0.00\n"
     ]
    },
    {
     "data": {
      "text/plain": [
       "0      1.035881e+11\n",
       "1      1.030218e+11\n",
       "2      1.016068e+11\n",
       "3      1.038539e+11\n",
       "4      1.018317e+11\n",
       "           ...     \n",
       "995    1.024388e+11\n",
       "996    1.013999e+11\n",
       "997    1.043602e+11\n",
       "998    1.017412e+11\n",
       "999    1.021717e+11\n",
       "Length: 1000, dtype: float64"
      ]
     },
     "execution_count": 29,
     "metadata": {},
     "output_type": "execute_result"
    }
   ],
   "source": [
    "# <выводим результат>\n",
    "bootstrap(predictions_2)"
   ]
  },
  {
   "cell_type": "markdown",
   "metadata": {},
   "source": [
    "Несмотря на то, что во втором регионе меньше месторождений с минимальным объёмом для промышленной разработки, я думаю что для разработки месторождений подходит второй регион, так как:\n",
    "* Во втором регионе наибольшая средняя прибыль.\n",
    "* Наибольший конец доверительного интервала.\n",
    "* Учитывая бюджет на разработку месторождений, 20000 месторождений должно хватит с лихвой. Этот вывод делается на основе условий задачи, исследователю неизвестны скрытые условия задачи =)"
   ]
  },
  {
   "cell_type": "markdown",
   "metadata": {},
   "source": [
    "### Вывод"
   ]
  },
  {
   "cell_type": "markdown",
   "metadata": {},
   "source": [
    "Мы подсчитали распределение прибыли для каждого региона, среднюю прибыль, 95%-й доверительный интервал прибыли, и риск убытков. Решили какой регион подходит для разработки месторождений."
   ]
  }
 ],
 "metadata": {
  "kernelspec": {
   "display_name": "Python 3",
   "language": "python",
   "name": "python3"
  },
  "language_info": {
   "codemirror_mode": {
    "name": "ipython",
    "version": 3
   },
   "file_extension": ".py",
   "mimetype": "text/x-python",
   "name": "python",
   "nbconvert_exporter": "python",
   "pygments_lexer": "ipython3",
   "version": "3.7.6"
  }
 },
 "nbformat": 4,
 "nbformat_minor": 2
}
