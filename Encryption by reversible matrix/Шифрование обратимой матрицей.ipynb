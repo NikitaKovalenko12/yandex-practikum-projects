{
 "cells": [
  {
   "cell_type": "markdown",
   "metadata": {},
   "source": [
    "# Шифрование обратимой матрицей"
   ]
  },
  {
   "cell_type": "markdown",
   "metadata": {},
   "source": [
    "Нам нужно защитить данные клиентов. Разработаем такой метод преобразования данных, чтобы по ним было сложно восстановить персональную информацию. Обоснуем корректность его работы.\n",
    "\n",
    "Нужно защитить данные так, чтобы при преобразовании качество моделей машинного обучения не ухудшилось."
   ]
  },
  {
   "cell_type": "markdown",
   "metadata": {},
   "source": [
    "## Оглавление:\n",
    "* [1. Загрузка данных](#1)\n",
    "* [2. Умножение матриц](#2)\n",
    "* [3. Алгоритм преобразования](#3)\n",
    "* [4. Проверка алгоритма](#4)"
   ]
  },
  {
   "cell_type": "markdown",
   "metadata": {},
   "source": [
    "## 1. Загрузка данных <a class=\"anchor\" id=\"1\"></a>"
   ]
  },
  {
   "cell_type": "markdown",
   "metadata": {},
   "source": [
    "Импортируем библиотеки:"
   ]
  },
  {
   "cell_type": "code",
   "execution_count": 1,
   "metadata": {},
   "outputs": [],
   "source": [
    "# <импорт библиотеки pandas>\n",
    "import pandas as pd\n",
    "\n",
    "# <импорт библиотеки sklearn>\n",
    "import sklearn\n",
    "\n",
    "# <Отключение предупреждений>\n",
    "import warnings\n",
    "warnings.filterwarnings('ignore')\n",
    "\n",
    "# <импорт библиотеки numpy>\n",
    "import numpy as np"
   ]
  },
  {
   "cell_type": "markdown",
   "metadata": {},
   "source": [
    "Прочитаем файл с данными:"
   ]
  },
  {
   "cell_type": "code",
   "execution_count": 2,
   "metadata": {},
   "outputs": [],
   "source": [
    "# <чтение файла с данными с сохранением в data_full>\n",
    "data = pd.read_csv('/datasets/insurance.csv')"
   ]
  },
  {
   "cell_type": "markdown",
   "metadata": {},
   "source": [
    "Рассмотрим информацию по датафрейму и его первые 5 строк:"
   ]
  },
  {
   "cell_type": "code",
   "execution_count": 3,
   "metadata": {},
   "outputs": [
    {
     "name": "stdout",
     "output_type": "stream",
     "text": [
      "<class 'pandas.core.frame.DataFrame'>\n",
      "RangeIndex: 5000 entries, 0 to 4999\n",
      "Data columns (total 5 columns):\n",
      "Пол                  5000 non-null int64\n",
      "Возраст              5000 non-null float64\n",
      "Зарплата             5000 non-null float64\n",
      "Члены семьи          5000 non-null int64\n",
      "Страховые выплаты    5000 non-null int64\n",
      "dtypes: float64(2), int64(3)\n",
      "memory usage: 195.4 KB\n",
      "None\n"
     ]
    },
    {
     "data": {
      "text/html": [
       "<div>\n",
       "<style scoped>\n",
       "    .dataframe tbody tr th:only-of-type {\n",
       "        vertical-align: middle;\n",
       "    }\n",
       "\n",
       "    .dataframe tbody tr th {\n",
       "        vertical-align: top;\n",
       "    }\n",
       "\n",
       "    .dataframe thead th {\n",
       "        text-align: right;\n",
       "    }\n",
       "</style>\n",
       "<table border=\"1\" class=\"dataframe\">\n",
       "  <thead>\n",
       "    <tr style=\"text-align: right;\">\n",
       "      <th></th>\n",
       "      <th>Пол</th>\n",
       "      <th>Возраст</th>\n",
       "      <th>Зарплата</th>\n",
       "      <th>Члены семьи</th>\n",
       "      <th>Страховые выплаты</th>\n",
       "    </tr>\n",
       "  </thead>\n",
       "  <tbody>\n",
       "    <tr>\n",
       "      <td>0</td>\n",
       "      <td>1</td>\n",
       "      <td>41.0</td>\n",
       "      <td>49600.0</td>\n",
       "      <td>1</td>\n",
       "      <td>0</td>\n",
       "    </tr>\n",
       "    <tr>\n",
       "      <td>1</td>\n",
       "      <td>0</td>\n",
       "      <td>46.0</td>\n",
       "      <td>38000.0</td>\n",
       "      <td>1</td>\n",
       "      <td>1</td>\n",
       "    </tr>\n",
       "    <tr>\n",
       "      <td>2</td>\n",
       "      <td>0</td>\n",
       "      <td>29.0</td>\n",
       "      <td>21000.0</td>\n",
       "      <td>0</td>\n",
       "      <td>0</td>\n",
       "    </tr>\n",
       "    <tr>\n",
       "      <td>3</td>\n",
       "      <td>0</td>\n",
       "      <td>21.0</td>\n",
       "      <td>41700.0</td>\n",
       "      <td>2</td>\n",
       "      <td>0</td>\n",
       "    </tr>\n",
       "    <tr>\n",
       "      <td>4</td>\n",
       "      <td>1</td>\n",
       "      <td>28.0</td>\n",
       "      <td>26100.0</td>\n",
       "      <td>0</td>\n",
       "      <td>0</td>\n",
       "    </tr>\n",
       "  </tbody>\n",
       "</table>\n",
       "</div>"
      ],
      "text/plain": [
       "   Пол  Возраст  Зарплата  Члены семьи  Страховые выплаты\n",
       "0    1     41.0   49600.0            1                  0\n",
       "1    0     46.0   38000.0            1                  1\n",
       "2    0     29.0   21000.0            0                  0\n",
       "3    0     21.0   41700.0            2                  0\n",
       "4    1     28.0   26100.0            0                  0"
      ]
     },
     "execution_count": 3,
     "metadata": {},
     "output_type": "execute_result"
    }
   ],
   "source": [
    "# <рассмотрим датафрейм data>\n",
    "print(data.info())\n",
    "data.head()"
   ]
  },
  {
   "cell_type": "markdown",
   "metadata": {},
   "source": [
    "В датафрейме присутствуют:\n",
    "\n",
    "* Признаки - пол, возраст и зарплата застрахованного, количество членов его семьи.\n",
    "* Целевой признак - количество страховых выплат клиенту за последние 5 лет."
   ]
  },
  {
   "cell_type": "markdown",
   "metadata": {},
   "source": [
    "### Вывод"
   ]
  },
  {
   "cell_type": "markdown",
   "metadata": {},
   "source": [
    "Данные загружены, пропусков нет."
   ]
  },
  {
   "cell_type": "markdown",
   "metadata": {},
   "source": [
    "## 2. Умножение матриц <a class=\"anchor\" id=\"2\"></a>"
   ]
  },
  {
   "cell_type": "markdown",
   "metadata": {},
   "source": [
    "Обозначения:\n",
    "\n",
    "- $X$ — матрица признаков (нулевой столбец состоит из единиц)\n",
    "\n",
    "- $y$ — вектор целевого признака\n",
    "\n",
    "- $P$ — матрица, на которую умножаются признаки\n",
    "\n",
    "- $w$ — вектор весов линейной регрессии (нулевой элемент равен сдвигу)"
   ]
  },
  {
   "cell_type": "markdown",
   "metadata": {},
   "source": [
    "Предсказания:\n",
    "\n",
    "$$\n",
    "a = Xw\n",
    "$$\n",
    "\n",
    "Задача обучения:\n",
    "\n",
    "$$\n",
    "w = \\arg\\min_w MSE(Xw, y)\n",
    "$$\n",
    "\n",
    "Формула обучения:\n",
    "\n",
    "$$\n",
    "w = (X^T X)^{-1} X^T y\n",
    "$$"
   ]
  },
  {
   "cell_type": "markdown",
   "metadata": {},
   "source": [
    "### Умножение признаков на обратимую матрицу, изменится ли качество лин. регрессии?"
   ]
  },
  {
   "cell_type": "markdown",
   "metadata": {},
   "source": [
    "**Ответ:** Не изменится.\n",
    "\n",
    "**Обоснование:** \n",
    "\n",
    "Предсказания:\n",
    "\n",
    "$$\n",
    "a = Xw\n",
    "$$\n",
    "\n",
    "Задача обучения:\n",
    "\n",
    "$$\n",
    "w = \\arg\\min_w MSE(Xw, y)\n",
    "$$\n",
    "\n",
    "Формула обучения:\n",
    "\n",
    "$$\n",
    "w = (X^T X)^{-1} X^T y\n",
    "$$\n",
    "\n",
    "Вместо X подставим XP, где P - обратимая квадратная матрица со случайными числами.\n",
    "\n",
    "$$\n",
    "Z = XP\n",
    "$$\n",
    "\n",
    "$$\n",
    "w(Z) = ((XP)^T XP)^{-1} (XP)^T y\n",
    "$$\n",
    "\n",
    "Используем формулу:\n",
    "\n",
    "$$\n",
    "(AB)^T = B^T A^T\n",
    "$$\n",
    "\n",
    "$$\n",
    "w(Z) = (P^T X^T XP)^{-1} P^T X^T y\n",
    "$$\n",
    "\n",
    "Используем формулу(она работает для квадратных обратимых матриц):\n",
    "\n",
    "$$\n",
    "(AB)^{-1} = B^{-1} A^{-1}\n",
    "$$\n",
    "\n",
    "Обращаем внимание что \n",
    "\n",
    "$$\n",
    "P^T, X^T X, P\n",
    "$$\n",
    "\n",
    "являются квадратными. Преобразуем то что в скобке.\n",
    "\n",
    "$$\n",
    "w(Z) = P^{-1} (P^T X^T X)^{-1} P^T X^T y\n",
    "$$\n",
    "\n",
    "\n",
    "$$\n",
    "w(Z) = P^{-1} (X^T X)^{-1} (P^T)^{-1} P^T X^T y\n",
    "$$\n",
    "\n",
    "Помним также что умножение матрицы на обратную матрицу равно единичной матрице, а умножение любой матрицы на единичную равно этой самой матрице.\n",
    "\n",
    "$$\n",
    "w(Z) = P^{-1} (X^T X)^{-1} X^T y\n",
    "$$\n",
    "\n",
    "Подставим *w(Z)* в формулу предсказаний.\n",
    "\n",
    "$$\n",
    "a(Z) = X P P^{-1} (X^T X)^{-1} X^T y\n",
    "$$\n",
    "\n",
    "$$\n",
    "a(Z) = X (X^T X)^{-1} X^T y\n",
    "$$\n",
    "\n",
    "Результат не изменился, что и требовалось доказать."
   ]
  },
  {
   "cell_type": "markdown",
   "metadata": {},
   "source": [
    "### Вывод"
   ]
  },
  {
   "cell_type": "markdown",
   "metadata": {},
   "source": [
    "Мы доказали с помощью матричных преобразований что предсказания линейной регресии при умножении матрицы признаков на другую матрицу (с размерностью 4x4, так как нам требуется в итоге матрица 5000x4) не изменятся."
   ]
  },
  {
   "cell_type": "markdown",
   "metadata": {},
   "source": [
    "## 3. Алгоритм преобразования <a class=\"anchor\" id=\"3\"></a>"
   ]
  },
  {
   "cell_type": "markdown",
   "metadata": {},
   "source": [
    "**Алгоритм**\n",
    "\n",
    "Умножим матрицу признаков на матрицу 4x4, так как количество столбцов матрицы A должно быть равно количеству строк матрицы B при умножении, а матрица полученная после умножения будет иметь количество строк матрицы A и количество столбцов матрицы B.\n",
    "\n",
    "Саму матрицу B сгенерируем с помощью метода библиотеки numpy np.random.normal(), где первый аргумент среднее нормального распределения, второй стандартное отклонение, третий - размерность матрицы."
   ]
  },
  {
   "cell_type": "markdown",
   "metadata": {},
   "source": [
    "**Обоснование**"
   ]
  },
  {
   "cell_type": "markdown",
   "metadata": {},
   "source": [
    "Создадим переменные для признаков и целевого признака."
   ]
  },
  {
   "cell_type": "code",
   "execution_count": 4,
   "metadata": {},
   "outputs": [],
   "source": [
    "# <создадим переменные для признаков и целевого признака>\n",
    "features = data.drop('Страховые выплаты', axis=1)\n",
    "target = data['Страховые выплаты']"
   ]
  },
  {
   "cell_type": "markdown",
   "metadata": {},
   "source": [
    "Создадим обратимую квадратную матрицу со случайными числами размерностью 4x4, умножим наши признаки на нее и полученную матрицу сделаем датафреймом."
   ]
  },
  {
   "cell_type": "code",
   "execution_count": 5,
   "metadata": {},
   "outputs": [
    {
     "data": {
      "text/html": [
       "<div>\n",
       "<style scoped>\n",
       "    .dataframe tbody tr th:only-of-type {\n",
       "        vertical-align: middle;\n",
       "    }\n",
       "\n",
       "    .dataframe tbody tr th {\n",
       "        vertical-align: top;\n",
       "    }\n",
       "\n",
       "    .dataframe thead th {\n",
       "        text-align: right;\n",
       "    }\n",
       "</style>\n",
       "<table border=\"1\" class=\"dataframe\">\n",
       "  <thead>\n",
       "    <tr style=\"text-align: right;\">\n",
       "      <th></th>\n",
       "      <th>Пол</th>\n",
       "      <th>Возраст</th>\n",
       "      <th>Зарплата</th>\n",
       "      <th>Члены семьи</th>\n",
       "    </tr>\n",
       "  </thead>\n",
       "  <tbody>\n",
       "    <tr>\n",
       "      <td>0</td>\n",
       "      <td>-2931.223114</td>\n",
       "      <td>-40767.298786</td>\n",
       "      <td>214661.147473</td>\n",
       "      <td>396185.897650</td>\n",
       "    </tr>\n",
       "    <tr>\n",
       "      <td>1</td>\n",
       "      <td>-2285.329658</td>\n",
       "      <td>-31145.350823</td>\n",
       "      <td>164494.704660</td>\n",
       "      <td>303607.453210</td>\n",
       "    </tr>\n",
       "    <tr>\n",
       "      <td>2</td>\n",
       "      <td>-1271.929294</td>\n",
       "      <td>-17190.956691</td>\n",
       "      <td>90910.902879</td>\n",
       "      <td>167801.410786</td>\n",
       "    </tr>\n",
       "    <tr>\n",
       "      <td>3</td>\n",
       "      <td>-2433.037177</td>\n",
       "      <td>-34354.064292</td>\n",
       "      <td>180444.821260</td>\n",
       "      <td>333012.427717</td>\n",
       "    </tr>\n",
       "    <tr>\n",
       "      <td>4</td>\n",
       "      <td>-1557.149699</td>\n",
       "      <td>-21413.968341</td>\n",
       "      <td>112969.432520</td>\n",
       "      <td>208510.967072</td>\n",
       "    </tr>\n",
       "    <tr>\n",
       "      <td>...</td>\n",
       "      <td>...</td>\n",
       "      <td>...</td>\n",
       "      <td>...</td>\n",
       "      <td>...</td>\n",
       "    </tr>\n",
       "    <tr>\n",
       "      <td>4995</td>\n",
       "      <td>-2108.524995</td>\n",
       "      <td>-29350.567090</td>\n",
       "      <td>154507.002118</td>\n",
       "      <td>285151.206560</td>\n",
       "    </tr>\n",
       "    <tr>\n",
       "      <td>4996</td>\n",
       "      <td>-3076.373025</td>\n",
       "      <td>-43124.918671</td>\n",
       "      <td>226757.002794</td>\n",
       "      <td>418500.145789</td>\n",
       "    </tr>\n",
       "    <tr>\n",
       "      <td>4997</td>\n",
       "      <td>-1985.470775</td>\n",
       "      <td>-27910.171452</td>\n",
       "      <td>146701.390723</td>\n",
       "      <td>270738.633091</td>\n",
       "    </tr>\n",
       "    <tr>\n",
       "      <td>4998</td>\n",
       "      <td>-1919.107033</td>\n",
       "      <td>-26904.648011</td>\n",
       "      <td>141519.579876</td>\n",
       "      <td>261172.123637</td>\n",
       "    </tr>\n",
       "    <tr>\n",
       "      <td>4999</td>\n",
       "      <td>-2384.656496</td>\n",
       "      <td>-33403.177517</td>\n",
       "      <td>175697.959073</td>\n",
       "      <td>324267.940432</td>\n",
       "    </tr>\n",
       "  </tbody>\n",
       "</table>\n",
       "<p>5000 rows × 4 columns</p>\n",
       "</div>"
      ],
      "text/plain": [
       "              Пол       Возраст       Зарплата    Члены семьи\n",
       "0    -2931.223114 -40767.298786  214661.147473  396185.897650\n",
       "1    -2285.329658 -31145.350823  164494.704660  303607.453210\n",
       "2    -1271.929294 -17190.956691   90910.902879  167801.410786\n",
       "3    -2433.037177 -34354.064292  180444.821260  333012.427717\n",
       "4    -1557.149699 -21413.968341  112969.432520  208510.967072\n",
       "...           ...           ...            ...            ...\n",
       "4995 -2108.524995 -29350.567090  154507.002118  285151.206560\n",
       "4996 -3076.373025 -43124.918671  226757.002794  418500.145789\n",
       "4997 -1985.470775 -27910.171452  146701.390723  270738.633091\n",
       "4998 -1919.107033 -26904.648011  141519.579876  261172.123637\n",
       "4999 -2384.656496 -33403.177517  175697.959073  324267.940432\n",
       "\n",
       "[5000 rows x 4 columns]"
      ]
     },
     "execution_count": 5,
     "metadata": {},
     "output_type": "execute_result"
    }
   ],
   "source": [
    "random_matrix = np.random.normal(3, 2.5, size=(4, 4))\n",
    "features_transformed = pd.DataFrame(features.values @ random_matrix, index = features.index, columns = features.columns)\n",
    "features_transformed"
   ]
  },
  {
   "cell_type": "markdown",
   "metadata": {},
   "source": [
    "Проверим что матрица обратима."
   ]
  },
  {
   "cell_type": "code",
   "execution_count": 6,
   "metadata": {},
   "outputs": [
    {
     "data": {
      "text/plain": [
       "array([[ 0.29405648, -0.0275912 , -0.03065751,  0.07232219],\n",
       "       [ 0.11105713,  0.13867048, -0.11552685,  0.04628663],\n",
       "       [-0.01643105, -0.04153058, -0.01753099,  0.24213429],\n",
       "       [ 0.02250851,  0.03667053,  0.12257791, -0.12589255]])"
      ]
     },
     "execution_count": 6,
     "metadata": {},
     "output_type": "execute_result"
    }
   ],
   "source": [
    "np.linalg.inv(random_matrix)"
   ]
  },
  {
   "cell_type": "markdown",
   "metadata": {},
   "source": [
    "### Вывод"
   ]
  },
  {
   "cell_type": "markdown",
   "metadata": {},
   "source": [
    "Мы преобразовали признаки и в следующем шаге проверим что метрика качества линейной регресии не изменится после преобразований."
   ]
  },
  {
   "cell_type": "markdown",
   "metadata": {},
   "source": [
    "## 4. Проверка алгоритма <a class=\"anchor\" id=\"4\"></a>"
   ]
  },
  {
   "cell_type": "markdown",
   "metadata": {},
   "source": [
    "Импортируем библиотеки:"
   ]
  },
  {
   "cell_type": "code",
   "execution_count": 7,
   "metadata": {},
   "outputs": [],
   "source": [
    "# <Импортируем метод линейной регрессии>\n",
    "from sklearn.linear_model import LinearRegression\n",
    "\n",
    "# <Импортируем коэффициент детерминации>\n",
    "from sklearn.metrics import r2_score"
   ]
  },
  {
   "cell_type": "markdown",
   "metadata": {},
   "source": [
    "Проверим качество линейной регресии на непреобразованных данных:"
   ]
  },
  {
   "cell_type": "code",
   "execution_count": 8,
   "metadata": {},
   "outputs": [
    {
     "name": "stdout",
     "output_type": "stream",
     "text": [
      "R2: 0.4249\n"
     ]
    }
   ],
   "source": [
    "# <Создадим модель лин. регрессии>\n",
    "model = LinearRegression().fit(features, target)\n",
    "\n",
    "# <обучаем модель> \n",
    "predictions = model.predict(features)\n",
    "\n",
    "# <метрика качества коэффициент детерминации>\n",
    "print('R2:','{:.4f}'.format(r2_score(target,predictions)))"
   ]
  },
  {
   "cell_type": "markdown",
   "metadata": {},
   "source": [
    "Проверим качество линейной регресии на преобразованных данных:"
   ]
  },
  {
   "cell_type": "code",
   "execution_count": 9,
   "metadata": {},
   "outputs": [
    {
     "name": "stdout",
     "output_type": "stream",
     "text": [
      "R2: 0.4249\n"
     ]
    }
   ],
   "source": [
    "# <Создадим модель лин. регрессии>\n",
    "model = LinearRegression().fit(features_transformed, target)\n",
    "\n",
    "# <обучаем модель> \n",
    "predictions = model.predict(features_transformed)\n",
    "\n",
    "# <метрика качества коэффициент детерминации>\n",
    "print('R2:','{:.4f}'.format(r2_score(target,predictions)))"
   ]
  },
  {
   "cell_type": "markdown",
   "metadata": {},
   "source": [
    "Качество не отличается. "
   ]
  },
  {
   "cell_type": "markdown",
   "metadata": {},
   "source": [
    "### Вывод"
   ]
  },
  {
   "cell_type": "markdown",
   "metadata": {},
   "source": [
    "Мы удостоверились что качество линейной регресии не меняется при умножении признаков на обратимую матрицу со случайными числами."
   ]
  }
 ],
 "metadata": {
  "kernelspec": {
   "display_name": "Python 3",
   "language": "python",
   "name": "python3"
  },
  "language_info": {
   "codemirror_mode": {
    "name": "ipython",
    "version": 3
   },
   "file_extension": ".py",
   "mimetype": "text/x-python",
   "name": "python",
   "nbconvert_exporter": "python",
   "pygments_lexer": "ipython3",
   "version": "3.7.6"
  }
 },
 "nbformat": 4,
 "nbformat_minor": 2
}
