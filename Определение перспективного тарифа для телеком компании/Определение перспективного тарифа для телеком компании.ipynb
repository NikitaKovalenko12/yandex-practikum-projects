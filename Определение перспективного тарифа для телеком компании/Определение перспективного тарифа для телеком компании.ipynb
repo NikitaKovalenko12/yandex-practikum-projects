{
 "cells": [
  {
   "cell_type": "markdown",
   "metadata": {},
   "source": [
    "# Определение перспективного тарифа для телеком компании\n",
    "\n",
    "Необходимо определить выгодный тарифный план для корректировки рекламного бюджета.\n",
    "\n",
    "### Описание тарифов\n",
    "**Тариф «Смарт»**\n",
    "* Ежемесячная плата: 550 рублей\n",
    "* Включено 500 минут разговора, 50 сообщений и 15 Гб интернет-трафика\n",
    "\n",
    "Стоимость услуг сверх тарифного пакета:\n",
    "\n",
    "* минута разговора: 3 рубля\n",
    "* сообщение: 3 рубля\n",
    "* 1 Гб интернет-трафика: 200 рублей\n",
    "\n",
    "**Тариф «Ультра»**\n",
    "* Ежемесячная плата: 1950 рублей\n",
    "* Включено 3000 минут разговора, 1000 сообщений и 30 Гб интернет-трафика\n",
    "\n",
    "Стоимость услуг сверх тарифного пакета:\n",
    "\n",
    "* минута разговора: 1 рубль\n",
    "* сообщение: 1 рубль\n",
    "* 1 Гб интернет-трафика: 150 рублей"
   ]
  },
  {
   "cell_type": "markdown",
   "metadata": {},
   "source": [
    "## Оглавление:\n",
    "* [Шаг 1. Откроем файл с данными и изучим общую информацию.](#1)\n",
    "* [Шаг 2. Подготовим данные.](#2)\n",
    "* [Шаг 3. Проанализируем данные.](#3)\n",
    "* [Шаг 4. Проверим гипотезы.](#4)\n",
    "* [Шаг 5. Напишем общий вывод.](#5)"
   ]
  },
  {
   "cell_type": "markdown",
   "metadata": {},
   "source": [
    "### Шаг 1. Откроем файл с данными и изучим общую информацию. <a class=\"anchor\" id=\"1\"></a>"
   ]
  },
  {
   "cell_type": "markdown",
   "metadata": {},
   "source": [
    "Импортируем библиотеки."
   ]
  },
  {
   "cell_type": "code",
   "execution_count": 1,
   "metadata": {},
   "outputs": [],
   "source": [
    "# <импорт библиотеки pandas>\n",
    "import pandas as pd\n",
    "\n",
    "# <импорт библиотеки matplotlib для построения графиков>\n",
    "import matplotlib.pyplot as plt\n",
    "\n",
    "# <импорт библиотеки seaborn для построения графиков>\n",
    "import seaborn as sns\n",
    "\n",
    "# <импорт библиотеки numpy>\n",
    "import numpy as np\n",
    "\n",
    "# <импорт библиотеки scipy>\n",
    "from scipy import stats as st\n",
    "\n",
    "# <импорт библиотеки math>\n",
    "import math\n",
    "\n",
    "# <код, благодаря которму графики отображаются с первого раза>\n",
    "%matplotlib inline\n",
    "\n",
    "# <код, благодаря которму датафреймы по ширине будут отображаться полностью>\n",
    "pd.set_option('display.max_columns', None)"
   ]
  },
  {
   "cell_type": "markdown",
   "metadata": {},
   "source": [
    "Прочитаем файлы, датафреймы сохраним в переменные:"
   ]
  },
  {
   "cell_type": "code",
   "execution_count": 2,
   "metadata": {},
   "outputs": [],
   "source": [
    "# <чтение файлов с данными с сохранением в различные переменные>\n",
    "df_calls = pd.read_csv('/datasets/calls.csv')\n",
    "df_internet = pd.read_csv('/datasets/internet.csv')\n",
    "df_messages = pd.read_csv('/datasets/messages.csv')\n",
    "df_tariffs = pd.read_csv('/datasets/tariffs.csv')\n",
    "df_users = pd.read_csv('/datasets/users.csv')"
   ]
  },
  {
   "cell_type": "markdown",
   "metadata": {},
   "source": [
    "Рассмотрим информацию по каждому датафрейму и рассмотрим первые 5 строк:"
   ]
  },
  {
   "cell_type": "code",
   "execution_count": 3,
   "metadata": {},
   "outputs": [
    {
     "name": "stdout",
     "output_type": "stream",
     "text": [
      "<class 'pandas.core.frame.DataFrame'>\n",
      "RangeIndex: 202607 entries, 0 to 202606\n",
      "Data columns (total 4 columns):\n",
      "id           202607 non-null object\n",
      "call_date    202607 non-null object\n",
      "duration     202607 non-null float64\n",
      "user_id      202607 non-null int64\n",
      "dtypes: float64(1), int64(1), object(2)\n",
      "memory usage: 6.2+ MB\n",
      "None\n"
     ]
    },
    {
     "data": {
      "text/html": [
       "<div>\n",
       "<style scoped>\n",
       "    .dataframe tbody tr th:only-of-type {\n",
       "        vertical-align: middle;\n",
       "    }\n",
       "\n",
       "    .dataframe tbody tr th {\n",
       "        vertical-align: top;\n",
       "    }\n",
       "\n",
       "    .dataframe thead th {\n",
       "        text-align: right;\n",
       "    }\n",
       "</style>\n",
       "<table border=\"1\" class=\"dataframe\">\n",
       "  <thead>\n",
       "    <tr style=\"text-align: right;\">\n",
       "      <th></th>\n",
       "      <th>id</th>\n",
       "      <th>call_date</th>\n",
       "      <th>duration</th>\n",
       "      <th>user_id</th>\n",
       "    </tr>\n",
       "  </thead>\n",
       "  <tbody>\n",
       "    <tr>\n",
       "      <td>0</td>\n",
       "      <td>1000_0</td>\n",
       "      <td>2018-07-25</td>\n",
       "      <td>0.00</td>\n",
       "      <td>1000</td>\n",
       "    </tr>\n",
       "    <tr>\n",
       "      <td>1</td>\n",
       "      <td>1000_1</td>\n",
       "      <td>2018-08-17</td>\n",
       "      <td>0.00</td>\n",
       "      <td>1000</td>\n",
       "    </tr>\n",
       "    <tr>\n",
       "      <td>2</td>\n",
       "      <td>1000_2</td>\n",
       "      <td>2018-06-11</td>\n",
       "      <td>2.85</td>\n",
       "      <td>1000</td>\n",
       "    </tr>\n",
       "    <tr>\n",
       "      <td>3</td>\n",
       "      <td>1000_3</td>\n",
       "      <td>2018-09-21</td>\n",
       "      <td>13.80</td>\n",
       "      <td>1000</td>\n",
       "    </tr>\n",
       "    <tr>\n",
       "      <td>4</td>\n",
       "      <td>1000_4</td>\n",
       "      <td>2018-12-15</td>\n",
       "      <td>5.18</td>\n",
       "      <td>1000</td>\n",
       "    </tr>\n",
       "  </tbody>\n",
       "</table>\n",
       "</div>"
      ],
      "text/plain": [
       "       id   call_date  duration  user_id\n",
       "0  1000_0  2018-07-25      0.00     1000\n",
       "1  1000_1  2018-08-17      0.00     1000\n",
       "2  1000_2  2018-06-11      2.85     1000\n",
       "3  1000_3  2018-09-21     13.80     1000\n",
       "4  1000_4  2018-12-15      5.18     1000"
      ]
     },
     "execution_count": 3,
     "metadata": {},
     "output_type": "execute_result"
    }
   ],
   "source": [
    "# <рассмотрим таблицу df_calls>\n",
    "print(df_calls.info())\n",
    "df_calls.head()"
   ]
  },
  {
   "cell_type": "code",
   "execution_count": 4,
   "metadata": {},
   "outputs": [
    {
     "name": "stdout",
     "output_type": "stream",
     "text": [
      "<class 'pandas.core.frame.DataFrame'>\n",
      "RangeIndex: 149396 entries, 0 to 149395\n",
      "Data columns (total 5 columns):\n",
      "Unnamed: 0      149396 non-null int64\n",
      "id              149396 non-null object\n",
      "mb_used         149396 non-null float64\n",
      "session_date    149396 non-null object\n",
      "user_id         149396 non-null int64\n",
      "dtypes: float64(1), int64(2), object(2)\n",
      "memory usage: 5.7+ MB\n",
      "None\n"
     ]
    },
    {
     "data": {
      "text/html": [
       "<div>\n",
       "<style scoped>\n",
       "    .dataframe tbody tr th:only-of-type {\n",
       "        vertical-align: middle;\n",
       "    }\n",
       "\n",
       "    .dataframe tbody tr th {\n",
       "        vertical-align: top;\n",
       "    }\n",
       "\n",
       "    .dataframe thead th {\n",
       "        text-align: right;\n",
       "    }\n",
       "</style>\n",
       "<table border=\"1\" class=\"dataframe\">\n",
       "  <thead>\n",
       "    <tr style=\"text-align: right;\">\n",
       "      <th></th>\n",
       "      <th>Unnamed: 0</th>\n",
       "      <th>id</th>\n",
       "      <th>mb_used</th>\n",
       "      <th>session_date</th>\n",
       "      <th>user_id</th>\n",
       "    </tr>\n",
       "  </thead>\n",
       "  <tbody>\n",
       "    <tr>\n",
       "      <td>0</td>\n",
       "      <td>0</td>\n",
       "      <td>1000_0</td>\n",
       "      <td>112.95</td>\n",
       "      <td>2018-11-25</td>\n",
       "      <td>1000</td>\n",
       "    </tr>\n",
       "    <tr>\n",
       "      <td>1</td>\n",
       "      <td>1</td>\n",
       "      <td>1000_1</td>\n",
       "      <td>1052.81</td>\n",
       "      <td>2018-09-07</td>\n",
       "      <td>1000</td>\n",
       "    </tr>\n",
       "    <tr>\n",
       "      <td>2</td>\n",
       "      <td>2</td>\n",
       "      <td>1000_2</td>\n",
       "      <td>1197.26</td>\n",
       "      <td>2018-06-25</td>\n",
       "      <td>1000</td>\n",
       "    </tr>\n",
       "    <tr>\n",
       "      <td>3</td>\n",
       "      <td>3</td>\n",
       "      <td>1000_3</td>\n",
       "      <td>550.27</td>\n",
       "      <td>2018-08-22</td>\n",
       "      <td>1000</td>\n",
       "    </tr>\n",
       "    <tr>\n",
       "      <td>4</td>\n",
       "      <td>4</td>\n",
       "      <td>1000_4</td>\n",
       "      <td>302.56</td>\n",
       "      <td>2018-09-24</td>\n",
       "      <td>1000</td>\n",
       "    </tr>\n",
       "  </tbody>\n",
       "</table>\n",
       "</div>"
      ],
      "text/plain": [
       "   Unnamed: 0      id  mb_used session_date  user_id\n",
       "0           0  1000_0   112.95   2018-11-25     1000\n",
       "1           1  1000_1  1052.81   2018-09-07     1000\n",
       "2           2  1000_2  1197.26   2018-06-25     1000\n",
       "3           3  1000_3   550.27   2018-08-22     1000\n",
       "4           4  1000_4   302.56   2018-09-24     1000"
      ]
     },
     "execution_count": 4,
     "metadata": {},
     "output_type": "execute_result"
    }
   ],
   "source": [
    "# <рассмотрим таблицу df_internet>\n",
    "print(df_internet.info())\n",
    "df_internet.head()"
   ]
  },
  {
   "cell_type": "code",
   "execution_count": 5,
   "metadata": {},
   "outputs": [
    {
     "name": "stdout",
     "output_type": "stream",
     "text": [
      "<class 'pandas.core.frame.DataFrame'>\n",
      "RangeIndex: 123036 entries, 0 to 123035\n",
      "Data columns (total 3 columns):\n",
      "id              123036 non-null object\n",
      "message_date    123036 non-null object\n",
      "user_id         123036 non-null int64\n",
      "dtypes: int64(1), object(2)\n",
      "memory usage: 2.8+ MB\n",
      "None\n"
     ]
    },
    {
     "data": {
      "text/html": [
       "<div>\n",
       "<style scoped>\n",
       "    .dataframe tbody tr th:only-of-type {\n",
       "        vertical-align: middle;\n",
       "    }\n",
       "\n",
       "    .dataframe tbody tr th {\n",
       "        vertical-align: top;\n",
       "    }\n",
       "\n",
       "    .dataframe thead th {\n",
       "        text-align: right;\n",
       "    }\n",
       "</style>\n",
       "<table border=\"1\" class=\"dataframe\">\n",
       "  <thead>\n",
       "    <tr style=\"text-align: right;\">\n",
       "      <th></th>\n",
       "      <th>id</th>\n",
       "      <th>message_date</th>\n",
       "      <th>user_id</th>\n",
       "    </tr>\n",
       "  </thead>\n",
       "  <tbody>\n",
       "    <tr>\n",
       "      <td>0</td>\n",
       "      <td>1000_0</td>\n",
       "      <td>2018-06-27</td>\n",
       "      <td>1000</td>\n",
       "    </tr>\n",
       "    <tr>\n",
       "      <td>1</td>\n",
       "      <td>1000_1</td>\n",
       "      <td>2018-10-08</td>\n",
       "      <td>1000</td>\n",
       "    </tr>\n",
       "    <tr>\n",
       "      <td>2</td>\n",
       "      <td>1000_2</td>\n",
       "      <td>2018-08-04</td>\n",
       "      <td>1000</td>\n",
       "    </tr>\n",
       "    <tr>\n",
       "      <td>3</td>\n",
       "      <td>1000_3</td>\n",
       "      <td>2018-06-16</td>\n",
       "      <td>1000</td>\n",
       "    </tr>\n",
       "    <tr>\n",
       "      <td>4</td>\n",
       "      <td>1000_4</td>\n",
       "      <td>2018-12-05</td>\n",
       "      <td>1000</td>\n",
       "    </tr>\n",
       "  </tbody>\n",
       "</table>\n",
       "</div>"
      ],
      "text/plain": [
       "       id message_date  user_id\n",
       "0  1000_0   2018-06-27     1000\n",
       "1  1000_1   2018-10-08     1000\n",
       "2  1000_2   2018-08-04     1000\n",
       "3  1000_3   2018-06-16     1000\n",
       "4  1000_4   2018-12-05     1000"
      ]
     },
     "execution_count": 5,
     "metadata": {},
     "output_type": "execute_result"
    }
   ],
   "source": [
    "# <рассмотрим таблицу df_messages>\n",
    "print(df_messages.info())\n",
    "df_messages.head()"
   ]
  },
  {
   "cell_type": "code",
   "execution_count": 6,
   "metadata": {},
   "outputs": [
    {
     "name": "stdout",
     "output_type": "stream",
     "text": [
      "<class 'pandas.core.frame.DataFrame'>\n",
      "RangeIndex: 2 entries, 0 to 1\n",
      "Data columns (total 8 columns):\n",
      "messages_included        2 non-null int64\n",
      "mb_per_month_included    2 non-null int64\n",
      "minutes_included         2 non-null int64\n",
      "rub_monthly_fee          2 non-null int64\n",
      "rub_per_gb               2 non-null int64\n",
      "rub_per_message          2 non-null int64\n",
      "rub_per_minute           2 non-null int64\n",
      "tariff_name              2 non-null object\n",
      "dtypes: int64(7), object(1)\n",
      "memory usage: 256.0+ bytes\n",
      "None\n"
     ]
    },
    {
     "data": {
      "text/html": [
       "<div>\n",
       "<style scoped>\n",
       "    .dataframe tbody tr th:only-of-type {\n",
       "        vertical-align: middle;\n",
       "    }\n",
       "\n",
       "    .dataframe tbody tr th {\n",
       "        vertical-align: top;\n",
       "    }\n",
       "\n",
       "    .dataframe thead th {\n",
       "        text-align: right;\n",
       "    }\n",
       "</style>\n",
       "<table border=\"1\" class=\"dataframe\">\n",
       "  <thead>\n",
       "    <tr style=\"text-align: right;\">\n",
       "      <th></th>\n",
       "      <th>messages_included</th>\n",
       "      <th>mb_per_month_included</th>\n",
       "      <th>minutes_included</th>\n",
       "      <th>rub_monthly_fee</th>\n",
       "      <th>rub_per_gb</th>\n",
       "      <th>rub_per_message</th>\n",
       "      <th>rub_per_minute</th>\n",
       "      <th>tariff_name</th>\n",
       "    </tr>\n",
       "  </thead>\n",
       "  <tbody>\n",
       "    <tr>\n",
       "      <td>0</td>\n",
       "      <td>50</td>\n",
       "      <td>15360</td>\n",
       "      <td>500</td>\n",
       "      <td>550</td>\n",
       "      <td>200</td>\n",
       "      <td>3</td>\n",
       "      <td>3</td>\n",
       "      <td>smart</td>\n",
       "    </tr>\n",
       "    <tr>\n",
       "      <td>1</td>\n",
       "      <td>1000</td>\n",
       "      <td>30720</td>\n",
       "      <td>3000</td>\n",
       "      <td>1950</td>\n",
       "      <td>150</td>\n",
       "      <td>1</td>\n",
       "      <td>1</td>\n",
       "      <td>ultra</td>\n",
       "    </tr>\n",
       "  </tbody>\n",
       "</table>\n",
       "</div>"
      ],
      "text/plain": [
       "   messages_included  mb_per_month_included  minutes_included  \\\n",
       "0                 50                  15360               500   \n",
       "1               1000                  30720              3000   \n",
       "\n",
       "   rub_monthly_fee  rub_per_gb  rub_per_message  rub_per_minute tariff_name  \n",
       "0              550         200                3               3       smart  \n",
       "1             1950         150                1               1       ultra  "
      ]
     },
     "execution_count": 6,
     "metadata": {},
     "output_type": "execute_result"
    }
   ],
   "source": [
    "# <рассмотрим таблицу df_tariffs>\n",
    "print(df_tariffs.info())\n",
    "df_tariffs.head()"
   ]
  },
  {
   "cell_type": "code",
   "execution_count": 7,
   "metadata": {},
   "outputs": [
    {
     "name": "stdout",
     "output_type": "stream",
     "text": [
      "<class 'pandas.core.frame.DataFrame'>\n",
      "RangeIndex: 500 entries, 0 to 499\n",
      "Data columns (total 8 columns):\n",
      "user_id       500 non-null int64\n",
      "age           500 non-null int64\n",
      "churn_date    38 non-null object\n",
      "city          500 non-null object\n",
      "first_name    500 non-null object\n",
      "last_name     500 non-null object\n",
      "reg_date      500 non-null object\n",
      "tariff        500 non-null object\n",
      "dtypes: int64(2), object(6)\n",
      "memory usage: 31.4+ KB\n",
      "None\n"
     ]
    },
    {
     "data": {
      "text/html": [
       "<div>\n",
       "<style scoped>\n",
       "    .dataframe tbody tr th:only-of-type {\n",
       "        vertical-align: middle;\n",
       "    }\n",
       "\n",
       "    .dataframe tbody tr th {\n",
       "        vertical-align: top;\n",
       "    }\n",
       "\n",
       "    .dataframe thead th {\n",
       "        text-align: right;\n",
       "    }\n",
       "</style>\n",
       "<table border=\"1\" class=\"dataframe\">\n",
       "  <thead>\n",
       "    <tr style=\"text-align: right;\">\n",
       "      <th></th>\n",
       "      <th>user_id</th>\n",
       "      <th>age</th>\n",
       "      <th>churn_date</th>\n",
       "      <th>city</th>\n",
       "      <th>first_name</th>\n",
       "      <th>last_name</th>\n",
       "      <th>reg_date</th>\n",
       "      <th>tariff</th>\n",
       "    </tr>\n",
       "  </thead>\n",
       "  <tbody>\n",
       "    <tr>\n",
       "      <td>0</td>\n",
       "      <td>1000</td>\n",
       "      <td>52</td>\n",
       "      <td>NaN</td>\n",
       "      <td>Краснодар</td>\n",
       "      <td>Рафаил</td>\n",
       "      <td>Верещагин</td>\n",
       "      <td>2018-05-25</td>\n",
       "      <td>ultra</td>\n",
       "    </tr>\n",
       "    <tr>\n",
       "      <td>1</td>\n",
       "      <td>1001</td>\n",
       "      <td>41</td>\n",
       "      <td>NaN</td>\n",
       "      <td>Москва</td>\n",
       "      <td>Иван</td>\n",
       "      <td>Ежов</td>\n",
       "      <td>2018-11-01</td>\n",
       "      <td>smart</td>\n",
       "    </tr>\n",
       "    <tr>\n",
       "      <td>2</td>\n",
       "      <td>1002</td>\n",
       "      <td>59</td>\n",
       "      <td>NaN</td>\n",
       "      <td>Стерлитамак</td>\n",
       "      <td>Евгений</td>\n",
       "      <td>Абрамович</td>\n",
       "      <td>2018-06-17</td>\n",
       "      <td>smart</td>\n",
       "    </tr>\n",
       "    <tr>\n",
       "      <td>3</td>\n",
       "      <td>1003</td>\n",
       "      <td>23</td>\n",
       "      <td>NaN</td>\n",
       "      <td>Москва</td>\n",
       "      <td>Белла</td>\n",
       "      <td>Белякова</td>\n",
       "      <td>2018-08-17</td>\n",
       "      <td>ultra</td>\n",
       "    </tr>\n",
       "    <tr>\n",
       "      <td>4</td>\n",
       "      <td>1004</td>\n",
       "      <td>68</td>\n",
       "      <td>NaN</td>\n",
       "      <td>Новокузнецк</td>\n",
       "      <td>Татьяна</td>\n",
       "      <td>Авдеенко</td>\n",
       "      <td>2018-05-14</td>\n",
       "      <td>ultra</td>\n",
       "    </tr>\n",
       "  </tbody>\n",
       "</table>\n",
       "</div>"
      ],
      "text/plain": [
       "   user_id  age churn_date         city first_name  last_name    reg_date  \\\n",
       "0     1000   52        NaN    Краснодар     Рафаил  Верещагин  2018-05-25   \n",
       "1     1001   41        NaN       Москва       Иван       Ежов  2018-11-01   \n",
       "2     1002   59        NaN  Стерлитамак    Евгений  Абрамович  2018-06-17   \n",
       "3     1003   23        NaN       Москва      Белла   Белякова  2018-08-17   \n",
       "4     1004   68        NaN  Новокузнецк    Татьяна   Авдеенко  2018-05-14   \n",
       "\n",
       "  tariff  \n",
       "0  ultra  \n",
       "1  smart  \n",
       "2  smart  \n",
       "3  ultra  \n",
       "4  ultra  "
      ]
     },
     "execution_count": 7,
     "metadata": {},
     "output_type": "execute_result"
    }
   ],
   "source": [
    "# <рассмотрим таблицу df_users>\n",
    "print(df_users.info())\n",
    "df_users.head()"
   ]
  },
  {
   "cell_type": "markdown",
   "metadata": {},
   "source": [
    "Рассмотрим полученную информацию подробнее.\n",
    "\n",
    "Всего имеем 5 таблиц:\n",
    "\n",
    "Таблица *users* (информация о пользователях):\n",
    "\n",
    "*\t*user_id* — уникальный идентификатор пользователя\n",
    "*\t*first_name* — имя пользователя\n",
    "*\t*last_name* — фамилия пользователя\n",
    "*\t*age* — возраст пользователя (годы)\n",
    "*\t*reg_date* — дата подключения тарифа (день, месяц, год)\n",
    "*\t*churn_date* — дата прекращения пользования тарифом (если значение пропущено, то тариф ещё действовал на момент выгрузки данных)\n",
    "*\t*city* — город проживания пользователя\n",
    "*\t*tariff* — название тарифного плана\n",
    "\n",
    "Таблица *calls* (информация о звонках):\n",
    "\n",
    "*\t*id* — уникальный номер звонка\n",
    "*\t*call_date* — дата звонка\n",
    "*\t*duration* — длительность звонка в минутах\n",
    "*\t*user_id* — идентификатор пользователя, сделавшего звонок\n",
    "\n",
    "Таблица *messages* (информация о сообщениях):\n",
    "\n",
    "*\t*id* — уникальный номер сообщения\n",
    "*\t*message_date* — дата сообщения\n",
    "*\t*user_id* — идентификатор пользователя, отправившего сообщение\n",
    "\n",
    "Таблица *internet* (информация об интернет-сессиях):\n",
    "\n",
    "*\t*id* — уникальный номер сессии\n",
    "*\t*mb_used* — объём потраченного за сессию интернет-трафика (в мегабайтах)\n",
    "*\t*session_date* — дата интернет-сессии\n",
    "*\t*user_id* — идентификатор пользователя\n",
    "\n",
    "Таблица *tariffs* (информация о тарифах):\n",
    "\n",
    "*\t*tariff_name* — название тарифа\n",
    "*\t*rub_monthly_fee* — ежемесячная абонентская плата в рублях\n",
    "*\t*minutes_included* — количество минут разговора в месяц, включённых в абонентскую плату\n",
    "*\t*messages_included* — количество сообщений в месяц, включённых в абонентскую плату\n",
    "*\t*mb_per_month_included* — объём интернет-трафика, включённого в абонентскую плату (в мегабайтах)\n",
    "*\t*rub_per_minute* — стоимость минуты разговора сверх тарифного пакета (например, если в тарифе 100 минут разговора в месяц, то со 101 минуты будет взиматься плата)\n",
    "*\t*rub_per_message* — стоимость отправки сообщения сверх тарифного пакета\n",
    "*\t*rub_per_gb* — стоимость дополнительного гигабайта интернет-трафика сверх тарифного пакета (1 гигабайт = 1024 мегабайта)\n",
    "\n",
    "Мы имеем звонки, мегабайты и сообщения. Клиентов, их совершивших. И какие у них тарифы."
   ]
  },
  {
   "cell_type": "markdown",
   "metadata": {},
   "source": [
    "### Вывод"
   ]
  },
  {
   "cell_type": "markdown",
   "metadata": {},
   "source": [
    "Для решения заданий в следующих шагах необходимо составить хотя бы один датафрейм состоящую из данных вышеобозначенных. Сразу видно, что есть проблемы:\n",
    "\n",
    "* Почему в длительностях звонков нули.\n",
    "* Все ли действия клиентов происходят после подключения тарифа и до даты прекращения пользования. Может быть один клиент пользовался несколькими тарифами.\n",
    "* Необходимо привести столбцы даты к типу datetime64.\n",
    "* Необходимо округлить минуты вверх в будущем датафрейме, они представлены в дробном виде.\n",
    "\n",
    "Идем дальше."
   ]
  },
  {
   "cell_type": "markdown",
   "metadata": {},
   "source": [
    "### Шаг 2. Подготовим данные. <a class=\"anchor\" id=\"2\"></a>"
   ]
  },
  {
   "cell_type": "markdown",
   "metadata": {},
   "source": [
    "Удалим звонки где длительность звонка = 0. Мы сделаем это потому что наличие таких данных некорректно, эти звонки скорее всего не состоялись, мы не можем это не подтвердить, ни опровергнуть. Если мы не уверены что сам звонок вообще состоялся, то зачем использовать эти данные для исследования."
   ]
  },
  {
   "cell_type": "code",
   "execution_count": 8,
   "metadata": {},
   "outputs": [
    {
     "name": "stdout",
     "output_type": "stream",
     "text": [
      "После удаления некорректных звонков осталось 80.4% записей\n"
     ]
    }
   ],
   "source": [
    "# <Удалим из выборки звонки, где длительность 0, и проставим индексы заново>\n",
    "df_cleancalls = df_calls.query('duration != 0')\n",
    "df_cleancalls = df_cleancalls.reset_index(drop = True)\n",
    "print('После удаления некорректных звонков осталось {:.1%} записей'.format((df_cleancalls.shape[0])/df_calls.shape[0]))"
   ]
  },
  {
   "cell_type": "markdown",
   "metadata": {},
   "source": [
    "Мы удалили много записей, но зато улучшаем репрезентативность выборки.\n",
    "\n",
    "Округлим минуты и мегабайты вверх, не забываем что даже если мы проговорили 1 секунду, в тарифе засчитывается целая минута, у мегабайтов тоже самое."
   ]
  },
  {
   "cell_type": "code",
   "execution_count": 9,
   "metadata": {},
   "outputs": [],
   "source": [
    "# <Используем метод ceil() из библиотеки numpy для округления вверх, а также поменяем тип на целочисленный>\n",
    "df_cleancalls['duration'] = np.ceil(df_cleancalls['duration']).astype('int64')"
   ]
  },
  {
   "cell_type": "code",
   "execution_count": 10,
   "metadata": {},
   "outputs": [],
   "source": [
    "# <Используем метод ceil() из библиотеки numpy для округления вверх, а также поменяем тип на целочисленный>\n",
    "df_internet['mb_used'] = np.ceil(df_internet['mb_used']).astype('int64')"
   ]
  },
  {
   "cell_type": "markdown",
   "metadata": {},
   "source": [
    "Сменим тип данных у дат:"
   ]
  },
  {
   "cell_type": "code",
   "execution_count": 11,
   "metadata": {},
   "outputs": [],
   "source": [
    "# <Сменим тип данных во всех столбцах таблиц где есть даты>\n",
    "df_cleancalls[\"call_date\"] = df_cleancalls[\"call_date\"].astype(\"datetime64\")\n",
    "df_messages[\"message_date\"] = df_messages[\"message_date\"].astype(\"datetime64\")\n",
    "df_internet[\"session_date\"] = df_internet[\"session_date\"].astype(\"datetime64\")\n",
    "df_users[\"reg_date\"] = df_users[\"reg_date\"].astype(\"datetime64\")\n",
    "df_users[\"churn_date\"] = df_users[\"churn_date\"].astype(\"datetime64\")"
   ]
  },
  {
   "cell_type": "markdown",
   "metadata": {},
   "source": [
    "Преобразуем столбцы дат в столбцы месяцев:"
   ]
  },
  {
   "cell_type": "code",
   "execution_count": 12,
   "metadata": {},
   "outputs": [],
   "source": [
    "# <Преобразуем столбцы дат в столбцы месяцев>\n",
    "df_cleancalls[\"call_date\"] = df_cleancalls[\"call_date\"].dt.month\n",
    "df_messages[\"message_date\"] = df_messages[\"message_date\"].dt.month\n",
    "df_internet[\"session_date\"] = df_internet[\"session_date\"].dt.month"
   ]
  },
  {
   "cell_type": "markdown",
   "metadata": {},
   "source": [
    "Мы преобразовали таблицу и теперь можем посчитать:\n",
    "* количество сделанных звонков и израсходованных минут разговора по месяцам;\n",
    "* количество отправленных сообщений по месяцам;\n",
    "* объем израсходованного интернет-трафика по месяцам;\n",
    "* помесячную выручку с каждого пользователя (вычтите бесплатный лимит из суммарного количества звонков, сообщений и интернет-трафика; остаток умножьте на значение из тарифного плана; прибавьте абонентскую плату, соответствующую тарифному плану\n",
    "\n",
    "Для этого нам придется создать несколько новых датафреймов:"
   ]
  },
  {
   "cell_type": "code",
   "execution_count": 13,
   "metadata": {},
   "outputs": [],
   "source": [
    "# <Составим сводную таблицу, сгруппируем данные по пользователям, посчитаем длительность звонков в минутах>\n",
    "# <для каждого пользователя, затем посчитаем их общее количество.>\n",
    "monthly_calls =(\n",
    "df_cleancalls\n",
    ".pivot_table(index = ['user_id','call_date'], values = 'duration', aggfunc = ['sum','count'])\n",
    ")\n",
    "monthly_calls.columns = ['sum_cs','count_cs']\n",
    "monthly_calls.index.names=['user_id','month']\n",
    "monthly_calls.reset_index(inplace=True)"
   ]
  },
  {
   "cell_type": "code",
   "execution_count": 14,
   "metadata": {},
   "outputs": [],
   "source": [
    "# <Составим сводную таблицу, сгруппируем данные по пользователям, и подсчитаем количество id по месяцам отправки сообщений.>\n",
    "monthly_messages = (\n",
    "df_messages\n",
    ".pivot_table(index = ['user_id','message_date'], values = 'id', aggfunc = 'count')\n",
    ")\n",
    "monthly_messages.columns = ['count_ms']\n",
    "monthly_messages.index.names=['user_id','month']\n",
    "monthly_messages.reset_index(inplace=True)"
   ]
  },
  {
   "cell_type": "code",
   "execution_count": 15,
   "metadata": {},
   "outputs": [],
   "source": [
    "# <Составим сводную таблицу, сгруппируем данные по пользователям, и просуммируем количество мегабайт по месяцам>\n",
    "monthly_internet = (\n",
    "df_internet\n",
    ".pivot_table(index = ['user_id','session_date'], values = 'mb_used', aggfunc = 'sum')\n",
    ")\n",
    "monthly_internet.columns = ['sum_mb']\n",
    "monthly_internet.index.names=['user_id','month']\n",
    "monthly_internet.reset_index(inplace=True)"
   ]
  },
  {
   "cell_type": "code",
   "execution_count": 33,
   "metadata": {},
   "outputs": [
    {
     "name": "stdout",
     "output_type": "stream",
     "text": [
      "0\n"
     ]
    }
   ],
   "source": [
    "# <импортируем библиотеку для функции isnan>\n",
    "import math\n",
    "\n",
    "# <проверим имеют ли дубликаты общий признак>\n",
    "count_nan = 0 \n",
    "for row in monthly_internet.index:\n",
    "    if math.isnan(monthly_internet.loc[row,'sum_mb']):\n",
    "        count_nan += 1\n",
    "print(count_nan)"
   ]
  },
  {
   "cell_type": "code",
   "execution_count": 16,
   "metadata": {},
   "outputs": [],
   "source": [
    "# <Создаем датафрейм, где для каждого пользователя будем иметь кол-во минут, звонков, сообщений и мегабайт в месяц.>\n",
    "all_services = monthly_calls.merge(monthly_messages, on=['user_id','month'], how='outer')\n",
    "all_services = all_services.merge(monthly_internet, on=['user_id','month'], how='outer')\n",
    "all_services.reset_index(inplace=True)\n",
    "all_services.drop(['index'], axis=1, inplace= True)"
   ]
  },
  {
   "cell_type": "markdown",
   "metadata": {},
   "source": [
    "Добавим к датафрейму столбцы тарифа и города:"
   ]
  },
  {
   "cell_type": "code",
   "execution_count": 17,
   "metadata": {},
   "outputs": [],
   "source": [
    "# <Добавляем к датафрейму столбцы города и тарифа>\n",
    "all_services = all_services.merge(df_users[['user_id','tariff','city']], on='user_id', how='outer')"
   ]
  },
  {
   "cell_type": "code",
   "execution_count": 18,
   "metadata": {},
   "outputs": [
    {
     "data": {
      "text/html": [
       "<div>\n",
       "<style scoped>\n",
       "    .dataframe tbody tr th:only-of-type {\n",
       "        vertical-align: middle;\n",
       "    }\n",
       "\n",
       "    .dataframe tbody tr th {\n",
       "        vertical-align: top;\n",
       "    }\n",
       "\n",
       "    .dataframe thead th {\n",
       "        text-align: right;\n",
       "    }\n",
       "</style>\n",
       "<table border=\"1\" class=\"dataframe\">\n",
       "  <thead>\n",
       "    <tr style=\"text-align: right;\">\n",
       "      <th></th>\n",
       "      <th>messages_included</th>\n",
       "      <th>mb_per_month_included</th>\n",
       "      <th>minutes_included</th>\n",
       "      <th>rub_monthly_fee</th>\n",
       "      <th>rub_per_gb</th>\n",
       "      <th>rub_per_message</th>\n",
       "      <th>rub_per_minute</th>\n",
       "      <th>tariff_name</th>\n",
       "    </tr>\n",
       "  </thead>\n",
       "  <tbody>\n",
       "    <tr>\n",
       "      <td>0</td>\n",
       "      <td>50</td>\n",
       "      <td>15360</td>\n",
       "      <td>500</td>\n",
       "      <td>550</td>\n",
       "      <td>200</td>\n",
       "      <td>3</td>\n",
       "      <td>3</td>\n",
       "      <td>smart</td>\n",
       "    </tr>\n",
       "    <tr>\n",
       "      <td>1</td>\n",
       "      <td>1000</td>\n",
       "      <td>30720</td>\n",
       "      <td>3000</td>\n",
       "      <td>1950</td>\n",
       "      <td>150</td>\n",
       "      <td>1</td>\n",
       "      <td>1</td>\n",
       "      <td>ultra</td>\n",
       "    </tr>\n",
       "  </tbody>\n",
       "</table>\n",
       "</div>"
      ],
      "text/plain": [
       "   messages_included  mb_per_month_included  minutes_included  \\\n",
       "0                 50                  15360               500   \n",
       "1               1000                  30720              3000   \n",
       "\n",
       "   rub_monthly_fee  rub_per_gb  rub_per_message  rub_per_minute tariff_name  \n",
       "0              550         200                3               3       smart  \n",
       "1             1950         150                1               1       ultra  "
      ]
     },
     "execution_count": 18,
     "metadata": {},
     "output_type": "execute_result"
    }
   ],
   "source": [
    "# <рассмотрим таблицу df_tariffs>\n",
    "df_tariffs.head()\n"
   ]
  },
  {
   "cell_type": "markdown",
   "metadata": {},
   "source": [
    "Подсчитаем для каждого пользователя помесячную выручку:"
   ]
  },
  {
   "cell_type": "code",
   "execution_count": 36,
   "metadata": {
    "scrolled": true
   },
   "outputs": [
    {
     "data": {
      "text/html": [
       "<div>\n",
       "<style scoped>\n",
       "    .dataframe tbody tr th:only-of-type {\n",
       "        vertical-align: middle;\n",
       "    }\n",
       "\n",
       "    .dataframe tbody tr th {\n",
       "        vertical-align: top;\n",
       "    }\n",
       "\n",
       "    .dataframe thead th {\n",
       "        text-align: right;\n",
       "    }\n",
       "</style>\n",
       "<table border=\"1\" class=\"dataframe\">\n",
       "  <thead>\n",
       "    <tr style=\"text-align: right;\">\n",
       "      <th></th>\n",
       "      <th>user_id</th>\n",
       "      <th>month</th>\n",
       "      <th>sum_cs</th>\n",
       "      <th>count_cs</th>\n",
       "      <th>count_ms</th>\n",
       "      <th>sum_mb</th>\n",
       "      <th>tariff</th>\n",
       "      <th>city</th>\n",
       "      <th>revenue</th>\n",
       "    </tr>\n",
       "  </thead>\n",
       "  <tbody>\n",
       "    <tr>\n",
       "      <td>0</td>\n",
       "      <td>1000</td>\n",
       "      <td>5.0</td>\n",
       "      <td>159.0</td>\n",
       "      <td>17.0</td>\n",
       "      <td>22.0</td>\n",
       "      <td>2256.0</td>\n",
       "      <td>ultra</td>\n",
       "      <td>Краснодар</td>\n",
       "      <td>1950.0</td>\n",
       "    </tr>\n",
       "    <tr>\n",
       "      <td>1</td>\n",
       "      <td>1000</td>\n",
       "      <td>6.0</td>\n",
       "      <td>172.0</td>\n",
       "      <td>28.0</td>\n",
       "      <td>60.0</td>\n",
       "      <td>23257.0</td>\n",
       "      <td>ultra</td>\n",
       "      <td>Краснодар</td>\n",
       "      <td>1950.0</td>\n",
       "    </tr>\n",
       "    <tr>\n",
       "      <td>2</td>\n",
       "      <td>1000</td>\n",
       "      <td>7.0</td>\n",
       "      <td>340.0</td>\n",
       "      <td>41.0</td>\n",
       "      <td>75.0</td>\n",
       "      <td>14016.0</td>\n",
       "      <td>ultra</td>\n",
       "      <td>Краснодар</td>\n",
       "      <td>1950.0</td>\n",
       "    </tr>\n",
       "    <tr>\n",
       "      <td>3</td>\n",
       "      <td>1000</td>\n",
       "      <td>8.0</td>\n",
       "      <td>408.0</td>\n",
       "      <td>42.0</td>\n",
       "      <td>81.0</td>\n",
       "      <td>14070.0</td>\n",
       "      <td>ultra</td>\n",
       "      <td>Краснодар</td>\n",
       "      <td>1950.0</td>\n",
       "    </tr>\n",
       "    <tr>\n",
       "      <td>4</td>\n",
       "      <td>1000</td>\n",
       "      <td>9.0</td>\n",
       "      <td>466.0</td>\n",
       "      <td>46.0</td>\n",
       "      <td>57.0</td>\n",
       "      <td>14581.0</td>\n",
       "      <td>ultra</td>\n",
       "      <td>Краснодар</td>\n",
       "      <td>1950.0</td>\n",
       "    </tr>\n",
       "    <tr>\n",
       "      <td>...</td>\n",
       "      <td>...</td>\n",
       "      <td>...</td>\n",
       "      <td>...</td>\n",
       "      <td>...</td>\n",
       "      <td>...</td>\n",
       "      <td>...</td>\n",
       "      <td>...</td>\n",
       "      <td>...</td>\n",
       "      <td>...</td>\n",
       "    </tr>\n",
       "    <tr>\n",
       "      <td>3211</td>\n",
       "      <td>1489</td>\n",
       "      <td>10.0</td>\n",
       "      <td>NaN</td>\n",
       "      <td>NaN</td>\n",
       "      <td>21.0</td>\n",
       "      <td>19588.0</td>\n",
       "      <td>smart</td>\n",
       "      <td>Санкт-Петербург</td>\n",
       "      <td>1550.0</td>\n",
       "    </tr>\n",
       "    <tr>\n",
       "      <td>3212</td>\n",
       "      <td>1489</td>\n",
       "      <td>11.0</td>\n",
       "      <td>NaN</td>\n",
       "      <td>NaN</td>\n",
       "      <td>20.0</td>\n",
       "      <td>17516.0</td>\n",
       "      <td>smart</td>\n",
       "      <td>Санкт-Петербург</td>\n",
       "      <td>1150.0</td>\n",
       "    </tr>\n",
       "    <tr>\n",
       "      <td>3213</td>\n",
       "      <td>1489</td>\n",
       "      <td>12.0</td>\n",
       "      <td>NaN</td>\n",
       "      <td>NaN</td>\n",
       "      <td>35.0</td>\n",
       "      <td>17341.0</td>\n",
       "      <td>smart</td>\n",
       "      <td>Санкт-Петербург</td>\n",
       "      <td>950.0</td>\n",
       "    </tr>\n",
       "    <tr>\n",
       "      <td>3214</td>\n",
       "      <td>1128</td>\n",
       "      <td>NaN</td>\n",
       "      <td>NaN</td>\n",
       "      <td>NaN</td>\n",
       "      <td>NaN</td>\n",
       "      <td>NaN</td>\n",
       "      <td>ultra</td>\n",
       "      <td>Волжский</td>\n",
       "      <td>1950.0</td>\n",
       "    </tr>\n",
       "    <tr>\n",
       "      <td>3215</td>\n",
       "      <td>1371</td>\n",
       "      <td>NaN</td>\n",
       "      <td>NaN</td>\n",
       "      <td>NaN</td>\n",
       "      <td>NaN</td>\n",
       "      <td>NaN</td>\n",
       "      <td>smart</td>\n",
       "      <td>Омск</td>\n",
       "      <td>550.0</td>\n",
       "    </tr>\n",
       "  </tbody>\n",
       "</table>\n",
       "<p>3216 rows × 9 columns</p>\n",
       "</div>"
      ],
      "text/plain": [
       "      user_id  month  sum_cs  count_cs  count_ms   sum_mb tariff  \\\n",
       "0        1000    5.0   159.0      17.0      22.0   2256.0  ultra   \n",
       "1        1000    6.0   172.0      28.0      60.0  23257.0  ultra   \n",
       "2        1000    7.0   340.0      41.0      75.0  14016.0  ultra   \n",
       "3        1000    8.0   408.0      42.0      81.0  14070.0  ultra   \n",
       "4        1000    9.0   466.0      46.0      57.0  14581.0  ultra   \n",
       "...       ...    ...     ...       ...       ...      ...    ...   \n",
       "3211     1489   10.0     NaN       NaN      21.0  19588.0  smart   \n",
       "3212     1489   11.0     NaN       NaN      20.0  17516.0  smart   \n",
       "3213     1489   12.0     NaN       NaN      35.0  17341.0  smart   \n",
       "3214     1128    NaN     NaN       NaN       NaN      NaN  ultra   \n",
       "3215     1371    NaN     NaN       NaN       NaN      NaN  smart   \n",
       "\n",
       "                 city  revenue  \n",
       "0           Краснодар   1950.0  \n",
       "1           Краснодар   1950.0  \n",
       "2           Краснодар   1950.0  \n",
       "3           Краснодар   1950.0  \n",
       "4           Краснодар   1950.0  \n",
       "...               ...      ...  \n",
       "3211  Санкт-Петербург   1550.0  \n",
       "3212  Санкт-Петербург   1150.0  \n",
       "3213  Санкт-Петербург    950.0  \n",
       "3214         Волжский   1950.0  \n",
       "3215             Омск    550.0  \n",
       "\n",
       "[3216 rows x 9 columns]"
      ]
     },
     "execution_count": 36,
     "metadata": {},
     "output_type": "execute_result"
    }
   ],
   "source": [
    "# <С помощью функции посчитаем выручку, если нет услуг сверх тарифа, берется только абонентская плата, если есть>\n",
    "# <то подсчитываются дополнительная выручка для каждой услуги и прибавляется к абонентской плате>\n",
    "def revenue(row):\n",
    "    user_revenue = 0\n",
    "    if row['tariff'] == 'smart':\n",
    "        if row['sum_cs'] > df_tariffs.loc[0, 'minutes_included']:\n",
    "            calls = abs(df_tariffs.loc[0, 'minutes_included'] - row['sum_cs'])\n",
    "            user_revenue += calls * df_tariffs.loc[0, 'rub_per_minute']\n",
    "        if row['count_ms'] > df_tariffs.loc[0, 'messages_included']:\n",
    "            messages = abs(df_tariffs.loc[0, 'messages_included'] - row['count_ms'])\n",
    "            user_revenue += messages * df_tariffs.loc[0, 'rub_per_message']\n",
    "        if row['sum_mb'] > df_tariffs.loc[0, 'mb_per_month_included']:\n",
    "            internet = abs(df_tariffs.loc[0, 'mb_per_month_included'] - row['sum_mb'])\n",
    "            user_revenue += np.ceil(internet / 1024) * df_tariffs.loc[0, 'rub_per_gb']\n",
    "        if user_revenue == 0:\n",
    "            return df_tariffs.loc[0, 'rub_monthly_fee']\n",
    "        return df_tariffs.loc[0, 'rub_monthly_fee'] + user_revenue\n",
    "    else:\n",
    "        if row['sum_cs'] > df_tariffs.loc[1, 'minutes_included']:\n",
    "            calls = abs(df_tariffs.loc[1, 'minutes_included'] - row['sum_cs'])\n",
    "            user_revenue += calls * df_tariffs.loc[1, 'rub_per_minute']\n",
    "        if row['count_ms'] > df_tariffs.loc[1, 'messages_included']:\n",
    "            messages = abs(df_tariffs.loc[1, 'messages_included'] - row['count_ms'])\n",
    "            user_revenue += messages * df_tariffs.loc[1, 'rub_per_message']\n",
    "        if row['sum_mb'] > df_tariffs.loc[1, 'mb_per_month_included']:\n",
    "            internet = abs(df_tariffs.loc[1, 'mb_per_month_included'] - row['sum_mb'])\n",
    "            user_revenue += np.ceil(internet / 1024) * df_tariffs.loc[1, 'rub_per_gb']\n",
    "        if user_revenue == 0:\n",
    "            return df_tariffs.loc[1, 'rub_monthly_fee']\n",
    "        return df_tariffs.loc[1, 'rub_monthly_fee'] + user_revenue\n",
    "\n",
    "all_services['revenue'] = all_services.apply(revenue, axis=1)\n",
    "all_services"
   ]
  },
  {
   "cell_type": "code",
   "execution_count": 37,
   "metadata": {},
   "outputs": [],
   "source": [
    "# <Удалим два пропуска, которые появились после присоединения таблицы с тарифами.>\n",
    "all_services = all_services[~(all_services['month'].isnull())]"
   ]
  },
  {
   "cell_type": "code",
   "execution_count": 38,
   "metadata": {},
   "outputs": [],
   "source": [
    "all_services = all_services.fillna(0)"
   ]
  },
  {
   "cell_type": "markdown",
   "metadata": {},
   "source": [
    "### Вывод"
   ]
  },
  {
   "cell_type": "markdown",
   "metadata": {},
   "source": [
    "* Мы избавились от несуществующих звонков и обосновали почему.\n",
    "* Округлили вверх мегабайты и минуты, \"Мегалайн\" действует именно так при учете тарифных услуг.\n",
    "* Сменили полные даты на месяцы, так как для анализа нам этого достаточно. Мы знаем что исследуем действия абонентов за 2018 год.\n",
    "* Подсчитали для каждого пользователя пользование услугами помесячно, а также подсчитали помесячную выручку.\n",
    "\n",
    "Мы можем приступить к анализу."
   ]
  },
  {
   "cell_type": "markdown",
   "metadata": {},
   "source": [
    "### Шаг 3. Проанализируем данные. <a class=\"anchor\" id=\"3\"></a>"
   ]
  },
  {
   "cell_type": "markdown",
   "metadata": {},
   "source": [
    "Подсчитаем для тарифа \"Смарт\" дисперсию, стандартное отклонение и среднее, при подсчете дисперсии обратим внимание что речь идет о выборке, а не о генеральной совокупности.\n",
    "\n",
    "Начнем с количества минут:"
   ]
  },
  {
   "cell_type": "code",
   "execution_count": 39,
   "metadata": {},
   "outputs": [
    {
     "name": "stdout",
     "output_type": "stream",
     "text": [
      "Среднее: 417.9349484073576\n",
      "Дисперсия: 36219.31578434428\n",
      "Стандартное отклонение: 190.31372988921288\n"
     ]
    }
   ],
   "source": [
    "# <для расчета дисперсии используем метод numpy, добавим аргумент ddof = 1, чтобы обозначить что речь идет о выборке>\n",
    "sum_cs_smart_disp = np.var(all_services[all_services['tariff'] == 'smart']['sum_cs'], ddof=1)\n",
    "sum_cs_smart_standard_deviation = np.sqrt(sum_cs_smart_disp)\n",
    "sum_cs_smart_mean = all_services[all_services['tariff'] == 'smart']['sum_cs'].mean()\n",
    "print('Среднее:', sum_cs_smart_mean)\n",
    "print('Дисперсия:', sum_cs_smart_disp)\n",
    "print('Стандартное отклонение:', sum_cs_smart_standard_deviation)"
   ]
  },
  {
   "cell_type": "markdown",
   "metadata": {},
   "source": [
    "Построим гистограмму распределения значений минут разговора для пользователей тарифа \"Смарт\":"
   ]
  },
  {
   "cell_type": "code",
   "execution_count": 40,
   "metadata": {},
   "outputs": [
    {
     "data": {
      "text/plain": [
       "<matplotlib.axes._subplots.AxesSubplot at 0x7fe874d6fbd0>"
      ]
     },
     "execution_count": 40,
     "metadata": {},
     "output_type": "execute_result"
    },
    {
     "data": {
      "image/png": "[encoded data removed]",
      "text/plain": [
       "<Figure size 432x288 with 1 Axes>"
      ]
     },
     "metadata": {
      "needs_background": "light"
     },
     "output_type": "display_data"
    }
   ],
   "source": [
    "# <Построим гисттограмму распределения с помощью билиотеки seaborn>\n",
    "sns.distplot(all_services[all_services['tariff'] == 'smart']['sum_cs'])"
   ]
  },
  {
   "cell_type": "markdown",
   "metadata": {},
   "source": [
    "Распределение чуть-чуть скошенно вправо, клиенты крайне редко выговаривают больше 1000 минут. Посмотрим, как будет выглядеть гистограмма, если мы ограничимся тремя сигмами (стандартным отклонением) от среднего."
   ]
  },
  {
   "cell_type": "code",
   "execution_count": 41,
   "metadata": {},
   "outputs": [
    {
     "data": {
      "text/plain": [
       "<matplotlib.axes._subplots.AxesSubplot at 0x7fe87135fe10>"
      ]
     },
     "execution_count": 41,
     "metadata": {},
     "output_type": "execute_result"
    },
    {
     "data": {
      "image/png": "[encoded data removed]",
      "text/plain": [
       "<Figure size 432x288 with 1 Axes>"
      ]
     },
     "metadata": {
      "needs_background": "light"
     },
     "output_type": "display_data"
    }
   ],
   "source": [
    "# <Построим гисттограмму распределения с помощью билиотеки seaborn>\n",
    "sns.distplot(all_services[(all_services['tariff'] == 'smart') & (all_services['sum_cs'] < 987)]['sum_cs'])"
   ]
  },
  {
   "cell_type": "markdown",
   "metadata": {},
   "source": [
    "Больше похоже на нормальное распределение, посмотрим сколько данных мы используем таким образом:"
   ]
  },
  {
   "cell_type": "code",
   "execution_count": 42,
   "metadata": {},
   "outputs": [
    {
     "data": {
      "text/plain": [
       "user_id     0.99686\n",
       "month       0.99686\n",
       "sum_cs      0.99686\n",
       "count_cs    0.99686\n",
       "count_ms    0.99686\n",
       "sum_mb      0.99686\n",
       "tariff      0.99686\n",
       "city        0.99686\n",
       "revenue     0.99686\n",
       "dtype: float64"
      ]
     },
     "execution_count": 42,
     "metadata": {},
     "output_type": "execute_result"
    }
   ],
   "source": [
    "# <Подсчитаем какой процент данных лежит в пределе трех сигм>\n",
    "all_services[(all_services['tariff'] == 'smart') & (all_services['sum_cs'] < 987)].count()/all_services[all_services['tariff'] == 'smart'].count()"
   ]
  },
  {
   "cell_type": "markdown",
   "metadata": {},
   "source": [
    "99% как и в теории оказалось покрыто тремя сигмами. Учитывая среднее и нижеописанный третий квартиль, можно сделать вывод что большинство абонентов тарифа \"Смарт\" укладываются в бесплатный лимит."
   ]
  },
  {
   "cell_type": "code",
   "execution_count": 43,
   "metadata": {},
   "outputs": [
    {
     "data": {
      "text/plain": [
       "499.0"
      ]
     },
     "execution_count": 43,
     "metadata": {},
     "output_type": "execute_result"
    }
   ],
   "source": [
    "# <подсчитаем ниже какого значения лежит 66% значений>\n",
    "all_services[all_services['tariff'] == 'smart']['sum_cs'].quantile(0.66)"
   ]
  },
  {
   "cell_type": "markdown",
   "metadata": {},
   "source": [
    "Перейдем к количеству сообщений:"
   ]
  },
  {
   "cell_type": "code",
   "execution_count": 44,
   "metadata": {},
   "outputs": [
    {
     "name": "stdout",
     "output_type": "stream",
     "text": [
      "Среднее: 33.384028712427096\n",
      "Дисперсия: 796.8129584480083\n",
      "Стандартное отклонение: 28.22787555676141\n"
     ]
    }
   ],
   "source": [
    "# <для расчета дисперсии используем метод numpy, добавим аргумент ddof = 1, чтобы обозначить что речь идет о выборке>\n",
    "count_ms_smart_disp = np.var(all_services[all_services['tariff'] == 'smart']['count_ms'], ddof=1)\n",
    "count_ms_smart_standard_deviation = np.sqrt(count_ms_smart_disp)\n",
    "count_ms_smart_mean = all_services[all_services['tariff'] == 'smart']['count_ms'].mean()\n",
    "print('Среднее:', count_ms_smart_mean)\n",
    "print('Дисперсия:', count_ms_smart_disp)\n",
    "print('Стандартное отклонение:', count_ms_smart_standard_deviation)"
   ]
  },
  {
   "cell_type": "markdown",
   "metadata": {},
   "source": [
    "Построим гистограмму распределения значений количества сообщений для пользователей тарифа \"Смарт\":"
   ]
  },
  {
   "cell_type": "code",
   "execution_count": 45,
   "metadata": {},
   "outputs": [
    {
     "data": {
      "text/plain": [
       "<matplotlib.axes._subplots.AxesSubplot at 0x7fe873af85d0>"
      ]
     },
     "execution_count": 45,
     "metadata": {},
     "output_type": "execute_result"
    },
    {
     "data": {
      "image/png": "[encoded data removed]",
      "text/plain": [
       "<Figure size 432x288 with 1 Axes>"
      ]
     },
     "metadata": {
      "needs_background": "light"
     },
     "output_type": "display_data"
    }
   ],
   "source": [
    "# <Построим гисттограмму распределения с помощью билиотеки seaborn>\n",
    "sns.distplot(all_services[all_services['tariff'] == 'smart']['count_ms'])"
   ]
  },
  {
   "cell_type": "markdown",
   "metadata": {},
   "source": [
    "Распределение напоминает Пуассоновское, с увеличением количества сообщений, уменьшается их частота."
   ]
  },
  {
   "cell_type": "markdown",
   "metadata": {},
   "source": [
    "Учитывая среднее и нижеописанный третий квартиль, можно сделать вывод что большинство абонентов тарифа \"Смарт\" укладываются в бесплатный лимит."
   ]
  },
  {
   "cell_type": "code",
   "execution_count": 46,
   "metadata": {},
   "outputs": [
    {
     "data": {
      "text/plain": [
       "49.0"
      ]
     },
     "execution_count": 46,
     "metadata": {},
     "output_type": "execute_result"
    }
   ],
   "source": [
    "# <подсчитаем ниже какого значения лежит 73% значений>\n",
    "all_services[all_services['tariff'] == 'smart']['count_ms'].quantile(0.73)"
   ]
  },
  {
   "cell_type": "markdown",
   "metadata": {},
   "source": [
    "Перейдем к количеству мегабайт интернета:"
   ]
  },
  {
   "cell_type": "code",
   "execution_count": 47,
   "metadata": {},
   "outputs": [
    {
     "name": "stdout",
     "output_type": "stream",
     "text": [
      "Среднее: 16229.188425302826\n",
      "Дисперсия: 34545911.12695753\n",
      "Стандартное отклонение: 5877.576977544193\n"
     ]
    }
   ],
   "source": [
    "# <для расчета дисперсии используем метод numpy, добавим аргумент ddof = 1, чтобы обозначить что речь идет о выборке>\n",
    "sum_mb_smart_disp = np.var(all_services[all_services['tariff'] == 'smart']['sum_mb'], ddof=1)\n",
    "sum_mb_smart_standard_deviation = np.sqrt(sum_mb_smart_disp)\n",
    "sum_mb_smart_mean = all_services[all_services['tariff'] == 'smart']['sum_mb'].mean()\n",
    "print('Среднее:', sum_mb_smart_mean)\n",
    "print('Дисперсия:', sum_mb_smart_disp)\n",
    "print('Стандартное отклонение:', sum_mb_smart_standard_deviation)"
   ]
  },
  {
   "cell_type": "markdown",
   "metadata": {},
   "source": [
    "Построим гистограмму распределения значений количества мегабайт для пользователей тарифа \"Смарт\":"
   ]
  },
  {
   "cell_type": "code",
   "execution_count": 48,
   "metadata": {},
   "outputs": [
    {
     "data": {
      "text/plain": [
       "<matplotlib.axes._subplots.AxesSubplot at 0x7fe87645d0d0>"
      ]
     },
     "execution_count": 48,
     "metadata": {},
     "output_type": "execute_result"
    },
    {
     "data": {
      "image/png": "[encoded data removed]",
      "text/plain": [
       "<Figure size 432x288 with 1 Axes>"
      ]
     },
     "metadata": {
      "needs_background": "light"
     },
     "output_type": "display_data"
    }
   ],
   "source": [
    "# <Построим гисттограмму распределения с помощью билиотеки seaborn>\n",
    "sns.distplot(all_services[all_services['tariff'] == 'smart']['sum_mb'])"
   ]
  },
  {
   "cell_type": "markdown",
   "metadata": {},
   "source": [
    "Распределение совсем чуть-чуть скошенно вправо, абоненты крайне редко используют больше 33000 мб."
   ]
  },
  {
   "cell_type": "code",
   "execution_count": 49,
   "metadata": {},
   "outputs": [
    {
     "data": {
      "text/plain": [
       "15308.0"
      ]
     },
     "execution_count": 49,
     "metadata": {},
     "output_type": "execute_result"
    }
   ],
   "source": [
    "# <подсчитаем ниже какого значения лежит 41% значений>\n",
    "all_services[all_services['tariff'] == 'smart']['sum_mb'].quantile(0.41)"
   ]
  },
  {
   "cell_type": "markdown",
   "metadata": {},
   "source": [
    "Только 41% абонентов укладываются в бесплатный лимит."
   ]
  },
  {
   "cell_type": "markdown",
   "metadata": {},
   "source": [
    "Подсчитаем для тарифа \"Ультра\" дисперсию, стандартное отклонение и среднее, при подсчете дисперсии обратим внимание что речь идет о выборке, а не о генеральной совокупности.\n",
    "\n",
    "Начнем с количества минут:"
   ]
  },
  {
   "cell_type": "code",
   "execution_count": 50,
   "metadata": {},
   "outputs": [
    {
     "name": "stdout",
     "output_type": "stream",
     "text": [
      "Среднее: 526.6233502538071\n",
      "Дисперсия: 100873.63339730098\n",
      "Стандартное отклонение: 317.6060978591264\n"
     ]
    }
   ],
   "source": [
    "# <для расчета дисперсии используем метод numpy, добавим аргумент ddof = 1, чтобы обозначить что речь идет о выборке>\n",
    "sum_cs_ultra_disp = np.var(all_services[all_services['tariff'] == 'ultra']['sum_cs'], ddof=1)\n",
    "sum_cs_ultra_standard_deviation = np.sqrt(sum_cs_ultra_disp)\n",
    "sum_cs_ultra_mean = all_services[all_services['tariff'] == 'ultra']['sum_cs'].mean()\n",
    "print('Среднее:', sum_cs_ultra_mean)\n",
    "print('Дисперсия:', sum_cs_ultra_disp)\n",
    "print('Стандартное отклонение:', sum_cs_ultra_standard_deviation)"
   ]
  },
  {
   "cell_type": "markdown",
   "metadata": {},
   "source": [
    "Построим гистограмму распределения значений минут разговора для пользователей тарифа \"Ультра\":"
   ]
  },
  {
   "cell_type": "code",
   "execution_count": 51,
   "metadata": {},
   "outputs": [
    {
     "data": {
      "text/plain": [
       "<matplotlib.axes._subplots.AxesSubplot at 0x7fe873b16e10>"
      ]
     },
     "execution_count": 51,
     "metadata": {},
     "output_type": "execute_result"
    },
    {
     "data": {
      "image/png": "[encoded data removed]",
      "text/plain": [
       "<Figure size 432x288 with 1 Axes>"
      ]
     },
     "metadata": {
      "needs_background": "light"
     },
     "output_type": "display_data"
    }
   ],
   "source": [
    "# <Построим гисттограмму распределения с помощью билиотеки seaborn>\n",
    "sns.distplot(all_services[all_services['tariff'] == 'ultra']['sum_cs'])"
   ]
  },
  {
   "cell_type": "markdown",
   "metadata": {},
   "source": [
    "Распределение с трудом напоминает нормальное, скошено вправо, абоненты редко выговаривают больше 1500 минут. Все абоненты укладываются в бесплатный лимит."
   ]
  },
  {
   "cell_type": "markdown",
   "metadata": {},
   "source": [
    "Перейдем к количеству сообщений:"
   ]
  },
  {
   "cell_type": "code",
   "execution_count": 52,
   "metadata": {},
   "outputs": [
    {
     "name": "stdout",
     "output_type": "stream",
     "text": [
      "Среднее: 49.36345177664975\n",
      "Дисперсия: 2285.2661425446736\n",
      "Стандартное отклонение: 47.804457350174715\n"
     ]
    }
   ],
   "source": [
    "# <для расчета дисперсии используем метод numpy, добавим аргумент ddof = 1, чтобы обозначить что речь идет о выборке>\n",
    "count_ms_ultra_disp = np.var(all_services[all_services['tariff'] == 'ultra']['count_ms'], ddof=1)\n",
    "count_ms_ultra_standard_deviation = np.sqrt(count_ms_ultra_disp)\n",
    "count_ms_ultra_mean = all_services[all_services['tariff'] == 'ultra']['count_ms'].mean()\n",
    "print('Среднее:', count_ms_ultra_mean)\n",
    "print('Дисперсия:', count_ms_ultra_disp)\n",
    "print('Стандартное отклонение:', count_ms_ultra_standard_deviation)"
   ]
  },
  {
   "cell_type": "code",
   "execution_count": 53,
   "metadata": {},
   "outputs": [
    {
     "data": {
      "text/plain": [
       "<matplotlib.axes._subplots.AxesSubplot at 0x7fe873a76ed0>"
      ]
     },
     "execution_count": 53,
     "metadata": {},
     "output_type": "execute_result"
    },
    {
     "data": {
      "image/png": "[encoded data removed]",
      "text/plain": [
       "<Figure size 432x288 with 1 Axes>"
      ]
     },
     "metadata": {
      "needs_background": "light"
     },
     "output_type": "display_data"
    }
   ],
   "source": [
    "# <Построим гистограмму распределения с помощью билиотеки seaborn>\n",
    "sns.distplot(all_services[all_services['tariff'] == 'ultra']['count_ms'])"
   ]
  },
  {
   "cell_type": "markdown",
   "metadata": {},
   "source": [
    "Распределение напоминает Пуассоновское, с увеличением количества сообщений, уменьшается их частота. Все абоненты укладываются в бесплатный лимит."
   ]
  },
  {
   "cell_type": "markdown",
   "metadata": {},
   "source": [
    "Перейдем к количеству мегабайт интернета:"
   ]
  },
  {
   "cell_type": "code",
   "execution_count": 54,
   "metadata": {},
   "outputs": [
    {
     "name": "stdout",
     "output_type": "stream",
     "text": [
      "Среднее: 19486.90152284264\n",
      "Дисперсия: 101935621.04821923\n",
      "Стандартное отклонение: 10096.317202238608\n"
     ]
    }
   ],
   "source": [
    "# <для расчета дисперсии используем метод numpy, добавим аргумент ddof = 1, чтобы обозначить что речь идет о выборке>\n",
    "sum_mb_ultra_disp = np.var(all_services[all_services['tariff'] == 'ultra']['sum_mb'], ddof=1)\n",
    "sum_mb_ultra_standard_deviation = np.sqrt(sum_mb_ultra_disp)\n",
    "sum_mb_ultra_mean = all_services[all_services['tariff'] == 'ultra']['sum_mb'].mean()\n",
    "print('Среднее:', sum_mb_ultra_mean)\n",
    "print('Дисперсия:', sum_mb_ultra_disp)\n",
    "print('Стандартное отклонение:', sum_mb_ultra_standard_deviation)"
   ]
  },
  {
   "cell_type": "code",
   "execution_count": 55,
   "metadata": {},
   "outputs": [
    {
     "data": {
      "text/plain": [
       "<matplotlib.axes._subplots.AxesSubplot at 0x7fe8752e57d0>"
      ]
     },
     "execution_count": 55,
     "metadata": {},
     "output_type": "execute_result"
    },
    {
     "data": {
      "image/png": "[encoded data removed]",
      "text/plain": [
       "<Figure size 432x288 with 1 Axes>"
      ]
     },
     "metadata": {
      "needs_background": "light"
     },
     "output_type": "display_data"
    }
   ],
   "source": [
    "# <Построим гисттограмму распределения с помощью билиотеки seaborn>\n",
    "sns.distplot(all_services[all_services['tariff'] == 'ultra']['sum_mb'])"
   ]
  },
  {
   "cell_type": "markdown",
   "metadata": {},
   "source": [
    "Распределение совсем чуть-чуть скошенно вправо, абоненты крайне редко используют больше 50000 мб."
   ]
  },
  {
   "cell_type": "code",
   "execution_count": 56,
   "metadata": {},
   "outputs": [
    {
     "data": {
      "text/plain": [
       "30582.68"
      ]
     },
     "execution_count": 56,
     "metadata": {},
     "output_type": "execute_result"
    }
   ],
   "source": [
    "# <подсчитаем ниже какого значения лежит 86% значений>\n",
    "all_services[all_services['tariff'] == 'ultra']['sum_mb'].quantile(0.86)"
   ]
  },
  {
   "cell_type": "markdown",
   "metadata": {},
   "source": [
    "86% абонентов тарифа \"Ультра\" укладываются в бесплатный лимит."
   ]
  },
  {
   "cell_type": "markdown",
   "metadata": {},
   "source": [
    "Наглядно сравним поведение пользователей двух тарифов, отобразив показатели на одном графике, количество минут:"
   ]
  },
  {
   "cell_type": "code",
   "execution_count": 57,
   "metadata": {},
   "outputs": [
    {
     "data": {
      "text/plain": [
       "<matplotlib.axes._subplots.AxesSubplot at 0x7fe8712d7790>"
      ]
     },
     "execution_count": 57,
     "metadata": {},
     "output_type": "execute_result"
    },
    {
     "data": {
      "image/png": "[encoded data removed]",
      "text/plain": [
       "<Figure size 432x288 with 1 Axes>"
      ]
     },
     "metadata": {
      "needs_background": "light"
     },
     "output_type": "display_data"
    }
   ],
   "source": [
    "# <Построим гисттограмму распределения с помощью билиотеки seaborn>\n",
    "sns.distplot(all_services[all_services['tariff'] == 'smart']['sum_cs'])\n",
    "# <Построим гисттограмму распределения с помощью билиотеки seaborn>\n",
    "sns.distplot(all_services[all_services['tariff'] == 'ultra']['sum_cs'])"
   ]
  },
  {
   "cell_type": "markdown",
   "metadata": {},
   "source": [
    "Большинство значений количества минут у пользователей тарифа \"Смарт\" распределено вокруг значения в 500 минут - в пределах бесплатного лимита. В \"Ультра\" лимит гораздо больше, и ни один пользователь из выборки не выговаривает его полностью. Выборка тарифа \"Ультра\" меньше, возможно при большом количестве значений, распределение было бы больше похоже на нормальное."
   ]
  },
  {
   "cell_type": "markdown",
   "metadata": {},
   "source": [
    "Количество сообщений:"
   ]
  },
  {
   "cell_type": "code",
   "execution_count": 58,
   "metadata": {},
   "outputs": [
    {
     "data": {
      "text/plain": [
       "<matplotlib.axes._subplots.AxesSubplot at 0x7fe8711e2f90>"
      ]
     },
     "execution_count": 58,
     "metadata": {},
     "output_type": "execute_result"
    },
    {
     "data": {
      "image/png": "[encoded data removed]",
      "text/plain": [
       "<Figure size 432x288 with 1 Axes>"
      ]
     },
     "metadata": {
      "needs_background": "light"
     },
     "output_type": "display_data"
    }
   ],
   "source": [
    "# <Построим гисттограмму распределения с помощью билиотеки seaborn>\n",
    "sns.distplot(all_services[all_services['tariff'] == 'smart']['count_ms'])\n",
    "# <Построим гисттограмму распределения с помощью билиотеки seaborn>\n",
    "sns.distplot(all_services[all_services['tariff'] == 'ultra']['count_ms'])"
   ]
  },
  {
   "cell_type": "markdown",
   "metadata": {},
   "source": [
    "Пользователи тарифа \"Ультра\" более спокойно посылают большое количество сообщений, у них огромный лимит. В \"Смарт\" есть меньшинство которое превышает бесплатный лимит. Общий тренд - мало кому нужны SMS в 2020 =)"
   ]
  },
  {
   "cell_type": "code",
   "execution_count": 59,
   "metadata": {},
   "outputs": [
    {
     "data": {
      "text/plain": [
       "<matplotlib.axes._subplots.AxesSubplot at 0x7fe8710b87d0>"
      ]
     },
     "execution_count": 59,
     "metadata": {},
     "output_type": "execute_result"
    },
    {
     "data": {
      "image/png": "[encoded data removed]",
      "text/plain": [
       "<Figure size 432x288 with 1 Axes>"
      ]
     },
     "metadata": {
      "needs_background": "light"
     },
     "output_type": "display_data"
    }
   ],
   "source": [
    "# <Построим гисттограмму распределения с помощью билиотеки seaborn>\n",
    "sns.distplot(all_services[all_services['tariff'] == 'smart']['sum_mb'])\n",
    "# <Построим гисттограмму распределения с помощью билиотеки seaborn>\n",
    "sns.distplot(all_services[all_services['tariff'] == 'ultra']['sum_mb'])"
   ]
  },
  {
   "cell_type": "markdown",
   "metadata": {},
   "source": [
    "Пользователи обоих тарифов превышают бесплатный лимит. Но если в \"Ультра\" это делают меньшинство, то в \"Смарт\" - большинство. Это вызвано тем что людям в наше время всегда нужно много интернета, а также тем тем что в \"Ультра\" больше лимит. Выборка тарифа \"Ультра\" меньше, возможно при большом количестве значений, распределение было бы больше похоже на нормальное."
   ]
  },
  {
   "cell_type": "markdown",
   "metadata": {},
   "source": [
    "### Вывод"
   ]
  },
  {
   "cell_type": "markdown",
   "metadata": {},
   "source": [
    "* Мы посчитали среднее, дисперсию и стандартное отклонение по выборке. Убедились на примере количества минут тарифа \"Смарт\" что в пределах трех сигм лежит 99% значений.\n",
    "* Большинство клиентов тарифа \"Смарт\" укладываются в 1000 минут телефонных звонков, \"Ультра\" - 1500. При этом для \"Смарт\" это дорогая оплата сверх беплатного лимита, а для \"Ультра\" - в пределах бесплатного лимита.\n",
    "* Больше половины клиентов тарифа \"Смарт\" укладываются в бесплатный лимит звонков, смс. Только 41% абонентов тарифа \"Смарт\" укладываются в бесплатный лимит по интернету.\n",
    "* Все абоненты тарифа \"Ультра\" из выборки укладываются в бесплатный лимит звонков, смс. 86% абонентов тарифа \"Ультра\" укладываются в бесплатный лимит по интернету.\n",
    "* Люди редко пользуются сообщениями, потому распределение Пуассоновское. Много сообщений смс в наше время люди отправляют крайне редко.\n",
    "* Высокие значения количества минут, мегабайт некоторых абонентов скашивают нормальные распределения. Без выбросов количество минут и мегабайт близки к нормальному распределению.\n",
    "\n",
    "Перейдем к проверке гипотез."
   ]
  },
  {
   "cell_type": "markdown",
   "metadata": {},
   "source": [
    "### Шаг 4. Проверим гипотезы. <a class=\"anchor\" id=\"4\"></a>"
   ]
  },
  {
   "cell_type": "markdown",
   "metadata": {},
   "source": [
    "Необходимо проверить гипотезы:\n",
    "\n",
    "* средняя выручка пользователей тарифов «Ультра» и «Смарт» различается;\n",
    "* средняя выручка пользователей из Москвы отличается от выручки пользователей из других регионов;\n",
    "\n",
    "Начнем с первой. Сформулируем нулевую и альтернативную гипотезы:\n",
    "\n",
    "**H₀:** Средняя выручка пользователей тарифов «Ультра» и «Смарт» равна.\n",
    "\n",
    "**H₁:** Средняя выручка пользователей тарифов «Ультра» и «Смарт» различается."
   ]
  },
  {
   "cell_type": "markdown",
   "metadata": {},
   "source": [
    "Подсчитаем средние выручки для обоих тарифов:"
   ]
  },
  {
   "cell_type": "code",
   "execution_count": 60,
   "metadata": {},
   "outputs": [
    {
     "name": "stdout",
     "output_type": "stream",
     "text": [
      "Средняя выручка тарифа \"Смарт\": 1294.6393001345896\n",
      "Средняя выручка тарифа \"Ультра\": 2071.0659898477156\n"
     ]
    }
   ],
   "source": [
    "# <Посчитаем среднее для выручки по обоим тарифам>\n",
    "smart_mean = all_services[all_services['tariff'] == 'smart']['revenue'].mean()\n",
    "ultra_mean = all_services[all_services['tariff'] == 'ultra']['revenue'].mean()\n",
    "print('Средняя выручка тарифа \"Смарт\":', smart_mean)\n",
    "print('Средняя выручка тарифа \"Ультра\":', ultra_mean)"
   ]
  },
  {
   "cell_type": "markdown",
   "metadata": {},
   "source": [
    "Создадим переменные для наших выборок с выручками тарифов:"
   ]
  },
  {
   "cell_type": "code",
   "execution_count": 61,
   "metadata": {},
   "outputs": [],
   "source": [
    "# <Создадим переменные для наших выборок с выручками тарифов>\n",
    "smart_revenue = all_services[all_services['tariff'] == 'smart']['revenue']\n",
    "ultra_revenue = all_services[all_services['tariff'] == 'ultra']['revenue']"
   ]
  },
  {
   "cell_type": "markdown",
   "metadata": {},
   "source": [
    "Для проверки гипотезы применим критерий Стьюдента (проверка гипотезы о равенстве среднего двух генеральных совокупностей по взятым из них выборкам) Подберем уровень значимости (*alpha*) равный 0.05."
   ]
  },
  {
   "cell_type": "code",
   "execution_count": 62,
   "metadata": {},
   "outputs": [
    {
     "name": "stdout",
     "output_type": "stream",
     "text": [
      "p-значение: 2.9776448000521676e-158\n",
      "Отвергаем нулевую гипотезу\n"
     ]
    }
   ],
   "source": [
    "# <Уровень значимости>\n",
    "alpha = 0.05\n",
    "\n",
    "# <Метод библиотеки scipy, позволяющий проверить гипотезу о равенстве двух средних>\n",
    "results =  st.ttest_ind(\n",
    "    smart_revenue, \n",
    "    ultra_revenue)\n",
    "\n",
    "print('p-значение:', results.pvalue)\n",
    "\n",
    "if (results.pvalue < alpha):\n",
    "    print(\"Отвергаем нулевую гипотезу\")\n",
    "else:\n",
    "    print(\"Не получилось отвергнуть нулевую гипотезу\")"
   ]
  },
  {
   "cell_type": "markdown",
   "metadata": {},
   "source": [
    "Вероятность того что гипотеза **H₀** верна крайне мала, судя по p - значению. Результаты исследования подтверждают то что мы увидели выше , средняя выручка сильно различаются. На основе данных выборок мы можем сказать что альтернативная гипотеза верна."
   ]
  },
  {
   "cell_type": "markdown",
   "metadata": {},
   "source": [
    "Проверим гипотезу о том что:\n",
    "* средняя выручка пользователей из Москвы отличается от выручки пользователей из других регионов;\n",
    "\n",
    "Начнем с первой. Сформулируем нулевую и альтернативную гипотезы:\n",
    "\n",
    "**H₀:** Средняя выручка от пользователей из Москвы равна выручке по пользователям из регионов.\n",
    "\n",
    "**H₁:** Средняя выручка от пользователей из Москвы  отличается от выручки по пользователям из регионов."
   ]
  },
  {
   "cell_type": "code",
   "execution_count": 63,
   "metadata": {},
   "outputs": [
    {
     "name": "stdout",
     "output_type": "stream",
     "text": [
      "Средняя выручка в Москве 1550.8052373158755\n",
      "Средняя выручка в регионах: 1528.3169419900116\n"
     ]
    }
   ],
   "source": [
    "# <Посчитаем среднюю выручку в Москве и в регионах>\n",
    "moscow_mean = all_services[all_services['city'] == 'Москва']['revenue'].mean()\n",
    "region_mean = all_services[all_services['city'] != 'Москва']['revenue'].mean()\n",
    "print('Средняя выручка в Москве', moscow_mean)\n",
    "print('Средняя выручка в регионах:', region_mean)"
   ]
  },
  {
   "cell_type": "code",
   "execution_count": 64,
   "metadata": {},
   "outputs": [],
   "source": [
    "# <Создадим переменные для наших выборок с выручками тарифов>\n",
    "moscow_revenue = all_services[all_services['city'] == 'Москва']['revenue']\n",
    "region_revenue = all_services[all_services['city'] != 'Москва']['revenue']"
   ]
  },
  {
   "cell_type": "markdown",
   "metadata": {},
   "source": [
    "Для проверки гипотезы применим критерий Стьюдента (проверка гипотезы о равенстве среднего двух генеральных совокупностей по взятым из них выборкам). Подберем уровень значимости (*alpha*) равный 0.05."
   ]
  },
  {
   "cell_type": "code",
   "execution_count": 66,
   "metadata": {},
   "outputs": [
    {
     "name": "stdout",
     "output_type": "stream",
     "text": [
      "p-значение: 0.531666503831252\n",
      "Не получилось отвергнуть нулевую гипотезу\n"
     ]
    }
   ],
   "source": [
    "# <Уровень значимости>\n",
    "alpha = 0.05\n",
    "\n",
    "# <Метод библиотеки scipy, позволяющий проверить гипотезу о равенстве двух средних>\n",
    "results =  st.ttest_ind(\n",
    "    region_revenue, \n",
    "    moscow_revenue)\n",
    "\n",
    "print('p-значение:', results.pvalue)\n",
    "\n",
    "if (results.pvalue < alpha):\n",
    "    print(\"Отвергаем нулевую гипотезу\")\n",
    "else:\n",
    "    print(\"Не получилось отвергнуть нулевую гипотезу\")"
   ]
  },
  {
   "cell_type": "markdown",
   "metadata": {},
   "source": [
    "Нулевая гипотеза не отвергнута, средняя выручка по пользователям из Москвы примерно равна выручке по пользователям из регионов. На этой выборке. Результаты исследования подтверждают то что мы видели выше со средними по регионам и по Москве, они примерно равны."
   ]
  },
  {
   "cell_type": "markdown",
   "metadata": {},
   "source": [
    "### Вывод"
   ]
  },
  {
   "cell_type": "markdown",
   "metadata": {},
   "source": [
    "* Как я формулировал нулевую и альтернативную гипотезы? Прежде всего по теории в спринте мне известно что в нулевой гипотезе должно быть знак равенства. А альтернативная гипотеза должна быть альтернативой нулевой гипотезе.\n",
    "* Критерий и метод scipy был выбран исходя из заданий в тренажере в спринта, в нашей работе речь идет о выборках, это всего лишь 500 пользователей. Соответственно это проверка гипотезы о равенстве среднего двух генеральных совокупностей по взятым из них выборкам, и метод *.ttest_ind*\n",
    "* p_value полученные нами после теста не дают двояких выводов по этой выборке, первая гипотеза была подтверждена, а вторая опровергнута."
   ]
  },
  {
   "cell_type": "markdown",
   "metadata": {},
   "source": [
    "### Шаг 5. Напишем общий вывод <a class=\"anchor\" id=\"5\"></a>"
   ]
  },
  {
   "cell_type": "markdown",
   "metadata": {},
   "source": [
    "* Было сначала очень непонятно как объединять таблицы, сначала объединил их и подготовил. Затем решил подготовить каждую отдельно, сделать сводную как просят в 1 шаге, далеко не сразу догадался что можно сделать индексы столбцами. В итоге на мой взгляд вышло быстро и удобно. Но можно и лучше.\n",
    "* Я проверил что данные по звонкам , сообщениям и интернету укладываются в сроки пользования тарифом пользователями. Все укладывается. Но в работе решил этого не оставлять. То же и с дубликатами.\n",
    "* Средняя выручка тарифа \"Смарт\": 1294, cредняя выручка тарифа \"Ультра\": 2071. Больше денег приносит тариф \"Ультра\" и с точки зрения бизнеса это плюс. Клиенту здорово иметь неограниченный интернет и это плюс. Абонентская плата этого тарифа огромна (с точки зрения бытового опыта) и это минус. \"Смарт\" на мой взгляд был бы идеальным вариантом для клиента будь у него безлимитный интернет. Если у нас нет альтернатив, стоило бы вложиться в \"Ультра\" больше - популяризовать цифровой образ жизни и все такое. Но лучший вариант - создать нечто среднее между ними, они слишком поляризованы. "
   ]
  }
 ],
 "metadata": {
  "kernelspec": {
   "display_name": "Python 3",
   "language": "python",
   "name": "python3"
  },
  "language_info": {
   "codemirror_mode": {
    "name": "ipython",
    "version": 3
   },
   "file_extension": ".py",
   "mimetype": "text/x-python",
   "name": "python",
   "nbconvert_exporter": "python",
   "pygments_lexer": "ipython3",
   "version": "3.7.6"
  }
 },
 "nbformat": 4,
 "nbformat_minor": 2
}
