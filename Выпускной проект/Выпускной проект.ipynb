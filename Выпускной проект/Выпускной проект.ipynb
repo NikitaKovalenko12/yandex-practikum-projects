{
 "cells": [
  {
   "cell_type": "markdown",
   "metadata": {},
   "source": [
    "# Прогноз оттока клиентов в телеком-компании."
   ]
  },
  {
   "cell_type": "markdown",
   "metadata": {},
   "source": [
    "### Описание услуг\n",
    "\n",
    "Оператор предоставляет два основных типа услуг: \n",
    "\n",
    "1. Стационарную телефонную связь. Возможно подключение телефонного аппарата к нескольким линиям одновременно.\n",
    "2. Интернет. Подключение может быть двух типов: через телефонную линию (DSL*,* от англ. *digital subscriber line*, «цифровая абонентская линия») или оптоволоконный кабель (*Fiber optic*).  \n",
    "\n",
    "Также доступны такие услуги:\n",
    "\n",
    "- Интернет-безопасность: антивирус (*DeviceProtection*) и блокировка небезопасных сайтов (*OnlineSecurity*);\n",
    "- Выделенная линия технической поддержки (*TechSupport*);\n",
    "- Облачное хранилище файлов для резервного копирования данных (*OnlineBackup*);\n",
    "- Стриминговое телевидение (*StreamingTV*) и каталог фильмов (*StreamingMovies*).\n",
    "\n",
    "За услуги клиенты могут платить каждый месяц или заключить договор на 1–2 года. Доступны различные способы расчёта и возможность получения электронного чека."
   ]
  },
  {
   "cell_type": "markdown",
   "metadata": {},
   "source": [
    "### Описание данных\n",
    "\n",
    "Данные состоят из файлов, полученных из разных источников:\n",
    "\n",
    "- `contract.csv` — информация о договоре;\n",
    "- `personal.csv` — персональные данные клиента;\n",
    "- `internet.csv` — информация об интернет-услугах;\n",
    "- `phone.csv` — информация об услугах телефонии.\n",
    "\n",
    "Во всех файлах столбец `customerID` содержит код клиента.\n",
    "\n",
    "Информация о договорах актуальна на 1 февраля 2020."
   ]
  },
  {
   "cell_type": "markdown",
   "metadata": {},
   "source": [
    "## Оглавление:\n",
    "* [1. Осмотрим данные](#1)\n",
    "* [2. Предобработка и исследовательский анализ данных](#2)\n",
    "* [3. Обучение моделей](#3)\n",
    "* [4. Тестирование модели](#4)\n",
    "* [5. Проверка модели на адекватность](#5)\n",
    "* [6. Отчёт по решению ](#6)"
   ]
  },
  {
   "cell_type": "markdown",
   "metadata": {},
   "source": [
    "### 1. Осмотрим данные <a class=\"anchor\" id=\"1\"></a>"
   ]
  },
  {
   "cell_type": "markdown",
   "metadata": {},
   "source": [
    "Импортируем библиотеки:"
   ]
  },
  {
   "cell_type": "code",
   "execution_count": 1,
   "metadata": {},
   "outputs": [],
   "source": [
    "# <импорт библиотеки pandas>\n",
    "import pandas as pd\n",
    "\n",
    "# <импорт библиотеки matplotlib для построения графиков>\n",
    "import matplotlib.pyplot as plt\n",
    "\n",
    "# <импорт библиотеки seaborn для построения графиков>\n",
    "import seaborn as sns\n",
    "\n",
    "# <импорт библиотеки numpy>\n",
    "import numpy as np\n",
    "\n",
    "# <импорт библиотеки math>\n",
    "import math\n",
    "\n",
    "# <код, благодаря которму графики отображаются с первого раза>\n",
    "%matplotlib inline\n",
    "\n",
    "# <код, благодаря которму датафреймы по ширине будут отображаться полностью>\n",
    "pd.set_option('display.max_columns', None)\n",
    "\n",
    "# <Отключение предупреждений>\n",
    "import warnings\n",
    "warnings.filterwarnings('ignore')"
   ]
  },
  {
   "cell_type": "markdown",
   "metadata": {},
   "source": [
    "Прочитаем файлы, датафреймы сохраним в переменные:"
   ]
  },
  {
   "cell_type": "code",
   "execution_count": 2,
   "metadata": {},
   "outputs": [],
   "source": [
    "# <Читаем файл из csv и сохраняем в переменную>\n",
    "contract_info = pd.read_csv('/datasets/final_provider/contract.csv')\n",
    "personal_info = pd.read_csv('/datasets/final_provider/personal.csv')\n",
    "internet_info = pd.read_csv('/datasets/final_provider/internet.csv')\n",
    "phone_info = pd.read_csv('/datasets/final_provider/phone.csv')"
   ]
  },
  {
   "cell_type": "markdown",
   "metadata": {},
   "source": [
    "Рассмотрим информацию по датафрейму с информацией о договорах:"
   ]
  },
  {
   "cell_type": "code",
   "execution_count": 3,
   "metadata": {},
   "outputs": [
    {
     "name": "stdout",
     "output_type": "stream",
     "text": [
      "<class 'pandas.core.frame.DataFrame'>\n",
      "RangeIndex: 7043 entries, 0 to 7042\n",
      "Data columns (total 8 columns):\n",
      "customerID          7043 non-null object\n",
      "BeginDate           7043 non-null object\n",
      "EndDate             7043 non-null object\n",
      "Type                7043 non-null object\n",
      "PaperlessBilling    7043 non-null object\n",
      "PaymentMethod       7043 non-null object\n",
      "MonthlyCharges      7043 non-null float64\n",
      "TotalCharges        7043 non-null object\n",
      "dtypes: float64(1), object(7)\n",
      "memory usage: 440.3+ KB\n",
      "None\n"
     ]
    },
    {
     "data": {
      "text/html": [
       "<div>\n",
       "<style scoped>\n",
       "    .dataframe tbody tr th:only-of-type {\n",
       "        vertical-align: middle;\n",
       "    }\n",
       "\n",
       "    .dataframe tbody tr th {\n",
       "        vertical-align: top;\n",
       "    }\n",
       "\n",
       "    .dataframe thead th {\n",
       "        text-align: right;\n",
       "    }\n",
       "</style>\n",
       "<table border=\"1\" class=\"dataframe\">\n",
       "  <thead>\n",
       "    <tr style=\"text-align: right;\">\n",
       "      <th></th>\n",
       "      <th>customerID</th>\n",
       "      <th>BeginDate</th>\n",
       "      <th>EndDate</th>\n",
       "      <th>Type</th>\n",
       "      <th>PaperlessBilling</th>\n",
       "      <th>PaymentMethod</th>\n",
       "      <th>MonthlyCharges</th>\n",
       "      <th>TotalCharges</th>\n",
       "    </tr>\n",
       "  </thead>\n",
       "  <tbody>\n",
       "    <tr>\n",
       "      <td>0</td>\n",
       "      <td>7590-VHVEG</td>\n",
       "      <td>2020-01-01</td>\n",
       "      <td>No</td>\n",
       "      <td>Month-to-month</td>\n",
       "      <td>Yes</td>\n",
       "      <td>Electronic check</td>\n",
       "      <td>29.85</td>\n",
       "      <td>29.85</td>\n",
       "    </tr>\n",
       "    <tr>\n",
       "      <td>1</td>\n",
       "      <td>5575-GNVDE</td>\n",
       "      <td>2017-04-01</td>\n",
       "      <td>No</td>\n",
       "      <td>One year</td>\n",
       "      <td>No</td>\n",
       "      <td>Mailed check</td>\n",
       "      <td>56.95</td>\n",
       "      <td>1889.5</td>\n",
       "    </tr>\n",
       "    <tr>\n",
       "      <td>2</td>\n",
       "      <td>3668-QPYBK</td>\n",
       "      <td>2019-10-01</td>\n",
       "      <td>2019-12-01 00:00:00</td>\n",
       "      <td>Month-to-month</td>\n",
       "      <td>Yes</td>\n",
       "      <td>Mailed check</td>\n",
       "      <td>53.85</td>\n",
       "      <td>108.15</td>\n",
       "    </tr>\n",
       "    <tr>\n",
       "      <td>3</td>\n",
       "      <td>7795-CFOCW</td>\n",
       "      <td>2016-05-01</td>\n",
       "      <td>No</td>\n",
       "      <td>One year</td>\n",
       "      <td>No</td>\n",
       "      <td>Bank transfer (automatic)</td>\n",
       "      <td>42.30</td>\n",
       "      <td>1840.75</td>\n",
       "    </tr>\n",
       "    <tr>\n",
       "      <td>4</td>\n",
       "      <td>9237-HQITU</td>\n",
       "      <td>2019-09-01</td>\n",
       "      <td>2019-11-01 00:00:00</td>\n",
       "      <td>Month-to-month</td>\n",
       "      <td>Yes</td>\n",
       "      <td>Electronic check</td>\n",
       "      <td>70.70</td>\n",
       "      <td>151.65</td>\n",
       "    </tr>\n",
       "  </tbody>\n",
       "</table>\n",
       "</div>"
      ],
      "text/plain": [
       "   customerID   BeginDate              EndDate            Type  \\\n",
       "0  7590-VHVEG  2020-01-01                   No  Month-to-month   \n",
       "1  5575-GNVDE  2017-04-01                   No        One year   \n",
       "2  3668-QPYBK  2019-10-01  2019-12-01 00:00:00  Month-to-month   \n",
       "3  7795-CFOCW  2016-05-01                   No        One year   \n",
       "4  9237-HQITU  2019-09-01  2019-11-01 00:00:00  Month-to-month   \n",
       "\n",
       "  PaperlessBilling              PaymentMethod  MonthlyCharges TotalCharges  \n",
       "0              Yes           Electronic check           29.85        29.85  \n",
       "1               No               Mailed check           56.95       1889.5  \n",
       "2              Yes               Mailed check           53.85       108.15  \n",
       "3               No  Bank transfer (automatic)           42.30      1840.75  \n",
       "4              Yes           Electronic check           70.70       151.65  "
      ]
     },
     "execution_count": 3,
     "metadata": {},
     "output_type": "execute_result"
    }
   ],
   "source": [
    "# <рассмотрим таблицу contract_info>\n",
    "print(contract_info.info())\n",
    "contract_info.head()"
   ]
  },
  {
   "cell_type": "markdown",
   "metadata": {},
   "source": [
    "Всего в таблице 8 столбцов, типы данных у столбцов одинаковы кроме столбца *MonthlyCharges* и явно требуют преобразования.\n",
    "\n",
    "Подробно разберём, какие в *contract_info* столбцы и какую информацию они содержат:\n",
    "\n",
    "* *customerID* — код клиента.\n",
    "* *BeginDate* — начало действия договора.\n",
    "* *EndDate* — окончание действия договора, там где есть дата - это значит что клиент уже ушел.\n",
    "* *Type* — тип договора, зависящий от периодичности оплаты.\n",
    "* *PaperlessBilling* — безбумажная оплата или нет.\n",
    "* *PaymentMethod* — способ оплаты.\n",
    "* *MonthlyCharges* — размер помесячной оплаты.\n",
    "* *TotalCharges* — общая сумма оплаты услуг за все время у конкретного клиента.\n",
    "\n",
    "Важный вопрос - как создать фичу о том что клиент уже ушел/не ушел, и как после этого заполнять столбец EndDate для нынешних клиентов."
   ]
  },
  {
   "cell_type": "markdown",
   "metadata": {},
   "source": [
    "Рассмотрим информацию по датафрейму с информацией о персональных данных клиента:"
   ]
  },
  {
   "cell_type": "code",
   "execution_count": 4,
   "metadata": {},
   "outputs": [
    {
     "name": "stdout",
     "output_type": "stream",
     "text": [
      "<class 'pandas.core.frame.DataFrame'>\n",
      "RangeIndex: 7043 entries, 0 to 7042\n",
      "Data columns (total 5 columns):\n",
      "customerID       7043 non-null object\n",
      "gender           7043 non-null object\n",
      "SeniorCitizen    7043 non-null int64\n",
      "Partner          7043 non-null object\n",
      "Dependents       7043 non-null object\n",
      "dtypes: int64(1), object(4)\n",
      "memory usage: 275.2+ KB\n",
      "None\n"
     ]
    },
    {
     "data": {
      "text/html": [
       "<div>\n",
       "<style scoped>\n",
       "    .dataframe tbody tr th:only-of-type {\n",
       "        vertical-align: middle;\n",
       "    }\n",
       "\n",
       "    .dataframe tbody tr th {\n",
       "        vertical-align: top;\n",
       "    }\n",
       "\n",
       "    .dataframe thead th {\n",
       "        text-align: right;\n",
       "    }\n",
       "</style>\n",
       "<table border=\"1\" class=\"dataframe\">\n",
       "  <thead>\n",
       "    <tr style=\"text-align: right;\">\n",
       "      <th></th>\n",
       "      <th>customerID</th>\n",
       "      <th>gender</th>\n",
       "      <th>SeniorCitizen</th>\n",
       "      <th>Partner</th>\n",
       "      <th>Dependents</th>\n",
       "    </tr>\n",
       "  </thead>\n",
       "  <tbody>\n",
       "    <tr>\n",
       "      <td>0</td>\n",
       "      <td>7590-VHVEG</td>\n",
       "      <td>Female</td>\n",
       "      <td>0</td>\n",
       "      <td>Yes</td>\n",
       "      <td>No</td>\n",
       "    </tr>\n",
       "    <tr>\n",
       "      <td>1</td>\n",
       "      <td>5575-GNVDE</td>\n",
       "      <td>Male</td>\n",
       "      <td>0</td>\n",
       "      <td>No</td>\n",
       "      <td>No</td>\n",
       "    </tr>\n",
       "    <tr>\n",
       "      <td>2</td>\n",
       "      <td>3668-QPYBK</td>\n",
       "      <td>Male</td>\n",
       "      <td>0</td>\n",
       "      <td>No</td>\n",
       "      <td>No</td>\n",
       "    </tr>\n",
       "    <tr>\n",
       "      <td>3</td>\n",
       "      <td>7795-CFOCW</td>\n",
       "      <td>Male</td>\n",
       "      <td>0</td>\n",
       "      <td>No</td>\n",
       "      <td>No</td>\n",
       "    </tr>\n",
       "    <tr>\n",
       "      <td>4</td>\n",
       "      <td>9237-HQITU</td>\n",
       "      <td>Female</td>\n",
       "      <td>0</td>\n",
       "      <td>No</td>\n",
       "      <td>No</td>\n",
       "    </tr>\n",
       "  </tbody>\n",
       "</table>\n",
       "</div>"
      ],
      "text/plain": [
       "   customerID  gender  SeniorCitizen Partner Dependents\n",
       "0  7590-VHVEG  Female              0     Yes         No\n",
       "1  5575-GNVDE    Male              0      No         No\n",
       "2  3668-QPYBK    Male              0      No         No\n",
       "3  7795-CFOCW    Male              0      No         No\n",
       "4  9237-HQITU  Female              0      No         No"
      ]
     },
     "execution_count": 4,
     "metadata": {},
     "output_type": "execute_result"
    }
   ],
   "source": [
    "# <рассмотрим таблицу personal_info>\n",
    "print(personal_info.info())\n",
    "personal_info.head()"
   ]
  },
  {
   "cell_type": "markdown",
   "metadata": {},
   "source": [
    "Всего в таблице 5 столбцов, типы данных у столбцов одинаковы кроме столбца *SeniorCitizen* и явно требуют преобразования.\n",
    "\n",
    "Подробно разберём, какие в *personal_info* столбцы и какую информацию они содержат:\n",
    "\n",
    "* *customerID* — код клиента.\n",
    "* *gender* — пол клиента.\n",
    "* *SeniorCitizen* — насколько я понял, это флаг о том, пожилой ли гражданин.\n",
    "* *Partner* — скреплен человек узами брака или нет.\n",
    "* *Dependents* — есть ли дети или нет.\n",
    "\n",
    "Есть вопрос по сути названий столбцов, а также есть необходимость все Yes/No превратить в 0/1."
   ]
  },
  {
   "cell_type": "markdown",
   "metadata": {},
   "source": [
    "Рассмотрим информацию по датафрейму с информацией об интернет-услугах:"
   ]
  },
  {
   "cell_type": "code",
   "execution_count": 5,
   "metadata": {},
   "outputs": [
    {
     "name": "stdout",
     "output_type": "stream",
     "text": [
      "<class 'pandas.core.frame.DataFrame'>\n",
      "RangeIndex: 5517 entries, 0 to 5516\n",
      "Data columns (total 8 columns):\n",
      "customerID          5517 non-null object\n",
      "InternetService     5517 non-null object\n",
      "OnlineSecurity      5517 non-null object\n",
      "OnlineBackup        5517 non-null object\n",
      "DeviceProtection    5517 non-null object\n",
      "TechSupport         5517 non-null object\n",
      "StreamingTV         5517 non-null object\n",
      "StreamingMovies     5517 non-null object\n",
      "dtypes: object(8)\n",
      "memory usage: 344.9+ KB\n",
      "None\n"
     ]
    },
    {
     "data": {
      "text/html": [
       "<div>\n",
       "<style scoped>\n",
       "    .dataframe tbody tr th:only-of-type {\n",
       "        vertical-align: middle;\n",
       "    }\n",
       "\n",
       "    .dataframe tbody tr th {\n",
       "        vertical-align: top;\n",
       "    }\n",
       "\n",
       "    .dataframe thead th {\n",
       "        text-align: right;\n",
       "    }\n",
       "</style>\n",
       "<table border=\"1\" class=\"dataframe\">\n",
       "  <thead>\n",
       "    <tr style=\"text-align: right;\">\n",
       "      <th></th>\n",
       "      <th>customerID</th>\n",
       "      <th>InternetService</th>\n",
       "      <th>OnlineSecurity</th>\n",
       "      <th>OnlineBackup</th>\n",
       "      <th>DeviceProtection</th>\n",
       "      <th>TechSupport</th>\n",
       "      <th>StreamingTV</th>\n",
       "      <th>StreamingMovies</th>\n",
       "    </tr>\n",
       "  </thead>\n",
       "  <tbody>\n",
       "    <tr>\n",
       "      <td>0</td>\n",
       "      <td>7590-VHVEG</td>\n",
       "      <td>DSL</td>\n",
       "      <td>No</td>\n",
       "      <td>Yes</td>\n",
       "      <td>No</td>\n",
       "      <td>No</td>\n",
       "      <td>No</td>\n",
       "      <td>No</td>\n",
       "    </tr>\n",
       "    <tr>\n",
       "      <td>1</td>\n",
       "      <td>5575-GNVDE</td>\n",
       "      <td>DSL</td>\n",
       "      <td>Yes</td>\n",
       "      <td>No</td>\n",
       "      <td>Yes</td>\n",
       "      <td>No</td>\n",
       "      <td>No</td>\n",
       "      <td>No</td>\n",
       "    </tr>\n",
       "    <tr>\n",
       "      <td>2</td>\n",
       "      <td>3668-QPYBK</td>\n",
       "      <td>DSL</td>\n",
       "      <td>Yes</td>\n",
       "      <td>Yes</td>\n",
       "      <td>No</td>\n",
       "      <td>No</td>\n",
       "      <td>No</td>\n",
       "      <td>No</td>\n",
       "    </tr>\n",
       "    <tr>\n",
       "      <td>3</td>\n",
       "      <td>7795-CFOCW</td>\n",
       "      <td>DSL</td>\n",
       "      <td>Yes</td>\n",
       "      <td>No</td>\n",
       "      <td>Yes</td>\n",
       "      <td>Yes</td>\n",
       "      <td>No</td>\n",
       "      <td>No</td>\n",
       "    </tr>\n",
       "    <tr>\n",
       "      <td>4</td>\n",
       "      <td>9237-HQITU</td>\n",
       "      <td>Fiber optic</td>\n",
       "      <td>No</td>\n",
       "      <td>No</td>\n",
       "      <td>No</td>\n",
       "      <td>No</td>\n",
       "      <td>No</td>\n",
       "      <td>No</td>\n",
       "    </tr>\n",
       "  </tbody>\n",
       "</table>\n",
       "</div>"
      ],
      "text/plain": [
       "   customerID InternetService OnlineSecurity OnlineBackup DeviceProtection  \\\n",
       "0  7590-VHVEG             DSL             No          Yes               No   \n",
       "1  5575-GNVDE             DSL            Yes           No              Yes   \n",
       "2  3668-QPYBK             DSL            Yes          Yes               No   \n",
       "3  7795-CFOCW             DSL            Yes           No              Yes   \n",
       "4  9237-HQITU     Fiber optic             No           No               No   \n",
       "\n",
       "  TechSupport StreamingTV StreamingMovies  \n",
       "0          No          No              No  \n",
       "1          No          No              No  \n",
       "2          No          No              No  \n",
       "3         Yes          No              No  \n",
       "4          No          No              No  "
      ]
     },
     "execution_count": 5,
     "metadata": {},
     "output_type": "execute_result"
    }
   ],
   "source": [
    "# <рассмотрим таблицу internet_info>\n",
    "print(internet_info.info())\n",
    "internet_info.head()"
   ]
  },
  {
   "cell_type": "markdown",
   "metadata": {},
   "source": [
    "Всего в таблице 8 столбцов, типы данных у столбцов одинаковы и явно требуют преобразования.\n",
    "\n",
    "Подробно разберём, какие в *internet_info* столбцы и какую информацию они содержат:\n",
    "\n",
    "* *customerID* — код клиента.\n",
    "* *InternetService* — тип подключения, *DSL* или оптоволконный кабель.\n",
    "* *OnlineSecurity* — наличие блокировки небезопасных сайтов.\n",
    "* *OnlineBackup* — наличие облака.\n",
    "* *DeviceProtection* — наличие антивируса.\n",
    "* *TechSupport* — наличие выделенной линии технической поддержки.\n",
    "* *StreamingTV* — наличие стримингового телевидения.\n",
    "* *StreamingMovies* — наличие каталога фильмов.\n",
    "\n",
    "Есть необходимость все столбцы кроме кода клиента превратить в 0/1."
   ]
  },
  {
   "cell_type": "markdown",
   "metadata": {},
   "source": [
    "Рассмотрим информацию по датафрейму с информацией об услугах телефонии:"
   ]
  },
  {
   "cell_type": "code",
   "execution_count": 6,
   "metadata": {},
   "outputs": [
    {
     "name": "stdout",
     "output_type": "stream",
     "text": [
      "<class 'pandas.core.frame.DataFrame'>\n",
      "RangeIndex: 6361 entries, 0 to 6360\n",
      "Data columns (total 2 columns):\n",
      "customerID       6361 non-null object\n",
      "MultipleLines    6361 non-null object\n",
      "dtypes: object(2)\n",
      "memory usage: 99.5+ KB\n",
      "None\n"
     ]
    },
    {
     "data": {
      "text/html": [
       "<div>\n",
       "<style scoped>\n",
       "    .dataframe tbody tr th:only-of-type {\n",
       "        vertical-align: middle;\n",
       "    }\n",
       "\n",
       "    .dataframe tbody tr th {\n",
       "        vertical-align: top;\n",
       "    }\n",
       "\n",
       "    .dataframe thead th {\n",
       "        text-align: right;\n",
       "    }\n",
       "</style>\n",
       "<table border=\"1\" class=\"dataframe\">\n",
       "  <thead>\n",
       "    <tr style=\"text-align: right;\">\n",
       "      <th></th>\n",
       "      <th>customerID</th>\n",
       "      <th>MultipleLines</th>\n",
       "    </tr>\n",
       "  </thead>\n",
       "  <tbody>\n",
       "    <tr>\n",
       "      <td>0</td>\n",
       "      <td>5575-GNVDE</td>\n",
       "      <td>No</td>\n",
       "    </tr>\n",
       "    <tr>\n",
       "      <td>1</td>\n",
       "      <td>3668-QPYBK</td>\n",
       "      <td>No</td>\n",
       "    </tr>\n",
       "    <tr>\n",
       "      <td>2</td>\n",
       "      <td>9237-HQITU</td>\n",
       "      <td>No</td>\n",
       "    </tr>\n",
       "    <tr>\n",
       "      <td>3</td>\n",
       "      <td>9305-CDSKC</td>\n",
       "      <td>Yes</td>\n",
       "    </tr>\n",
       "    <tr>\n",
       "      <td>4</td>\n",
       "      <td>1452-KIOVK</td>\n",
       "      <td>Yes</td>\n",
       "    </tr>\n",
       "  </tbody>\n",
       "</table>\n",
       "</div>"
      ],
      "text/plain": [
       "   customerID MultipleLines\n",
       "0  5575-GNVDE            No\n",
       "1  3668-QPYBK            No\n",
       "2  9237-HQITU            No\n",
       "3  9305-CDSKC           Yes\n",
       "4  1452-KIOVK           Yes"
      ]
     },
     "execution_count": 6,
     "metadata": {},
     "output_type": "execute_result"
    }
   ],
   "source": [
    "# <рассмотрим таблицу phone_info>\n",
    "print(phone_info.info())\n",
    "phone_info.head()"
   ]
  },
  {
   "cell_type": "markdown",
   "metadata": {},
   "source": [
    "Всего в таблице 2 столбца, типы данных у столбцов одинаковы.\n",
    "\n",
    "Подробно разберём, какие в *phone_info* столбцы и какую информацию они содержат:\n",
    "\n",
    "* *customerID* — код клиента.\n",
    "* *MultipleLines* —  наличие услуги подключения телефонного аппарата к нескольким линиям одновременно.\n",
    "\n",
    "Есть необходимость превратить в 0/1 столбец *MultipleLines*."
   ]
  },
  {
   "cell_type": "markdown",
   "metadata": {},
   "source": [
    "### Вывод"
   ]
  },
  {
   "cell_type": "markdown",
   "metadata": {},
   "source": [
    "* В следующем пункте смерджим все датафреймы.\n",
    "* Необходимо избавиться от дат.\n",
    "* *PaperlessBilling*, *PaymentMethod*, *gender* выглядят бесполезными фичами. Но тот же способ оплаты может быть слишком устаревшим, а клиент может быть и не в курсе новых методов. Это значит что если этот показатель сильно влияет на уход, то имеет смысл продумать рассылку, которая уведомит клиента о новых удобствах.\n",
    "* В таблице об интернет-услугах имеет смысл проанализировать уходят ли клиента из-за того что сидят более старом *DSL*.\n",
    "* Таблица о телефонии на мой взгляд имеет одно из самых минимальных влияний на отток клиентов."
   ]
  },
  {
   "cell_type": "markdown",
   "metadata": {},
   "source": [
    "### 2. Предобработка и исследовательский анализ данных. <a class=\"anchor\" id=\"2\"></a>"
   ]
  },
  {
   "cell_type": "markdown",
   "metadata": {},
   "source": [
    "Рассмотрим таблицу с договорами и проверим в ней количество полных дубликатов:"
   ]
  },
  {
   "cell_type": "code",
   "execution_count": 7,
   "metadata": {},
   "outputs": [
    {
     "data": {
      "text/plain": [
       "0"
      ]
     },
     "execution_count": 7,
     "metadata": {},
     "output_type": "execute_result"
    }
   ],
   "source": [
    "ci = contract_info.copy()\n",
    "# <проверим количество полных дубликатов>\n",
    "ci.duplicated().sum()"
   ]
  },
  {
   "cell_type": "markdown",
   "metadata": {},
   "source": [
    "Создадим признак \"срок жизни клиента\"."
   ]
  },
  {
   "cell_type": "code",
   "execution_count": 8,
   "metadata": {},
   "outputs": [],
   "source": [
    "# <создадим столбец с датой выгрузки данных>\n",
    "ci.insert(0,'now','2020-02-01')\n",
    "# <сменим ему тип>\n",
    "ci['now'] = pd.to_datetime(ci['now'], errors='coerce')\n",
    "# <сменим тип данных дате начала пользования услуг клиентом>\n",
    "ci['BeginDate'] = ci['BeginDate'].astype(\"datetime64\")\n",
    "# <сменим все No на дату выгрузки данных>\n",
    "ci['EndDate'] = (np.where((ci.EndDate == 'No'), ci['now'][0], ci.EndDate))\n",
    "# <сменим тип данных дате окончания пользования услуг клиентом>\n",
    "ci['EndDate'] = pd.to_datetime(ci['EndDate'], errors='coerce')\n",
    "# <вычислим срок жизни клиента, используя целевой признак>\n",
    "ci['Term'] = (ci['EndDate'] - ci['BeginDate']).dt.days"
   ]
  },
  {
   "cell_type": "markdown",
   "metadata": {},
   "source": [
    "Сделаем целевой признак бинарным."
   ]
  },
  {
   "cell_type": "code",
   "execution_count": 9,
   "metadata": {},
   "outputs": [],
   "source": [
    "# <преобразуем EndDate в строку, чтобы было проще его преобразовать в 0/1>\n",
    "ci['EndDate'] = ci['EndDate'].dt.strftime('%Y-%m-%d')\n",
    "# <преобразовываем и меняем тип>\n",
    "ci['EndDate'] = (np.where((ci.EndDate == '2020-02-01'), 0, ci.EndDate))\n",
    "ci['EndDate'] = (np.where((ci.EndDate != 0), 1, ci.EndDate))\n",
    "ci['EndDate'] = ci['EndDate'].astype(\"int8\")"
   ]
  },
  {
   "cell_type": "markdown",
   "metadata": {},
   "source": [
    "Также вычислим срок через суммы оплаты, чтобы затем сравнить значимость по-разному вычисленных сроков."
   ]
  },
  {
   "cell_type": "code",
   "execution_count": 10,
   "metadata": {},
   "outputs": [],
   "source": [
    "# <вычислим срок жизни клиента, используя регрессоры, но предварительно очистим столбец суммы от некорректных данных>\n",
    "ci['TotalCharges'] = pd.to_numeric(ci['TotalCharges'],errors='coerce')\n",
    "ci = ci.dropna(subset=['TotalCharges']).reset_index(drop = True)\n",
    "ci['Term_from_charges'] = ci['TotalCharges'] / ci['MonthlyCharges']  "
   ]
  },
  {
   "cell_type": "markdown",
   "metadata": {},
   "source": [
    "Посмотрим корреляцию между двумя сроками и суммами оплат:"
   ]
  },
  {
   "cell_type": "code",
   "execution_count": 11,
   "metadata": {},
   "outputs": [
    {
     "data": {
      "image/png": "[encoded data removed]",
      "text/plain": [
       "<Figure size 936x648 with 2 Axes>"
      ]
     },
     "metadata": {
      "needs_background": "light"
     },
     "output_type": "display_data"
    }
   ],
   "source": [
    "# <построим график, отображающий корреляцию между признаками>\n",
    "plt.figure(figsize=(13,9))\n",
    "sns.heatmap(ci.loc[:, ['Term_from_charges','TotalCharges','MonthlyCharges','Term']].corr(), annot=True, fmt=\".3f\", linewidths=.5,linecolor='black')\n",
    "plt.title(\"Корреляция между признаками\")\n",
    "plt.show()"
   ]
  },
  {
   "cell_type": "markdown",
   "metadata": {},
   "source": [
    "Видно что оба срока одинаково влияют на переменные, а потому мы можем спокойно удалить один из них,  и при этом использовать любой из них. Я оставлю столбец *Term*. Также видим сильную линейную связь *TotalCharges* с *MonthlyCharges* и *Term*, а потому откажемся от его использования."
   ]
  },
  {
   "cell_type": "code",
   "execution_count": 12,
   "metadata": {},
   "outputs": [],
   "source": [
    "ci = ci.drop('now', axis=1)\n",
    "ci = ci.drop('BeginDate', axis=1)\n",
    "ci = ci.drop('Term_from_charges', axis=1)\n",
    "ci = ci.drop('TotalCharges', axis=1)"
   ]
  },
  {
   "cell_type": "markdown",
   "metadata": {},
   "source": [
    "Объединим таблицы:"
   ]
  },
  {
   "cell_type": "code",
   "execution_count": 13,
   "metadata": {},
   "outputs": [
    {
     "name": "stdout",
     "output_type": "stream",
     "text": [
      "<class 'pandas.core.frame.DataFrame'>\n",
      "RangeIndex: 7032 entries, 0 to 7031\n",
      "Data columns (total 19 columns):\n",
      "customerID          7032 non-null object\n",
      "EndDate             7032 non-null float64\n",
      "Type                7032 non-null object\n",
      "PaperlessBilling    7032 non-null object\n",
      "PaymentMethod       7032 non-null object\n",
      "MonthlyCharges      7032 non-null float64\n",
      "Term                7032 non-null float64\n",
      "gender              7032 non-null object\n",
      "SeniorCitizen       7032 non-null int64\n",
      "Partner             7032 non-null object\n",
      "Dependents          7032 non-null object\n",
      "InternetService     5512 non-null object\n",
      "OnlineSecurity      5512 non-null object\n",
      "OnlineBackup        5512 non-null object\n",
      "DeviceProtection    5512 non-null object\n",
      "TechSupport         5512 non-null object\n",
      "StreamingTV         5512 non-null object\n",
      "StreamingMovies     5512 non-null object\n",
      "MultipleLines       6352 non-null object\n",
      "dtypes: float64(3), int64(1), object(15)\n",
      "memory usage: 1.0+ MB\n"
     ]
    }
   ],
   "source": [
    "all_table = ci.merge(personal_info, on=['customerID'], how='outer')\n",
    "all_table = all_table.merge(internet_info, on=['customerID'], how='outer')\n",
    "all_table = all_table.merge(phone_info, on=['customerID'], how='outer')\n",
    "all_table = all_table.dropna(\n",
    "    subset=['MonthlyCharges']).reset_index(\n",
    "    drop = True)\n",
    "all_table.info()"
   ]
  },
  {
   "cell_type": "markdown",
   "metadata": {},
   "source": [
    "Заполним пропуски в опциях интернета и телефона, будем исходить из того что если клиента не было в таблице про интернет-услуги и телефон, значит нет у него и опций. Также в столбце типа подключения тоже будет *No*."
   ]
  },
  {
   "cell_type": "code",
   "execution_count": 14,
   "metadata": {},
   "outputs": [
    {
     "name": "stdout",
     "output_type": "stream",
     "text": [
      "<class 'pandas.core.frame.DataFrame'>\n",
      "RangeIndex: 7032 entries, 0 to 7031\n",
      "Data columns (total 19 columns):\n",
      "customerID          7032 non-null object\n",
      "EndDate             7032 non-null int8\n",
      "Type                7032 non-null object\n",
      "PaperlessBilling    7032 non-null object\n",
      "PaymentMethod       7032 non-null object\n",
      "MonthlyCharges      7032 non-null float64\n",
      "Term                7032 non-null int32\n",
      "gender              7032 non-null object\n",
      "SeniorCitizen       7032 non-null int64\n",
      "Partner             7032 non-null object\n",
      "Dependents          7032 non-null object\n",
      "InternetService     7032 non-null object\n",
      "OnlineSecurity      7032 non-null object\n",
      "OnlineBackup        7032 non-null object\n",
      "DeviceProtection    7032 non-null object\n",
      "TechSupport         7032 non-null object\n",
      "StreamingTV         7032 non-null object\n",
      "StreamingMovies     7032 non-null object\n",
      "MultipleLines       7032 non-null object\n",
      "dtypes: float64(1), int32(1), int64(1), int8(1), object(15)\n",
      "memory usage: 968.4+ KB\n"
     ]
    }
   ],
   "source": [
    "all_table.fillna('No',inplace=True)\n",
    "all_table['EndDate'] = all_table['EndDate'].astype(\"int8\")\n",
    "all_table['Term'] = all_table['Term'].astype(\"int32\")\n",
    "all_table['MonthlyCharges'] = all_table['MonthlyCharges'].astype(\"float64\")\n",
    "all_table.info()"
   ]
  },
  {
   "cell_type": "code",
   "execution_count": 15,
   "metadata": {},
   "outputs": [
    {
     "data": {
      "text/plain": [
       "0"
      ]
     },
     "execution_count": 15,
     "metadata": {},
     "output_type": "execute_result"
    }
   ],
   "source": [
    "# <проверим количество полных дубликатов>\n",
    "all_table.duplicated().sum()"
   ]
  },
  {
   "cell_type": "markdown",
   "metadata": {},
   "source": [
    "Поищем аномалии:"
   ]
  },
  {
   "cell_type": "code",
   "execution_count": 16,
   "metadata": {},
   "outputs": [
    {
     "data": {
      "text/plain": [
       "<matplotlib.axes._subplots.AxesSubplot at 0x7f4d3bd2f290>"
      ]
     },
     "execution_count": 16,
     "metadata": {},
     "output_type": "execute_result"
    },
    {
     "data": {
      "image/png": "[encoded data removed]",
      "text/plain": [
       "<Figure size 432x288 with 1 Axes>"
      ]
     },
     "metadata": {
      "needs_background": "light"
     },
     "output_type": "display_data"
    }
   ],
   "source": [
    "sns.boxplot(x=\"MonthlyCharges\",\n",
    "            palette=[\"pink\"],\n",
    "            data=all_table)"
   ]
  },
  {
   "cell_type": "code",
   "execution_count": 17,
   "metadata": {},
   "outputs": [
    {
     "data": {
      "text/plain": [
       "<matplotlib.axes._subplots.AxesSubplot at 0x7f4d3bf6ea10>"
      ]
     },
     "execution_count": 17,
     "metadata": {},
     "output_type": "execute_result"
    },
    {
     "data": {
      "image/png": "[encoded data removed]",
      "text/plain": [
       "<Figure size 432x288 with 1 Axes>"
      ]
     },
     "metadata": {
      "needs_background": "light"
     },
     "output_type": "display_data"
    }
   ],
   "source": [
    "sns.boxplot(x=\"Term\",\n",
    "            palette=[\"pink\"],\n",
    "            data=all_table)"
   ]
  },
  {
   "cell_type": "markdown",
   "metadata": {},
   "source": [
    "Значения не выходят за пределы 1.5 межквартильных размаха - все в порядке."
   ]
  },
  {
   "cell_type": "markdown",
   "metadata": {},
   "source": [
    "Первая вещь, которую захотелось проверить - зависит ли количество уходящих от периодичности оплаты договора:"
   ]
  },
  {
   "cell_type": "code",
   "execution_count": 18,
   "metadata": {},
   "outputs": [
    {
     "data": {
      "image/png": "[encoded data removed]",
      "text/plain": [
       "<Figure size 1152x432 with 1 Axes>"
      ]
     },
     "metadata": {
      "needs_background": "light"
     },
     "output_type": "display_data"
    }
   ],
   "source": [
    "plt.figure(figsize=(16, 6))\n",
    "g = sns.countplot(x = 'Type', hue= 'EndDate', data = all_table)\n",
    "plt.title('Количество уходящих в зависимости от периодичности оплаты договора')\n",
    "plt.xlabel('Длительность договора')\n",
    "plt.legend(title='Ушел ли клиент?')\n",
    "plt.show()"
   ]
  },
  {
   "cell_type": "markdown",
   "metadata": {},
   "source": [
    "Сразу же делаем вывод - этот признак довольно важен. Но чтобы точно удостовериться проверим с помощью критерия согласия Пирсона что частоты этого признака не случайны."
   ]
  },
  {
   "cell_type": "markdown",
   "metadata": {},
   "source": [
    "Сформулируем нулевую и альтернативную гипотезы:\n",
    "\n",
    "**H₀:** Количество ушедших клиентов не отличается от оставшихся клиентов по разным типам договоров.\n",
    "\n",
    "**H₁:**  Количество ушедших клиентов отличается от оставшихся клиентов по разным типам договоров."
   ]
  },
  {
   "cell_type": "code",
   "execution_count": 19,
   "metadata": {},
   "outputs": [],
   "source": [
    "# <импортируем критерий хи-квадрат>\n",
    "from scipy.stats import chisquare"
   ]
  },
  {
   "cell_type": "code",
   "execution_count": 20,
   "metadata": {},
   "outputs": [
    {
     "name": "stdout",
     "output_type": "stream",
     "text": [
      "Значение критерия: 2677.3924419566256\n",
      "Отвергаем нулевую гипотезу\n"
     ]
    }
   ],
   "source": [
    "# <Метод библиотеки scipy, позволяющий проверить гипотезу>\n",
    "results = chisquare(all_table[all_table['EndDate']==1]['Type'].value_counts(),all_table[all_table['EndDate']==0]['Type'].value_counts())\n",
    "\n",
    "print('Значение критерия:', results.statistic)\n",
    "\n",
    "if (results.statistic > 9.2):\n",
    "    print(\"Отвергаем нулевую гипотезу\")\n",
    "else:\n",
    "    print(\"Не получилось отвергнуть нулевую гипотезу\")"
   ]
  },
  {
   "cell_type": "markdown",
   "metadata": {},
   "source": [
    "<img src=\"http://mathprofi.ru/files/u/xi2.jpg\" width=400 height=400 />"
   ]
  },
  {
   "cell_type": "markdown",
   "metadata": {},
   "source": [
    "Договор действительно сильно влияет на вероятность ухода."
   ]
  },
  {
   "cell_type": "markdown",
   "metadata": {},
   "source": [
    "Построим распределения длительности пользования услугами для нынешних и ушедших клиентов."
   ]
  },
  {
   "cell_type": "code",
   "execution_count": 21,
   "metadata": {},
   "outputs": [
    {
     "data": {
      "text/plain": [
       "Text(0.5, 1.0, 'Нынешний клиент')"
      ]
     },
     "execution_count": 21,
     "metadata": {},
     "output_type": "execute_result"
    },
    {
     "data": {
      "image/png": "[encoded data removed]",
      "text/plain": [
       "<Figure size 1152x360 with 2 Axes>"
      ]
     },
     "metadata": {
      "needs_background": "light"
     },
     "output_type": "display_data"
    }
   ],
   "source": [
    "fig, (ax1, ax2) = plt.subplots(1, 2, figsize=(16,5))\n",
    "sns.distplot(all_table[all_table['EndDate'] == 1]['Term'], ax = ax1).set_title('Клиент ушел')\n",
    "sns.distplot(all_table[all_table['EndDate'] == 0]['Term'], ax = ax2).set_title('Нынешний клиент')"
   ]
  },
  {
   "cell_type": "markdown",
   "metadata": {},
   "source": [
    "Большинство клиентов уходит в первый год, их нужно удерживать."
   ]
  },
  {
   "cell_type": "markdown",
   "metadata": {},
   "source": [
    "Построим распределения месячной оплаты для нынешних и ушедших клиентов."
   ]
  },
  {
   "cell_type": "code",
   "execution_count": 22,
   "metadata": {},
   "outputs": [
    {
     "data": {
      "text/plain": [
       "Text(0.5, 1.0, 'Нынешний клиент')"
      ]
     },
     "execution_count": 22,
     "metadata": {},
     "output_type": "execute_result"
    },
    {
     "data": {
      "image/png": "[encoded data removed]",
      "text/plain": [
       "<Figure size 1152x360 with 2 Axes>"
      ]
     },
     "metadata": {
      "needs_background": "light"
     },
     "output_type": "display_data"
    }
   ],
   "source": [
    "fig, (ax1, ax2) = plt.subplots(1, 2, figsize=(16,5))\n",
    "sns.distplot(all_table[all_table['EndDate'] == 1]['MonthlyCharges'], ax = ax1).set_title('Клиент ушел')\n",
    "sns.distplot(all_table[all_table['EndDate'] == 0]['MonthlyCharges'], ax = ax2).set_title('Нынешний клиент')"
   ]
  },
  {
   "cell_type": "markdown",
   "metadata": {},
   "source": [
    "Клиенты которые уходили чаще всего имели большую стоимость месячной оплаты. Тут тоже есть работа для отдела маркетинга. Это важный признак."
   ]
  },
  {
   "cell_type": "markdown",
   "metadata": {},
   "source": [
    "Посмотрим зависимость ухода от способа оплаты:"
   ]
  },
  {
   "cell_type": "code",
   "execution_count": 23,
   "metadata": {},
   "outputs": [
    {
     "data": {
      "image/png": "[encoded data removed]",
      "text/plain": [
       "<Figure size 1152x432 with 1 Axes>"
      ]
     },
     "metadata": {
      "needs_background": "light"
     },
     "output_type": "display_data"
    }
   ],
   "source": [
    "plt.figure(figsize=(16, 6))\n",
    "g = sns.countplot(x = 'PaymentMethod', hue= 'EndDate', data = all_table)\n",
    "plt.title('Количество уходящих в зависимости от способа оплаты')\n",
    "plt.xlabel('Способ оплаты')\n",
    "plt.legend(title='Ушел ли клиент?')\n",
    "plt.show()"
   ]
  },
  {
   "cell_type": "markdown",
   "metadata": {},
   "source": [
    "Более новый способ оплаты позволяет сохранять клиентов. Но очень вероятно что уходят как раз те клиенты, которые не особо стремятся за новыми технологиями. Но очевидно стоит уведомить клиентов о способах оплаты в интернете. Признак выглядит не лишним."
   ]
  },
  {
   "cell_type": "markdown",
   "metadata": {},
   "source": [
    "Посмотрим зависимость ухода от наличия электронного чека:"
   ]
  },
  {
   "cell_type": "code",
   "execution_count": 24,
   "metadata": {},
   "outputs": [
    {
     "data": {
      "image/png": "[encoded data removed]",
      "text/plain": [
       "<Figure size 1152x432 with 1 Axes>"
      ]
     },
     "metadata": {
      "needs_background": "light"
     },
     "output_type": "display_data"
    }
   ],
   "source": [
    "plt.figure(figsize=(16, 6))\n",
    "g = sns.countplot(x = 'PaperlessBilling', hue= 'EndDate', data = all_table)\n",
    "plt.title('Количество уходящих в зависимости от наличия электронного чека')\n",
    "plt.xlabel('Наличие электронного чека')\n",
    "plt.legend(title='Ушел ли клиент?')\n",
    "plt.show()"
   ]
  },
  {
   "cell_type": "markdown",
   "metadata": {},
   "source": [
    "Признак похож на предыдущий. Выглядит важным."
   ]
  },
  {
   "cell_type": "code",
   "execution_count": 25,
   "metadata": {},
   "outputs": [
    {
     "data": {
      "image/png": "[encoded data removed]",
      "text/plain": [
       "<Figure size 1152x432 with 1 Axes>"
      ]
     },
     "metadata": {
      "needs_background": "light"
     },
     "output_type": "display_data"
    }
   ],
   "source": [
    "plt.figure(figsize=(16, 6))\n",
    "g = sns.countplot(x = 'gender', hue= 'EndDate', data = all_table)\n",
    "plt.title('Количество уходящих в зависимости от пола')\n",
    "plt.xlabel('Пол')\n",
    "plt.legend(title='Ушел ли клиент?')\n",
    "plt.show()"
   ]
  },
  {
   "cell_type": "markdown",
   "metadata": {},
   "source": [
    "Пол не влияет."
   ]
  },
  {
   "cell_type": "code",
   "execution_count": 26,
   "metadata": {},
   "outputs": [
    {
     "data": {
      "image/png": "[encoded data removed]",
      "text/plain": [
       "<Figure size 1152x432 with 1 Axes>"
      ]
     },
     "metadata": {
      "needs_background": "light"
     },
     "output_type": "display_data"
    }
   ],
   "source": [
    "plt.figure(figsize=(16, 6))\n",
    "g = sns.countplot(x = 'SeniorCitizen', hue= 'EndDate', data = all_table)\n",
    "plt.title('Количество уходящих в зависимости от статуса пенсионера')\n",
    "plt.xlabel('Пенсионер?')\n",
    "plt.legend(title='Ушел ли клиент?')\n",
    "plt.show()"
   ]
  },
  {
   "cell_type": "markdown",
   "metadata": {},
   "source": [
    "Если смотреть только пенсионеров, количество ушедших примерно равно нынешним. Для не пенсионеров разница гораздо выше. Этот признак значим."
   ]
  },
  {
   "cell_type": "markdown",
   "metadata": {},
   "source": [
    "Проверим признаки: *Dependents*, *Partner*."
   ]
  },
  {
   "cell_type": "code",
   "execution_count": 27,
   "metadata": {},
   "outputs": [
    {
     "data": {
      "image/png": "[encoded data removed]",
      "text/plain": [
       "<Figure size 1152x432 with 1 Axes>"
      ]
     },
     "metadata": {
      "needs_background": "light"
     },
     "output_type": "display_data"
    }
   ],
   "source": [
    "plt.figure(figsize=(16, 6))\n",
    "g = sns.countplot(x = 'Partner', hue= 'EndDate', data = all_table)\n",
    "plt.title('Количество уходящих в зависимости значения Partner')\n",
    "plt.xlabel('Partner')\n",
    "plt.legend(title='Ушел ли клиент?')\n",
    "plt.show()"
   ]
  },
  {
   "cell_type": "code",
   "execution_count": 28,
   "metadata": {},
   "outputs": [
    {
     "data": {
      "image/png": "[encoded data removed]",
      "text/plain": [
       "<Figure size 1152x432 with 1 Axes>"
      ]
     },
     "metadata": {
      "needs_background": "light"
     },
     "output_type": "display_data"
    }
   ],
   "source": [
    "plt.figure(figsize=(16, 6))\n",
    "g = sns.countplot(x = 'Dependents', hue= 'EndDate', data = all_table)\n",
    "plt.title('Количество уходящих в зависимости значения Dependents')\n",
    "plt.xlabel('Dependents')\n",
    "plt.legend(title='Ушел ли клиент?')\n",
    "plt.show()"
   ]
  },
  {
   "cell_type": "markdown",
   "metadata": {},
   "source": [
    "Оба признака относительно значимы."
   ]
  },
  {
   "cell_type": "markdown",
   "metadata": {},
   "source": [
    "Тут я создавал из двух предыдущих признак \"Семья\". Но он оказался очень незначительным. И я добавлять его не буду."
   ]
  },
  {
   "cell_type": "markdown",
   "metadata": {},
   "source": [
    "Начнем исследовать признаки интернет-услуг:"
   ]
  },
  {
   "cell_type": "code",
   "execution_count": 29,
   "metadata": {},
   "outputs": [
    {
     "data": {
      "image/png": "[encoded data removed]",
      "text/plain": [
       "<Figure size 1152x432 with 1 Axes>"
      ]
     },
     "metadata": {
      "needs_background": "light"
     },
     "output_type": "display_data"
    }
   ],
   "source": [
    "plt.figure(figsize=(16, 6))\n",
    "g = sns.countplot(x = 'InternetService', hue= 'EndDate', data = all_table)\n",
    "plt.title('Количество уходящих в зависимости типа подключения')\n",
    "plt.xlabel('Тип подключения')\n",
    "plt.legend(title='Ушел ли клиент?')\n",
    "plt.show()"
   ]
  },
  {
   "cell_type": "markdown",
   "metadata": {},
   "source": [
    "Моя гипотеза не подтвердилась. Есть новая - клиенты ожидавшие гиперскорость на оптоволоконном кабеле ее не получили, и решили уйти. Признак важный.\n",
    "\n",
    "Чутье подсказывает что дополнительные услгуи имеют слабое влияние. Проверим пару выборочно."
   ]
  },
  {
   "cell_type": "code",
   "execution_count": 30,
   "metadata": {},
   "outputs": [
    {
     "data": {
      "image/png": "[encoded data removed]",
      "text/plain": [
       "<Figure size 1152x432 with 1 Axes>"
      ]
     },
     "metadata": {
      "needs_background": "light"
     },
     "output_type": "display_data"
    }
   ],
   "source": [
    "plt.figure(figsize=(16, 6))\n",
    "g = sns.countplot(x = 'OnlineSecurity', hue= 'EndDate', data = all_table)\n",
    "plt.title('Количество уходящих в зависимости от наличия блокировки небезопасных сайтов')\n",
    "plt.xlabel('Наличие блокировки')\n",
    "plt.legend(title='Ушел ли клиент?')\n",
    "plt.show()"
   ]
  },
  {
   "cell_type": "code",
   "execution_count": 31,
   "metadata": {},
   "outputs": [
    {
     "data": {
      "image/png": "[encoded data removed]",
      "text/plain": [
       "<Figure size 1152x432 with 1 Axes>"
      ]
     },
     "metadata": {
      "needs_background": "light"
     },
     "output_type": "display_data"
    }
   ],
   "source": [
    "plt.figure(figsize=(16, 6))\n",
    "g = sns.countplot(x = 'StreamingMovies', hue= 'EndDate', data = all_table)\n",
    "plt.title('Количество уходящих в зависимости от наличия каталога фильмов.')\n",
    "plt.xlabel('Есть ли каталог фильмов?')\n",
    "plt.legend(title='Ушел ли клиент?')\n",
    "plt.show()"
   ]
  },
  {
   "cell_type": "markdown",
   "metadata": {},
   "source": [
    "Все-таки некоторые влияют. Посмотрим остальные."
   ]
  },
  {
   "cell_type": "code",
   "execution_count": 32,
   "metadata": {},
   "outputs": [
    {
     "data": {
      "image/png": "[encoded data removed]",
      "text/plain": [
       "<Figure size 1152x432 with 1 Axes>"
      ]
     },
     "metadata": {
      "needs_background": "light"
     },
     "output_type": "display_data"
    }
   ],
   "source": [
    "plt.figure(figsize=(16, 6))\n",
    "g = sns.countplot(x = 'DeviceProtection', hue= 'EndDate', data = all_table)\n",
    "plt.title('Количество уходящих в зависимости от наличия антивируса.')\n",
    "plt.xlabel('Есть ли антивирус?')\n",
    "plt.legend(title='Ушел ли клиент?')\n",
    "plt.show()"
   ]
  },
  {
   "cell_type": "code",
   "execution_count": 33,
   "metadata": {},
   "outputs": [
    {
     "data": {
      "image/png": "[encoded data removed]",
      "text/plain": [
       "<Figure size 1152x432 with 1 Axes>"
      ]
     },
     "metadata": {
      "needs_background": "light"
     },
     "output_type": "display_data"
    }
   ],
   "source": [
    "plt.figure(figsize=(16, 6))\n",
    "g = sns.countplot(x = 'TechSupport', hue= 'EndDate', data = all_table)\n",
    "plt.title('Количество уходящих в зависимости от наличия выделенной линии технической поддержки.')\n",
    "plt.xlabel('Есть ли выделенная линия технической поддержки?')\n",
    "plt.legend(title='Ушел ли клиент?')\n",
    "plt.show()"
   ]
  },
  {
   "cell_type": "code",
   "execution_count": 34,
   "metadata": {},
   "outputs": [
    {
     "data": {
      "image/png": "[encoded data removed]",
      "text/plain": [
       "<Figure size 1152x432 with 1 Axes>"
      ]
     },
     "metadata": {
      "needs_background": "light"
     },
     "output_type": "display_data"
    }
   ],
   "source": [
    "plt.figure(figsize=(16, 6))\n",
    "g = sns.countplot(x = 'OnlineBackup', hue= 'EndDate', data = all_table)\n",
    "plt.title('Количество уходящих в зависимости от наличия облака.')\n",
    "plt.xlabel('Есть ли облако у клиента?')\n",
    "plt.legend(title='Ушел ли клиент?')\n",
    "plt.show()"
   ]
  },
  {
   "cell_type": "code",
   "execution_count": 35,
   "metadata": {},
   "outputs": [
    {
     "data": {
      "image/png": "[encoded data removed]",
      "text/plain": [
       "<Figure size 1152x432 with 1 Axes>"
      ]
     },
     "metadata": {
      "needs_background": "light"
     },
     "output_type": "display_data"
    }
   ],
   "source": [
    "plt.figure(figsize=(16, 6))\n",
    "g = sns.countplot(x = 'StreamingTV', hue= 'EndDate', data = all_table)\n",
    "plt.title('Количество уходящих в зависимости от наличия стримингового ТВ.')\n",
    "plt.xlabel('Есть ли стриминговое ТВ?')\n",
    "plt.legend(title='Ушел ли клиент?')\n",
    "plt.show()"
   ]
  },
  {
   "cell_type": "markdown",
   "metadata": {},
   "source": [
    "*OnlineSecurity*, *OnlineBackup*, *DeviceProtection*, *TechSupport* выглядят важными признаками."
   ]
  },
  {
   "cell_type": "markdown",
   "metadata": {},
   "source": [
    "Единственный признак для услуги телефона:"
   ]
  },
  {
   "cell_type": "code",
   "execution_count": 36,
   "metadata": {},
   "outputs": [
    {
     "data": {
      "image/png": "[encoded data removed]",
      "text/plain": [
       "<Figure size 1152x432 with 1 Axes>"
      ]
     },
     "metadata": {
      "needs_background": "light"
     },
     "output_type": "display_data"
    }
   ],
   "source": [
    "plt.figure(figsize=(16, 6))\n",
    "g = sns.countplot(x = 'MultipleLines', hue= 'EndDate', data = all_table)\n",
    "plt.title('Количество уходящих в зависимости от наличия нескольких телефонных линий.')\n",
    "plt.xlabel('Есть ли несколько телефонных линий?')\n",
    "plt.legend(title='Ушел ли клиент?')\n",
    "plt.show()"
   ]
  },
  {
   "cell_type": "markdown",
   "metadata": {},
   "source": [
    "Моя гипотеза подтвердилась, этот признак не особо важен."
   ]
  },
  {
   "cell_type": "markdown",
   "metadata": {},
   "source": [
    "Закодируем столбцы с *Yes* и *No*."
   ]
  },
  {
   "cell_type": "code",
   "execution_count": 37,
   "metadata": {},
   "outputs": [],
   "source": [
    "from sklearn.preprocessing import OrdinalEncoder\n",
    "encoder = OrdinalEncoder()\n",
    "encoder.fit(all_table)\n",
    "data_ordinal = pd.DataFrame(encoder.transform(all_table), \n",
    "                                                      columns=all_table.columns)"
   ]
  },
  {
   "cell_type": "code",
   "execution_count": 38,
   "metadata": {
    "scrolled": true
   },
   "outputs": [
    {
     "data": {
      "text/html": [
       "<div>\n",
       "<style scoped>\n",
       "    .dataframe tbody tr th:only-of-type {\n",
       "        vertical-align: middle;\n",
       "    }\n",
       "\n",
       "    .dataframe tbody tr th {\n",
       "        vertical-align: top;\n",
       "    }\n",
       "\n",
       "    .dataframe thead th {\n",
       "        text-align: right;\n",
       "    }\n",
       "</style>\n",
       "<table border=\"1\" class=\"dataframe\">\n",
       "  <thead>\n",
       "    <tr style=\"text-align: right;\">\n",
       "      <th></th>\n",
       "      <th>customerID</th>\n",
       "      <th>EndDate</th>\n",
       "      <th>Type</th>\n",
       "      <th>PaperlessBilling</th>\n",
       "      <th>PaymentMethod</th>\n",
       "      <th>MonthlyCharges</th>\n",
       "      <th>Term</th>\n",
       "      <th>gender</th>\n",
       "      <th>SeniorCitizen</th>\n",
       "      <th>Partner</th>\n",
       "      <th>Dependents</th>\n",
       "      <th>InternetService</th>\n",
       "      <th>OnlineSecurity</th>\n",
       "      <th>OnlineBackup</th>\n",
       "      <th>DeviceProtection</th>\n",
       "      <th>TechSupport</th>\n",
       "      <th>StreamingTV</th>\n",
       "      <th>StreamingMovies</th>\n",
       "      <th>MultipleLines</th>\n",
       "    </tr>\n",
       "  </thead>\n",
       "  <tbody>\n",
       "    <tr>\n",
       "      <td>0</td>\n",
       "      <td>7590-VHVEG</td>\n",
       "      <td>0</td>\n",
       "      <td>Month-to-month</td>\n",
       "      <td>1</td>\n",
       "      <td>Electronic check</td>\n",
       "      <td>29.85</td>\n",
       "      <td>31</td>\n",
       "      <td>Female</td>\n",
       "      <td>0</td>\n",
       "      <td>1</td>\n",
       "      <td>0</td>\n",
       "      <td>DSL</td>\n",
       "      <td>0</td>\n",
       "      <td>1</td>\n",
       "      <td>0</td>\n",
       "      <td>0</td>\n",
       "      <td>0</td>\n",
       "      <td>0</td>\n",
       "      <td>0</td>\n",
       "    </tr>\n",
       "    <tr>\n",
       "      <td>1</td>\n",
       "      <td>5575-GNVDE</td>\n",
       "      <td>0</td>\n",
       "      <td>One year</td>\n",
       "      <td>0</td>\n",
       "      <td>Mailed check</td>\n",
       "      <td>56.95</td>\n",
       "      <td>1036</td>\n",
       "      <td>Male</td>\n",
       "      <td>0</td>\n",
       "      <td>0</td>\n",
       "      <td>0</td>\n",
       "      <td>DSL</td>\n",
       "      <td>1</td>\n",
       "      <td>0</td>\n",
       "      <td>1</td>\n",
       "      <td>0</td>\n",
       "      <td>0</td>\n",
       "      <td>0</td>\n",
       "      <td>0</td>\n",
       "    </tr>\n",
       "    <tr>\n",
       "      <td>2</td>\n",
       "      <td>3668-QPYBK</td>\n",
       "      <td>1</td>\n",
       "      <td>Month-to-month</td>\n",
       "      <td>1</td>\n",
       "      <td>Mailed check</td>\n",
       "      <td>53.85</td>\n",
       "      <td>61</td>\n",
       "      <td>Male</td>\n",
       "      <td>0</td>\n",
       "      <td>0</td>\n",
       "      <td>0</td>\n",
       "      <td>DSL</td>\n",
       "      <td>1</td>\n",
       "      <td>1</td>\n",
       "      <td>0</td>\n",
       "      <td>0</td>\n",
       "      <td>0</td>\n",
       "      <td>0</td>\n",
       "      <td>0</td>\n",
       "    </tr>\n",
       "    <tr>\n",
       "      <td>3</td>\n",
       "      <td>7795-CFOCW</td>\n",
       "      <td>0</td>\n",
       "      <td>One year</td>\n",
       "      <td>0</td>\n",
       "      <td>Bank transfer (automatic)</td>\n",
       "      <td>42.30</td>\n",
       "      <td>1371</td>\n",
       "      <td>Male</td>\n",
       "      <td>0</td>\n",
       "      <td>0</td>\n",
       "      <td>0</td>\n",
       "      <td>DSL</td>\n",
       "      <td>1</td>\n",
       "      <td>0</td>\n",
       "      <td>1</td>\n",
       "      <td>1</td>\n",
       "      <td>0</td>\n",
       "      <td>0</td>\n",
       "      <td>0</td>\n",
       "    </tr>\n",
       "    <tr>\n",
       "      <td>4</td>\n",
       "      <td>9237-HQITU</td>\n",
       "      <td>1</td>\n",
       "      <td>Month-to-month</td>\n",
       "      <td>1</td>\n",
       "      <td>Electronic check</td>\n",
       "      <td>70.70</td>\n",
       "      <td>61</td>\n",
       "      <td>Female</td>\n",
       "      <td>0</td>\n",
       "      <td>0</td>\n",
       "      <td>0</td>\n",
       "      <td>Fiber optic</td>\n",
       "      <td>0</td>\n",
       "      <td>0</td>\n",
       "      <td>0</td>\n",
       "      <td>0</td>\n",
       "      <td>0</td>\n",
       "      <td>0</td>\n",
       "      <td>0</td>\n",
       "    </tr>\n",
       "  </tbody>\n",
       "</table>\n",
       "</div>"
      ],
      "text/plain": [
       "   customerID  EndDate            Type  PaperlessBilling  \\\n",
       "0  7590-VHVEG        0  Month-to-month                 1   \n",
       "1  5575-GNVDE        0        One year                 0   \n",
       "2  3668-QPYBK        1  Month-to-month                 1   \n",
       "3  7795-CFOCW        0        One year                 0   \n",
       "4  9237-HQITU        1  Month-to-month                 1   \n",
       "\n",
       "               PaymentMethod  MonthlyCharges  Term  gender  SeniorCitizen  \\\n",
       "0           Electronic check           29.85    31  Female              0   \n",
       "1               Mailed check           56.95  1036    Male              0   \n",
       "2               Mailed check           53.85    61    Male              0   \n",
       "3  Bank transfer (automatic)           42.30  1371    Male              0   \n",
       "4           Electronic check           70.70    61  Female              0   \n",
       "\n",
       "   Partner  Dependents InternetService  OnlineSecurity  OnlineBackup  \\\n",
       "0        1           0             DSL               0             1   \n",
       "1        0           0             DSL               1             0   \n",
       "2        0           0             DSL               1             1   \n",
       "3        0           0             DSL               1             0   \n",
       "4        0           0     Fiber optic               0             0   \n",
       "\n",
       "   DeviceProtection  TechSupport  StreamingTV  StreamingMovies  MultipleLines  \n",
       "0                 0            0            0                0              0  \n",
       "1                 1            0            0                0              0  \n",
       "2                 0            0            0                0              0  \n",
       "3                 1            1            0                0              0  \n",
       "4                 0            0            0                0              0  "
      ]
     },
     "execution_count": 38,
     "metadata": {},
     "output_type": "execute_result"
    }
   ],
   "source": [
    "all_table['PaperlessBilling'] = data_ordinal['PaperlessBilling'].astype(\"int8\")\n",
    "all_table['Partner'] = data_ordinal['Partner'].astype(\"int8\")\n",
    "all_table['Dependents'] = data_ordinal['Dependents'].astype(\"int8\")\n",
    "all_table['OnlineSecurity'] = data_ordinal['OnlineSecurity'].astype(\"int8\")\n",
    "all_table['OnlineBackup'] = data_ordinal['OnlineBackup'].astype(\"int8\")\n",
    "all_table['DeviceProtection'] = data_ordinal['DeviceProtection'].astype(\"int8\")\n",
    "all_table['TechSupport'] = data_ordinal['TechSupport'].astype(\"int8\")\n",
    "all_table['StreamingTV'] = data_ordinal['StreamingTV'].astype(\"int8\")\n",
    "all_table['StreamingMovies'] = data_ordinal['StreamingMovies'].astype(\"int8\")\n",
    "all_table['MultipleLines'] = data_ordinal['MultipleLines'].astype(\"int8\")\n",
    "all_table.head()"
   ]
  },
  {
   "cell_type": "markdown",
   "metadata": {},
   "source": [
    "Удалим столбец с уникальным кодом клиента:"
   ]
  },
  {
   "cell_type": "code",
   "execution_count": 39,
   "metadata": {},
   "outputs": [],
   "source": [
    "all_table = all_table.drop('customerID', axis=1)"
   ]
  },
  {
   "cell_type": "markdown",
   "metadata": {},
   "source": [
    "Закодируем остальные столбцы техникой *OHE*:"
   ]
  },
  {
   "cell_type": "code",
   "execution_count": 40,
   "metadata": {},
   "outputs": [],
   "source": [
    "data_ohe = pd.get_dummies(all_table, drop_first=True)"
   ]
  },
  {
   "cell_type": "code",
   "execution_count": 41,
   "metadata": {},
   "outputs": [
    {
     "data": {
      "text/html": [
       "<div>\n",
       "<style scoped>\n",
       "    .dataframe tbody tr th:only-of-type {\n",
       "        vertical-align: middle;\n",
       "    }\n",
       "\n",
       "    .dataframe tbody tr th {\n",
       "        vertical-align: top;\n",
       "    }\n",
       "\n",
       "    .dataframe thead th {\n",
       "        text-align: right;\n",
       "    }\n",
       "</style>\n",
       "<table border=\"1\" class=\"dataframe\">\n",
       "  <thead>\n",
       "    <tr style=\"text-align: right;\">\n",
       "      <th></th>\n",
       "      <th>EndDate</th>\n",
       "      <th>PaperlessBilling</th>\n",
       "      <th>MonthlyCharges</th>\n",
       "      <th>Term</th>\n",
       "      <th>SeniorCitizen</th>\n",
       "      <th>Partner</th>\n",
       "      <th>Dependents</th>\n",
       "      <th>OnlineSecurity</th>\n",
       "      <th>OnlineBackup</th>\n",
       "      <th>DeviceProtection</th>\n",
       "      <th>TechSupport</th>\n",
       "      <th>StreamingTV</th>\n",
       "      <th>StreamingMovies</th>\n",
       "      <th>MultipleLines</th>\n",
       "      <th>Type_One year</th>\n",
       "      <th>Type_Two year</th>\n",
       "      <th>PaymentMethod_Credit card (automatic)</th>\n",
       "      <th>PaymentMethod_Electronic check</th>\n",
       "      <th>PaymentMethod_Mailed check</th>\n",
       "      <th>gender_Male</th>\n",
       "      <th>InternetService_Fiber optic</th>\n",
       "      <th>InternetService_No</th>\n",
       "    </tr>\n",
       "  </thead>\n",
       "  <tbody>\n",
       "    <tr>\n",
       "      <td>0</td>\n",
       "      <td>0</td>\n",
       "      <td>1</td>\n",
       "      <td>29.85</td>\n",
       "      <td>31</td>\n",
       "      <td>0</td>\n",
       "      <td>1</td>\n",
       "      <td>0</td>\n",
       "      <td>0</td>\n",
       "      <td>1</td>\n",
       "      <td>0</td>\n",
       "      <td>0</td>\n",
       "      <td>0</td>\n",
       "      <td>0</td>\n",
       "      <td>0</td>\n",
       "      <td>0</td>\n",
       "      <td>0</td>\n",
       "      <td>0</td>\n",
       "      <td>1</td>\n",
       "      <td>0</td>\n",
       "      <td>0</td>\n",
       "      <td>0</td>\n",
       "      <td>0</td>\n",
       "    </tr>\n",
       "    <tr>\n",
       "      <td>1</td>\n",
       "      <td>0</td>\n",
       "      <td>0</td>\n",
       "      <td>56.95</td>\n",
       "      <td>1036</td>\n",
       "      <td>0</td>\n",
       "      <td>0</td>\n",
       "      <td>0</td>\n",
       "      <td>1</td>\n",
       "      <td>0</td>\n",
       "      <td>1</td>\n",
       "      <td>0</td>\n",
       "      <td>0</td>\n",
       "      <td>0</td>\n",
       "      <td>0</td>\n",
       "      <td>1</td>\n",
       "      <td>0</td>\n",
       "      <td>0</td>\n",
       "      <td>0</td>\n",
       "      <td>1</td>\n",
       "      <td>1</td>\n",
       "      <td>0</td>\n",
       "      <td>0</td>\n",
       "    </tr>\n",
       "    <tr>\n",
       "      <td>2</td>\n",
       "      <td>1</td>\n",
       "      <td>1</td>\n",
       "      <td>53.85</td>\n",
       "      <td>61</td>\n",
       "      <td>0</td>\n",
       "      <td>0</td>\n",
       "      <td>0</td>\n",
       "      <td>1</td>\n",
       "      <td>1</td>\n",
       "      <td>0</td>\n",
       "      <td>0</td>\n",
       "      <td>0</td>\n",
       "      <td>0</td>\n",
       "      <td>0</td>\n",
       "      <td>0</td>\n",
       "      <td>0</td>\n",
       "      <td>0</td>\n",
       "      <td>0</td>\n",
       "      <td>1</td>\n",
       "      <td>1</td>\n",
       "      <td>0</td>\n",
       "      <td>0</td>\n",
       "    </tr>\n",
       "    <tr>\n",
       "      <td>3</td>\n",
       "      <td>0</td>\n",
       "      <td>0</td>\n",
       "      <td>42.30</td>\n",
       "      <td>1371</td>\n",
       "      <td>0</td>\n",
       "      <td>0</td>\n",
       "      <td>0</td>\n",
       "      <td>1</td>\n",
       "      <td>0</td>\n",
       "      <td>1</td>\n",
       "      <td>1</td>\n",
       "      <td>0</td>\n",
       "      <td>0</td>\n",
       "      <td>0</td>\n",
       "      <td>1</td>\n",
       "      <td>0</td>\n",
       "      <td>0</td>\n",
       "      <td>0</td>\n",
       "      <td>0</td>\n",
       "      <td>1</td>\n",
       "      <td>0</td>\n",
       "      <td>0</td>\n",
       "    </tr>\n",
       "    <tr>\n",
       "      <td>4</td>\n",
       "      <td>1</td>\n",
       "      <td>1</td>\n",
       "      <td>70.70</td>\n",
       "      <td>61</td>\n",
       "      <td>0</td>\n",
       "      <td>0</td>\n",
       "      <td>0</td>\n",
       "      <td>0</td>\n",
       "      <td>0</td>\n",
       "      <td>0</td>\n",
       "      <td>0</td>\n",
       "      <td>0</td>\n",
       "      <td>0</td>\n",
       "      <td>0</td>\n",
       "      <td>0</td>\n",
       "      <td>0</td>\n",
       "      <td>0</td>\n",
       "      <td>1</td>\n",
       "      <td>0</td>\n",
       "      <td>0</td>\n",
       "      <td>1</td>\n",
       "      <td>0</td>\n",
       "    </tr>\n",
       "    <tr>\n",
       "      <td>...</td>\n",
       "      <td>...</td>\n",
       "      <td>...</td>\n",
       "      <td>...</td>\n",
       "      <td>...</td>\n",
       "      <td>...</td>\n",
       "      <td>...</td>\n",
       "      <td>...</td>\n",
       "      <td>...</td>\n",
       "      <td>...</td>\n",
       "      <td>...</td>\n",
       "      <td>...</td>\n",
       "      <td>...</td>\n",
       "      <td>...</td>\n",
       "      <td>...</td>\n",
       "      <td>...</td>\n",
       "      <td>...</td>\n",
       "      <td>...</td>\n",
       "      <td>...</td>\n",
       "      <td>...</td>\n",
       "      <td>...</td>\n",
       "      <td>...</td>\n",
       "      <td>...</td>\n",
       "    </tr>\n",
       "    <tr>\n",
       "      <td>7027</td>\n",
       "      <td>0</td>\n",
       "      <td>1</td>\n",
       "      <td>84.80</td>\n",
       "      <td>730</td>\n",
       "      <td>0</td>\n",
       "      <td>1</td>\n",
       "      <td>1</td>\n",
       "      <td>1</td>\n",
       "      <td>0</td>\n",
       "      <td>1</td>\n",
       "      <td>1</td>\n",
       "      <td>1</td>\n",
       "      <td>1</td>\n",
       "      <td>1</td>\n",
       "      <td>1</td>\n",
       "      <td>0</td>\n",
       "      <td>0</td>\n",
       "      <td>0</td>\n",
       "      <td>1</td>\n",
       "      <td>1</td>\n",
       "      <td>0</td>\n",
       "      <td>0</td>\n",
       "    </tr>\n",
       "    <tr>\n",
       "      <td>7028</td>\n",
       "      <td>0</td>\n",
       "      <td>1</td>\n",
       "      <td>103.20</td>\n",
       "      <td>2191</td>\n",
       "      <td>0</td>\n",
       "      <td>1</td>\n",
       "      <td>1</td>\n",
       "      <td>0</td>\n",
       "      <td>1</td>\n",
       "      <td>1</td>\n",
       "      <td>0</td>\n",
       "      <td>1</td>\n",
       "      <td>1</td>\n",
       "      <td>1</td>\n",
       "      <td>1</td>\n",
       "      <td>0</td>\n",
       "      <td>1</td>\n",
       "      <td>0</td>\n",
       "      <td>0</td>\n",
       "      <td>0</td>\n",
       "      <td>1</td>\n",
       "      <td>0</td>\n",
       "    </tr>\n",
       "    <tr>\n",
       "      <td>7029</td>\n",
       "      <td>0</td>\n",
       "      <td>1</td>\n",
       "      <td>29.60</td>\n",
       "      <td>337</td>\n",
       "      <td>0</td>\n",
       "      <td>1</td>\n",
       "      <td>1</td>\n",
       "      <td>1</td>\n",
       "      <td>0</td>\n",
       "      <td>0</td>\n",
       "      <td>0</td>\n",
       "      <td>0</td>\n",
       "      <td>0</td>\n",
       "      <td>0</td>\n",
       "      <td>0</td>\n",
       "      <td>0</td>\n",
       "      <td>0</td>\n",
       "      <td>1</td>\n",
       "      <td>0</td>\n",
       "      <td>0</td>\n",
       "      <td>0</td>\n",
       "      <td>0</td>\n",
       "    </tr>\n",
       "    <tr>\n",
       "      <td>7030</td>\n",
       "      <td>1</td>\n",
       "      <td>1</td>\n",
       "      <td>74.40</td>\n",
       "      <td>123</td>\n",
       "      <td>1</td>\n",
       "      <td>1</td>\n",
       "      <td>0</td>\n",
       "      <td>0</td>\n",
       "      <td>0</td>\n",
       "      <td>0</td>\n",
       "      <td>0</td>\n",
       "      <td>0</td>\n",
       "      <td>0</td>\n",
       "      <td>1</td>\n",
       "      <td>0</td>\n",
       "      <td>0</td>\n",
       "      <td>0</td>\n",
       "      <td>0</td>\n",
       "      <td>1</td>\n",
       "      <td>1</td>\n",
       "      <td>1</td>\n",
       "      <td>0</td>\n",
       "    </tr>\n",
       "    <tr>\n",
       "      <td>7031</td>\n",
       "      <td>0</td>\n",
       "      <td>1</td>\n",
       "      <td>105.65</td>\n",
       "      <td>2010</td>\n",
       "      <td>0</td>\n",
       "      <td>0</td>\n",
       "      <td>0</td>\n",
       "      <td>1</td>\n",
       "      <td>0</td>\n",
       "      <td>1</td>\n",
       "      <td>1</td>\n",
       "      <td>1</td>\n",
       "      <td>1</td>\n",
       "      <td>0</td>\n",
       "      <td>0</td>\n",
       "      <td>1</td>\n",
       "      <td>0</td>\n",
       "      <td>0</td>\n",
       "      <td>0</td>\n",
       "      <td>1</td>\n",
       "      <td>1</td>\n",
       "      <td>0</td>\n",
       "    </tr>\n",
       "  </tbody>\n",
       "</table>\n",
       "<p>7032 rows × 22 columns</p>\n",
       "</div>"
      ],
      "text/plain": [
       "      EndDate  PaperlessBilling  MonthlyCharges  Term  SeniorCitizen  Partner  \\\n",
       "0           0                 1           29.85    31              0        1   \n",
       "1           0                 0           56.95  1036              0        0   \n",
       "2           1                 1           53.85    61              0        0   \n",
       "3           0                 0           42.30  1371              0        0   \n",
       "4           1                 1           70.70    61              0        0   \n",
       "...       ...               ...             ...   ...            ...      ...   \n",
       "7027        0                 1           84.80   730              0        1   \n",
       "7028        0                 1          103.20  2191              0        1   \n",
       "7029        0                 1           29.60   337              0        1   \n",
       "7030        1                 1           74.40   123              1        1   \n",
       "7031        0                 1          105.65  2010              0        0   \n",
       "\n",
       "      Dependents  OnlineSecurity  OnlineBackup  DeviceProtection  TechSupport  \\\n",
       "0              0               0             1                 0            0   \n",
       "1              0               1             0                 1            0   \n",
       "2              0               1             1                 0            0   \n",
       "3              0               1             0                 1            1   \n",
       "4              0               0             0                 0            0   \n",
       "...          ...             ...           ...               ...          ...   \n",
       "7027           1               1             0                 1            1   \n",
       "7028           1               0             1                 1            0   \n",
       "7029           1               1             0                 0            0   \n",
       "7030           0               0             0                 0            0   \n",
       "7031           0               1             0                 1            1   \n",
       "\n",
       "      StreamingTV  StreamingMovies  MultipleLines  Type_One year  \\\n",
       "0               0                0              0              0   \n",
       "1               0                0              0              1   \n",
       "2               0                0              0              0   \n",
       "3               0                0              0              1   \n",
       "4               0                0              0              0   \n",
       "...           ...              ...            ...            ...   \n",
       "7027            1                1              1              1   \n",
       "7028            1                1              1              1   \n",
       "7029            0                0              0              0   \n",
       "7030            0                0              1              0   \n",
       "7031            1                1              0              0   \n",
       "\n",
       "      Type_Two year  PaymentMethod_Credit card (automatic)  \\\n",
       "0                 0                                      0   \n",
       "1                 0                                      0   \n",
       "2                 0                                      0   \n",
       "3                 0                                      0   \n",
       "4                 0                                      0   \n",
       "...             ...                                    ...   \n",
       "7027              0                                      0   \n",
       "7028              0                                      1   \n",
       "7029              0                                      0   \n",
       "7030              0                                      0   \n",
       "7031              1                                      0   \n",
       "\n",
       "      PaymentMethod_Electronic check  PaymentMethod_Mailed check  gender_Male  \\\n",
       "0                                  1                           0            0   \n",
       "1                                  0                           1            1   \n",
       "2                                  0                           1            1   \n",
       "3                                  0                           0            1   \n",
       "4                                  1                           0            0   \n",
       "...                              ...                         ...          ...   \n",
       "7027                               0                           1            1   \n",
       "7028                               0                           0            0   \n",
       "7029                               1                           0            0   \n",
       "7030                               0                           1            1   \n",
       "7031                               0                           0            1   \n",
       "\n",
       "      InternetService_Fiber optic  InternetService_No  \n",
       "0                               0                   0  \n",
       "1                               0                   0  \n",
       "2                               0                   0  \n",
       "3                               0                   0  \n",
       "4                               1                   0  \n",
       "...                           ...                 ...  \n",
       "7027                            0                   0  \n",
       "7028                            1                   0  \n",
       "7029                            0                   0  \n",
       "7030                            1                   0  \n",
       "7031                            1                   0  \n",
       "\n",
       "[7032 rows x 22 columns]"
      ]
     },
     "execution_count": 41,
     "metadata": {},
     "output_type": "execute_result"
    }
   ],
   "source": [
    "data_ohe"
   ]
  },
  {
   "cell_type": "markdown",
   "metadata": {},
   "source": [
    "### Вывод"
   ]
  },
  {
   "cell_type": "markdown",
   "metadata": {},
   "source": [
    "* Пропуски убраны, дубликатов нет.\n",
    "* Добавлены новые фичи, закодированы категориальные признаки.\n",
    "* Самые важные признаки - срок пользования услугами клиента и тип договора.\n",
    "* Что удивительно дополнительные услуги интернета тоже довольно значимы.\n",
    "* Можем приступать к обучению моделей."
   ]
  },
  {
   "cell_type": "markdown",
   "metadata": {},
   "source": [
    "### 3. Обучение моделей <a class=\"anchor\" id=\"3\"></a>"
   ]
  },
  {
   "cell_type": "markdown",
   "metadata": {},
   "source": [
    "Исследуем баланс классов:"
   ]
  },
  {
   "cell_type": "code",
   "execution_count": 42,
   "metadata": {},
   "outputs": [],
   "source": [
    "# <Импортируем функцию из бибилиотеки sklearn>\n",
    "from sklearn.model_selection import train_test_split\n",
    "\n",
    "train, test = train_test_split(data_ohe, test_size=0.2, random_state=12345)"
   ]
  },
  {
   "cell_type": "code",
   "execution_count": 43,
   "metadata": {},
   "outputs": [
    {
     "name": "stdout",
     "output_type": "stream",
     "text": [
      "0    4139\n",
      "1    1486\n",
      "Name: EndDate, dtype: int64\n"
     ]
    },
    {
     "data": {
      "text/plain": [
       "<matplotlib.axes._subplots.AxesSubplot at 0x7ff64842e2d0>"
      ]
     },
     "execution_count": 43,
     "metadata": {},
     "output_type": "execute_result"
    },
    {
     "data": {
      "image/png": "[encoded data removed]",
      "text/plain": [
       "<Figure size 432x288 with 1 Axes>"
      ]
     },
     "metadata": {
      "needs_background": "light"
     },
     "output_type": "display_data"
    }
   ],
   "source": [
    "class_frequency = train['EndDate'].value_counts()\n",
    "print(class_frequency)\n",
    "class_frequency.plot(kind='bar')"
   ]
  },
  {
   "cell_type": "markdown",
   "metadata": {},
   "source": [
    "Имеет смысл провести апсэмплинг миноритарного класса."
   ]
  },
  {
   "cell_type": "code",
   "execution_count": 44,
   "metadata": {},
   "outputs": [],
   "source": [
    "from sklearn.utils import resample"
   ]
  },
  {
   "cell_type": "code",
   "execution_count": 45,
   "metadata": {},
   "outputs": [
    {
     "data": {
      "text/plain": [
       "1    4139\n",
       "0    4139\n",
       "Name: EndDate, dtype: int64"
      ]
     },
     "execution_count": 45,
     "metadata": {},
     "output_type": "execute_result"
    }
   ],
   "source": [
    "train_majority = train[train.EndDate==0]\n",
    "train_minority = train[train.EndDate==1]\n",
    " \n",
    "# <апсэмплинг минорного класса>\n",
    "train_minority_upsampled = resample(train_minority, \n",
    "                                 replace=True,    \n",
    "                                 n_samples=4139,     \n",
    "                                 random_state=123) \n",
    " \n",
    "# <соединим минорный класс с мажоритарным>\n",
    "train_upsampled = pd.concat([train_minority_upsampled, train_majority])\n",
    "\n",
    "train_upsampled.EndDate.value_counts()"
   ]
  },
  {
   "cell_type": "markdown",
   "metadata": {},
   "source": [
    "Выделим признаки и целевой признак в обучающей и тестовой выборке."
   ]
  },
  {
   "cell_type": "code",
   "execution_count": 46,
   "metadata": {},
   "outputs": [],
   "source": [
    "target_train = train_upsampled['EndDate']\n",
    "features_train = train_upsampled.drop('EndDate', axis=1)\n",
    "target_test = test['EndDate']\n",
    "features_test = test.drop('EndDate', axis=1)"
   ]
  },
  {
   "cell_type": "markdown",
   "metadata": {},
   "source": [
    "Проведем масштабирование признаков:"
   ]
  },
  {
   "cell_type": "code",
   "execution_count": 47,
   "metadata": {},
   "outputs": [],
   "source": [
    "# <импортируем StandardScaler из библиотеки sklearn>\n",
    "from sklearn.preprocessing import StandardScaler\n",
    "\n",
    "# <конкретизируем какие признаки будем масшатбировать>\n",
    "numeric = [ 'MonthlyCharges', 'Term']\n",
    "\n",
    "# <Проведем масштабирование features_train>\n",
    "scaler = StandardScaler()\n",
    "scaler.fit(features_train[numeric])\n",
    "features_train[numeric] = scaler.transform(features_train[numeric])\n",
    "features_test[numeric] = scaler.transform(features_test[numeric])"
   ]
  },
  {
   "cell_type": "markdown",
   "metadata": {},
   "source": [
    "Выведем значимости признаков:"
   ]
  },
  {
   "cell_type": "code",
   "execution_count": 48,
   "metadata": {},
   "outputs": [
    {
     "name": "stdout",
     "output_type": "stream",
     "text": [
      "Feature ranking:\n",
      "1. feature 2 (0.205058)\n",
      "2. feature 1 (0.151052)\n",
      "3. feature 14 (0.072131)\n",
      "4. feature 19 (0.058971)\n",
      "5. feature 16 (0.047546)\n",
      "6. feature 13 (0.042258)\n",
      "7. feature 18 (0.038173)\n",
      "8. feature 6 (0.035046)\n",
      "9. feature 0 (0.034603)\n",
      "10. feature 4 (0.031706)\n",
      "11. feature 7 (0.030372)\n",
      "12. feature 9 (0.030180)\n",
      "13. feature 5 (0.027600)\n",
      "14. feature 12 (0.027354)\n",
      "15. feature 20 (0.026845)\n",
      "16. feature 8 (0.026768)\n",
      "17. feature 11 (0.026575)\n",
      "18. feature 3 (0.026260)\n",
      "19. feature 10 (0.025416)\n",
      "20. feature 15 (0.019977)\n",
      "21. feature 17 (0.016109)\n"
     ]
    },
    {
     "data": {
      "image/png": "[encoded data removed]",
      "text/plain": [
       "<Figure size 432x288 with 1 Axes>"
      ]
     },
     "metadata": {
      "needs_background": "light"
     },
     "output_type": "display_data"
    }
   ],
   "source": [
    "from sklearn.ensemble import ExtraTreesClassifier\n",
    "\n",
    "forest = ExtraTreesClassifier(n_estimators=250,\n",
    "                              random_state=0)\n",
    "forest.fit(features_train, target_train)\n",
    "importances = forest.feature_importances_\n",
    "std = np.std([tree.feature_importances_ for tree in forest.estimators_],\n",
    "             axis=0)\n",
    "indices = np.argsort(importances)[::-1]\n",
    "\n",
    "\n",
    "print(\"Feature ranking:\")\n",
    "\n",
    "for f in range(features_train.shape[1]):\n",
    "    print(\"%d. feature %d (%f)\" % (f + 1, indices[f], importances[indices[f]]))\n",
    "\n",
    "\n",
    "plt.figure()\n",
    "plt.title(\"Feature importances\")\n",
    "plt.bar(range(features_train.shape[1]), importances[indices],\n",
    "        color=\"r\", yerr=std[indices], align=\"center\")\n",
    "plt.xticks(range(features_train.shape[1]), indices)\n",
    "plt.xlim([-1, features_train.shape[1]])\n",
    "plt.show()"
   ]
  },
  {
   "cell_type": "markdown",
   "metadata": {},
   "source": [
    "Удаление признаков только ухудшало модели, а потому я оставил эти эксперименты."
   ]
  },
  {
   "cell_type": "markdown",
   "metadata": {},
   "source": [
    "Обучим логистическую регрессию:"
   ]
  },
  {
   "cell_type": "code",
   "execution_count": 67,
   "metadata": {},
   "outputs": [],
   "source": [
    "# <Импортируем метод логистической регрессии>\n",
    "from sklearn.linear_model import LogisticRegression\n",
    "# <Импортируем функцию cross_val_score>\n",
    "from sklearn.model_selection import cross_val_score\n",
    "from sklearn.metrics import roc_auc_score\n",
    "from sklearn.metrics import accuracy_score\n",
    "from sklearn.metrics import recall_score\n",
    "from sklearn.metrics import precision_score"
   ]
  },
  {
   "cell_type": "code",
   "execution_count": 65,
   "metadata": {},
   "outputs": [
    {
     "name": "stdout",
     "output_type": "stream",
     "text": [
      "roc_auc: 0.846\n",
      "accuracy: 0.767\n",
      "Полнота: 0.793\n",
      "Точность: 0.753\n"
     ]
    }
   ],
   "source": [
    "# <Создадим модель лог. регрессии,>\n",
    "model_lr = LogisticRegression(random_state=645)\n",
    "\n",
    "# <Оценим качество модели, обученной в ходе перекрестной проверки>\n",
    "score = cross_val_score(model_lr,features_train, target_train,cv=4,scoring='roc_auc').mean()\n",
    "accuracy_score_1 = cross_val_score(model_lr,features_train, target_train,cv=4,scoring='accuracy').mean()\n",
    "recall_1 = cross_val_score(model_lr,features_train, target_train,cv=4,scoring='recall').mean()\n",
    "precision_1 = cross_val_score(model_lr,features_train, target_train,cv=4,scoring='precision').mean()\n",
    "# <обучаем модель> \n",
    "model_lr.fit(features_train, target_train)\n",
    "\n",
    "# <выведем долю правильных ответов>\n",
    "print('roc_auc:','{:.3f}'.format(score))\n",
    "print('accuracy:','{:.3f}'.format(accuracy_score_1))\n",
    "print('Полнота:','{:.3f}'.format(recall_1))\n",
    "print('Точность:','{:.3f}'.format(precision_1))"
   ]
  },
  {
   "cell_type": "markdown",
   "metadata": {},
   "source": [
    "Обучим RNN с долгой краткосрочной памятью. К сожалению она не дала результат который я хотел, но я очень сильно заинтересовался тем как заставить ее работать. Буду искать информацию."
   ]
  },
  {
   "cell_type": "code",
   "execution_count": 53,
   "metadata": {},
   "outputs": [],
   "source": [
    "from tensorflow.keras import Sequential\n",
    "from tensorflow.keras.layers import LSTM, Dense, Dropout\n",
    "import tensorflow"
   ]
  },
  {
   "cell_type": "code",
   "execution_count": 54,
   "metadata": {},
   "outputs": [
    {
     "name": "stdout",
     "output_type": "stream",
     "text": [
      "Model: \"sequential\"\n",
      "_________________________________________________________________\n",
      "Layer (type)                 Output Shape              Param #   \n",
      "=================================================================\n",
      "lstm (LSTM)                  (None, 1, 5)              540       \n",
      "_________________________________________________________________\n",
      "dropout (Dropout)            (None, 1, 5)              0         \n",
      "_________________________________________________________________\n",
      "lstm_1 (LSTM)                (None, 5)                 220       \n",
      "_________________________________________________________________\n",
      "dropout_1 (Dropout)          (None, 5)                 0         \n",
      "_________________________________________________________________\n",
      "dense (Dense)                (None, 1)                 6         \n",
      "=================================================================\n",
      "Total params: 766\n",
      "Trainable params: 766\n",
      "Non-trainable params: 0\n",
      "_________________________________________________________________\n"
     ]
    }
   ],
   "source": [
    "model = Sequential()\n",
    "\n",
    "features_train_1 = features_train.values.reshape((8278,1,21))\n",
    "target_train_1 = target_train.values.reshape((8278,1))\n",
    "x_train, x_valid, y_train, y_valid = train_test_split(features_train_1,target_train_1, test_size=0.25, shuffle= True)\n",
    "\n",
    "# Добавим слой LSTM\n",
    "model.add(LSTM(5,input_shape=(1,21),return_sequences = True,activation='relu'))\n",
    "model.add(Dropout(0.1))\n",
    "model.add(LSTM(5,input_shape=(1,21),activation='relu'))\n",
    "model.add(Dropout(0.1))\n",
    "model.add(Dense(units=1, activation='sigmoid'))\n",
    "\n",
    "model.summary()"
   ]
  },
  {
   "cell_type": "code",
   "execution_count": 55,
   "metadata": {
    "scrolled": false
   },
   "outputs": [
    {
     "name": "stdout",
     "output_type": "stream",
     "text": [
      "Train on 6208 samples, validate on 2070 samples\n",
      "Epoch 1/30\n",
      "6208/6208 - 4s - loss: 0.6928 - accuracy: 0.5119 - val_loss: 0.6897 - val_accuracy: 0.6396\n",
      "Epoch 2/30\n",
      "6208/6208 - 1s - loss: 0.6548 - accuracy: 0.6666 - val_loss: 0.5850 - val_accuracy: 0.7193\n",
      "Epoch 3/30\n",
      "6208/6208 - 1s - loss: 0.5448 - accuracy: 0.7321 - val_loss: 0.5279 - val_accuracy: 0.7329\n",
      "Epoch 4/30\n",
      "6208/6208 - 1s - loss: 0.5170 - accuracy: 0.7592 - val_loss: 0.5177 - val_accuracy: 0.7372\n",
      "Epoch 5/30\n",
      "6208/6208 - 1s - loss: 0.5071 - accuracy: 0.7572 - val_loss: 0.5109 - val_accuracy: 0.7415\n",
      "Epoch 6/30\n",
      "6208/6208 - 1s - loss: 0.5050 - accuracy: 0.7606 - val_loss: 0.5074 - val_accuracy: 0.7440\n",
      "Epoch 7/30\n",
      "6208/6208 - 1s - loss: 0.5033 - accuracy: 0.7627 - val_loss: 0.5062 - val_accuracy: 0.7401\n",
      "Epoch 8/30\n",
      "6208/6208 - 1s - loss: 0.5034 - accuracy: 0.7661 - val_loss: 0.5044 - val_accuracy: 0.7459\n",
      "Epoch 9/30\n",
      "6208/6208 - 1s - loss: 0.5009 - accuracy: 0.7640 - val_loss: 0.5034 - val_accuracy: 0.7464\n",
      "Epoch 10/30\n",
      "6208/6208 - 1s - loss: 0.4962 - accuracy: 0.7672 - val_loss: 0.5008 - val_accuracy: 0.7415\n",
      "Epoch 11/30\n",
      "6208/6208 - 1s - loss: 0.4964 - accuracy: 0.7608 - val_loss: 0.4995 - val_accuracy: 0.7444\n",
      "Epoch 12/30\n",
      "6208/6208 - 1s - loss: 0.4971 - accuracy: 0.7632 - val_loss: 0.4992 - val_accuracy: 0.7473\n",
      "Epoch 13/30\n",
      "6208/6208 - 1s - loss: 0.4936 - accuracy: 0.7664 - val_loss: 0.4979 - val_accuracy: 0.7454\n",
      "Epoch 14/30\n",
      "6208/6208 - 1s - loss: 0.4960 - accuracy: 0.7669 - val_loss: 0.4980 - val_accuracy: 0.7469\n",
      "Epoch 15/30\n",
      "6208/6208 - 1s - loss: 0.4924 - accuracy: 0.7629 - val_loss: 0.4971 - val_accuracy: 0.7464\n",
      "Epoch 16/30\n",
      "6208/6208 - 1s - loss: 0.4942 - accuracy: 0.7664 - val_loss: 0.4963 - val_accuracy: 0.7411\n",
      "Epoch 17/30\n",
      "6208/6208 - 1s - loss: 0.4892 - accuracy: 0.7676 - val_loss: 0.4949 - val_accuracy: 0.7449\n",
      "Epoch 18/30\n",
      "6208/6208 - 1s - loss: 0.4867 - accuracy: 0.7676 - val_loss: 0.4943 - val_accuracy: 0.7444\n",
      "Epoch 19/30\n",
      "6208/6208 - 1s - loss: 0.4934 - accuracy: 0.7671 - val_loss: 0.4940 - val_accuracy: 0.7444\n",
      "Epoch 20/30\n",
      "6208/6208 - 1s - loss: 0.4891 - accuracy: 0.7671 - val_loss: 0.4937 - val_accuracy: 0.7454\n",
      "Epoch 21/30\n",
      "6208/6208 - 1s - loss: 0.4887 - accuracy: 0.7674 - val_loss: 0.4932 - val_accuracy: 0.7469\n",
      "Epoch 22/30\n",
      "6208/6208 - 1s - loss: 0.4899 - accuracy: 0.7651 - val_loss: 0.4926 - val_accuracy: 0.7449\n",
      "Epoch 23/30\n",
      "6208/6208 - 1s - loss: 0.4852 - accuracy: 0.7682 - val_loss: 0.4924 - val_accuracy: 0.7478\n",
      "Epoch 24/30\n",
      "6208/6208 - 1s - loss: 0.4893 - accuracy: 0.7676 - val_loss: 0.4925 - val_accuracy: 0.7464\n",
      "Epoch 25/30\n",
      "6208/6208 - 1s - loss: 0.4832 - accuracy: 0.7687 - val_loss: 0.4915 - val_accuracy: 0.7459\n",
      "Epoch 26/30\n",
      "6208/6208 - 1s - loss: 0.4856 - accuracy: 0.7690 - val_loss: 0.4915 - val_accuracy: 0.7483\n",
      "Epoch 27/30\n",
      "6208/6208 - 1s - loss: 0.4834 - accuracy: 0.7703 - val_loss: 0.4917 - val_accuracy: 0.7469\n",
      "Epoch 28/30\n",
      "6208/6208 - 1s - loss: 0.4831 - accuracy: 0.7701 - val_loss: 0.4916 - val_accuracy: 0.7478\n",
      "Epoch 29/30\n",
      "6208/6208 - 1s - loss: 0.4850 - accuracy: 0.7671 - val_loss: 0.4910 - val_accuracy: 0.7449\n",
      "Epoch 30/30\n",
      "6208/6208 - 1s - loss: 0.4859 - accuracy: 0.7698 - val_loss: 0.4915 - val_accuracy: 0.7459\n"
     ]
    },
    {
     "data": {
      "text/plain": [
       "<tensorflow.python.keras.callbacks.History at 0x7ff5f05ba190>"
      ]
     },
     "execution_count": 55,
     "metadata": {},
     "output_type": "execute_result"
    }
   ],
   "source": [
    "model.compile(loss = 'binary_crossentropy', optimizer='adam',metrics = ['accuracy'])\n",
    "model.fit(x_train,y_train,verbose=2,epochs=30,validation_data=(x_valid,y_valid),batch_size=64)"
   ]
  },
  {
   "cell_type": "markdown",
   "metadata": {},
   "source": [
    "Выведем ROC-AUC:"
   ]
  },
  {
   "cell_type": "code",
   "execution_count": 102,
   "metadata": {},
   "outputs": [
    {
     "name": "stdout",
     "output_type": "stream",
     "text": [
      "roc_auc: 0.854\n",
      "Полнота: 0.801\n",
      "Точность: 0.752\n"
     ]
    }
   ],
   "source": [
    "probabilities_valid = model.predict_proba(features_train_1)\n",
    "auc_roc = roc_auc_score(target_train,probabilities_valid)    \n",
    "print('roc_auc:','{:.3f}'.format(auc_roc))\n",
    "print('Полнота:','{:.3f}'.format(recall_score(target_train,pd.Series(model.predict_classes(features_train_1).reshape(8278)))))\n",
    "print('Точность:','{:.3f}'.format(precision_score(target_train,pd.Series(model.predict_classes(features_train_1).reshape(8278)))))"
   ]
  },
  {
   "cell_type": "markdown",
   "metadata": {},
   "source": [
    "Попробуем использовать библиотеку *LightGBM* и ее *Dropouts meet Multiple Additive Regression Trees*:"
   ]
  },
  {
   "cell_type": "code",
   "execution_count": 61,
   "metadata": {},
   "outputs": [],
   "source": [
    "import lightgbm as lgb"
   ]
  },
  {
   "cell_type": "code",
   "execution_count": 62,
   "metadata": {},
   "outputs": [
    {
     "name": "stdout",
     "output_type": "stream",
     "text": [
      "[10]\ttraining's auc: 0.928287\ttraining's binary_logloss: 0.425605\n",
      "[20]\ttraining's auc: 0.948693\ttraining's binary_logloss: 0.337861\n",
      "[30]\ttraining's auc: 0.959317\ttraining's binary_logloss: 0.300105\n",
      "[40]\ttraining's auc: 0.966488\ttraining's binary_logloss: 0.280815\n",
      "[50]\ttraining's auc: 0.971123\ttraining's binary_logloss: 0.275218\n",
      "[60]\ttraining's auc: 0.976814\ttraining's binary_logloss: 0.258413\n",
      "[70]\ttraining's auc: 0.979521\ttraining's binary_logloss: 0.248255\n",
      "[80]\ttraining's auc: 0.982488\ttraining's binary_logloss: 0.236658\n",
      "[90]\ttraining's auc: 0.983302\ttraining's binary_logloss: 0.238266\n",
      "[100]\ttraining's auc: 0.984265\ttraining's binary_logloss: 0.230843\n",
      "[110]\ttraining's auc: 0.984458\ttraining's binary_logloss: 0.237366\n",
      "[120]\ttraining's auc: 0.986223\ttraining's binary_logloss: 0.221616\n",
      "[130]\ttraining's auc: 0.987081\ttraining's binary_logloss: 0.2155\n",
      "[140]\ttraining's auc: 0.988574\ttraining's binary_logloss: 0.209493\n",
      "[150]\ttraining's auc: 0.989353\ttraining's binary_logloss: 0.204847\n",
      "[160]\ttraining's auc: 0.989366\ttraining's binary_logloss: 0.209543\n",
      "[170]\ttraining's auc: 0.991179\ttraining's binary_logloss: 0.194238\n",
      "[180]\ttraining's auc: 0.992241\ttraining's binary_logloss: 0.188778\n",
      "[190]\ttraining's auc: 0.993218\ttraining's binary_logloss: 0.181182\n",
      "CPU times: user 18min 43s, sys: 8.6 s, total: 18min 51s\n",
      "Wall time: 19min 1s\n"
     ]
    },
    {
     "data": {
      "text/plain": [
       "LGBMClassifier(boosting_type='dart', class_weight=None, colsample_bytree=1.0,\n",
       "               importance_type='split', learning_rate=0.13, max_depth=10,\n",
       "               min_child_samples=20, min_child_weight=0.001, min_split_gain=0.0,\n",
       "               n_estimators=100, n_jobs=-1, num_iterations=190, num_leaves=75,\n",
       "               objective='binary', random_state=None, reg_alpha=0.0,\n",
       "               reg_lambda=0.0, silent=True, subsample=1.0,\n",
       "               subsample_for_bin=200000, subsample_freq=0, task='train')"
      ]
     },
     "execution_count": 62,
     "metadata": {},
     "output_type": "execute_result"
    }
   ],
   "source": [
    "%%time\n",
    "hyper_params = {\n",
    "    'learning_rate': 0.13,\n",
    "    'task': 'train',\n",
    "    'boosting_type': 'dart',\n",
    "    'objective': 'binary',\n",
    "    \"num_iterations\": 190,\n",
    "    'max_depth': 10,\n",
    "    'num_leaves': 75\n",
    "}\n",
    "dart = lgb.LGBMClassifier(**hyper_params)\n",
    "dart.fit(features_train, target_train,\n",
    "        eval_set=[(features_train, target_train)],\n",
    "        eval_metric='auc',\n",
    "        early_stopping_rounds=10, verbose = 10)"
   ]
  },
  {
   "cell_type": "code",
   "execution_count": 81,
   "metadata": {},
   "outputs": [
    {
     "name": "stdout",
     "output_type": "stream",
     "text": [
      "accuracy: 0.955\n",
      "Полнота: 0.981\n",
      "Точность: 0.933\n"
     ]
    }
   ],
   "source": [
    "pred=dart.predict(features_train)\n",
    "print('accuracy:','{:.3f}'.format(accuracy_score(target_train,pred)))\n",
    "print('Полнота:','{:.3f}'.format(recall_score(target_train,pred)))\n",
    "print('Точность:','{:.3f}'.format(precision_score(target_train,pred)))"
   ]
  },
  {
   "cell_type": "markdown",
   "metadata": {},
   "source": [
    "### Вывод"
   ]
  },
  {
   "cell_type": "markdown",
   "metadata": {},
   "source": [
    "* Логистическая регрессия показала стабильный и хороший результат.\n",
    "* RNN показала результат лучше, но я ожидал большего. К сожалению с нейросетями пока эксперименты не очень успешны.\n",
    "* Лучший результат показала модель *DART* с градиентным бустингом."
   ]
  },
  {
   "cell_type": "markdown",
   "metadata": {},
   "source": [
    "### 4. Тестирование модели <a class=\"anchor\" id=\"4\"></a>"
   ]
  },
  {
   "cell_type": "markdown",
   "metadata": {},
   "source": [
    "Проверим логистическую регрессию на тестовой выборке:"
   ]
  },
  {
   "cell_type": "code",
   "execution_count": 90,
   "metadata": {},
   "outputs": [
    {
     "name": "stdout",
     "output_type": "stream",
     "text": [
      "accuracy: 0.752\n",
      "roc_auc: 0.849\n",
      "Полнота: 0.783\n",
      "Точность: 0.530\n"
     ]
    }
   ],
   "source": [
    "probabilities_valid = model_lr.predict_proba(features_test)\n",
    "probabilities_one_valid = probabilities_valid[:, 1]\n",
    "auc_roc = roc_auc_score(target_test,probabilities_one_valid)\n",
    "pred_lr=model_lr.predict(features_test)\n",
    "print('accuracy:','{:.3f}'.format(accuracy_score(target_test,pred_lr)))\n",
    "print('roc_auc:','{:.3f}'.format(auc_roc))\n",
    "print('Полнота:','{:.3f}'.format(recall_score(target_test,pred_lr)))\n",
    "print('Точность:','{:.3f}'.format(precision_score(target_test,pred_lr)))"
   ]
  },
  {
   "cell_type": "markdown",
   "metadata": {},
   "source": [
    "Проверим нейронную сеть на тестовой выборке:"
   ]
  },
  {
   "cell_type": "code",
   "execution_count": 99,
   "metadata": {},
   "outputs": [
    {
     "name": "stdout",
     "output_type": "stream",
     "text": [
      "accuracy: 0.754\n",
      "roc_auc: 0.846\n",
      "Полнота: 0.783\n",
      "Точность: 0.533\n"
     ]
    }
   ],
   "source": [
    "features_test_1 = features_test.values.reshape((1407,1,21))\n",
    "probabilities_valid = model.predict_proba(features_test_1)\n",
    "auc_roc = roc_auc_score(target_test,probabilities_valid)    \n",
    "pred_ml=model.predict_classes(features_test_1)\n",
    "print('accuracy:','{:.3f}'.format(accuracy_score(target_test,pd.Series(pred_ml.reshape(1407)))))\n",
    "print('roc_auc:','{:.3f}'.format(auc_roc))\n",
    "print('Полнота:','{:.3f}'.format(recall_score(target_test,pd.Series(pred_ml.reshape(1407)))))\n",
    "print('Точность:','{:.3f}'.format(precision_score(target_test,pd.Series(pred_ml.reshape(1407)))))"
   ]
  },
  {
   "cell_type": "markdown",
   "metadata": {},
   "source": [
    "Проверим модель *DART* на тестовой выборке:"
   ]
  },
  {
   "cell_type": "code",
   "execution_count": 82,
   "metadata": {},
   "outputs": [
    {
     "name": "stdout",
     "output_type": "stream",
     "text": [
      "accuracy: 0.833\n",
      "roc_auc: 0.893\n",
      "Полнота: 0.728\n",
      "Точность: 0.680\n"
     ]
    }
   ],
   "source": [
    "probabilities_valid = dart.predict_proba(features_test)\n",
    "probabilities_one_valid = probabilities_valid[:, 1]\n",
    "auc_roc = roc_auc_score(target_test,probabilities_one_valid)   \n",
    "pred=dart.predict(features_test)\n",
    "print('accuracy:','{:.3f}'.format(accuracy_score(target_test,pred)))\n",
    "print('roc_auc:','{:.3f}'.format(auc_roc))\n",
    "print('Полнота:','{:.3f}'.format(recall_score(target_test,pred)))\n",
    "print('Точность:','{:.3f}'.format(precision_score(target_test,pred)))"
   ]
  },
  {
   "cell_type": "markdown",
   "metadata": {},
   "source": [
    "Лучший результат у модели DART."
   ]
  },
  {
   "cell_type": "markdown",
   "metadata": {},
   "source": [
    "### Вывод"
   ]
  },
  {
   "cell_type": "markdown",
   "metadata": {},
   "source": [
    "* Лучший результат по *accuracy* и *AUC_ROC* у *DART*.\n",
    "* Но метрика полноты лучше у нейросети и логистической регресии, а это более важная для бизнеса метрика - то насколько верно модель предсказывает уход клиента."
   ]
  },
  {
   "cell_type": "markdown",
   "metadata": {},
   "source": [
    "### 5. Проверка модели на адекватность <a class=\"anchor\" id=\"5\"></a>"
   ]
  },
  {
   "cell_type": "markdown",
   "metadata": {},
   "source": [
    "Модель которая дает положительные ответы и отрицательные с вероятностью 50 на 50:"
   ]
  },
  {
   "cell_type": "code",
   "execution_count": 95,
   "metadata": {},
   "outputs": [
    {
     "name": "stdout",
     "output_type": "stream",
     "text": [
      "accuracy: 0.4996\n",
      "roc_auc: 0.501\n",
      "Полнота: 0.470\n",
      "Точность: 0.264\n"
     ]
    }
   ],
   "source": [
    "import random\n",
    "\n",
    "random_predictions = np.random.randint(low = 0, high = 2, size = 1407) \n",
    "\n",
    "# <подсчитаем долю правильных ответов.>\n",
    "accuracy = accuracy_score(target_test, random_predictions)\n",
    "\n",
    "random_predictions_1 = np.random.random_sample(1407) \n",
    "\n",
    "auc_roc = roc_auc_score(target_test,random_predictions_1)\n",
    "\n",
    "# <выведем долю правильных ответов>\n",
    "print('accuracy:','{:.4f}'.format(accuracy))\n",
    "print('roc_auc:','{:.3f}'.format(auc_roc))\n",
    "print('Полнота:','{:.3f}'.format(recall_score(target_test,random_predictions)))\n",
    "print('Точность:','{:.3f}'.format(precision_score(target_test,random_predictions)))"
   ]
  },
  {
   "cell_type": "markdown",
   "metadata": {},
   "source": [
    "Модель которая дает всегда отрицательные ответы:"
   ]
  },
  {
   "cell_type": "code",
   "execution_count": 96,
   "metadata": {},
   "outputs": [
    {
     "name": "stdout",
     "output_type": "stream",
     "text": [
      "accuracy = 0.7278\n",
      "roc_auc: 0.500\n",
      "Полнота: 0.000\n",
      "Точность: 0.000\n"
     ]
    }
   ],
   "source": [
    "import random\n",
    "\n",
    "random_predictions = np.random.randint(low = 0, high = 1, size = 1407) \n",
    "\n",
    "# <подсчитаем долю правильных ответов.>\n",
    "accuracy = accuracy_score(target_test, random_predictions)\n",
    "auc_roc = roc_auc_score(target_test,random_predictions) \n",
    "# <выведем долю правильных ответов>\n",
    "print('accuracy =','{:.4f}'.format(accuracy))\n",
    "print('roc_auc:','{:.3f}'.format(auc_roc))\n",
    "print('Полнота:','{:.3f}'.format(recall_score(target_test,random_predictions)))\n",
    "print('Точность:','{:.3f}'.format(precision_score(target_test,random_predictions)))"
   ]
  },
  {
   "cell_type": "markdown",
   "metadata": {},
   "source": [
    "Как видим такая модель недалеко ушла в плане *accuracy* от наших. Это связано с дисбалансом классов. Тем не менее экономический эффект от нашей модели гораздо выше, мы выявлем тех кто хочет уйти с большей вероятностью - и можем на них повлиять."
   ]
  },
  {
   "cell_type": "markdown",
   "metadata": {},
   "source": [
    "### Вывод"
   ]
  },
  {
   "cell_type": "markdown",
   "metadata": {},
   "source": [
    "Наша модель точно лучше случайных."
   ]
  }
 ],
 "metadata": {
  "kernelspec": {
   "display_name": "Python 3",
   "language": "python",
   "name": "python3"
  },
  "language_info": {
   "codemirror_mode": {
    "name": "ipython",
    "version": 3
   },
   "file_extension": ".py",
   "mimetype": "text/x-python",
   "name": "python",
   "nbconvert_exporter": "python",
   "pygments_lexer": "ipython3",
   "version": "3.7.6"
  }
 },
 "nbformat": 4,
 "nbformat_minor": 2
}
